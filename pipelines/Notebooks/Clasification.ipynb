{
 "cells": [
  {
   "cell_type": "code",
   "execution_count": 108,
   "metadata": {},
   "outputs": [],
   "source": [
    "import pandas as pd\n",
    "import numpy as np\n",
    "import pandas as pd\n",
    "import numpy as np\n",
    "import matplotlib.pyplot as plt\n",
    "import seaborn as sns\n",
    "from collections import Counter\n",
    "import os\n",
    "from scipy import stats\n",
    "from sklearn.model_selection import train_test_split\n",
    "from sklearn.linear_model import LogisticRegression\n",
    "from sklearn.metrics import accuracy_score, confusion_matrix,classification_report\n",
    "from sklearn.metrics import precision_score, recall_score,f1_score,roc_auc_score\n",
    "from sklearn.metrics import ConfusionMatrixDisplay\n",
    "\n",
    "# Models\n",
    "from sklearn.linear_model import LogisticRegression\n",
    "from sklearn.discriminant_analysis import LinearDiscriminantAnalysis\n",
    "from sklearn.linear_model import SGDClassifier\n",
    "from sklearn.svm import LinearSVC\n",
    "from sklearn.neighbors import RadiusNeighborsClassifier\n",
    "from sklearn.naive_bayes import GaussianNB\n",
    "from sklearn.tree import DecisionTreeClassifier\n",
    "\n",
    "from sklearn.pipeline import Pipeline\n"
   ]
  },
  {
   "cell_type": "code",
   "execution_count": 113,
   "metadata": {},
   "outputs": [],
   "source": [
    "# Primer modelo - Regresion Logistica\n",
    "def RegresionLogistica(X_train, X_test, y_train, y_test):\n",
    "    lr = LogisticRegression(penalty='l2',C=1.0,\n",
    "                                    solver='liblinear')\n",
    "    lr.fit(X_train, y_train)\n",
    "    pred = lr.predict(X_test)\n",
    "    #matrix = confusion_matrix(y_test, pred)\n",
    "    ac = accuracy_score(y_test, pred, normalize=True)\n",
    "    print(\"Acuracy: \", ac)\n",
    "    print(classification_report(y_true=y_test,y_pred=pred))\n",
    "    \n",
    "    ConfusionMatrixDisplay.from_predictions(y_test,pred)\n",
    "    #graficar_matrix_confusion(matrix)\n",
    "\n",
    "\n",
    "def summarize_classification(y_test, y_pred):\n",
    "    \n",
    "    acc = accuracy_score(y_test, y_pred, normalize=True)\n",
    "    prec = precision_score(y_test, y_pred,average=None)\n",
    "    recall = recall_score(y_test, y_pred, average= None)\n",
    "    f1 = f1_score(y_test, y_pred, average=None)\n",
    "\n",
    "    \n",
    "    return {'accuracy': acc, \n",
    "            'precision': prec,\n",
    "            'recall':recall,\n",
    "            'f1':f1\n",
    "            }\n",
    "\n",
    "\n",
    "def build_model(classifier_fn,                \n",
    "                dataset: pd.DataFrame, \n",
    "                test_frac:float =0.2)-> dict:\n",
    "    \"\"\"\n",
    "    Funcion para entrenar un modelo de clasificacion\n",
    "    \n",
    "    Args:\n",
    "        classifier_fn: funcion de clasificacion\n",
    "        name_of_y_col (list): nombre de la columna objetivo\n",
    "        names_of_x_cols (list): lista de nombres de las columnas de caracteristicas\n",
    "        dataset (pd.Dataframe): dataframe con los datos\n",
    "        test_frac (float): fraccion de datos para el test, por defecto 0.2\n",
    "        \n",
    "    Returns:\n",
    "        dict: diccionario con las metricas de desempeño del modelo en train y test  \n",
    "    \n",
    "    \"\"\"\n",
    "    \n",
    "    # separar las columnas de caracteristicas y la columna objetivo\n",
    "\n",
    "    Y = dataset.Grupo\n",
    "    X =  dataset.drop([\"Grupo\"],axis=1)\n",
    "\n",
    "    # dividir los datos en train y test\n",
    "    x_train, x_test, y_train, y_test = train_test_split(X, Y, test_size=test_frac, random_state = 123, shuffle=True, stratify=Y)\n",
    "    \n",
    "    # crear el pipeline con el modelo de clasificacion\n",
    "    classifier_pipe = Pipeline(steps=[(\"model\", classifier_fn)])\n",
    "    \n",
    "    # entrenar el pipeline del clasificador   \n",
    "    model = classifier_pipe.fit(x_train, y_train)\n",
    "    \n",
    "    # predecir los datos de test\n",
    "    y_pred = model.predict(x_test)\n",
    "\n",
    "    # predecir los datos de train\n",
    "    y_pred_train = model.predict(x_train)\n",
    "    \n",
    "    # calcular las metricas de desempeño\n",
    "    train_summary = summarize_classification(y_train, y_pred_train)\n",
    "    test_summary = summarize_classification(y_test, y_pred)\n",
    "    \n",
    "    # guardar las metricas de desempeño en un dataframe\n",
    "    pred_results = pd.DataFrame({'y_test': y_test,\n",
    "                                 'y_pred': y_pred})\n",
    "    \n",
    "    # calcular la matriz de confusion\n",
    "    model_crosstab = pd.crosstab(pred_results.y_pred, pred_results.y_test)\n",
    "    \n",
    "    return {'train': train_summary, \n",
    "            'test': test_summary,\n",
    "            'confusion_matrix': model_crosstab}\n"
   ]
  },
  {
   "cell_type": "code",
   "execution_count": 114,
   "metadata": {},
   "outputs": [],
   "source": [
    "# Lectura del dataset\n",
    "df = pd.read_csv(\"Final_dataset_join.csv\")"
   ]
  },
  {
   "cell_type": "code",
   "execution_count": 115,
   "metadata": {},
   "outputs": [
    {
     "data": {
      "text/plain": [
       "1    264\n",
       "2    260\n",
       "3    235\n",
       "Name: Grupo, dtype: int64"
      ]
     },
     "execution_count": 115,
     "metadata": {},
     "output_type": "execute_result"
    }
   ],
   "source": [
    "# Clasificación de los grupos.\n",
    "df.Grupo.value_counts()"
   ]
  },
  {
   "cell_type": "code",
   "execution_count": 116,
   "metadata": {},
   "outputs": [
    {
     "data": {
      "text/plain": [
       "(759, 175)"
      ]
     },
     "execution_count": 116,
     "metadata": {},
     "output_type": "execute_result"
    }
   ],
   "source": [
    "df.shape"
   ]
  },
  {
   "cell_type": "code",
   "execution_count": 69,
   "metadata": {},
   "outputs": [
    {
     "data": {
      "text/plain": [
       "'\\ndata_target = df.Grupo\\ndata_features = df.drop([\"Grupo\"],axis=1)\\n# Division del conjunto de datos (70% training , 30% testing)\\nx_train, x_test, y_train, y_test = train_test_split(data_features, data_target,  train_size = 0.80, test_size = 0.20, random_state = 123, shuffle=True, stratify=data_target)\\nprint(\"Conjunto de Entrenamiento Variables Independientes: \", x_train.shape)\\nprint(\"Conjunto de Entrenamiento Variables Dependiente: \", y_train.shape)\\nprint(\"Conjunto de Test Variables Independientes: \", x_test.shape)\\nprint(\"Conjunto de Test Variables Dependientes: \", y_test.shape)\\n'"
      ]
     },
     "execution_count": 69,
     "metadata": {},
     "output_type": "execute_result"
    }
   ],
   "source": [
    "# Se definen las variables dependientes | variables independientes\n",
    "'''\n",
    "data_target = df.Grupo\n",
    "data_features = df.drop([\"Grupo\"],axis=1)\n",
    "# Division del conjunto de datos (70% training , 30% testing)\n",
    "x_train, x_test, y_train, y_test = train_test_split(data_features, data_target,  train_size = 0.80, test_size = 0.20, random_state = 123, shuffle=True, stratify=data_target)\n",
    "print(\"Conjunto de Entrenamiento Variables Independientes: \", x_train.shape)\n",
    "print(\"Conjunto de Entrenamiento Variables Dependiente: \", y_train.shape)\n",
    "print(\"Conjunto de Test Variables Independientes: \", x_test.shape)\n",
    "print(\"Conjunto de Test Variables Dependientes: \", y_test.shape)\n",
    "'''"
   ]
  },
  {
   "cell_type": "markdown",
   "metadata": {},
   "source": [
    "## REGRESIÓN LOGISTICA"
   ]
  },
  {
   "cell_type": "code",
   "execution_count": 117,
   "metadata": {},
   "outputs": [
    {
     "data": {
      "text/plain": [
       "{'train': {'accuracy': 0.4332784184514003,\n",
       "  'precision': array([0.44036697, 0.43290043, 0.42405063]),\n",
       "  'recall': array([0.4549763 , 0.48076923, 0.35638298]),\n",
       "  'f1': array([0.44755245, 0.45558087, 0.38728324])},\n",
       " 'test': {'accuracy': 0.32894736842105265,\n",
       "  'precision': array([0.34782609, 0.34782609, 0.27027027]),\n",
       "  'recall': array([0.30188679, 0.46153846, 0.21276596]),\n",
       "  'f1': array([0.32323232, 0.39669421, 0.23809524])},\n",
       " 'confusion_matrix': y_test   1   2   3\n",
       " y_pred            \n",
       " 1       16  18  12\n",
       " 2       20  24  25\n",
       " 3       17  10  10}"
      ]
     },
     "execution_count": 117,
     "metadata": {},
     "output_type": "execute_result"
    }
   ],
   "source": [
    "result_dict = {}\n",
    "result_dict['logistic'] = build_model(LogisticRegression(solver='liblinear'),df)\n",
    "result_dict['logistic'] \n"
   ]
  },
  {
   "cell_type": "markdown",
   "metadata": {},
   "source": [
    "## Lineal Discriminant Analysis"
   ]
  },
  {
   "cell_type": "code",
   "execution_count": 75,
   "metadata": {},
   "outputs": [
    {
     "data": {
      "text/plain": [
       "{'train': {'accuracy': 0.6144975288303131,\n",
       "  'precision': 0.6144975288303131,\n",
       "  'recall': 0.6144975288303131,\n",
       "  'f1': 0.6144975288303131},\n",
       " 'test': {'accuracy': 0.28289473684210525,\n",
       "  'precision': 0.28289473684210525,\n",
       "  'recall': 0.28289473684210525,\n",
       "  'f1': 0.28289473684210525},\n",
       " 'confusion_matrix': y_test   0   1   2   3\n",
       " y_pred                \n",
       " 0       20   9  13  13\n",
       " 1        7   1   5   7\n",
       " 2        5   4   7   9\n",
       " 3       17  10  10  15}"
      ]
     },
     "execution_count": 75,
     "metadata": {},
     "output_type": "execute_result"
    }
   ],
   "source": [
    "result_dict['linear_discriminant_analysis'] = build_model(LinearDiscriminantAnalysis(solver='svd'),df)\n",
    "result_dict['linear_discriminant_analysis']\n"
   ]
  },
  {
   "cell_type": "markdown",
   "metadata": {},
   "source": [
    "## SGD"
   ]
  },
  {
   "cell_type": "code",
   "execution_count": 76,
   "metadata": {},
   "outputs": [
    {
     "data": {
      "text/plain": [
       "{'train': {'accuracy': 0.15980230642504117,\n",
       "  'precision': 0.15980230642504117,\n",
       "  'recall': 0.15980230642504117,\n",
       "  'f1': 0.15980230642504117},\n",
       " 'test': {'accuracy': 0.15789473684210525,\n",
       "  'precision': 0.15789473684210525,\n",
       "  'recall': 0.15789473684210525,\n",
       "  'f1': 0.15789473684210525},\n",
       " 'confusion_matrix': y_test   0   1   2   3\n",
       " y_pred                \n",
       " 1       49  24  35  44}"
      ]
     },
     "execution_count": 76,
     "metadata": {},
     "output_type": "execute_result"
    }
   ],
   "source": [
    "result_dict['sgd'] = build_model(SGDClassifier(max_iter=1000,tol=1e-3),df)\n",
    "result_dict['sgd']\n"
   ]
  },
  {
   "cell_type": "markdown",
   "metadata": {},
   "source": [
    "## SVC Lineal"
   ]
  },
  {
   "cell_type": "code",
   "execution_count": 77,
   "metadata": {},
   "outputs": [
    {
     "data": {
      "text/plain": [
       "{'train': {'accuracy': 0.36902800658978585,\n",
       "  'precision': 0.36902800658978585,\n",
       "  'recall': 0.36902800658978585,\n",
       "  'f1': 0.36902800658978585},\n",
       " 'test': {'accuracy': 0.3355263157894737,\n",
       "  'precision': 0.3355263157894737,\n",
       "  'recall': 0.3355263157894737,\n",
       "  'f1': 0.3355263157894737},\n",
       " 'confusion_matrix': y_test   0   1   2   3\n",
       " y_pred                \n",
       " 0       32   9  17  25\n",
       " 2        4   3   3   3\n",
       " 3       13  12  15  16}"
      ]
     },
     "execution_count": 77,
     "metadata": {},
     "output_type": "execute_result"
    }
   ],
   "source": [
    "result_dict['linear_svc'] = build_model(LinearSVC(C=1.0,\n",
    "                                                   max_iter=1000,\n",
    "                                                   tol=1e-3,\n",
    "                                                   dual=False),df)\n",
    "\n",
    "result_dict['linear_svc']\n"
   ]
  },
  {
   "cell_type": "markdown",
   "metadata": {},
   "source": [
    "## Radius Neighbors Classifier"
   ]
  },
  {
   "cell_type": "code",
   "execution_count": 78,
   "metadata": {},
   "outputs": [
    {
     "ename": "ValueError",
     "evalue": "No neighbors found for test samples array([  1,   2,   3,   4,   5,   6,   7,   8,   9,  10,  11,  12,  13,\n        14,  15,  16,  17,  18,  19,  20,  21,  22,  23,  24,  25,  26,\n        27,  28,  29,  30,  31,  32,  33,  34,  35,  36,  37,  38,  39,\n        40,  41,  42,  43,  44,  45,  46,  47,  48,  49,  50,  51,  52,\n        53,  54,  55,  56,  57,  58,  59,  60,  61,  62,  63,  64,  65,\n        66,  67,  68,  69,  70,  71,  72,  73,  74,  75,  76,  77,  78,\n        79,  80,  81,  82,  84,  85,  86,  87,  88,  89,  90,  91,  92,\n        93,  94,  95,  96,  97,  98,  99, 100, 101, 102, 103, 104, 105,\n       107, 108, 109, 110, 111, 112, 113, 114, 115, 116, 117, 118, 119,\n       120, 121, 122, 123, 124, 125, 126, 127, 128, 129, 130, 131, 132,\n       133, 134, 135, 136, 137, 138, 139, 140, 141, 142, 143, 144, 145,\n       146, 147, 148, 149, 150, 151], dtype=int64), you can try using larger radius, giving a label for outliers, or considering removing them from your dataset.",
     "output_type": "error",
     "traceback": [
      "\u001b[1;31m---------------------------------------------------------------------------\u001b[0m",
      "\u001b[1;31mValueError\u001b[0m                                Traceback (most recent call last)",
      "\u001b[1;32m~\\AppData\\Local\\Temp\\ipykernel_16760\\2063891551.py\u001b[0m in \u001b[0;36m<module>\u001b[1;34m\u001b[0m\n\u001b[1;32m----> 1\u001b[1;33m \u001b[0mresult_dict\u001b[0m\u001b[1;33m[\u001b[0m\u001b[1;34m'radius_neighbors'\u001b[0m\u001b[1;33m]\u001b[0m \u001b[1;33m=\u001b[0m \u001b[0mbuild_model\u001b[0m\u001b[1;33m(\u001b[0m\u001b[0mRadiusNeighborsClassifier\u001b[0m\u001b[1;33m(\u001b[0m\u001b[0mradius\u001b[0m\u001b[1;33m=\u001b[0m\u001b[1;36m40.0\u001b[0m\u001b[1;33m)\u001b[0m\u001b[1;33m,\u001b[0m\u001b[0mdf\u001b[0m\u001b[1;33m)\u001b[0m\u001b[1;33m\u001b[0m\u001b[1;33m\u001b[0m\u001b[0m\n\u001b[0m\u001b[0;32m      2\u001b[0m \u001b[0mresult_dict\u001b[0m\u001b[1;33m[\u001b[0m\u001b[1;34m'radius_neighbors'\u001b[0m\u001b[1;33m]\u001b[0m\u001b[1;33m\u001b[0m\u001b[1;33m\u001b[0m\u001b[0m\n",
      "\u001b[1;32m~\\AppData\\Local\\Temp\\ipykernel_16760\\1981975730.py\u001b[0m in \u001b[0;36mbuild_model\u001b[1;34m(classifier_fn, dataset, test_frac)\u001b[0m\n\u001b[0;32m     62\u001b[0m \u001b[1;33m\u001b[0m\u001b[0m\n\u001b[0;32m     63\u001b[0m     \u001b[1;31m# predecir los datos de test\u001b[0m\u001b[1;33m\u001b[0m\u001b[1;33m\u001b[0m\u001b[0m\n\u001b[1;32m---> 64\u001b[1;33m     \u001b[0my_pred\u001b[0m \u001b[1;33m=\u001b[0m \u001b[0mmodel\u001b[0m\u001b[1;33m.\u001b[0m\u001b[0mpredict\u001b[0m\u001b[1;33m(\u001b[0m\u001b[0mx_test\u001b[0m\u001b[1;33m)\u001b[0m\u001b[1;33m\u001b[0m\u001b[1;33m\u001b[0m\u001b[0m\n\u001b[0m\u001b[0;32m     65\u001b[0m \u001b[1;33m\u001b[0m\u001b[0m\n\u001b[0;32m     66\u001b[0m     \u001b[1;31m# predecir los datos de train\u001b[0m\u001b[1;33m\u001b[0m\u001b[1;33m\u001b[0m\u001b[0m\n",
      "\u001b[1;32mc:\\ProgramData\\Anaconda3\\lib\\site-packages\\sklearn\\utils\\metaestimators.py\u001b[0m in \u001b[0;36m<lambda>\u001b[1;34m(*args, **kwargs)\u001b[0m\n\u001b[0;32m    111\u001b[0m \u001b[1;33m\u001b[0m\u001b[0m\n\u001b[0;32m    112\u001b[0m             \u001b[1;31m# lambda, but not partial, allows help() to work with update_wrapper\u001b[0m\u001b[1;33m\u001b[0m\u001b[1;33m\u001b[0m\u001b[0m\n\u001b[1;32m--> 113\u001b[1;33m             \u001b[0mout\u001b[0m \u001b[1;33m=\u001b[0m \u001b[1;32mlambda\u001b[0m \u001b[1;33m*\u001b[0m\u001b[0margs\u001b[0m\u001b[1;33m,\u001b[0m \u001b[1;33m**\u001b[0m\u001b[0mkwargs\u001b[0m\u001b[1;33m:\u001b[0m \u001b[0mself\u001b[0m\u001b[1;33m.\u001b[0m\u001b[0mfn\u001b[0m\u001b[1;33m(\u001b[0m\u001b[0mobj\u001b[0m\u001b[1;33m,\u001b[0m \u001b[1;33m*\u001b[0m\u001b[0margs\u001b[0m\u001b[1;33m,\u001b[0m \u001b[1;33m**\u001b[0m\u001b[0mkwargs\u001b[0m\u001b[1;33m)\u001b[0m  \u001b[1;31m# noqa\u001b[0m\u001b[1;33m\u001b[0m\u001b[1;33m\u001b[0m\u001b[0m\n\u001b[0m\u001b[0;32m    114\u001b[0m         \u001b[1;32melse\u001b[0m\u001b[1;33m:\u001b[0m\u001b[1;33m\u001b[0m\u001b[1;33m\u001b[0m\u001b[0m\n\u001b[0;32m    115\u001b[0m \u001b[1;33m\u001b[0m\u001b[0m\n",
      "\u001b[1;32mc:\\ProgramData\\Anaconda3\\lib\\site-packages\\sklearn\\pipeline.py\u001b[0m in \u001b[0;36mpredict\u001b[1;34m(self, X, **predict_params)\u001b[0m\n\u001b[0;32m    468\u001b[0m         \u001b[1;32mfor\u001b[0m \u001b[0m_\u001b[0m\u001b[1;33m,\u001b[0m \u001b[0mname\u001b[0m\u001b[1;33m,\u001b[0m \u001b[0mtransform\u001b[0m \u001b[1;32min\u001b[0m \u001b[0mself\u001b[0m\u001b[1;33m.\u001b[0m\u001b[0m_iter\u001b[0m\u001b[1;33m(\u001b[0m\u001b[0mwith_final\u001b[0m\u001b[1;33m=\u001b[0m\u001b[1;32mFalse\u001b[0m\u001b[1;33m)\u001b[0m\u001b[1;33m:\u001b[0m\u001b[1;33m\u001b[0m\u001b[1;33m\u001b[0m\u001b[0m\n\u001b[0;32m    469\u001b[0m             \u001b[0mXt\u001b[0m \u001b[1;33m=\u001b[0m \u001b[0mtransform\u001b[0m\u001b[1;33m.\u001b[0m\u001b[0mtransform\u001b[0m\u001b[1;33m(\u001b[0m\u001b[0mXt\u001b[0m\u001b[1;33m)\u001b[0m\u001b[1;33m\u001b[0m\u001b[1;33m\u001b[0m\u001b[0m\n\u001b[1;32m--> 470\u001b[1;33m         \u001b[1;32mreturn\u001b[0m \u001b[0mself\u001b[0m\u001b[1;33m.\u001b[0m\u001b[0msteps\u001b[0m\u001b[1;33m[\u001b[0m\u001b[1;33m-\u001b[0m\u001b[1;36m1\u001b[0m\u001b[1;33m]\u001b[0m\u001b[1;33m[\u001b[0m\u001b[1;36m1\u001b[0m\u001b[1;33m]\u001b[0m\u001b[1;33m.\u001b[0m\u001b[0mpredict\u001b[0m\u001b[1;33m(\u001b[0m\u001b[0mXt\u001b[0m\u001b[1;33m,\u001b[0m \u001b[1;33m**\u001b[0m\u001b[0mpredict_params\u001b[0m\u001b[1;33m)\u001b[0m\u001b[1;33m\u001b[0m\u001b[1;33m\u001b[0m\u001b[0m\n\u001b[0m\u001b[0;32m    471\u001b[0m \u001b[1;33m\u001b[0m\u001b[0m\n\u001b[0;32m    472\u001b[0m     \u001b[1;33m@\u001b[0m\u001b[0mavailable_if\u001b[0m\u001b[1;33m(\u001b[0m\u001b[0m_final_estimator_has\u001b[0m\u001b[1;33m(\u001b[0m\u001b[1;34m\"fit_predict\"\u001b[0m\u001b[1;33m)\u001b[0m\u001b[1;33m)\u001b[0m\u001b[1;33m\u001b[0m\u001b[1;33m\u001b[0m\u001b[0m\n",
      "\u001b[1;32mc:\\ProgramData\\Anaconda3\\lib\\site-packages\\sklearn\\neighbors\\_classification.py\u001b[0m in \u001b[0;36mpredict\u001b[1;34m(self, X)\u001b[0m\n\u001b[0;32m    567\u001b[0m         \"\"\"\n\u001b[0;32m    568\u001b[0m \u001b[1;33m\u001b[0m\u001b[0m\n\u001b[1;32m--> 569\u001b[1;33m         \u001b[0mprobs\u001b[0m \u001b[1;33m=\u001b[0m \u001b[0mself\u001b[0m\u001b[1;33m.\u001b[0m\u001b[0mpredict_proba\u001b[0m\u001b[1;33m(\u001b[0m\u001b[0mX\u001b[0m\u001b[1;33m)\u001b[0m\u001b[1;33m\u001b[0m\u001b[1;33m\u001b[0m\u001b[0m\n\u001b[0m\u001b[0;32m    570\u001b[0m         \u001b[0mclasses_\u001b[0m \u001b[1;33m=\u001b[0m \u001b[0mself\u001b[0m\u001b[1;33m.\u001b[0m\u001b[0mclasses_\u001b[0m\u001b[1;33m\u001b[0m\u001b[1;33m\u001b[0m\u001b[0m\n\u001b[0;32m    571\u001b[0m \u001b[1;33m\u001b[0m\u001b[0m\n",
      "\u001b[1;32mc:\\ProgramData\\Anaconda3\\lib\\site-packages\\sklearn\\neighbors\\_classification.py\u001b[0m in \u001b[0;36mpredict_proba\u001b[1;34m(self, X)\u001b[0m\n\u001b[0;32m    626\u001b[0m \u001b[1;33m\u001b[0m\u001b[0m\n\u001b[0;32m    627\u001b[0m         \u001b[1;32mif\u001b[0m \u001b[0mself\u001b[0m\u001b[1;33m.\u001b[0m\u001b[0moutlier_label_\u001b[0m \u001b[1;32mis\u001b[0m \u001b[1;32mNone\u001b[0m \u001b[1;32mand\u001b[0m \u001b[0moutliers\u001b[0m\u001b[1;33m.\u001b[0m\u001b[0msize\u001b[0m \u001b[1;33m>\u001b[0m \u001b[1;36m0\u001b[0m\u001b[1;33m:\u001b[0m\u001b[1;33m\u001b[0m\u001b[1;33m\u001b[0m\u001b[0m\n\u001b[1;32m--> 628\u001b[1;33m             raise ValueError(\n\u001b[0m\u001b[0;32m    629\u001b[0m                 \u001b[1;34m\"No neighbors found for test samples %r, \"\u001b[0m\u001b[1;33m\u001b[0m\u001b[1;33m\u001b[0m\u001b[0m\n\u001b[0;32m    630\u001b[0m                 \u001b[1;34m\"you can try using larger radius, \"\u001b[0m\u001b[1;33m\u001b[0m\u001b[1;33m\u001b[0m\u001b[0m\n",
      "\u001b[1;31mValueError\u001b[0m: No neighbors found for test samples array([  1,   2,   3,   4,   5,   6,   7,   8,   9,  10,  11,  12,  13,\n        14,  15,  16,  17,  18,  19,  20,  21,  22,  23,  24,  25,  26,\n        27,  28,  29,  30,  31,  32,  33,  34,  35,  36,  37,  38,  39,\n        40,  41,  42,  43,  44,  45,  46,  47,  48,  49,  50,  51,  52,\n        53,  54,  55,  56,  57,  58,  59,  60,  61,  62,  63,  64,  65,\n        66,  67,  68,  69,  70,  71,  72,  73,  74,  75,  76,  77,  78,\n        79,  80,  81,  82,  84,  85,  86,  87,  88,  89,  90,  91,  92,\n        93,  94,  95,  96,  97,  98,  99, 100, 101, 102, 103, 104, 105,\n       107, 108, 109, 110, 111, 112, 113, 114, 115, 116, 117, 118, 119,\n       120, 121, 122, 123, 124, 125, 126, 127, 128, 129, 130, 131, 132,\n       133, 134, 135, 136, 137, 138, 139, 140, 141, 142, 143, 144, 145,\n       146, 147, 148, 149, 150, 151], dtype=int64), you can try using larger radius, giving a label for outliers, or considering removing them from your dataset."
     ]
    }
   ],
   "source": [
    "result_dict['radius_neighbors'] = build_model(RadiusNeighborsClassifier(radius=40.0),df)\n",
    "result_dict['radius_neighbors']\n"
   ]
  },
  {
   "cell_type": "markdown",
   "metadata": {},
   "source": [
    "## Decision Tree classifier"
   ]
  },
  {
   "cell_type": "code",
   "execution_count": 79,
   "metadata": {},
   "outputs": [
    {
     "data": {
      "text/plain": [
       "{'train': {'accuracy': 1.0, 'precision': 1.0, 'recall': 1.0, 'f1': 1.0},\n",
       " 'test': {'accuracy': 0.28289473684210525,\n",
       "  'precision': 0.28289473684210525,\n",
       "  'recall': 0.28289473684210525,\n",
       "  'f1': 0.28289473684210525},\n",
       " 'confusion_matrix': y_test   0   1   2   3\n",
       " y_pred                \n",
       " 0       19   4   5   9\n",
       " 1        7   2   9   9\n",
       " 2       10   8  12  16\n",
       " 3       13  10   9  10}"
      ]
     },
     "execution_count": 79,
     "metadata": {},
     "output_type": "execute_result"
    }
   ],
   "source": [
    "result_dict['decision_tree'] = build_model(DecisionTreeClassifier(),df)\n",
    "\n",
    "result_dict['decision_tree']\n"
   ]
  },
  {
   "cell_type": "markdown",
   "metadata": {},
   "source": [
    "## Naive Bayes"
   ]
  },
  {
   "cell_type": "code",
   "execution_count": 80,
   "metadata": {},
   "outputs": [
    {
     "data": {
      "text/plain": [
       "{'train': {'accuracy': 0.24052718286655683,\n",
       "  'precision': 0.24052718286655683,\n",
       "  'recall': 0.24052718286655683,\n",
       "  'f1': 0.24052718286655683},\n",
       " 'test': {'accuracy': 0.2236842105263158,\n",
       "  'precision': 0.2236842105263158,\n",
       "  'recall': 0.2236842105263158,\n",
       "  'f1': 0.2236842105263158},\n",
       " 'confusion_matrix': y_test   0   1   2   3\n",
       " y_pred                \n",
       " 0        6   2   0   4\n",
       " 1       41  21  32  35\n",
       " 2        1   1   2   0\n",
       " 3        1   0   1   5}"
      ]
     },
     "execution_count": 80,
     "metadata": {},
     "output_type": "execute_result"
    }
   ],
   "source": [
    "result_dict['naive_bayes'] = build_model(GaussianNB(),\n",
    "\n",
    "                                         df)\n",
    "\n",
    "result_dict['naive_bayes']\n"
   ]
  },
  {
   "cell_type": "markdown",
   "metadata": {},
   "source": [
    "## Comparación de modelos"
   ]
  },
  {
   "cell_type": "code",
   "execution_count": 81,
   "metadata": {},
   "outputs": [],
   "source": [
    "# Crear un diccionario solo con los resultados de prueba de cada modelo\n",
    "nombre_modelos = result_dict.keys()\n",
    "resultados_train = {} # crear diccionario vacio\n",
    "resultados_test = {} # crear diccionario vacio\n",
    "for nombre in nombre_modelos:\n",
    "    resultados_train[nombre] = result_dict[nombre]['train']['f1']\n",
    "    resultados_test[nombre] = result_dict[nombre]['test']['f1']\n",
    "\n",
    "df_comparacion = pd.DataFrame([resultados_train, resultados_test], index=['train', 'test'])\n"
   ]
  },
  {
   "cell_type": "code",
   "execution_count": 82,
   "metadata": {},
   "outputs": [
    {
     "data": {
      "image/png": "[encoded data removed]",
      "text/plain": [
       "<Figure size 1000x400 with 1 Axes>"
      ]
     },
     "metadata": {},
     "output_type": "display_data"
    }
   ],
   "source": [
    "# Plot the bar chart\n",
    "fig, ax = plt.subplots(figsize=(10, 4))\n",
    "df_comparacion.T.plot(kind='bar', ax=ax)\n",
    "\n",
    "# Adjust the layout\n",
    "ax.set_ylabel('F1 score')\n",
    "ax.set_title('Model F1 Comparison')\n",
    "\n",
    "# Set the x-tick labels inside the bars and rotate by 90 degrees\n",
    "ax.set_xticks(range(len(df_comparacion.columns)))\n",
    "ax.set_xticklabels([])\n",
    "\n",
    "# Draw the x-tick labels inside the bars rotated by 90 degrees\n",
    "for i, label in enumerate(df_comparacion.columns):\n",
    "    bar_center = (df_comparacion.loc['train', label] +\n",
    "                  df_comparacion.loc['test', label]) / 2\n",
    "    ax.text(i, bar_center, label, ha='center',\n",
    "            va='center_baseline', rotation=45)\n",
    "\n",
    "plt.tight_layout()\n"
   ]
  }
 ],
 "metadata": {
  "kernelspec": {
   "display_name": "base",
   "language": "python",
   "name": "python3"
  },
  "language_info": {
   "codemirror_mode": {
    "name": "ipython",
    "version": 3
   },
   "file_extension": ".py",
   "mimetype": "text/x-python",
   "name": "python",
   "nbconvert_exporter": "python",
   "pygments_lexer": "ipython3",
   "version": "3.9.13"
  }
 },
 "nbformat": 4,
 "nbformat_minor": 2
}
