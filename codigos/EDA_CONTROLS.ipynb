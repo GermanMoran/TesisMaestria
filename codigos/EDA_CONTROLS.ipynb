{
 "cells": [
  {
   "attachments": {},
   "cell_type": "markdown",
   "metadata": {},
   "source": [
    "### ANALISIS EXPLORATORIO DE DATOS PARA EL ARCHIVO CONTROLS.CSV SUMINISTRADO POR LA FIAT Y FENALCE"
   ]
  },
  {
   "attachments": {},
   "cell_type": "markdown",
   "metadata": {},
   "source": [
    "-  El archivo controls csv tiene completa la mayor parte de información, motivo por el cual se conserva para la formación de la vista mibable"
   ]
  },
  {
   "cell_type": "code",
   "execution_count": 10,
   "metadata": {},
   "outputs": [],
   "source": [
    "# Librerias/Dependencias\n",
    "import pandas as pd"
   ]
  },
  {
   "cell_type": "code",
   "execution_count": 6,
   "metadata": {},
   "outputs": [
    {
     "name": "stdout",
     "output_type": "stream",
     "text": [
      "Longitud del datset:  (7590, 6)\n"
     ]
    },
    {
     "data": {
      "text/html": [
       "<div>\n",
       "<style scoped>\n",
       "    .dataframe tbody tr th:only-of-type {\n",
       "        vertical-align: middle;\n",
       "    }\n",
       "\n",
       "    .dataframe tbody tr th {\n",
       "        vertical-align: top;\n",
       "    }\n",
       "\n",
       "    .dataframe thead th {\n",
       "        text-align: right;\n",
       "    }\n",
       "</style>\n",
       "<table border=\"1\" class=\"dataframe\">\n",
       "  <thead>\n",
       "    <tr style=\"text-align: right;\">\n",
       "      <th></th>\n",
       "      <th>ID_EVENTO</th>\n",
       "      <th>ID_PROD</th>\n",
       "      <th>FECHA_CONTROL</th>\n",
       "      <th>TIPO_OBJETIVO</th>\n",
       "      <th>TIPO_CONTROL</th>\n",
       "      <th>MOLECULA_ACTIVA</th>\n",
       "    </tr>\n",
       "  </thead>\n",
       "  <tbody>\n",
       "    <tr>\n",
       "      <th>0</th>\n",
       "      <td>16</td>\n",
       "      <td>34</td>\n",
       "      <td>5/1/2013</td>\n",
       "      <td>Plagas</td>\n",
       "      <td>Químico</td>\n",
       "      <td>PROFENOFOS 50% + LUFENURON</td>\n",
       "    </tr>\n",
       "    <tr>\n",
       "      <th>1</th>\n",
       "      <td>16</td>\n",
       "      <td>34</td>\n",
       "      <td>5/1/2013</td>\n",
       "      <td>Malezas</td>\n",
       "      <td>Químico</td>\n",
       "      <td>Glifosato</td>\n",
       "    </tr>\n",
       "    <tr>\n",
       "      <th>2</th>\n",
       "      <td>16</td>\n",
       "      <td>34</td>\n",
       "      <td>5/1/2013</td>\n",
       "      <td>Enfermedades</td>\n",
       "      <td>Químico</td>\n",
       "      <td>AZIMUT</td>\n",
       "    </tr>\n",
       "    <tr>\n",
       "      <th>3</th>\n",
       "      <td>21</td>\n",
       "      <td>38</td>\n",
       "      <td>3/5/2013</td>\n",
       "      <td>Plagas</td>\n",
       "      <td>Químico</td>\n",
       "      <td>ATRIN</td>\n",
       "    </tr>\n",
       "    <tr>\n",
       "      <th>4</th>\n",
       "      <td>21</td>\n",
       "      <td>38</td>\n",
       "      <td>2/18/2013</td>\n",
       "      <td>Malezas</td>\n",
       "      <td>Químico</td>\n",
       "      <td>Atrazina</td>\n",
       "    </tr>\n",
       "  </tbody>\n",
       "</table>\n",
       "</div>"
      ],
      "text/plain": [
       "   ID_EVENTO  ID_PROD FECHA_CONTROL TIPO_OBJETIVO TIPO_CONTROL  \\\n",
       "0         16       34      5/1/2013        Plagas      Químico   \n",
       "1         16       34      5/1/2013       Malezas      Químico   \n",
       "2         16       34      5/1/2013  Enfermedades      Químico   \n",
       "3         21       38      3/5/2013        Plagas      Químico   \n",
       "4         21       38     2/18/2013       Malezas      Químico   \n",
       "\n",
       "              MOLECULA_ACTIVA  \n",
       "0  PROFENOFOS 50% + LUFENURON  \n",
       "1                   Glifosato  \n",
       "2                      AZIMUT  \n",
       "3                       ATRIN  \n",
       "4                    Atrazina  "
      ]
     },
     "execution_count": 6,
     "metadata": {},
     "output_type": "execute_result"
    }
   ],
   "source": [
    "# lectura del archivo\n",
    "controls = pd.read_csv(\"../Datos/Controls_3.csv\")\n",
    "print(\"Longitud del datset: \",controls.shape)\n",
    "controls.head(5)"
   ]
  },
  {
   "cell_type": "code",
   "execution_count": 9,
   "metadata": {},
   "outputs": [
    {
     "name": "stdout",
     "output_type": "stream",
     "text": [
      "<class 'pandas.core.frame.DataFrame'>\n",
      "RangeIndex: 7590 entries, 0 to 7589\n",
      "Data columns (total 6 columns):\n",
      " #   Column           Non-Null Count  Dtype \n",
      "---  ------           --------------  ----- \n",
      " 0   ID_EVENTO        7590 non-null   int64 \n",
      " 1   ID_PROD          7590 non-null   int64 \n",
      " 2   FECHA_CONTROL    7590 non-null   object\n",
      " 3   TIPO_OBJETIVO    7590 non-null   object\n",
      " 4   TIPO_CONTROL     7590 non-null   object\n",
      " 5   MOLECULA_ACTIVA  7576 non-null   object\n",
      "dtypes: int64(2), object(4)\n",
      "memory usage: 355.9+ KB\n"
     ]
    }
   ],
   "source": [
    "#Información del dataset\n",
    "controls.info()"
   ]
  },
  {
   "cell_type": "code",
   "execution_count": 7,
   "metadata": {},
   "outputs": [
    {
     "data": {
      "text/plain": [
       "ID_EVENTO           0\n",
       "ID_PROD             0\n",
       "FECHA_CONTROL       0\n",
       "TIPO_OBJETIVO       0\n",
       "TIPO_CONTROL        0\n",
       "MOLECULA_ACTIVA    14\n",
       "dtype: int64"
      ]
     },
     "execution_count": 7,
     "metadata": {},
     "output_type": "execute_result"
    }
   ],
   "source": [
    "#Numero de valores nulos por columna\n",
    "controls.isnull().sum()"
   ]
  },
  {
   "cell_type": "code",
   "execution_count": 8,
   "metadata": {},
   "outputs": [
    {
     "data": {
      "text/plain": [
       "Glifosato                                           1035\n",
       "Cipermetrina                                         793\n",
       "GLIFOSATO                                            437\n",
       "Glufosinato de amonio                                376\n",
       "Atrazina                                             331\n",
       "                                                    ... \n",
       "zetacipermetrina , cipermetrina  y teflubenzuron       1\n",
       "teflubenzuron + cipermetrina + zetacipermetrina        1\n",
       "teflubenzuron+cipermetrina+zetacipermetrina            1\n",
       "Lambda-cihalotrina  y  cipermetrina                    1\n",
       "spinetoram y cipermetrina                              1\n",
       "Name: MOLECULA_ACTIVA, Length: 539, dtype: int64"
      ]
     },
     "execution_count": 8,
     "metadata": {},
     "output_type": "execute_result"
    }
   ],
   "source": [
    "# Subcategorias de la variable categorica MOLECULA_ACTIVA\n",
    "controls.MOLECULA_ACTIVA.value_counts()"
   ]
  }
 ],
 "metadata": {
  "kernelspec": {
   "display_name": "base",
   "language": "python",
   "name": "python3"
  },
  "language_info": {
   "codemirror_mode": {
    "name": "ipython",
    "version": 3
   },
   "file_extension": ".py",
   "mimetype": "text/x-python",
   "name": "python",
   "nbconvert_exporter": "python",
   "pygments_lexer": "ipython3",
   "version": "3.8.8"
  },
  "orig_nbformat": 4,
  "vscode": {
   "interpreter": {
    "hash": "ad2bdc8ecc057115af97d19610ffacc2b4e99fae6737bb82f5d7fb13d2f2c186"
   }
  }
 },
 "nbformat": 4,
 "nbformat_minor": 2
}
