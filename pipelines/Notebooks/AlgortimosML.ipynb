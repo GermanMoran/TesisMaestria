{
 "cells": [
  {
   "cell_type": "code",
   "execution_count": 1,
   "metadata": {},
   "outputs": [],
   "source": [
    "# Librerias y dependnecias.\n",
    "import pandas as pd\n",
    "import sys\n",
    "import random\n",
    "import matplotlib.pyplot as plt\n",
    "from sklearn.model_selection import train_test_split\n",
    "from sklearn import model_selection\n",
    "from sklearn.linear_model import LinearRegression\n",
    "from sklearn.linear_model import Ridge\n",
    "from sklearn.linear_model import Lasso\n",
    "from sklearn.linear_model import ElasticNet\n",
    "from sklearn.metrics import mean_squared_error\n",
    "from sklearn.metrics import mean_absolute_error\n",
    "from sklearn.model_selection import GridSearchCV\n",
    "from sklearn.linear_model import ElasticNet\n",
    "from math import sqrt\n",
    "from sklearn.metrics import r2_score\n",
    "from sklearn.linear_model import LassoCV\n",
    "from sklearn.model_selection import cross_val_score\n",
    "from sklearn.model_selection import RepeatedKFold\n",
    "from sklearn.pipeline import Pipeline\n",
    "from sklearn.preprocessing import MinMaxScaler\n",
    "from sklearn.metrics import f1_score, accuracy_score\n",
    "from sklearn.metrics import r2_score\n",
    "from sklearn.metrics import mean_absolute_error,max_error,mean_squared_error\n"
   ]
  },
  {
   "cell_type": "code",
   "execution_count": 17,
   "metadata": {},
   "outputs": [],
   "source": [
    "'''\n",
    "    Esta clase permite realizar la codificación en caliente especificameente variables categoricas\n",
    "'''\n",
    "\n",
    "class OneHotCoding():\n",
    "    def __init__(self, df, bin_features):\n",
    "        self.bin_features = bin_features\n",
    "        self.df = df\n",
    "    \n",
    "    # Metodo para realizar la codificacion dummy a las variables categoricas\n",
    "\n",
    "    def dummyCodification(self):\n",
    "        cat_features = self.df.select_dtypes(include = [\"object\", \"category\"]).columns\n",
    "        bin_dataset = self.df[self.bin_features].replace({'SI': 1, 'NO': 0})\n",
    "        categorical_features = [x for x in cat_features if x not in self.bin_features]\n",
    "        df_cat = pd.get_dummies(self.df[categorical_features])\n",
    "        self.df.drop(cat_features, axis = 1, inplace = True)\n",
    "        df_final = pd.concat([self.df,df_cat,bin_dataset ], axis = 1)\n",
    "        print(\"Ejeción Terminada\")\n",
    "        return df_final\n",
    "    \n",
    "\n",
    "\n",
    "\n",
    "def simpleLinearRegresion(X_train, y_train):\n",
    "    reg = LinearRegression().fit(X_train, y_train)\n",
    "    # Ajuste con el conjunto de entrenamiento\n",
    "    accuracy = reg.score(X_train, y_train)\n",
    "    print(accuracy)\n",
    "    return reg\n",
    "\n",
    "\n",
    "\n",
    "def metricasPerformance(y_true, yhat_test):\n",
    "    R2 = r2_score(y_true, yhat_test)\n",
    "    MAE =  mean_absolute_error(y_true, yhat_test)\n",
    "    ME = max_error(y_true, yhat_test)\n",
    "    MSE = mean_squared_error(y_true, yhat_test)\n",
    "    print(\"Coeficiente de determinación : \", R2)\n",
    "    print(\"Error absoluto medio: \", MAE)\n",
    "    print(\"Maximo error residual: \", ME)\n",
    "    print(\"RMSE: \", MSE)"
   ]
  },
  {
   "cell_type": "code",
   "execution_count": 15,
   "metadata": {},
   "outputs": [
    {
     "name": "stdout",
     "output_type": "stream",
     "text": [
      "Ejeción Terminada\n",
      "Dimension dataset Original:  (799, 176)\n"
     ]
    }
   ],
   "source": [
    "\n",
    "\n",
    "#1. Lectura del Dataset Principal\n",
    "# ==============================================================================\n",
    "\n",
    "df = pd.read_excel(\"DatasetFinal.xlsx\")\n",
    "#print(df.head())\n",
    "# Ornial variables list\n",
    "bin_features =['SEM_TRATADAS','DRENAJE','ALMACENAMIENTO_FINCA','CAP_ENDURE_RASTA','MOTEADOS_RASTA','MOTEADOS_MAS70cm._RASTA',\n",
    "               'OBSERVA_EROSION_RASTA','OBSERVA_MOHO_RASTA','OBSERVA_RAICES_VIVAS_RASTA','OBSERVA_HOJARASCA_MO_RASTA',\n",
    "                'SUELO_NEGRO_BLANDO_RASTA','CUCHILLO_PRIMER_HTE_RASTA','CERCA_RIOS_QUEBRADAS_RASTA',\n",
    "               ]\n",
    "\n",
    "\n",
    "#2. Codificación de variables categoricas - Dummy\n",
    "# ============================================================\n",
    "dataset = OneHotCoding(df,bin_features).dummyCodification()\n",
    "print(\"Dimension dataset Original: \", dataset.shape)\n",
    "\n",
    "dataset_original = dataset.copy()\n",
    "dataset_limpio = dataset.copy()\n",
    "# X, Y\n",
    "Y = dataset_limpio.RDT_AJUSTADO\n",
    "X = dataset_limpio.drop([\"RDT_AJUSTADO\",\"ID_LOTE\"],axis=1)\n"
   ]
  },
  {
   "cell_type": "code",
   "execution_count": 30,
   "metadata": {},
   "outputs": [
    {
     "name": "stdout",
     "output_type": "stream",
     "text": [
      "0.7690919564225585\n",
      "Coeficiente de determinación :  0.6284327317684893\n",
      "Error absoluto medio:  662.5686766049953\n",
      "Maximo error residual:  2961.9349793522197\n",
      "RMSE:  772132.2595667861\n"
     ]
    }
   ],
   "source": [
    "#dataset_train, dataset_test = train_test_split(dataset, test_size = 0.05, random_state=43)\n",
    "X_train, X_test, y_train, y_test = train_test_split(X, Y, test_size=0.1, random_state=43)\n",
    "# Modelo regresion lineal simple.\n",
    "modelLR = simpleLinearRegresion(X_train, y_train)\n",
    "# Predicciones\n",
    "ypred = modelLR.predict(X_test)\n",
    "# Evaluación metricas de desempeño de los modelos.\n",
    "metricasPerformance(y_test, ypred)\n"
   ]
  },
  {
   "cell_type": "code",
   "execution_count": 13,
   "metadata": {},
   "outputs": [],
   "source": []
  }
 ],
 "metadata": {
  "kernelspec": {
   "display_name": "base",
   "language": "python",
   "name": "python3"
  },
  "language_info": {
   "codemirror_mode": {
    "name": "ipython",
    "version": 3
   },
   "file_extension": ".py",
   "mimetype": "text/x-python",
   "name": "python",
   "nbconvert_exporter": "python",
   "pygments_lexer": "ipython3",
   "version": "3.9.13"
  }
 },
 "nbformat": 4,
 "nbformat_minor": 2
}
