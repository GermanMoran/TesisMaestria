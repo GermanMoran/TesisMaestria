{
 "cells": [
  {
   "cell_type": "code",
   "execution_count": 119,
   "metadata": {},
   "outputs": [],
   "source": [
    "# Librerias y dependencias utilizadas\n",
    "import numpy as np\n",
    "import pandas as pd\n",
    "import time\n",
    "import math\n",
    "import matplotlib.pyplot as plt\n",
    "from sklearn.metrics import accuracy_score\n",
    "from sklearn.preprocessing import MinMaxScaler\n",
    "scaler = MinMaxScaler()\n"
   ]
  },
  {
   "cell_type": "code",
   "execution_count": 120,
   "metadata": {},
   "outputs": [],
   "source": [
    "df =  pd.read_csv(\"DataOpt/final_dataset_join.csv\")\n",
    "dff = df.copy()\n",
    "df_class = dff.Grupo\n",
    "df_grupos= dff.drop([\"Grupo\"], axis=1)\n",
    "scaler.fit(df_grupos)\n",
    "df_x = scaler.transform(df_grupos)\n",
    "\n"
   ]
  },
  {
   "cell_type": "code",
   "execution_count": 121,
   "metadata": {},
   "outputs": [],
   "source": [
    "class definicion_pesos:\n",
    "\n",
    "  @staticmethod\n",
    "  def evaluate(cells):\n",
    "    rows = df_x.shape[0]\n",
    "    pred_class = []\n",
    "    for i in range(rows):\n",
    "      current_row = df_x[i]\n",
    "      resta = cells * np.power(df_x - current_row, 2)\n",
    "      suma_filas = resta.sum(axis=1)\n",
    "      suma_filas = np.sqrt(suma_filas)\n",
    "\n",
    "      posiciones = np.arange(0, suma_filas.shape[0])\n",
    "      vector_unido = np.column_stack((posiciones, suma_filas))\n",
    "      vector_unido = np.delete(vector_unido, i, axis=0) #borra la fila que se esta evaluando\n",
    "\n",
    "      indices_ordenamiento = vector_unido[:, 1].argsort()\n",
    "      vector_unido = vector_unido[indices_ordenamiento]\n",
    "      pred_class.append(df_class[vector_unido[0][0]])\n",
    "\n",
    "    acc = accuracy_score(df_class, pred_class)\n",
    "    return acc\n",
    "\n",
    "  def __str__(self):\n",
    "    return \"Sphere-lb:\"\n",
    "\n",
    "\n",
    "class solution:\n",
    "\n",
    "    def __init__(self, d: int, f):\n",
    "        self.size = d\n",
    "        self.cells = np.zeros(self.size, float)\n",
    "        self.fitness = 0.0\n",
    "        self.function = f\n",
    "\n",
    "    def from_solution(self, origin):\n",
    "        self.size = origin.size\n",
    "        self.cells = np.copy(origin.cells)\n",
    "        self.fitness = origin.fitness\n",
    "        self.function = origin.function\n",
    "\n",
    "    def Initialization(self):\n",
    "        # vector de d dimensiones incicalizado aleatoriamente con valores entre (0, 1) normalizado\n",
    "        self.cells = np.random.uniform(low=0, high=1, size=(self.size,))\n",
    "        sum = self.cells.sum()\n",
    "        self.cells = self.cells / sum\n",
    "\n",
    "        self.fitness = self.function.evaluate(self.cells)\n",
    "        # print(\"Vector de d dimensiones inicializado : \", self.cells)\n",
    "        # print(\"Fitness : \", self.fitness)\n",
    "\n",
    "    def random_not_in_list(self, d: int, vector_a_excluir):\n",
    "      valor = np.random.randint(0, d)\n",
    "      while valor in vector_a_excluir:\n",
    "          valor = np.random.randint(0, d)\n",
    "      return valor\n",
    "\n",
    "    def tweak(self, bandwidth: float, swaps:int):\n",
    "        posiciones = np.random.choice(self.size, swaps, replace=False)\n",
    "        for pos in posiciones:\n",
    "          bw = np.random.uniform(low=-bandwidth, high=bandwidth, size=(1,))[0]\n",
    "          new_val = self.cells[pos] + bw\n",
    "          while new_val < 0 or new_val > 1:\n",
    "            bw = np.random.uniform(low=-bandwidth, high=bandwidth, size=(1,))[0]\n",
    "            new_val = self.cells[pos] + bw\n",
    "          self.cells[pos] = new_val\n",
    "\n",
    "          pos_to_swap = self.random_not_in_list(self.size, posiciones)\n",
    "          new_val = self.cells[pos_to_swap] - bw\n",
    "          while new_val < 0 or new_val > 1:\n",
    "            pos_to_swap = self.random_not_in_list(self.size, posiciones)\n",
    "            new_val = self.cells[pos_to_swap] - bw\n",
    "          self.cells[pos_to_swap] = self.cells[pos] - bw\n",
    "\n",
    "        self.fitness = self.function.evaluate(self.cells)\n",
    "\n",
    "    def __str__(self):\n",
    "        return \"cells:\" + str(self.cells) + \\\n",
    "               \"-fit:\" + str(self.fitness)\n",
    "\n",
    "\n",
    "class SA:\n",
    "    def __init__(self, max_efos: int, bandwidth: float, swaps: int):\n",
    "        self.max_efos = max_efos\n",
    "        self.bandwidth = bandwidth\n",
    "        self.swaps = swaps\n",
    "\n",
    "    def evolve(self, seed: int, d: int, f):\n",
    "        to = 100\n",
    "        self.function = f\n",
    "        np.random.seed (seed)\n",
    "        best_fitness_history = np.zeros(self.max_efos, float)\n",
    "\n",
    "        S = solution(d, f) # S is a new Solution\n",
    "        S.Initialization()\n",
    "        best_fitness_history[0] = S.fitness\n",
    "        self.best = solution(d, f)\n",
    "        self.best.from_solution(S) # self.best is a full copy of S\n",
    "        t= to\n",
    "        for iteration in range(1, self.max_efos):\n",
    "            R = solution(S.size, S.function)\n",
    "            R.from_solution(S) # R is a full copy of S\n",
    "            R.tweak(self.bandwidth, self.swaps)\n",
    "            t = t - to/(self.max_efos + 1)\n",
    "            ale = np.random.uniform()\n",
    "            prob = np.exp((R.fitness - S.fitness) / t) # Maximizing\n",
    "            if R.fitness > S.fitness or ale < prob: # Maximizing\n",
    "                S.from_solution(R)\n",
    "            if S.fitness > self.best.fitness: # Maximizing\n",
    "                self.best.from_solution(S)\n",
    "            best_fitness_history[iteration] = self.best.fitness\n",
    "            if iteration % 100 == 0:\n",
    "              print(\"EFO: \" + str(iteration) + \" - Fitness: \" + str(self.best.fitness))\n",
    "        return best_fitness_history\n",
    "        # revisar si se estanca y hacer otro arranque desde ese punto .. multi star\n",
    "\n",
    "    def __str__(self):\n",
    "        result = \"SA:-bandwidth:\" + str(self.bandwidth)\n",
    "        return result\n",
    "\n"
   ]
  },
  {
   "cell_type": "code",
   "execution_count": 123,
   "metadata": {},
   "outputs": [],
   "source": [
    "# Plot convergence curve\n",
    "def plot_convergence_curve(fitness_history, f, alg):\n",
    "  efos = np.arange(len(fitness_history))\n",
    "  plt.title(\"Convergence curve for \" + str(f))\n",
    "  plt.xlabel(\"EFOs\")\n",
    "  plt.ylabel(\"Fitness\")\n",
    "  plt.plot(efos, fitness_history, label=str(alg))\n",
    "  plt.legend()\n",
    "  plt.savefig(\"Convergence curve for \" + str(f) + \"\" + str(alg) + \".png\")\n",
    "  plt.show()"
   ]
  },
  {
   "cell_type": "code",
   "execution_count": 28,
   "metadata": {},
   "outputs": [
    {
     "name": "stdout",
     "output_type": "stream",
     "text": [
      "174\n"
     ]
    },
    {
     "data": {
      "text/plain": [
       "0.3662714097496706"
      ]
     },
     "execution_count": 28,
     "metadata": {},
     "output_type": "execute_result"
    }
   ],
   "source": [
    "att = df_x.shape[1]\n",
    "print(att)\n",
    "f = definicion_pesos()\n",
    "np.random.seed(42)\n",
    "w = np.random.uniform(low=0, high=1, size=(att,))\n",
    "sum = w.sum()\n",
    "w = w / sum\n",
    "#print (w)\n",
    "t = f.evaluate(w)\n",
    "t"
   ]
  },
  {
   "cell_type": "code",
   "execution_count": 37,
   "metadata": {},
   "outputs": [
    {
     "name": "stdout",
     "output_type": "stream",
     "text": [
      "SA:-bandwidth:0.00028735632183908046\n",
      "EFO: 100 - Fitness: 0.3820816864295125\n",
      "EFO: 200 - Fitness: 0.4031620553359684\n",
      "EFO: 300 - Fitness: 0.4031620553359684\n",
      "EFO: 400 - Fitness: 0.4031620553359684\n",
      "EFO: 500 - Fitness: 0.4031620553359684\n",
      "EFO: 600 - Fitness: 0.4031620553359684\n"
     ]
    },
    {
     "ename": "KeyboardInterrupt",
     "evalue": "",
     "output_type": "error",
     "traceback": [
      "\u001b[1;31m---------------------------------------------------------------------------\u001b[0m",
      "\u001b[1;31mKeyboardInterrupt\u001b[0m                         Traceback (most recent call last)",
      "\u001b[1;32m~\\AppData\\Local\\Temp\\ipykernel_33280\\2708889048.py\u001b[0m in \u001b[0;36m<module>\u001b[1;34m\u001b[0m\n\u001b[0;32m      9\u001b[0m \u001b[0mprint\u001b[0m\u001b[1;33m(\u001b[0m\u001b[0msa\u001b[0m\u001b[1;33m)\u001b[0m\u001b[1;33m\u001b[0m\u001b[1;33m\u001b[0m\u001b[0m\n\u001b[0;32m     10\u001b[0m \u001b[0mstart_timer\u001b[0m \u001b[1;33m=\u001b[0m \u001b[0mtime\u001b[0m\u001b[1;33m.\u001b[0m\u001b[0mtime\u001b[0m\u001b[1;33m(\u001b[0m\u001b[1;33m)\u001b[0m\u001b[1;33m\u001b[0m\u001b[1;33m\u001b[0m\u001b[0m\n\u001b[1;32m---> 11\u001b[1;33m \u001b[0mcurve\u001b[0m \u001b[1;33m=\u001b[0m \u001b[0msa\u001b[0m\u001b[1;33m.\u001b[0m\u001b[0mevolve\u001b[0m\u001b[1;33m(\u001b[0m\u001b[0mseed\u001b[0m\u001b[1;33m=\u001b[0m\u001b[0mseed\u001b[0m\u001b[1;33m,\u001b[0m \u001b[0md\u001b[0m\u001b[1;33m=\u001b[0m\u001b[0md\u001b[0m\u001b[1;33m,\u001b[0m \u001b[0mf\u001b[0m\u001b[1;33m=\u001b[0m\u001b[0mf\u001b[0m\u001b[1;33m)\u001b[0m\u001b[1;33m\u001b[0m\u001b[1;33m\u001b[0m\u001b[0m\n\u001b[0m\u001b[0;32m     12\u001b[0m \u001b[1;31m#end_timer = time.time()\u001b[0m\u001b[1;33m\u001b[0m\u001b[1;33m\u001b[0m\u001b[0m\n\u001b[0;32m     13\u001b[0m \u001b[1;31m#print(\"Elapsed time: \", end_timer - start_timer)\u001b[0m\u001b[1;33m\u001b[0m\u001b[1;33m\u001b[0m\u001b[0m\n",
      "\u001b[1;32m~\\AppData\\Local\\Temp\\ipykernel_33280\\2682112783.py\u001b[0m in \u001b[0;36mevolve\u001b[1;34m(self, seed, d, f)\u001b[0m\n\u001b[0;32m    101\u001b[0m             \u001b[0mR\u001b[0m \u001b[1;33m=\u001b[0m \u001b[0msolution\u001b[0m\u001b[1;33m(\u001b[0m\u001b[0mS\u001b[0m\u001b[1;33m.\u001b[0m\u001b[0msize\u001b[0m\u001b[1;33m,\u001b[0m \u001b[0mS\u001b[0m\u001b[1;33m.\u001b[0m\u001b[0mfunction\u001b[0m\u001b[1;33m)\u001b[0m\u001b[1;33m\u001b[0m\u001b[1;33m\u001b[0m\u001b[0m\n\u001b[0;32m    102\u001b[0m             \u001b[0mR\u001b[0m\u001b[1;33m.\u001b[0m\u001b[0mfrom_solution\u001b[0m\u001b[1;33m(\u001b[0m\u001b[0mS\u001b[0m\u001b[1;33m)\u001b[0m \u001b[1;31m# R is a full copy of S\u001b[0m\u001b[1;33m\u001b[0m\u001b[1;33m\u001b[0m\u001b[0m\n\u001b[1;32m--> 103\u001b[1;33m             \u001b[0mR\u001b[0m\u001b[1;33m.\u001b[0m\u001b[0mtweak\u001b[0m\u001b[1;33m(\u001b[0m\u001b[0mself\u001b[0m\u001b[1;33m.\u001b[0m\u001b[0mbandwidth\u001b[0m\u001b[1;33m,\u001b[0m \u001b[0mself\u001b[0m\u001b[1;33m.\u001b[0m\u001b[0mswaps\u001b[0m\u001b[1;33m)\u001b[0m\u001b[1;33m\u001b[0m\u001b[1;33m\u001b[0m\u001b[0m\n\u001b[0m\u001b[0;32m    104\u001b[0m             \u001b[0mt\u001b[0m \u001b[1;33m=\u001b[0m \u001b[0mt\u001b[0m \u001b[1;33m-\u001b[0m \u001b[0mto\u001b[0m\u001b[1;33m/\u001b[0m\u001b[1;33m(\u001b[0m\u001b[0mself\u001b[0m\u001b[1;33m.\u001b[0m\u001b[0mmax_efos\u001b[0m \u001b[1;33m+\u001b[0m \u001b[1;36m1\u001b[0m\u001b[1;33m)\u001b[0m\u001b[1;33m\u001b[0m\u001b[1;33m\u001b[0m\u001b[0m\n\u001b[0;32m    105\u001b[0m             \u001b[0male\u001b[0m \u001b[1;33m=\u001b[0m \u001b[0mnp\u001b[0m\u001b[1;33m.\u001b[0m\u001b[0mrandom\u001b[0m\u001b[1;33m.\u001b[0m\u001b[0muniform\u001b[0m\u001b[1;33m(\u001b[0m\u001b[1;33m)\u001b[0m\u001b[1;33m\u001b[0m\u001b[1;33m\u001b[0m\u001b[0m\n",
      "\u001b[1;32m~\\AppData\\Local\\Temp\\ipykernel_33280\\2682112783.py\u001b[0m in \u001b[0;36mtweak\u001b[1;34m(self, bandwidth, swaps)\u001b[0m\n\u001b[0;32m     73\u001b[0m           \u001b[0mself\u001b[0m\u001b[1;33m.\u001b[0m\u001b[0mcells\u001b[0m\u001b[1;33m[\u001b[0m\u001b[0mpos_to_swap\u001b[0m\u001b[1;33m]\u001b[0m \u001b[1;33m=\u001b[0m \u001b[0mself\u001b[0m\u001b[1;33m.\u001b[0m\u001b[0mcells\u001b[0m\u001b[1;33m[\u001b[0m\u001b[0mpos\u001b[0m\u001b[1;33m]\u001b[0m \u001b[1;33m-\u001b[0m \u001b[0mbw\u001b[0m\u001b[1;33m\u001b[0m\u001b[1;33m\u001b[0m\u001b[0m\n\u001b[0;32m     74\u001b[0m \u001b[1;33m\u001b[0m\u001b[0m\n\u001b[1;32m---> 75\u001b[1;33m         \u001b[0mself\u001b[0m\u001b[1;33m.\u001b[0m\u001b[0mfitness\u001b[0m \u001b[1;33m=\u001b[0m \u001b[0mself\u001b[0m\u001b[1;33m.\u001b[0m\u001b[0mfunction\u001b[0m\u001b[1;33m.\u001b[0m\u001b[0mevaluate\u001b[0m\u001b[1;33m(\u001b[0m\u001b[0mself\u001b[0m\u001b[1;33m.\u001b[0m\u001b[0mcells\u001b[0m\u001b[1;33m)\u001b[0m\u001b[1;33m\u001b[0m\u001b[1;33m\u001b[0m\u001b[0m\n\u001b[0m\u001b[0;32m     76\u001b[0m \u001b[1;33m\u001b[0m\u001b[0m\n\u001b[0;32m     77\u001b[0m     \u001b[1;32mdef\u001b[0m \u001b[0m__str__\u001b[0m\u001b[1;33m(\u001b[0m\u001b[0mself\u001b[0m\u001b[1;33m)\u001b[0m\u001b[1;33m:\u001b[0m\u001b[1;33m\u001b[0m\u001b[1;33m\u001b[0m\u001b[0m\n",
      "\u001b[1;32m~\\AppData\\Local\\Temp\\ipykernel_33280\\2682112783.py\u001b[0m in \u001b[0;36mevaluate\u001b[1;34m(cells)\u001b[0m\n\u001b[0;32m      7\u001b[0m     \u001b[1;32mfor\u001b[0m \u001b[0mi\u001b[0m \u001b[1;32min\u001b[0m \u001b[0mrange\u001b[0m\u001b[1;33m(\u001b[0m\u001b[0mrows\u001b[0m\u001b[1;33m)\u001b[0m\u001b[1;33m:\u001b[0m\u001b[1;33m\u001b[0m\u001b[1;33m\u001b[0m\u001b[0m\n\u001b[0;32m      8\u001b[0m       \u001b[0mcurrent_row\u001b[0m \u001b[1;33m=\u001b[0m \u001b[0mdf_x\u001b[0m\u001b[1;33m[\u001b[0m\u001b[0mi\u001b[0m\u001b[1;33m]\u001b[0m\u001b[1;33m\u001b[0m\u001b[1;33m\u001b[0m\u001b[0m\n\u001b[1;32m----> 9\u001b[1;33m       \u001b[0mresta\u001b[0m \u001b[1;33m=\u001b[0m \u001b[0mcells\u001b[0m \u001b[1;33m*\u001b[0m \u001b[0mnp\u001b[0m\u001b[1;33m.\u001b[0m\u001b[0mpower\u001b[0m\u001b[1;33m(\u001b[0m\u001b[0mdf_x\u001b[0m \u001b[1;33m-\u001b[0m \u001b[0mcurrent_row\u001b[0m\u001b[1;33m,\u001b[0m \u001b[1;36m2\u001b[0m\u001b[1;33m)\u001b[0m\u001b[1;33m\u001b[0m\u001b[1;33m\u001b[0m\u001b[0m\n\u001b[0m\u001b[0;32m     10\u001b[0m       \u001b[0msuma_filas\u001b[0m \u001b[1;33m=\u001b[0m \u001b[0mresta\u001b[0m\u001b[1;33m.\u001b[0m\u001b[0msum\u001b[0m\u001b[1;33m(\u001b[0m\u001b[0maxis\u001b[0m\u001b[1;33m=\u001b[0m\u001b[1;36m1\u001b[0m\u001b[1;33m)\u001b[0m\u001b[1;33m\u001b[0m\u001b[1;33m\u001b[0m\u001b[0m\n\u001b[0;32m     11\u001b[0m       \u001b[0msuma_filas\u001b[0m \u001b[1;33m=\u001b[0m \u001b[0mnp\u001b[0m\u001b[1;33m.\u001b[0m\u001b[0msqrt\u001b[0m\u001b[1;33m(\u001b[0m\u001b[0msuma_filas\u001b[0m\u001b[1;33m)\u001b[0m\u001b[1;33m\u001b[0m\u001b[1;33m\u001b[0m\u001b[0m\n",
      "\u001b[1;31mKeyboardInterrupt\u001b[0m: "
     ]
    }
   ],
   "source": [
    "# d numero de atributos\n",
    "d = 174\n",
    "f = definicion_pesos()\n",
    "max_efos = 30000\n",
    "bw = 1/d/20\n",
    "seed = 42\n",
    "swaps = 5\n",
    "sa = SA(max_efos=max_efos, bandwidth=bw, swaps=swaps)\n",
    "print(sa)\n",
    "start_timer = time.time()\n",
    "curve = sa.evolve(seed=seed, d=d, f=f)\n",
    "end_timer = time.time()\n",
    "print(\"Elapsed time: \", end_timer - start_timer)\n",
    "best = sa.best\n",
    "print(best.fitness)\n",
    "plot_convergence_curve(curve, f, sa)"
   ]
  }
 ],
 "metadata": {
  "kernelspec": {
   "display_name": "base",
   "language": "python",
   "name": "python3"
  },
  "language_info": {
   "codemirror_mode": {
    "name": "ipython",
    "version": 3
   },
   "file_extension": ".py",
   "mimetype": "text/x-python",
   "name": "python",
   "nbconvert_exporter": "python",
   "pygments_lexer": "ipython3",
   "version": "3.9.13"
  }
 },
 "nbformat": 4,
 "nbformat_minor": 2
}
