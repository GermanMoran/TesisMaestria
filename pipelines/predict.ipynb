{
 "cells": [
  {
   "cell_type": "code",
   "execution_count": 68,
   "metadata": {},
   "outputs": [],
   "source": [
    "# Librerias y Dependencias\n",
    "# =================================================\n",
    "import sys\n",
    "import pandas as pd\n",
    "import numpy as np\n",
    "import joblib\n",
    "from sklearn.metrics import mean_absolute_error,max_error,mean_squared_error,r2_score,accuracy_score"
   ]
  },
  {
   "cell_type": "code",
   "execution_count": 2,
   "metadata": {},
   "outputs": [],
   "source": [
    "# Funcion para Normalizar la Vista minable a exepción de la etiqueta(Variable Objetivo)\n",
    "# df: es la matriz df.values [] , no incluye la etiqueta del grupo\n",
    "def NormalizeViewMinable(df,valMin, dataRange):\n",
    "    dataset_normalizado = np.empty((df.shape[0], df.shape[1]))\n",
    "    for i in range(df.shape[0]):\n",
    "        for j in range(df.shape[1]):\n",
    "            dataset_normalizado[i][j]= (df[i][j] - valMin[j])/dataRange[j]\n",
    "\n",
    "    return dataset_normalizado\n",
    "\n",
    "\n",
    "\n",
    "\n",
    "\n",
    "def predictionTest(dataset_test_norm, df_norm, vector_pesos_optmizacion, final_datset_join):\n",
    "    df_groups_finally = df_norm.copy()\n",
    "    #minDep = sys.float_info.max\n",
    "    lista_grupos = []\n",
    "    print(\"Longitud dataset norm: \",dataset_test_norm.shape[0])\n",
    "    print(\"Vista minable : \",df_groups_finally.shape[0])\n",
    "    for z in range(int(dataset_test_norm.shape[0])):\n",
    "        #print(\"Registro de Validación : \", z)\n",
    "        minDep = sys.float_info.max\n",
    "        posMinDep = 0\n",
    "        #print(\"Minima Distancia: \", minDep)\n",
    "        for k in range(int(df_groups_finally.shape[0])):\n",
    "            ri = vector_pesos_optmizacion * np.power((dataset_test_norm[z]- df_groups_finally[k]),2) \n",
    "            dE = np.sum(ri)\n",
    "            if dE < minDep:\n",
    "                posMinDep = k\n",
    "                minDep=dE\n",
    "        \n",
    "        #print(\"zz, \" , z)\n",
    "        # Grupo seleccionado\n",
    "        print(f\"Minima Distancia, registro {z} \", minDep)\n",
    "        print(\"Posicion: \", posMinDep)\n",
    "        grupoSelected = int(final_datset_join.values[posMinDep][-1]) \n",
    "        lista_grupos.append(grupoSelected)\n",
    "        print(grupoSelected)\n",
    "        \n",
    "    \n",
    "    return lista_grupos\n",
    "\n",
    "\n",
    "\n",
    "def metricasPerformanceCLR(y_true, yhat):\n",
    "\n",
    "    R2 = r2_score(y_true, yhat)\n",
    "    MAE =  mean_absolute_error(y_true, yhat)\n",
    "    ME = max_error(y_true, yhat)\n",
    "    MSE = mean_squared_error(y_true, yhat)\n",
    "    print(\"Coeficiente de determinación : \", R2)\n",
    "    print(\"Error absoluto medio: \", MAE)\n",
    "    print(\"Maximo error residual: \", ME)\n",
    "    print(\"RMSE: \", MSE)\n"
   ]
  },
  {
   "cell_type": "code",
   "execution_count": 58,
   "metadata": {},
   "outputs": [
    {
     "name": "stdout",
     "output_type": "stream",
     "text": [
      "3\n"
     ]
    }
   ],
   "source": [
    "# 1. Conjunto de Test\n",
    "dataset_test = pd.read_csv(\"FASE2/dataset_test.csv\")\n",
    "\n",
    "# 2. Codificadores - Normalización \n",
    "valMin = np.loadtxt(\"FASE2/Encoder_ValMin.txt\")\n",
    "dataRange = np.loadtxt(\"FASE2/Encoder_dataRange.txt\")\n",
    "\n",
    "\n",
    "# 3. Vector de pesos mejor ajuste\n",
    "#vp = np.loadtxt(\"FASE2/bestFitnes.txt\")\n",
    "#vector_pesos = vp.flatten()\n",
    "\n",
    "vp = np.loadtxt(\"FASE2/bestSA.txt\")\n",
    "vector_pesos = vp.flatten()\n",
    "VP = vector_pesos[0:174]\n",
    "\n",
    "# 4. Vista minable de grupos de calidad \n",
    "final_dataset_join = pd.read_csv(\"FASE2/Final_dataset_join.csv\")\n",
    "dataset_validation = dataset_test.copy()\n",
    "dataset_validation = dataset_validation.drop([\"ID_LOTE\", \"RDT_AJUSTADO\"], axis=1)\n",
    "dataset_validation.head(5)\n",
    "\n",
    "# 5. cargue de los modelos\n",
    "lista_modelos = []\n",
    "for i in range(3):\n",
    "    model = joblib.load(f'FASE2/modelo_entrenado_{i}.pkl') # Carga del modelo.\n",
    "    lista_modelos.append(model)\n",
    "\n",
    "\n",
    "print(len(lista_modelos))\n"
   ]
  },
  {
   "cell_type": "code",
   "execution_count": 63,
   "metadata": {},
   "outputs": [
    {
     "data": {
      "text/plain": [
       "1.0003999999999997"
      ]
     },
     "execution_count": 63,
     "metadata": {},
     "output_type": "execute_result"
    }
   ],
   "source": [
    "sum(VP)"
   ]
  },
  {
   "cell_type": "code",
   "execution_count": 59,
   "metadata": {},
   "outputs": [
    {
     "name": "stdout",
     "output_type": "stream",
     "text": [
      "(759, 174)\n",
      "(40, 174)\n"
     ]
    }
   ],
   "source": [
    "#2.Normalizacion dataset | originaL con agrupaciones\n",
    "df_norm = NormalizeViewMinable(final_dataset_join.values[:,:-1],valMin, dataRange)\n",
    "print(df_norm.shape)\n",
    "\n",
    "\n",
    "# Normalización Conjunto de test\n",
    "dataset_test_norm = NormalizeViewMinable(dataset_validation.values[:,:], valMin, dataRange)\n",
    "print(dataset_test_norm.shape)\n"
   ]
  },
  {
   "cell_type": "code",
   "execution_count": 60,
   "metadata": {},
   "outputs": [
    {
     "name": "stdout",
     "output_type": "stream",
     "text": [
      "Predicciones modelo 0\n",
      "Predicciones modelo 1\n",
      "Predicciones modelo 2\n"
     ]
    }
   ],
   "source": [
    "# Predicciones para c/d grupo\n",
    "\n",
    "for m in range(len(lista_modelos)):\n",
    "    print(f\"Predicciones modelo {m}\")\n",
    "    psi_pred = []\n",
    "    for r in  range(len(dataset_validation)):\n",
    "        psi_predicho = lista_modelos[m].predict(dataset_validation.values[r].reshape(1,-1))\n",
    "        psi_pred.append(psi_predicho[0])\n",
    "\n",
    "    \n",
    "    np.savetxt(f'ResultadosImprovisacion/Comparaciones/predict_model_{m}.csv',psi_pred, delimiter=',')\n",
    "    psi_pred = []"
   ]
  },
  {
   "cell_type": "code",
   "execution_count": 61,
   "metadata": {},
   "outputs": [],
   "source": [
    "y_true = dataset_test.RDT_AJUSTADO\n",
    "np.savetxt(f'ResultadosImprovisacion/Comparaciones/y_true.csv',y_true, delimiter=',')"
   ]
  },
  {
   "cell_type": "code",
   "execution_count": 62,
   "metadata": {},
   "outputs": [
    {
     "name": "stdout",
     "output_type": "stream",
     "text": [
      "Longitud dataset norm:  40\n",
      "Vista minable :  759\n",
      "Minima Distancia, registro 0  0.005921243123010041\n",
      "Posicion:  5\n",
      "0\n",
      "Minima Distancia, registro 1  0.0022404957196595003\n",
      "Posicion:  255\n",
      "0\n",
      "Minima Distancia, registro 2  9.867203814801255e-05\n",
      "Posicion:  6\n",
      "0\n",
      "Minima Distancia, registro 3  0.0010228397341060463\n",
      "Posicion:  53\n",
      "0\n",
      "Minima Distancia, registro 4  0.014929225078573829\n",
      "Posicion:  475\n",
      "1\n",
      "Minima Distancia, registro 5  0.004299884595837439\n",
      "Posicion:  401\n",
      "1\n",
      "Minima Distancia, registro 6  0.002667689953011719\n",
      "Posicion:  193\n",
      "0\n",
      "Minima Distancia, registro 7  0.00308369163128942\n",
      "Posicion:  223\n",
      "0\n",
      "Minima Distancia, registro 8  0.008452360037730918\n",
      "Posicion:  412\n",
      "1\n",
      "Minima Distancia, registro 9  0.012266240173246727\n",
      "Posicion:  451\n",
      "1\n",
      "Minima Distancia, registro 10  0.003987062389285598\n",
      "Posicion:  740\n",
      "2\n",
      "Minima Distancia, registro 11  0.010565688245439594\n",
      "Posicion:  364\n",
      "1\n",
      "Minima Distancia, registro 12  0.006486915686620368\n",
      "Posicion:  501\n",
      "1\n",
      "Minima Distancia, registro 13  0.00022426813320288824\n",
      "Posicion:  54\n",
      "0\n",
      "Minima Distancia, registro 14  0.0008636331533400771\n",
      "Posicion:  757\n",
      "2\n",
      "Minima Distancia, registro 15  0.017496466594492846\n",
      "Posicion:  286\n",
      "1\n",
      "Minima Distancia, registro 16  0.015551134487587711\n",
      "Posicion:  562\n",
      "2\n",
      "Minima Distancia, registro 17  0.006454601480632821\n",
      "Posicion:  741\n",
      "2\n",
      "Minima Distancia, registro 18  0.022622539486103092\n",
      "Posicion:  373\n",
      "1\n",
      "Minima Distancia, registro 19  0.0019315951938894647\n",
      "Posicion:  625\n",
      "2\n",
      "Minima Distancia, registro 20  0.001336609843312739\n",
      "Posicion:  403\n",
      "1\n",
      "Minima Distancia, registro 21  0.012168299113212178\n",
      "Posicion:  733\n",
      "2\n",
      "Minima Distancia, registro 22  0.004068543468329538\n",
      "Posicion:  755\n",
      "2\n",
      "Minima Distancia, registro 23  0.009297939264096583\n",
      "Posicion:  217\n",
      "0\n",
      "Minima Distancia, registro 24  0.0008665839164755924\n",
      "Posicion:  507\n",
      "1\n",
      "Minima Distancia, registro 25  0.00249131854540421\n",
      "Posicion:  309\n",
      "1\n",
      "Minima Distancia, registro 26  0.03995423131343121\n",
      "Posicion:  460\n",
      "1\n",
      "Minima Distancia, registro 27  0.007300337378645945\n",
      "Posicion:  68\n",
      "0\n",
      "Minima Distancia, registro 28  0.01684780620101846\n",
      "Posicion:  660\n",
      "2\n",
      "Minima Distancia, registro 29  0.008800915078584898\n",
      "Posicion:  640\n",
      "2\n",
      "Minima Distancia, registro 30  0.0026581302969941292\n",
      "Posicion:  711\n",
      "2\n",
      "Minima Distancia, registro 31  0.00044824032841502497\n",
      "Posicion:  741\n",
      "2\n",
      "Minima Distancia, registro 32  5.036533683425721e-05\n",
      "Posicion:  616\n",
      "2\n",
      "Minima Distancia, registro 33  0.0012901999750244831\n",
      "Posicion:  85\n",
      "0\n",
      "Minima Distancia, registro 34  0.0031677381338499127\n",
      "Posicion:  529\n",
      "2\n",
      "Minima Distancia, registro 35  0.0033363271462503305\n",
      "Posicion:  216\n",
      "0\n",
      "Minima Distancia, registro 36  0.011817063473497093\n",
      "Posicion:  302\n",
      "1\n",
      "Minima Distancia, registro 37  0.004355500529782307\n",
      "Posicion:  403\n",
      "1\n",
      "Minima Distancia, registro 38  0.017823236921792766\n",
      "Posicion:  394\n",
      "1\n",
      "Minima Distancia, registro 39  0.0001420261873645804\n",
      "Posicion:  350\n",
      "1\n"
     ]
    }
   ],
   "source": [
    "#Lista de \n",
    "Grupos = predictionTest(dataset_test_norm, df_norm, VP, final_dataset_join)\n",
    "np.savetxt(f'ResultadosImprovisacion/Comparaciones/temp.csv',Grupos, delimiter=',')"
   ]
  },
  {
   "cell_type": "code",
   "execution_count": 65,
   "metadata": {},
   "outputs": [],
   "source": [
    "yreal =[0,\n",
    "1,\n",
    "0,\n",
    "1,\n",
    "1,\n",
    "1,\n",
    "0,\n",
    "0,\n",
    "1,\n",
    "2,\n",
    "2,\n",
    "2,\n",
    "2,\n",
    "2,\n",
    "2,\n",
    "1,\n",
    "2,\n",
    "2,\n",
    "0,\n",
    "2,\n",
    "2,\n",
    "1,\n",
    "2,\n",
    "1,\n",
    "2,\n",
    "0,\n",
    "2,\n",
    "1,\n",
    "1,\n",
    "2,\n",
    "0,\n",
    "2,\n",
    "1,\n",
    "0,\n",
    "2,\n",
    "2,\n",
    "2,\n",
    "1,\n",
    "0,\n",
    "0]\n"
   ]
  },
  {
   "cell_type": "code",
   "execution_count": 66,
   "metadata": {},
   "outputs": [],
   "source": [
    "y_sa = [0,0,0,0,1,1,0,0,1,1,2,1,1,0,2,1,2,2,1,2,1,2,2,0,1,1,1,0,2,2,2,2,2,0,2,0,1,1,1,1]\n"
   ]
  },
  {
   "cell_type": "code",
   "execution_count": 69,
   "metadata": {},
   "outputs": [
    {
     "data": {
      "text/plain": [
       "0.475"
      ]
     },
     "execution_count": 69,
     "metadata": {},
     "output_type": "execute_result"
    }
   ],
   "source": [
    "accuracy_score(yreal,y_sa)"
   ]
  }
 ],
 "metadata": {
  "kernelspec": {
   "display_name": "base",
   "language": "python",
   "name": "python3"
  },
  "language_info": {
   "codemirror_mode": {
    "name": "ipython",
    "version": 3
   },
   "file_extension": ".py",
   "mimetype": "text/x-python",
   "name": "python",
   "nbconvert_exporter": "python",
   "pygments_lexer": "ipython3",
   "version": "3.9.13"
  }
 },
 "nbformat": 4,
 "nbformat_minor": 2
}
