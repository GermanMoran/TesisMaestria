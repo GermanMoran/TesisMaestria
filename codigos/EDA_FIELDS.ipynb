{
 "cells": [
  {
   "attachments": {},
   "cell_type": "markdown",
   "metadata": {},
   "source": [
    "### ANALISIS EXPLORATORIO DE DATOS ARCHIVO FIELDS_3.CSV"
   ]
  },
  {
   "cell_type": "code",
   "execution_count": 1,
   "metadata": {},
   "outputs": [],
   "source": [
    "# Librerias o dependencias\n",
    "import pandas as pd\n",
    "import numpy as np"
   ]
  },
  {
   "cell_type": "code",
   "execution_count": 2,
   "metadata": {},
   "outputs": [
    {
     "name": "stdout",
     "output_type": "stream",
     "text": [
      "Longitud del datset:  (4004, 10)\n"
     ]
    },
    {
     "data": {
      "text/html": [
       "<div>\n",
       "<style scoped>\n",
       "    .dataframe tbody tr th:only-of-type {\n",
       "        vertical-align: middle;\n",
       "    }\n",
       "\n",
       "    .dataframe tbody tr th {\n",
       "        vertical-align: top;\n",
       "    }\n",
       "\n",
       "    .dataframe thead th {\n",
       "        text-align: right;\n",
       "    }\n",
       "</style>\n",
       "<table border=\"1\" class=\"dataframe\">\n",
       "  <thead>\n",
       "    <tr style=\"text-align: right;\">\n",
       "      <th></th>\n",
       "      <th>ID_PROD</th>\n",
       "      <th>ID_LOTE</th>\n",
       "      <th>ID_FINCA</th>\n",
       "      <th>NOMBRE_LOTE</th>\n",
       "      <th>TIPO_LOT</th>\n",
       "      <th>LATITUD_LOT</th>\n",
       "      <th>LONGITUD_LOT</th>\n",
       "      <th>ALTURA_LOT</th>\n",
       "      <th>AREA_LOT</th>\n",
       "      <th>NOMBRE_MUN</th>\n",
       "    </tr>\n",
       "  </thead>\n",
       "  <tbody>\n",
       "    <tr>\n",
       "      <th>0</th>\n",
       "      <td>1398</td>\n",
       "      <td>1425</td>\n",
       "      <td>1296</td>\n",
       "      <td>LA ESMERALDA</td>\n",
       "      <td>3</td>\n",
       "      <td>6.616889</td>\n",
       "      <td>-73.101306</td>\n",
       "      <td>1638</td>\n",
       "      <td>1.50</td>\n",
       "      <td>CURITÍ</td>\n",
       "    </tr>\n",
       "    <tr>\n",
       "      <th>1</th>\n",
       "      <td>1438</td>\n",
       "      <td>1489</td>\n",
       "      <td>1336</td>\n",
       "      <td>LOTE 2</td>\n",
       "      <td>3</td>\n",
       "      <td>6.605944</td>\n",
       "      <td>-73.091944</td>\n",
       "      <td>1637</td>\n",
       "      <td>0.75</td>\n",
       "      <td>CURITÍ</td>\n",
       "    </tr>\n",
       "    <tr>\n",
       "      <th>2</th>\n",
       "      <td>951</td>\n",
       "      <td>861</td>\n",
       "      <td>821</td>\n",
       "      <td>EL PEDREGAL</td>\n",
       "      <td>3</td>\n",
       "      <td>6.641540</td>\n",
       "      <td>-73.064260</td>\n",
       "      <td>1694</td>\n",
       "      <td>1.00</td>\n",
       "      <td>CURITÍ</td>\n",
       "    </tr>\n",
       "    <tr>\n",
       "      <th>3</th>\n",
       "      <td>922</td>\n",
       "      <td>826</td>\n",
       "      <td>790</td>\n",
       "      <td>ACONCAGUA</td>\n",
       "      <td>3</td>\n",
       "      <td>6.666102</td>\n",
       "      <td>-73.063755</td>\n",
       "      <td>1728</td>\n",
       "      <td>1.00</td>\n",
       "      <td>CURITÍ</td>\n",
       "    </tr>\n",
       "    <tr>\n",
       "      <th>4</th>\n",
       "      <td>1034</td>\n",
       "      <td>914</td>\n",
       "      <td>902</td>\n",
       "      <td>LA BASTILLA</td>\n",
       "      <td>3</td>\n",
       "      <td>6.635283</td>\n",
       "      <td>-73.087317</td>\n",
       "      <td>1852</td>\n",
       "      <td>0.75</td>\n",
       "      <td>CURITÍ</td>\n",
       "    </tr>\n",
       "  </tbody>\n",
       "</table>\n",
       "</div>"
      ],
      "text/plain": [
       "   ID_PROD  ID_LOTE  ID_FINCA   NOMBRE_LOTE  TIPO_LOT  LATITUD_LOT  \\\n",
       "0     1398     1425      1296  LA ESMERALDA         3     6.616889   \n",
       "1     1438     1489      1336        LOTE 2         3     6.605944   \n",
       "2      951      861       821   EL PEDREGAL         3     6.641540   \n",
       "3      922      826       790     ACONCAGUA         3     6.666102   \n",
       "4     1034      914       902   LA BASTILLA         3     6.635283   \n",
       "\n",
       "   LONGITUD_LOT  ALTURA_LOT  AREA_LOT NOMBRE_MUN  \n",
       "0    -73.101306        1638      1.50     CURITÍ  \n",
       "1    -73.091944        1637      0.75     CURITÍ  \n",
       "2    -73.064260        1694      1.00     CURITÍ  \n",
       "3    -73.063755        1728      1.00     CURITÍ  \n",
       "4    -73.087317        1852      0.75     CURITÍ  "
      ]
     },
     "execution_count": 2,
     "metadata": {},
     "output_type": "execute_result"
    }
   ],
   "source": [
    "# Lectura del archivo\n",
    "fields = pd.read_csv(\"../Datos/Fields_3.csv\")\n",
    "print(\"Longitud del datset: \",fields.shape)\n",
    "fields.head(5)"
   ]
  },
  {
   "cell_type": "code",
   "execution_count": 5,
   "metadata": {},
   "outputs": [
    {
     "name": "stdout",
     "output_type": "stream",
     "text": [
      "<class 'pandas.core.frame.DataFrame'>\n",
      "RangeIndex: 4004 entries, 0 to 4003\n",
      "Data columns (total 10 columns):\n",
      " #   Column        Non-Null Count  Dtype  \n",
      "---  ------        --------------  -----  \n",
      " 0   ID_PROD       4004 non-null   int64  \n",
      " 1   ID_LOTE       4004 non-null   int64  \n",
      " 2   ID_FINCA      4004 non-null   int64  \n",
      " 3   NOMBRE_LOTE   3948 non-null   object \n",
      " 4   TIPO_LOT      4004 non-null   int64  \n",
      " 5   LATITUD_LOT   4004 non-null   float64\n",
      " 6   LONGITUD_LOT  4004 non-null   float64\n",
      " 7   ALTURA_LOT    4004 non-null   int64  \n",
      " 8   AREA_LOT      4004 non-null   float64\n",
      " 9   NOMBRE_MUN    4004 non-null   object \n",
      "dtypes: float64(3), int64(5), object(2)\n",
      "memory usage: 312.9+ KB\n"
     ]
    }
   ],
   "source": [
    "# Información basica del dataset\n",
    "fields.info()"
   ]
  },
  {
   "cell_type": "code",
   "execution_count": 6,
   "metadata": {},
   "outputs": [
    {
     "data": {
      "text/plain": [
       "ID_PROD          0\n",
       "ID_LOTE          0\n",
       "ID_FINCA         0\n",
       "NOMBRE_LOTE     56\n",
       "TIPO_LOT         0\n",
       "LATITUD_LOT      0\n",
       "LONGITUD_LOT     0\n",
       "ALTURA_LOT       0\n",
       "AREA_LOT         0\n",
       "NOMBRE_MUN       0\n",
       "dtype: int64"
      ]
     },
     "execution_count": 6,
     "metadata": {},
     "output_type": "execute_result"
    }
   ],
   "source": [
    "# Cantidad de nulos y valores faltantes en c/u de las columnas\n",
    "fields.isnull().sum()"
   ]
  },
  {
   "attachments": {},
   "cell_type": "markdown",
   "metadata": {},
   "source": [
    "*Nota* La mayoria de los valores de cada una de las columnas tiene la infromación completa por consiguiente, se a decidido mantener todo el conjunto de datos."
   ]
  },
  {
   "cell_type": "code",
   "execution_count": null,
   "metadata": {},
   "outputs": [],
   "source": []
  }
 ],
 "metadata": {
  "kernelspec": {
   "display_name": "base",
   "language": "python",
   "name": "python3"
  },
  "language_info": {
   "codemirror_mode": {
    "name": "ipython",
    "version": 3
   },
   "file_extension": ".py",
   "mimetype": "text/x-python",
   "name": "python",
   "nbconvert_exporter": "python",
   "pygments_lexer": "ipython3",
   "version": "3.8.8"
  },
  "orig_nbformat": 4,
  "vscode": {
   "interpreter": {
    "hash": "ad2bdc8ecc057115af97d19610ffacc2b4e99fae6737bb82f5d7fb13d2f2c186"
   }
  }
 },
 "nbformat": 4,
 "nbformat_minor": 2
}
