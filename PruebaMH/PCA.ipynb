{
 "cells": [
  {
   "cell_type": "code",
   "execution_count": 2,
   "metadata": {},
   "outputs": [],
   "source": [
    "from sklearn.decomposition import PCA\n",
    "from sklearn.tree import DecisionTreeClassifier\n",
    "from sklearn.datasets import load_iris\n",
    "import pandas as pd\n",
    "from sklearn.model_selection import train_test_split\n",
    "from sklearn.metrics import classification_report"
   ]
  },
  {
   "cell_type": "code",
   "execution_count": 17,
   "metadata": {},
   "outputs": [],
   "source": [
    "df = pd.read_csv(\"DataOpt/Final_dataset_join.csv\")\n",
    "df_test = pd.read_csv(\"DataOpt/dataset_test.csv\")\n",
    "df.head()\n",
    "X= df.values[:,:-1]\n",
    "Y= df.values[:,-1]\n",
    "X_test= df.values[:,:-1]\n"
   ]
  },
  {
   "cell_type": "code",
   "execution_count": 29,
   "metadata": {},
   "outputs": [
    {
     "name": "stdout",
     "output_type": "stream",
     "text": [
      "              precision    recall  f1-score   support\n",
      "\n",
      "     class 0       0.33      0.37      0.35        52\n",
      "     class 1       0.35      0.30      0.32        50\n",
      "     class 2       0.23      0.24      0.24        50\n",
      "\n",
      "    accuracy                           0.30       152\n",
      "   macro avg       0.30      0.30      0.30       152\n",
      "weighted avg       0.30      0.30      0.30       152\n",
      "\n"
     ]
    }
   ],
   "source": [
    "# Transformamos y ajustamos los datos\n",
    "# initiate PCA and classifier\n",
    "X_train, X_test, y_train, y_test = train_test_split(X, Y, test_size=0.2, random_state=0)\n",
    "\n",
    "# Inclusion PCA\n",
    "pca = PCA(n_components=50)\n",
    "classifier = DecisionTreeClassifier()\n",
    "X_transformed = pca.fit_transform(X_train)\n",
    "classifier.fit(X_transformed, y_train)\n",
    "\n",
    "# Prediccion conjunto de test\n",
    "newdata_transformed = pca.transform(X_test)\n",
    "# predict labels using the trained classifier\n",
    "pred_labels = classifier.predict(newdata_transformed)\n",
    "\n",
    "# Evaluación del modelo\n",
    "target_names = ['class 0', 'class 1', 'class 2']\n",
    "print(classification_report(y_test, pred_labels, target_names=target_names))"
   ]
  },
  {
   "cell_type": "code",
   "execution_count": 23,
   "metadata": {},
   "outputs": [
    {
     "data": {
      "text/plain": [
       "array([1., 2., 3., 3., 1., 3., 2., 2., 3., 3., 2., 1., 2., 3., 1., 3., 2.,\n",
       "       2., 3., 3., 2., 3., 1., 2., 1., 1., 3., 2., 1., 2., 2., 2., 2., 1.,\n",
       "       3., 1., 3., 2., 2., 2., 3., 3., 2., 3., 1., 1., 1., 3., 3., 2., 1.,\n",
       "       1., 1., 2., 1., 1., 3., 1., 1., 3., 1., 3., 1., 3., 1., 1., 3., 2.,\n",
       "       2., 1., 2., 1., 3., 1., 2., 2., 1., 3., 3., 1., 1., 2., 3., 3., 1.,\n",
       "       2., 3., 3., 2., 2., 1., 1., 3., 2., 2., 3., 3., 2., 3., 1., 3., 3.,\n",
       "       2., 1., 3., 3., 2., 1., 3., 3., 1., 1., 3., 1., 3., 2., 3., 2., 1.,\n",
       "       2., 3., 2., 1., 1., 1., 3., 3., 1., 3., 3., 1., 1., 3., 2., 3., 1.,\n",
       "       3., 2., 2., 3., 3., 3., 3., 2., 1., 3., 2., 3., 1., 3., 2., 3.])"
      ]
     },
     "execution_count": 23,
     "metadata": {},
     "output_type": "execute_result"
    }
   ],
   "source": [
    "pred_labels"
   ]
  },
  {
   "cell_type": "code",
   "execution_count": null,
   "metadata": {},
   "outputs": [],
   "source": []
  }
 ],
 "metadata": {
  "kernelspec": {
   "display_name": "base",
   "language": "python",
   "name": "python3"
  },
  "language_info": {
   "codemirror_mode": {
    "name": "ipython",
    "version": 3
   },
   "file_extension": ".py",
   "mimetype": "text/x-python",
   "name": "python",
   "nbconvert_exporter": "python",
   "pygments_lexer": "ipython3",
   "version": "3.9.13"
  }
 },
 "nbformat": 4,
 "nbformat_minor": 2
}
