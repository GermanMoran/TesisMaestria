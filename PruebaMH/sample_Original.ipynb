{
 "cells": [
  {
   "cell_type": "code",
   "execution_count": 1,
   "metadata": {},
   "outputs": [],
   "source": [
    "import numpy as np\n",
    "import pandas as pd\n",
    "import seaborn as sns\n",
    "import matplotlib.pyplot as plt\n",
    "from sklearn.preprocessing import MinMaxScaler\n",
    "import sys\n",
    "import random\n",
    "from sklearn.metrics import accuracy_score\n",
    "from sklearn.model_selection import train_test_split\n",
    "from sklearn.metrics import confusion_matrix\n"
   ]
  },
  {
   "cell_type": "code",
   "execution_count": 52,
   "metadata": {},
   "outputs": [],
   "source": [
    "df = pd.read_csv(\"DataOpt/Final_join_prueba.csv\")\n",
    "df_original = pd.read_csv(\"DataOpt/Final_dataset_join.csv\")"
   ]
  },
  {
   "cell_type": "code",
   "execution_count": 306,
   "metadata": {},
   "outputs": [],
   "source": [
    "dff = pd.read_excel(\"../Archivos Generados/DatasetFinalPrueba.xlsx\")"
   ]
  },
  {
   "cell_type": "code",
   "execution_count": 5,
   "metadata": {},
   "outputs": [],
   "source": [
    "# Funciones\n",
    "\n",
    "# Funcion para Normalizar la Vista minable a exepción de la etiqueta(Variable Objetivo)\n",
    "def EncoderViewMinable(df):\n",
    "    new_dataset = df\n",
    "    norm = MinMaxScaler()\n",
    "    norm = norm.fit(new_dataset.values[:,:])\n",
    "    valMin = norm.data_min_\n",
    "    valMax = norm.data_max_\n",
    "    dataRange = norm.data_range_\n",
    "    #df_norm = norm.fit_transform(df.values[:,:-1])\n",
    "\n",
    "    return [valMin, valMax, dataRange]\n",
    "\n",
    "\n",
    "\n",
    "\n",
    "'''\n",
    "Funcion para generar el vector de pesos aleatorio.\n",
    "Entradas:\n",
    "w: Vector de pesos w [0,1], igual al numero de caracteristicas normalizadas.\n",
    "nc: Nunero de ceros que debe contener el vector de pesos [10,20,30,40,50]\n",
    "'''\n",
    "\n",
    "\n",
    "def GenerateWeightVector(w, nc):\n",
    "    posceros = np.random.choice(len(w), nc, replace=False)\n",
    "    w[posceros] = 0\n",
    "    s  = np.sum(w)\n",
    "    wf = w/s\n",
    "    return wf\n",
    "\n",
    "\n",
    "\n",
    "\n",
    "# Funcion para Normalizar la Vista minable a exepción de la etiqueta(Variable Objetivo)\n",
    "# df: es la matriz df.values [] , no incluye la etiqueta del grupo\n",
    "def NormalizeViewMinable(df,valMin, dataRange):\n",
    "    dataset_normalizado = np.empty((df.shape[0], df.shape[1]))\n",
    "    for i in range(df.shape[0]):\n",
    "        for j in range(df.shape[1]):\n",
    "            dataset_normalizado[i][j]= (df[i][j] - valMin[j])/dataRange[j]\n",
    "\n",
    "    return dataset_normalizado"
   ]
  },
  {
   "cell_type": "code",
   "execution_count": 53,
   "metadata": {},
   "outputs": [
    {
     "name": "stdout",
     "output_type": "stream",
     "text": [
      "Encoder:  174\n",
      "[[0.26666667 0.3559322  0.64179104 ... 0.         1.         0.        ]\n",
      " [0.33333333 0.3559322  0.3880597  ... 0.         1.         0.        ]\n",
      " [0.26666667 0.33898305 0.47761194 ... 0.         1.         0.        ]\n",
      " ...\n",
      " [0.33333333 0.33898305 0.6119403  ... 0.         1.         0.        ]\n",
      " [0.26666667 0.37288136 0.55223881 ... 0.         1.         0.        ]\n",
      " [0.33333333 0.3559322  0.40298507 ... 0.         1.         0.        ]]\n"
     ]
    }
   ],
   "source": [
    "#Lectura de los Encoders\n",
    "valMin = np.loadtxt('DataOpt/Encoder_ValMin.txt')\n",
    "print(\"Encoder: \", len(valMin))\n",
    "dataRange = np.loadtxt('DataOpt/Encoder_dataRange.txt')\n",
    "\n",
    "#2. Normalizamos los datos\n",
    "df_normalizado = NormalizeViewMinable(df.values[:, :-1],valMin, dataRange)\n",
    "print(df_normalizado)\n",
    "# Normalizo datos df original\n",
    "df_norm_org =  NormalizeViewMinable(df_original.values[:, :-1],valMin, dataRange)"
   ]
  },
  {
   "cell_type": "code",
   "execution_count": 16,
   "metadata": {},
   "outputs": [
    {
     "data": {
      "text/plain": [
       "array([[0.26666667, 0.3559322 , 0.64179104, ..., 0.        , 1.        ,\n",
       "        0.        ],\n",
       "       [0.33333333, 0.3559322 , 0.3880597 , ..., 0.        , 1.        ,\n",
       "        0.        ],\n",
       "       [0.26666667, 0.33898305, 0.47761194, ..., 0.        , 1.        ,\n",
       "        0.        ],\n",
       "       ...,\n",
       "       [0.33333333, 0.33898305, 0.6119403 , ..., 0.        , 1.        ,\n",
       "        0.        ],\n",
       "       [0.26666667, 0.37288136, 0.55223881, ..., 0.        , 1.        ,\n",
       "        0.        ],\n",
       "       [0.33333333, 0.3559322 , 0.40298507, ..., 0.        , 1.        ,\n",
       "        0.        ]])"
      ]
     },
     "execution_count": 16,
     "metadata": {},
     "output_type": "execute_result"
    }
   ],
   "source": [
    "df_normalizado"
   ]
  },
  {
   "cell_type": "code",
   "execution_count": 54,
   "metadata": {},
   "outputs": [
    {
     "name": "stdout",
     "output_type": "stream",
     "text": [
      "Vector de pesos Original:  [0.75034319 0.28783376 0.49497162 0.1862116  0.18839952 0.43584121\n",
      " 0.73859222 0.52658426 0.88668322 0.8309088  0.03160544 0.56841904\n",
      " 0.60916126 0.96157514 0.02323663 0.53110377 0.20478136 0.05366291\n",
      " 0.58748852 0.77260414 0.77486545 0.03028841 0.4069464  0.04450963\n",
      " 0.24783865 0.1928807  0.21518258 0.33911841 0.27741804 0.96227991\n",
      " 0.35240712 0.89417252 0.18104167 0.76374687 0.06134554 0.46276123\n",
      " 0.00551044 0.81029076 0.95048604 0.03510737 0.93384636 0.77385389\n",
      " 0.35886158 0.90887655 0.29625727 0.40929531 0.09671126 0.65693896\n",
      " 0.02960083 0.48490528 0.68319185 0.8212376  0.14994139 0.75409037\n",
      " 0.71907702 0.55957053 0.5846446  0.09127072 0.60047104 0.38152221\n",
      " 0.86758085 0.31309888 0.57659508 0.4265714  0.87626194 0.25391667\n",
      " 0.07880236 0.74865572 0.41289662 0.58909836 0.02638933 0.95210979\n",
      " 0.87761838 0.6238679  0.01702984 0.37797647 0.97879654 0.68133036\n",
      " 0.16098786 0.46059675 0.96673774 0.53470817 0.02461453 0.61977208\n",
      " 0.27121653 0.09884595 0.40290844 0.5585231  0.01704072 0.55904681\n",
      " 0.51120315 0.79390838 0.42354982 0.55345043 0.7420093  0.89714587\n",
      " 0.38003458 0.6016335  0.6946109  0.04327068 0.80076051 0.37743019\n",
      " 0.67023894 0.47166407 0.70233914 0.72433098 0.19157101 0.66217423\n",
      " 0.85132344 0.2355672  0.75818347 0.63382511 0.95512603 0.26024658\n",
      " 0.15427778 0.31212102 0.25795878 0.75683276 0.7331093  0.6696849\n",
      " 0.21637911 0.86180681 0.95657156 0.53160582 0.64937273 0.5006921\n",
      " 0.28355772 0.2861476  0.31342052 0.19085    0.90192363 0.85839813\n",
      " 0.46163936 0.36725141 0.93907836 0.22237347 0.55354196 0.05449816\n",
      " 0.1912022  0.60402693 0.66218365 0.58099582 0.86960142 0.99340522\n",
      " 0.76386184 0.46509178 0.83393467 0.12038739 0.6832707  0.51833779\n",
      " 0.17806589 0.97293362 0.33843742 0.61542341 0.87859424 0.50668884\n",
      " 0.11513785 0.81873908 0.35321377 0.98306687 0.88382545 0.85344933\n",
      " 0.35625318 0.75712978 0.98632906 0.52632161 0.47073215 0.01466582\n",
      " 0.70020377 0.85847757 0.24745719 0.31502458 0.50067702 0.07208016]\n",
      "Suma vector de Pesos:  1.0000000000000002\n"
     ]
    }
   ],
   "source": [
    "# 3 Generar vector de pesos\n",
    "#np.random.seed(0)\n",
    "vp = np.random.rand(174)\n",
    "print(\"Vector de pesos Original: \", vp)\n",
    "wi = GenerateWeightVector(vp, 0)\n",
    "#print(wi)\n",
    "print(\"Suma vector de Pesos: \", sum(wi))"
   ]
  },
  {
   "cell_type": "code",
   "execution_count": 60,
   "metadata": {},
   "outputs": [],
   "source": [
    "def qualityFunction(df_norm, wi,df,k):\n",
    "    #print(\"longitud df_norm: \",len(df_norm))\n",
    "    #print(\"Longitud wi: \", len(wi))\n",
    "    y_pred = []\n",
    "    for i in range(len(df_norm)):\n",
    "        vrf = df_norm[i]\n",
    "        print(f\"Vector {i} :\", vrf) \n",
    "        ListaPesosPonderados= [[sys.float_info.max,0] for a in range(k)]\n",
    "        for j in range(len(df_norm)):\n",
    "            if i != j:\n",
    "                print(ListaPesosPonderados)\n",
    "                ri = wi* np.power((df_norm[j] - vrf), 2)\n",
    "                dE = np.sum(ri)\n",
    "                print(\"Distancia Euclideana: \", dE)\n",
    "                if dE < ListaPesosPonderados[k-1][0]:\n",
    "                    ListaPesosPonderados[k-1][0]=dE\n",
    "                    ListaPesosPonderados[k-1][1]=j\n",
    "                    ListaPesosPonderados.sort(key=lambda x: x[0], reverse=False)\n",
    "        print(f\"vector {i} es muy similar a los vectores en la posición {ListaPesosPonderados}\")\n",
    "\n",
    "        grupos = []\n",
    "        for i in range(len(ListaPesosPonderados)):\n",
    "            index=ListaPesosPonderados[i][1]\n",
    "            g = df.values[index][-1]\n",
    "            grupos.append(g)\n",
    "        \n",
    "        print(\"Grupos asociados: \", grupos)\n",
    "        grupoSelected = int(pd.Series(grupos).value_counts().index[0])\n",
    "        print(\"Grupo seleccionado: \", grupoSelected)\n",
    "        y_pred.append(grupoSelected)\n",
    "    qs = accuracy_score(df.values[:,-1], y_pred)\n",
    "    #mc = confusion_matrix(df.values[:,-1], y_pred)\n",
    "    #print(\"Matriz de Confusión: \", mc)\n",
    "\n",
    "    return [qs, y_pred]\n",
    "\n",
    "\n",
    "\n",
    "def qualityFunctionOriginal(df_norm, wi,df):\n",
    "    #print(\"longitud df_norm: \",len(df_norm))\n",
    "    #print(\"Longitud wi: \", len(wi))\n",
    "    y_pred = []\n",
    "    for i in range(len(df_norm)):\n",
    "        posMinDep = 0\n",
    "        minDep = sys.float_info.max \n",
    "        vrf = df_norm[i]\n",
    "        #print(f\"vercor {i}: {vrf}\")\n",
    "        \n",
    "        for j in range(len(df_norm)):\n",
    "            if i != j:\n",
    "                ri = wi* np.power((vrf- df_norm[j]), 2)   \n",
    "                dE = np.sqrt(np.sum(ri))\n",
    "                #print(\"dis: \",dE)\n",
    "                if dE < minDep:\n",
    "                    posMinDep=j\n",
    "                    minDep = dE\n",
    "        #print(posMinDep)\n",
    "        grupo=df.values[posMinDep][-1]\n",
    "        #print(\"Grupo: \", grupo)\n",
    "        y_pred.append(grupo)\n",
    "        #print(f\"Posición {posMinDep} y distancia {minDep} hasta el momento\")\n",
    "    qs = accuracy_score(df.values[:,-1], y_pred)\n",
    "    return [qs, y_pred]\n"
   ]
  },
  {
   "cell_type": "code",
   "execution_count": 91,
   "metadata": {},
   "outputs": [
    {
     "name": "stdout",
     "output_type": "stream",
     "text": [
      "Suma vector de Pesos:  0.9999999999999998\n",
      "0.37812911725955206\n",
      "Suma vector de Pesos:  1.0\n",
      "0.3662714097496706\n",
      "Suma vector de Pesos:  1.0000000000000004\n",
      "0.3702239789196311\n",
      "Suma vector de Pesos:  1.0000000000000004\n",
      "0.36495388669301715\n",
      "Suma vector de Pesos:  0.9999999999999999\n",
      "0.38866930171277997\n",
      "Suma vector de Pesos:  0.9999999999999996\n",
      "0.3662714097496706\n",
      "Suma vector de Pesos:  0.9999999999999996\n",
      "0.3675889328063241\n",
      "Suma vector de Pesos:  1.0000000000000002\n",
      "0.3544137022397892\n",
      "Suma vector de Pesos:  0.9999999999999996\n",
      "0.3438735177865613\n",
      "Suma vector de Pesos:  0.9999999999999996\n",
      "0.3557312252964427\n",
      "Suma vector de Pesos:  1.0000000000000007\n",
      "0.37417654808959155\n",
      "Suma vector de Pesos:  1.0\n",
      "0.3794466403162055\n",
      "Suma vector de Pesos:  1.0000000000000002\n",
      "0.37417654808959155\n",
      "Suma vector de Pesos:  1.0\n",
      "0.38866930171277997\n",
      "Suma vector de Pesos:  0.9999999999999997\n",
      "0.3715415019762846\n",
      "Suma vector de Pesos:  0.9999999999999999\n",
      "0.37285902503293805\n",
      "Suma vector de Pesos:  0.9999999999999998\n",
      "0.3715415019762846\n",
      "Suma vector de Pesos:  1.0000000000000002\n",
      "0.36363636363636365\n",
      "Suma vector de Pesos:  1.0000000000000009\n",
      "0.37285902503293805\n",
      "Suma vector de Pesos:  1.0\n",
      "0.35177865612648224\n",
      "Suma vector de Pesos:  1.0000000000000004\n",
      "0.3715415019762846\n",
      "Suma vector de Pesos:  1.0\n",
      "0.37681159420289856\n",
      "Suma vector de Pesos:  1.0000000000000002\n",
      "0.3544137022397892\n",
      "Suma vector de Pesos:  1.0\n",
      "0.37417654808959155\n",
      "Suma vector de Pesos:  0.9999999999999999\n",
      "0.3820816864295125\n",
      "Suma vector de Pesos:  0.9999999999999998\n",
      "0.3675889328063241\n",
      "Suma vector de Pesos:  1.0000000000000002\n",
      "0.3926218708827404\n",
      "Suma vector de Pesos:  1.0\n",
      "0.3530961791831357\n",
      "Suma vector de Pesos:  0.9999999999999997\n",
      "0.35177865612648224\n",
      "Suma vector de Pesos:  1.0000000000000004\n",
      "0.36231884057971014\n",
      "Suma vector de Pesos:  1.0000000000000002\n",
      "0.3689064558629776\n",
      "Suma vector de Pesos:  0.9999999999999998\n",
      "0.36363636363636365\n",
      "Suma vector de Pesos:  1.0\n",
      "0.36363636363636365\n",
      "Suma vector de Pesos:  1.0000000000000002\n",
      "0.34782608695652173\n",
      "Suma vector de Pesos:  1.0000000000000004\n",
      "0.3675889328063241\n",
      "Suma vector de Pesos:  1.0000000000000002\n",
      "0.35177865612648224\n",
      "Suma vector de Pesos:  0.9999999999999994\n",
      "0.3530961791831357\n",
      "Suma vector de Pesos:  1.0000000000000002\n",
      "0.3689064558629776\n",
      "Suma vector de Pesos:  0.9999999999999998\n",
      "0.34914361001317523\n",
      "Suma vector de Pesos:  0.9999999999999999\n",
      "0.3715415019762846\n",
      "Suma vector de Pesos:  0.9999999999999998\n",
      "0.36100131752305664\n",
      "Suma vector de Pesos:  0.9999999999999996\n",
      "0.3662714097496706\n",
      "Suma vector de Pesos:  0.9999999999999998\n",
      "0.37417654808959155\n",
      "Suma vector de Pesos:  1.0000000000000002\n",
      "0.37549407114624506\n",
      "Suma vector de Pesos:  1.0000000000000007\n",
      "0.37417654808959155\n",
      "Suma vector de Pesos:  0.9999999999999997\n",
      "0.36495388669301715\n",
      "Suma vector de Pesos:  1.0\n",
      "0.3689064558629776\n",
      "Suma vector de Pesos:  1.0000000000000004\n",
      "0.33201581027667987\n",
      "Suma vector de Pesos:  1.0000000000000002\n",
      "0.3451910408432148\n",
      "Suma vector de Pesos:  1.0000000000000002\n",
      "0.36100131752305664\n",
      "Suma vector de Pesos:  1.0\n",
      "0.3438735177865613\n",
      "Suma vector de Pesos:  0.9999999999999999\n",
      "0.3689064558629776\n",
      "Suma vector de Pesos:  1.0000000000000002\n",
      "0.3702239789196311\n",
      "Suma vector de Pesos:  0.9999999999999996\n",
      "0.34782608695652173\n",
      "Suma vector de Pesos:  1.0000000000000007\n",
      "0.3544137022397892\n",
      "Suma vector de Pesos:  1.0000000000000002\n",
      "0.36231884057971014\n",
      "Suma vector de Pesos:  1.0000000000000002\n",
      "0.36495388669301715\n",
      "Suma vector de Pesos:  0.9999999999999998\n",
      "0.35177865612648224\n",
      "Suma vector de Pesos:  1.0\n",
      "0.3662714097496706\n",
      "Suma vector de Pesos:  0.9999999999999999\n",
      "0.37417654808959155\n",
      "Suma vector de Pesos:  1.0\n",
      "0.37285902503293805\n",
      "Suma vector de Pesos:  1.0000000000000004\n",
      "0.38735177865612647\n",
      "Suma vector de Pesos:  0.9999999999999997\n",
      "0.35046113306982873\n",
      "Suma vector de Pesos:  1.0000000000000002\n",
      "0.3675889328063241\n",
      "Suma vector de Pesos:  0.9999999999999999\n",
      "0.3675889328063241\n",
      "Suma vector de Pesos:  1.0\n",
      "0.38866930171277997\n",
      "Suma vector de Pesos:  1.0000000000000004\n",
      "0.383399209486166\n",
      "Suma vector de Pesos:  1.0000000000000007\n",
      "0.36100131752305664\n",
      "Suma vector de Pesos:  0.9999999999999999\n",
      "0.38735177865612647\n",
      "Suma vector de Pesos:  1.0000000000000002\n",
      "0.36363636363636365\n",
      "Suma vector de Pesos:  0.9999999999999998\n",
      "0.380764163372859\n",
      "Suma vector de Pesos:  1.0\n",
      "0.36100131752305664\n",
      "Suma vector de Pesos:  1.0000000000000004\n",
      "0.3530961791831357\n",
      "Suma vector de Pesos:  0.9999999999999999\n",
      "0.35968379446640314\n",
      "Suma vector de Pesos:  0.9999999999999996\n",
      "0.3689064558629776\n",
      "Suma vector de Pesos:  1.0\n",
      "0.3715415019762846\n",
      "Suma vector de Pesos:  0.9999999999999999\n",
      "0.34914361001317523\n",
      "Suma vector de Pesos:  0.9999999999999993\n",
      "0.37549407114624506\n",
      "Suma vector de Pesos:  1.0\n",
      "0.35968379446640314\n",
      "Suma vector de Pesos:  0.9999999999999997\n",
      "0.3530961791831357\n",
      "Suma vector de Pesos:  1.0000000000000004\n",
      "0.3570487483530962\n",
      "Suma vector de Pesos:  1.0000000000000002\n",
      "0.36100131752305664\n",
      "Suma vector de Pesos:  1.0\n",
      "0.3557312252964427\n",
      "Suma vector de Pesos:  0.9999999999999994\n",
      "0.38866930171277997\n",
      "Suma vector de Pesos:  0.9999999999999996\n",
      "0.3675889328063241\n",
      "Suma vector de Pesos:  1.0000000000000002\n",
      "0.37417654808959155\n",
      "Suma vector de Pesos:  0.9999999999999993\n",
      "0.3359683794466403\n",
      "Suma vector de Pesos:  0.9999999999999999\n",
      "0.3702239789196311\n",
      "Suma vector de Pesos:  1.0000000000000002\n",
      "0.3715415019762846\n",
      "Suma vector de Pesos:  1.0\n",
      "0.33992094861660077\n",
      "Suma vector de Pesos:  0.9999999999999996\n",
      "0.380764163372859\n",
      "Suma vector de Pesos:  1.0000000000000004\n",
      "0.37549407114624506\n",
      "Suma vector de Pesos:  1.0000000000000002\n",
      "0.3926218708827404\n",
      "Suma vector de Pesos:  0.9999999999999999\n",
      "0.37417654808959155\n",
      "Suma vector de Pesos:  1.0\n",
      "0.37549407114624506\n",
      "Suma vector de Pesos:  1.0\n",
      "0.3702239789196311\n",
      "Suma vector de Pesos:  1.0000000000000002\n",
      "0.36363636363636365\n",
      "Suma vector de Pesos:  0.9999999999999998\n",
      "0.3662714097496706\n",
      "Suma vector de Pesos:  0.9999999999999997\n",
      "0.3702239789196311\n",
      "Suma vector de Pesos:  1.0\n",
      "0.34914361001317523\n",
      "Suma vector de Pesos:  1.0\n",
      "0.3544137022397892\n",
      "Suma vector de Pesos:  1.0000000000000002\n",
      "0.36100131752305664\n",
      "Suma vector de Pesos:  1.0000000000000004\n",
      "0.37417654808959155\n",
      "Suma vector de Pesos:  0.9999999999999997\n",
      "0.3557312252964427\n",
      "Suma vector de Pesos:  0.9999999999999997\n",
      "0.34782608695652173\n",
      "Suma vector de Pesos:  0.9999999999999997\n",
      "0.3544137022397892\n",
      "Suma vector de Pesos:  1.0000000000000002\n",
      "0.3570487483530962\n",
      "Suma vector de Pesos:  1.0\n",
      "0.36495388669301715\n",
      "Suma vector de Pesos:  1.0000000000000007\n",
      "0.37549407114624506\n",
      "Suma vector de Pesos:  0.9999999999999998\n",
      "0.38735177865612647\n",
      "Suma vector de Pesos:  1.0\n",
      "0.3530961791831357\n",
      "Suma vector de Pesos:  1.0000000000000004\n",
      "0.3544137022397892\n",
      "Suma vector de Pesos:  1.0\n",
      "0.35968379446640314\n",
      "Suma vector de Pesos:  1.0000000000000002\n",
      "0.391304347826087\n",
      "Suma vector de Pesos:  0.9999999999999998\n",
      "0.37549407114624506\n",
      "Suma vector de Pesos:  1.0\n",
      "0.35046113306982873\n",
      "Suma vector de Pesos:  1.0\n",
      "0.35046113306982873\n",
      "Suma vector de Pesos:  1.0000000000000004\n",
      "0.36231884057971014\n",
      "Suma vector de Pesos:  0.9999999999999998\n",
      "0.35046113306982873\n",
      "Suma vector de Pesos:  0.9999999999999998\n",
      "0.3926218708827404\n",
      "Suma vector de Pesos:  1.0\n",
      "0.3820816864295125\n",
      "Suma vector de Pesos:  1.0000000000000002\n",
      "0.37285902503293805\n",
      "Suma vector de Pesos:  1.0000000000000004\n",
      "0.36363636363636365\n",
      "Suma vector de Pesos:  0.9999999999999997\n",
      "0.37681159420289856\n",
      "Suma vector de Pesos:  1.0\n",
      "0.36495388669301715\n",
      "Suma vector de Pesos:  0.9999999999999999\n",
      "0.37285902503293805\n",
      "Suma vector de Pesos:  0.9999999999999998\n",
      "0.36231884057971014\n",
      "Suma vector de Pesos:  1.0\n",
      "0.36231884057971014\n",
      "Suma vector de Pesos:  1.0000000000000002\n",
      "0.3715415019762846\n",
      "Suma vector de Pesos:  1.0000000000000002\n",
      "0.3715415019762846\n",
      "Suma vector de Pesos:  1.0000000000000002\n",
      "0.36363636363636365\n",
      "Suma vector de Pesos:  1.0\n",
      "0.3675889328063241\n",
      "Suma vector de Pesos:  1.0\n",
      "0.3702239789196311\n",
      "Suma vector de Pesos:  0.9999999999999997\n",
      "0.35177865612648224\n",
      "Suma vector de Pesos:  0.9999999999999993\n",
      "0.36495388669301715\n",
      "Suma vector de Pesos:  0.9999999999999993\n",
      "0.35968379446640314\n",
      "Suma vector de Pesos:  1.0000000000000004\n",
      "0.36231884057971014\n",
      "Suma vector de Pesos:  0.9999999999999998\n",
      "0.3847167325428195\n",
      "Suma vector de Pesos:  1.0\n",
      "0.36495388669301715\n",
      "Suma vector de Pesos:  0.9999999999999998\n",
      "0.37417654808959155\n",
      "Suma vector de Pesos:  1.0000000000000002\n",
      "0.35968379446640314\n",
      "Suma vector de Pesos:  1.0\n",
      "0.37285902503293805\n",
      "Suma vector de Pesos:  1.0000000000000004\n",
      "0.3583662714097497\n",
      "Suma vector de Pesos:  1.0\n",
      "0.37417654808959155\n",
      "Suma vector de Pesos:  1.0\n",
      "0.36495388669301715\n",
      "Suma vector de Pesos:  1.0000000000000002\n",
      "0.3689064558629776\n",
      "Suma vector de Pesos:  0.9999999999999999\n",
      "0.380764163372859\n",
      "Suma vector de Pesos:  0.9999999999999998\n",
      "0.3662714097496706\n",
      "Suma vector de Pesos:  0.9999999999999997\n",
      "0.36231884057971014\n",
      "Suma vector de Pesos:  0.9999999999999998\n",
      "0.35968379446640314\n",
      "Suma vector de Pesos:  1.0\n",
      "0.3557312252964427\n",
      "Suma vector de Pesos:  1.0000000000000002\n",
      "0.36100131752305664\n",
      "Suma vector de Pesos:  0.9999999999999992\n",
      "0.35968379446640314\n",
      "Suma vector de Pesos:  1.000000000000001\n",
      "0.34914361001317523\n",
      "Suma vector de Pesos:  0.9999999999999997\n",
      "0.36495388669301715\n",
      "Suma vector de Pesos:  1.0000000000000002\n",
      "0.36495388669301715\n",
      "Suma vector de Pesos:  1.0\n",
      "0.3662714097496706\n",
      "Suma vector de Pesos:  1.0000000000000002\n",
      "0.3557312252964427\n",
      "Suma vector de Pesos:  0.9999999999999999\n",
      "0.3465085638998682\n",
      "Suma vector de Pesos:  0.9999999999999999\n",
      "0.380764163372859\n",
      "Suma vector de Pesos:  1.0\n",
      "0.37417654808959155\n",
      "Suma vector de Pesos:  0.9999999999999997\n",
      "0.3675889328063241\n",
      "Suma vector de Pesos:  1.0\n",
      "0.3530961791831357\n",
      "Suma vector de Pesos:  0.9999999999999997\n",
      "0.37417654808959155\n",
      "Suma vector de Pesos:  1.0000000000000002\n",
      "0.3820816864295125\n",
      "Suma vector de Pesos:  0.9999999999999997\n",
      "0.3557312252964427\n",
      "Suma vector de Pesos:  1.0\n",
      "0.380764163372859\n",
      "Suma vector de Pesos:  1.0\n",
      "0.38603425559947296\n",
      "Suma vector de Pesos:  1.0000000000000002\n",
      "0.37549407114624506\n",
      "Suma vector de Pesos:  0.9999999999999996\n",
      "0.34782608695652173\n",
      "Suma vector de Pesos:  0.9999999999999998\n",
      "0.3662714097496706\n",
      "Suma vector de Pesos:  0.9999999999999998\n",
      "0.37285902503293805\n",
      "Suma vector de Pesos:  0.9999999999999998\n",
      "0.35968379446640314\n",
      "Suma vector de Pesos:  1.0000000000000002\n",
      "0.33201581027667987\n",
      "Suma vector de Pesos:  1.0\n",
      "0.3847167325428195\n",
      "Suma vector de Pesos:  0.9999999999999994\n",
      "0.380764163372859\n",
      "Suma vector de Pesos:  1.0\n",
      "0.3689064558629776\n",
      "Suma vector de Pesos:  0.9999999999999997\n",
      "0.36363636363636365\n",
      "Suma vector de Pesos:  0.9999999999999997\n",
      "0.3794466403162055\n",
      "Suma vector de Pesos:  1.0000000000000004\n",
      "0.35177865612648224\n",
      "Suma vector de Pesos:  1.0000000000000002\n",
      "0.3544137022397892\n",
      "Suma vector de Pesos:  0.9999999999999999\n",
      "0.37812911725955206\n",
      "Suma vector de Pesos:  1.0000000000000004\n",
      "0.36100131752305664\n",
      "Suma vector de Pesos:  0.9999999999999994\n",
      "0.3715415019762846\n",
      "Suma vector de Pesos:  0.9999999999999997\n",
      "0.36495388669301715\n",
      "Suma vector de Pesos:  0.9999999999999999\n",
      "0.36363636363636365\n",
      "Suma vector de Pesos:  1.0000000000000002\n",
      "0.3689064558629776\n",
      "Suma vector de Pesos:  1.0000000000000004\n",
      "0.35968379446640314\n",
      "Suma vector de Pesos:  1.0000000000000002\n",
      "0.3689064558629776\n",
      "Suma vector de Pesos:  1.0000000000000007\n",
      "0.3583662714097497\n",
      "Suma vector de Pesos:  0.9999999999999996\n",
      "0.3702239789196311\n",
      "Suma vector de Pesos:  1.0000000000000004\n",
      "0.3675889328063241\n",
      "Suma vector de Pesos:  1.0000000000000004\n",
      "0.36363636363636365\n",
      "Suma vector de Pesos:  1.0\n",
      "0.3689064558629776\n",
      "Suma vector de Pesos:  1.0\n",
      "0.36495388669301715\n",
      "Suma vector de Pesos:  0.9999999999999999\n",
      "0.35968379446640314\n",
      "Suma vector de Pesos:  1.0000000000000002\n",
      "0.37549407114624506\n",
      "Suma vector de Pesos:  0.9999999999999996\n",
      "0.3451910408432148\n",
      "Suma vector de Pesos:  1.0\n",
      "0.3702239789196311\n",
      "Suma vector de Pesos:  1.0000000000000002\n",
      "0.3583662714097497\n",
      "Suma vector de Pesos:  1.0\n",
      "0.3675889328063241\n",
      "Suma vector de Pesos:  1.0\n",
      "0.383399209486166\n",
      "Suma vector de Pesos:  1.0\n",
      "0.3425559947299078\n",
      "Suma vector de Pesos:  0.9999999999999997\n",
      "0.3214756258234519\n",
      "Suma vector de Pesos:  0.9999999999999996\n",
      "0.3662714097496706\n",
      "Suma vector de Pesos:  0.9999999999999997\n",
      "0.35968379446640314\n",
      "Suma vector de Pesos:  1.0\n",
      "0.3425559947299078\n",
      "Suma vector de Pesos:  1.0000000000000002\n",
      "0.3820816864295125\n",
      "Suma vector de Pesos:  1.0\n",
      "0.34782608695652173\n",
      "Suma vector de Pesos:  1.0000000000000004\n",
      "0.38866930171277997\n",
      "Suma vector de Pesos:  0.9999999999999998\n",
      "0.3662714097496706\n",
      "Suma vector de Pesos:  1.0000000000000002\n",
      "0.35046113306982873\n",
      "Suma vector de Pesos:  1.0000000000000002\n",
      "0.38998682476943347\n",
      "Suma vector de Pesos:  1.0000000000000002\n",
      "0.3689064558629776\n",
      "Suma vector de Pesos:  0.9999999999999997\n",
      "0.37812911725955206\n",
      "Suma vector de Pesos:  1.0\n",
      "0.37812911725955206\n",
      "Suma vector de Pesos:  0.9999999999999999\n",
      "0.36363636363636365\n",
      "Suma vector de Pesos:  0.9999999999999999\n",
      "0.36100131752305664\n",
      "Suma vector de Pesos:  1.0000000000000002\n",
      "0.3530961791831357\n",
      "Suma vector de Pesos:  1.0\n",
      "0.37812911725955206\n",
      "Suma vector de Pesos:  1.0000000000000004\n",
      "0.3702239789196311\n",
      "Suma vector de Pesos:  1.0000000000000004\n",
      "0.3715415019762846\n",
      "Suma vector de Pesos:  1.0\n",
      "0.3583662714097497\n",
      "Suma vector de Pesos:  1.0\n",
      "0.3675889328063241\n",
      "Suma vector de Pesos:  0.9999999999999998\n",
      "0.3820816864295125\n",
      "Suma vector de Pesos:  1.0000000000000002\n",
      "0.3557312252964427\n",
      "Suma vector de Pesos:  0.9999999999999997\n",
      "0.36495388669301715\n",
      "Suma vector de Pesos:  1.0000000000000004\n",
      "0.3689064558629776\n",
      "Suma vector de Pesos:  0.9999999999999998\n",
      "0.3702239789196311\n",
      "Suma vector de Pesos:  1.0000000000000004\n",
      "0.3570487483530962\n",
      "Suma vector de Pesos:  1.0000000000000002\n",
      "0.37681159420289856\n",
      "Suma vector de Pesos:  1.0\n",
      "0.35046113306982873\n",
      "Suma vector de Pesos:  1.0000000000000007\n",
      "0.3702239789196311\n",
      "Suma vector de Pesos:  0.9999999999999999\n"
     ]
    },
    {
     "ename": "KeyboardInterrupt",
     "evalue": "",
     "output_type": "error",
     "traceback": [
      "\u001b[1;31m---------------------------------------------------------------------------\u001b[0m",
      "\u001b[1;31mKeyboardInterrupt\u001b[0m                         Traceback (most recent call last)",
      "\u001b[1;32m~\\AppData\\Local\\Temp\\ipykernel_3252\\1790639958.py\u001b[0m in \u001b[0;36m<module>\u001b[1;34m\u001b[0m\n\u001b[0;32m      7\u001b[0m     \u001b[0mwi\u001b[0m \u001b[1;33m=\u001b[0m \u001b[0mGenerateWeightVector\u001b[0m\u001b[1;33m(\u001b[0m\u001b[0mvp\u001b[0m\u001b[1;33m,\u001b[0m \u001b[1;36m0\u001b[0m\u001b[1;33m)\u001b[0m\u001b[1;33m\u001b[0m\u001b[1;33m\u001b[0m\u001b[0m\n\u001b[0;32m      8\u001b[0m     \u001b[0mprint\u001b[0m\u001b[1;33m(\u001b[0m\u001b[1;34m\"Suma vector de Pesos: \"\u001b[0m\u001b[1;33m,\u001b[0m \u001b[0msum\u001b[0m\u001b[1;33m(\u001b[0m\u001b[0mwi\u001b[0m\u001b[1;33m)\u001b[0m\u001b[1;33m)\u001b[0m\u001b[1;33m\u001b[0m\u001b[1;33m\u001b[0m\u001b[0m\n\u001b[1;32m----> 9\u001b[1;33m     \u001b[0mcalidad\u001b[0m \u001b[1;33m=\u001b[0m \u001b[0mqualityFunctionOriginal\u001b[0m\u001b[1;33m(\u001b[0m\u001b[0mdf_norm_org\u001b[0m\u001b[1;33m,\u001b[0m \u001b[0mwi\u001b[0m\u001b[1;33m,\u001b[0m\u001b[0mdf_original\u001b[0m\u001b[1;33m)\u001b[0m\u001b[1;33m\u001b[0m\u001b[1;33m\u001b[0m\u001b[0m\n\u001b[0m\u001b[0;32m     10\u001b[0m     \u001b[0mprint\u001b[0m\u001b[1;33m(\u001b[0m\u001b[0mcalidad\u001b[0m\u001b[1;33m[\u001b[0m\u001b[1;36m0\u001b[0m\u001b[1;33m]\u001b[0m\u001b[1;33m)\u001b[0m\u001b[1;33m\u001b[0m\u001b[1;33m\u001b[0m\u001b[0m\n\u001b[0;32m     11\u001b[0m     \u001b[1;32mif\u001b[0m \u001b[0mcalidad\u001b[0m\u001b[1;33m[\u001b[0m\u001b[1;36m0\u001b[0m\u001b[1;33m]\u001b[0m \u001b[1;33m>\u001b[0m \u001b[0mbest_calidad\u001b[0m\u001b[1;33m:\u001b[0m\u001b[1;33m\u001b[0m\u001b[1;33m\u001b[0m\u001b[0m\n",
      "\u001b[1;32m~\\AppData\\Local\\Temp\\ipykernel_3252\\3074167760.py\u001b[0m in \u001b[0;36mqualityFunctionOriginal\u001b[1;34m(df_norm, wi, df)\u001b[0m\n\u001b[0;32m     50\u001b[0m             \u001b[1;32mif\u001b[0m \u001b[0mi\u001b[0m \u001b[1;33m!=\u001b[0m \u001b[0mj\u001b[0m\u001b[1;33m:\u001b[0m\u001b[1;33m\u001b[0m\u001b[1;33m\u001b[0m\u001b[0m\n\u001b[0;32m     51\u001b[0m                 \u001b[0mri\u001b[0m \u001b[1;33m=\u001b[0m \u001b[0mwi\u001b[0m\u001b[1;33m*\u001b[0m \u001b[0mnp\u001b[0m\u001b[1;33m.\u001b[0m\u001b[0mpower\u001b[0m\u001b[1;33m(\u001b[0m\u001b[1;33m(\u001b[0m\u001b[0mvrf\u001b[0m\u001b[1;33m-\u001b[0m \u001b[0mdf_norm\u001b[0m\u001b[1;33m[\u001b[0m\u001b[0mj\u001b[0m\u001b[1;33m]\u001b[0m\u001b[1;33m)\u001b[0m\u001b[1;33m,\u001b[0m \u001b[1;36m2\u001b[0m\u001b[1;33m)\u001b[0m\u001b[1;33m\u001b[0m\u001b[1;33m\u001b[0m\u001b[0m\n\u001b[1;32m---> 52\u001b[1;33m                 \u001b[0mdE\u001b[0m \u001b[1;33m=\u001b[0m \u001b[0mnp\u001b[0m\u001b[1;33m.\u001b[0m\u001b[0msqrt\u001b[0m\u001b[1;33m(\u001b[0m\u001b[0mnp\u001b[0m\u001b[1;33m.\u001b[0m\u001b[0msum\u001b[0m\u001b[1;33m(\u001b[0m\u001b[0mri\u001b[0m\u001b[1;33m)\u001b[0m\u001b[1;33m)\u001b[0m\u001b[1;33m\u001b[0m\u001b[1;33m\u001b[0m\u001b[0m\n\u001b[0m\u001b[0;32m     53\u001b[0m                 \u001b[1;31m#print(\"dis: \",dE)\u001b[0m\u001b[1;33m\u001b[0m\u001b[1;33m\u001b[0m\u001b[0m\n\u001b[0;32m     54\u001b[0m                 \u001b[1;32mif\u001b[0m \u001b[0mdE\u001b[0m \u001b[1;33m<\u001b[0m \u001b[0mminDep\u001b[0m\u001b[1;33m:\u001b[0m\u001b[1;33m\u001b[0m\u001b[1;33m\u001b[0m\u001b[0m\n",
      "\u001b[1;32m<__array_function__ internals>\u001b[0m in \u001b[0;36msum\u001b[1;34m(*args, **kwargs)\u001b[0m\n",
      "\u001b[1;32mc:\\ProgramData\\Anaconda3\\lib\\site-packages\\numpy\\core\\fromnumeric.py\u001b[0m in \u001b[0;36msum\u001b[1;34m(a, axis, dtype, out, keepdims, initial, where)\u001b[0m\n\u001b[0;32m   2257\u001b[0m         \u001b[1;32mreturn\u001b[0m \u001b[0mres\u001b[0m\u001b[1;33m\u001b[0m\u001b[1;33m\u001b[0m\u001b[0m\n\u001b[0;32m   2258\u001b[0m \u001b[1;33m\u001b[0m\u001b[0m\n\u001b[1;32m-> 2259\u001b[1;33m     return _wrapreduction(a, np.add, 'sum', axis, dtype, out, keepdims=keepdims,\n\u001b[0m\u001b[0;32m   2260\u001b[0m                           initial=initial, where=where)\n\u001b[0;32m   2261\u001b[0m \u001b[1;33m\u001b[0m\u001b[0m\n",
      "\u001b[1;32mc:\\ProgramData\\Anaconda3\\lib\\site-packages\\numpy\\core\\fromnumeric.py\u001b[0m in \u001b[0;36m_wrapreduction\u001b[1;34m(obj, ufunc, method, axis, dtype, out, **kwargs)\u001b[0m\n\u001b[0;32m     84\u001b[0m                 \u001b[1;32mreturn\u001b[0m \u001b[0mreduction\u001b[0m\u001b[1;33m(\u001b[0m\u001b[0maxis\u001b[0m\u001b[1;33m=\u001b[0m\u001b[0maxis\u001b[0m\u001b[1;33m,\u001b[0m \u001b[0mout\u001b[0m\u001b[1;33m=\u001b[0m\u001b[0mout\u001b[0m\u001b[1;33m,\u001b[0m \u001b[1;33m**\u001b[0m\u001b[0mpasskwargs\u001b[0m\u001b[1;33m)\u001b[0m\u001b[1;33m\u001b[0m\u001b[1;33m\u001b[0m\u001b[0m\n\u001b[0;32m     85\u001b[0m \u001b[1;33m\u001b[0m\u001b[0m\n\u001b[1;32m---> 86\u001b[1;33m     \u001b[1;32mreturn\u001b[0m \u001b[0mufunc\u001b[0m\u001b[1;33m.\u001b[0m\u001b[0mreduce\u001b[0m\u001b[1;33m(\u001b[0m\u001b[0mobj\u001b[0m\u001b[1;33m,\u001b[0m \u001b[0maxis\u001b[0m\u001b[1;33m,\u001b[0m \u001b[0mdtype\u001b[0m\u001b[1;33m,\u001b[0m \u001b[0mout\u001b[0m\u001b[1;33m,\u001b[0m \u001b[1;33m**\u001b[0m\u001b[0mpasskwargs\u001b[0m\u001b[1;33m)\u001b[0m\u001b[1;33m\u001b[0m\u001b[1;33m\u001b[0m\u001b[0m\n\u001b[0m\u001b[0;32m     87\u001b[0m \u001b[1;33m\u001b[0m\u001b[0m\n\u001b[0;32m     88\u001b[0m \u001b[1;33m\u001b[0m\u001b[0m\n",
      "\u001b[1;31mKeyboardInterrupt\u001b[0m: "
     ]
    }
   ],
   "source": [
    "# 3 Generar vector de pesos\n",
    "#np.random.seed(0)\n",
    "\n",
    "best_calidad = 0\n",
    "for i in range(500):\n",
    "    vp = np.random.rand(174)\n",
    "    wi = GenerateWeightVector(vp, 0)\n",
    "    print(\"Suma vector de Pesos: \", sum(wi))\n",
    "    calidad = qualityFunctionOriginal(df_norm_org, wi,df_original)\n",
    "    print(calidad[0])\n",
    "    if calidad[0] > best_calidad:\n",
    "        best_calidad = calidad[0] "
   ]
  },
  {
   "cell_type": "code",
   "execution_count": 90,
   "metadata": {},
   "outputs": [
    {
     "data": {
      "text/plain": [
       "0.3715415019762846"
      ]
     },
     "execution_count": 90,
     "metadata": {},
     "output_type": "execute_result"
    }
   ],
   "source": [
    "best_calidad"
   ]
  },
  {
   "cell_type": "code",
   "execution_count": 84,
   "metadata": {},
   "outputs": [],
   "source": [
    "calidad = qualityFunctionOriginal(df_norm_org, wi,df_original)\n"
   ]
  },
  {
   "cell_type": "code",
   "execution_count": 86,
   "metadata": {},
   "outputs": [
    {
     "data": {
      "text/plain": [
       "0.3557312252964427"
      ]
     },
     "execution_count": 86,
     "metadata": {},
     "output_type": "execute_result"
    }
   ],
   "source": [
    "calidad[0]"
   ]
  },
  {
   "cell_type": "code",
   "execution_count": 21,
   "metadata": {},
   "outputs": [
    {
     "data": {
      "text/plain": [
       "0     0\n",
       "1     0\n",
       "2     0\n",
       "3     0\n",
       "4     0\n",
       "5     0\n",
       "6     0\n",
       "7     1\n",
       "8     1\n",
       "9     1\n",
       "10    1\n",
       "11    1\n",
       "12    1\n",
       "13    1\n",
       "14    1\n",
       "15    2\n",
       "16    2\n",
       "17    2\n",
       "18    2\n",
       "19    2\n",
       "20    2\n",
       "21    2\n",
       "22    2\n",
       "Name: Grupo, dtype: int64"
      ]
     },
     "execution_count": 21,
     "metadata": {},
     "output_type": "execute_result"
    }
   ],
   "source": [
    "df.Grupo"
   ]
  },
  {
   "cell_type": "code",
   "execution_count": null,
   "metadata": {},
   "outputs": [],
   "source": []
  },
  {
   "cell_type": "code",
   "execution_count": null,
   "metadata": {},
   "outputs": [],
   "source": []
  },
  {
   "cell_type": "code",
   "execution_count": 64,
   "metadata": {},
   "outputs": [],
   "source": [
    "from sklearn.cluster import KMeans\n",
    "from sklearn import metrics"
   ]
  },
  {
   "cell_type": "code",
   "execution_count": 66,
   "metadata": {},
   "outputs": [
    {
     "data": {
      "text/plain": [
       "array([[0.26666667, 0.3559322 , 0.64179104, ..., 0.        , 1.        ,\n",
       "        0.        ],\n",
       "       [0.33333333, 0.3559322 , 0.3880597 , ..., 0.        , 1.        ,\n",
       "        0.        ],\n",
       "       [0.26666667, 0.33898305, 0.47761194, ..., 0.        , 1.        ,\n",
       "        0.        ],\n",
       "       ...,\n",
       "       [0.33333333, 0.33898305, 0.6119403 , ..., 0.        , 1.        ,\n",
       "        0.        ],\n",
       "       [0.26666667, 0.37288136, 0.55223881, ..., 0.        , 1.        ,\n",
       "        0.        ],\n",
       "       [0.33333333, 0.3559322 , 0.40298507, ..., 0.        , 1.        ,\n",
       "        0.        ]])"
      ]
     },
     "execution_count": 66,
     "metadata": {},
     "output_type": "execute_result"
    }
   ],
   "source": [
    "label = df['Grupo']\n",
    "df_normalizado"
   ]
  },
  {
   "cell_type": "code",
   "execution_count": null,
   "metadata": {},
   "outputs": [],
   "source": []
  },
  {
   "cell_type": "code",
   "execution_count": null,
   "metadata": {},
   "outputs": [],
   "source": []
  },
  {
   "cell_type": "code",
   "execution_count": null,
   "metadata": {},
   "outputs": [],
   "source": []
  },
  {
   "cell_type": "code",
   "execution_count": null,
   "metadata": {},
   "outputs": [],
   "source": []
  },
  {
   "cell_type": "code",
   "execution_count": null,
   "metadata": {},
   "outputs": [],
   "source": []
  },
  {
   "cell_type": "code",
   "execution_count": null,
   "metadata": {},
   "outputs": [],
   "source": []
  },
  {
   "cell_type": "code",
   "execution_count": null,
   "metadata": {},
   "outputs": [],
   "source": []
  },
  {
   "cell_type": "code",
   "execution_count": null,
   "metadata": {},
   "outputs": [],
   "source": [
    "\n"
   ]
  },
  {
   "cell_type": "markdown",
   "metadata": {},
   "source": [
    "# PRUEBAS INTERVALOS DE CONFIANZA"
   ]
  },
  {
   "cell_type": "code",
   "execution_count": 1,
   "metadata": {},
   "outputs": [],
   "source": [
    "import pandas as pd\n",
    "import numpy as np\n",
    "from sklearn.linear_model import ElasticNet\n",
    "from sklearn.metrics import r2_score\n",
    "from sklearn.model_selection import cross_val_score\n",
    "from sklearn.model_selection import RepeatedKFold\n",
    "from sklearn.pipeline import Pipeline\n",
    "from sklearn.preprocessing import MinMaxScaler\n",
    "from sklearn.metrics import f1_score, accuracy_score\n",
    "from sklearn.metrics import mean_absolute_error,max_error,mean_squared_error\n",
    "from sklearn.metrics import mean_squared_error\n",
    "from sklearn.model_selection import train_test_split\n",
    "from sklearn.metrics import mean_squared_error\n",
    "from scipy import stats\n",
    "from sklearn.metrics import mean_squared_error\n",
    "import statsmodels.api as sm\n",
    "import statsmodels.regression.linear_model as linear_model\n",
    "from statsmodels.tools.tools import pinv_extended  \n",
    "from scipy import stats\n",
    "import joblib\n"
   ]
  },
  {
   "cell_type": "code",
   "execution_count": 2,
   "metadata": {},
   "outputs": [],
   "source": [
    "# Funciones\n",
    "# Funciones para el calculo de la regresion Lineal\n",
    "class LinearRegession():\n",
    "    def __init__(self, df, alpha, l1_ratio):\n",
    "        self.df = df\n",
    "        self.alpha = alpha\n",
    "        self.l1_ratio = l1_ratio\n",
    "    \n",
    "\n",
    "    def CalcularModeloLR(self):\n",
    "        # alpha=0.1, l1_ratio=0.97\n",
    "        Y = self.df.RDT_AJUSTADO.values\n",
    "        X = self.df.drop([\"RDT_AJUSTADO\",\"ID_LOTE\"], axis=1).values \n",
    "        modelElasticNet = ElasticNet(alpha=self.alpha, l1_ratio=self.l1_ratio, random_state=123)\n",
    "        model = modelElasticNet.fit(X,Y)\n",
    "        #r_2 = model.score(X,Y)\n",
    "        # Pedicciones\n",
    "        yhat = model.predict(X)\n",
    "        r_2 = r2_score(Y, yhat)\n",
    "    \n",
    "        \n",
    "        return [model, r_2, yhat]\n",
    "\n",
    "\n",
    "# Funciones para el calculo de la regresion Lineal\n",
    "class LinearRegessionv2():\n",
    "    def __init__(self, df, alpha, l1_ratio):\n",
    "        self.df = df\n",
    "        self.alpha = alpha\n",
    "        self.l1_ratio = l1_ratio\n",
    "    \n",
    "\n",
    "    def CalcularModeloLR(self):\n",
    "        # alpha=0.1, l1_ratio=0.97\n",
    "        Y = self.df.RDT_AJUSTADO.values\n",
    "        X = self.df.drop([\"RDT_AJUSTADO\",\"ID_LOTE\"], axis=1).values \n",
    "        modelElasticNet = ElasticNet(alpha=self.alpha, l1_ratio=self.l1_ratio, random_state=123)\n",
    "        model = modelElasticNet.fit(X,Y)\n",
    "        #r_2 = model.score(X,Y)\n",
    "        # Pedicciones\n",
    "        yhat = model.predict(X)\n",
    "        r_2 = r2_score(Y, yhat)\n",
    "        coef = model.coef_\n",
    "        intercep = model.intercept_\n",
    "        residuals = np.power((Y-yhat),2)\n",
    "        ssr = sum(residuals)\n",
    "\n",
    "        return  r_2, coef, intercep,ssr,residuals\n",
    "    \n",
    "\n",
    "# Funciones apra el calculo de los Intervalos de Confianza\n",
    "\"\"\"\n",
    "model: Modelo entrenado\n",
    "x: Valor a testear (X_test)\n",
    "varianza residual: \n",
    "\"\"\"\n",
    "def predict_with_confidence_intervals(model, X, residual_variance, confidence=0.95):\n",
    "    # Predicciones\n",
    "    preds = model.predict(X)\n",
    "\n",
    "    # Grados de libertad\n",
    "    n = X.shape[0]\n",
    "    print(\"n...\",n)\n",
    "    p = X.shape[1]\n",
    "    print(\"p....\",p)\n",
    "    df = n - p - 1\n",
    "\n",
    "    \n",
    "    # Error estándar de las predicciones\n",
    "    se_pred = np.sqrt(residual_variance * (1 + np.sum((X - np.mean(X, axis=0))**2 / np.var(X, axis=0), axis=1)))\n",
    "    print(\"Error Estandar\", se_pred)\n",
    "    # Valor crítico para el intervalo de confianza\n",
    "    t_value = stats.t.ppf((1 + confidence) / 2., df)\n",
    "    print(\"t_value: \", t_value)\n",
    "    # Intervalos de confianza\n",
    "    ci_upper = preds + t_value * se_pred\n",
    "    ci_lower = preds - t_value * se_pred\n",
    "\n",
    "    return preds, ci_lower, ci_upper\n",
    "\n",
    "\n",
    "def cargarGrupos():\n",
    "    # Cargamos los respectivos grupos\n",
    "    listaGruposDefinitivos = []\n",
    "    G0 = pd.read_excel(\"DataOpt/grupo_N0.xlsx\")\n",
    "    G1 = pd.read_excel(\"DataOpt/grupo_N1.xlsx\")\n",
    "    G2 = pd.read_excel(\"DataOpt/grupo_N2.xlsx\")\n",
    "\n",
    "    print(f\"Longitud G0: \",{len(G0)},\"longitud G1: \", {len(G1)} , \"Longitud G2: \", {len(G2)})\n",
    "\n",
    "    # Eliminamos clumnas\n",
    "    G0 = G0.drop([\"Unnamed: 0\"], axis=1)\n",
    "    G1 = G1.drop([\"Unnamed: 0\"], axis=1)\n",
    "    G2 = G2.drop([\"Unnamed: 0\"], axis=1)\n",
    "    listaGruposDefinitivos.append(G0)\n",
    "    listaGruposDefinitivos.append(G1)\n",
    "    listaGruposDefinitivos.append(G2)\n",
    "\n",
    "    return listaGruposDefinitivos\n",
    "\n",
    "\n",
    "# Funcion apra calcular la correlación de los grupos Finales\n",
    "def CalcularCorrelationInitial(gruposDefinitivos):\n",
    "    correlacionesIniciales=[]\n",
    "    for i in range(len(gruposDefinitivos)):\n",
    "        r_2 = LinearRegessionv2(gruposDefinitivos[i], 0.1, 0.97).CalcularModeloLR()\n",
    "        correlacionesIniciales.append(r_2)\n",
    "    \n",
    "    return correlacionesIniciales\n",
    "\n",
    "\n",
    "\n",
    "\n",
    "\n",
    "# test_clean: df sin rdt_ajustado y ID_LOTE\n",
    "def PredctionsModels(lista_modelos, test_clean):\n",
    "    predictions = []\n",
    "    for i in range(len(lista_modelos)):\n",
    "        psi_pred = []\n",
    "        print(\"Prediciones Modelo \", i)\n",
    "        for j in range(len(test_clean)):\n",
    "            pred = lista_modelos[i].predict(test_clean.values[j].reshape(1,-1))\n",
    "            psi_pred.append(pred[0])\n",
    "        \n",
    "        predictions.append(psi_pred)\n",
    "    #Lista de prediciones asociada c/modelo\n",
    "    return predictions\n",
    "\n",
    "\n",
    "# Funcion para Cargar modelos .PKL\n",
    "def CargueModelos():\n",
    "    lista_modelos = []\n",
    "    for i in range(3):\n",
    "        model = joblib.load(f'DataOpt/IC/modelo_ols_{i}.pkl') # Carga del modelo.\n",
    "        lista_modelos.append(model)\n",
    "    print(len(lista_modelos))\n",
    "    return lista_modelos\n",
    "\n",
    "\n",
    "def agregarPredicitions(test_original, predictions):\n",
    "    df0 = test_original.copy()\n",
    "    df1= test_original.copy()\n",
    "    df2 = test_original.copy()\n",
    "    df0.RDT_AJUSTADO = predictions[0]\n",
    "    df1.RDT_AJUSTADO = predictions[1]\n",
    "    df2.RDT_AJUSTADO = predictions[2]\n",
    "    list_dfs = list([df0,df1,df2])\n",
    "    return list_dfs"
   ]
  },
  {
   "cell_type": "code",
   "execution_count": 4,
   "metadata": {},
   "outputs": [],
   "source": [
    "def IntervalosConfianza(df_entrenamiento, df_testeo):\n",
    "    Y_train = df_entrenamiento.RDT_AJUSTADO.values\n",
    "    X_train= df_entrenamiento.drop([\"RDT_AJUSTADO\",\"ID_LOTE\"], axis=1).values\n",
    "    Y_test =df_testeo.RDT_AJUSTADO.values\n",
    "    X_test = df_testeo.drop([\"RDT_AJUSTADO\",\"ID_LOTE\"], axis=1).values\n",
    "     \n",
    "    # Agreago Constantes al modelo\n",
    "    X_train = sm.add_constant(X_train, prepend=True)\n",
    "    X_test = sm.add_constant(X_test, prepend=True)\n",
    "    model = sm.OLS(Y_train, X_train)\n",
    "    res= model.fit_regularized(method='elastic_net',alpha=0.1, L1_wt=0.97)\n",
    "    model_fit_regularized = model.fit(params=res.params)\n",
    "\n",
    "    #print(model_fit_regularized.summary())\n",
    "    #model_fit_regularized.conf_int(alpha=0.2)\n",
    "    #print(\"Inveralos Coeficientes: \", Intervalos)\n",
    "    predicciones = model_fit_regularized.predict(exog = X_test)\n",
    "    #print(\"prediciones: \", predicciones)\n",
    "\n",
    "    IC = model_fit_regularized.get_prediction(exog = X_test, )\n",
    "    Sumary_IC = IC.summary_frame(alpha=0.1)\n",
    "    Sumary_IC[\"Predicciones\"] = predicciones \n",
    "    df_summary = Sumary_IC[[\"mean_ci_lower\",\"mean_ci_upper\",\"Predicciones\"]]\n",
    "    #df_summary = Sumary_IC[[\"obs_ci_lower\",\"obs_ci_upper\",\"Predicciones\"]]\n",
    "\n",
    "    return df_summary\n",
    "\n",
    "\n",
    "# Funcion para calculas Intervalos Confianza N  grupos\n",
    "def calculoIntervalosConfianza(grupos_definitivos, test_original):\n",
    "    lista_df_IC = []\n",
    "    for i in range(len(grupos_definitivos)):\n",
    "        IC = IntervalosConfianza(grupos_definitivos[i],test_original)\n",
    "        lista_df_IC.append(IC)\n",
    "    return lista_df_IC\n",
    "\n",
    "\n",
    "# Funcion apra calcular los DF finales asociados asus respectivos IC\n",
    "lista_aux_var_ic = [\"mean_ci_lower\",\"mean_ci_upper\"]\n",
    "#lista_aux_var_ic = [\"obs_ci_lower\",\"obs_ci_upper\"]\n",
    "def DfWithConfidenceIntervals(listaIntervalosConfianza, test_original,lista_aux_var_ic):\n",
    "    lista_df_ic = []\n",
    "    for i in range(len(listaIntervalosConfianza)):\n",
    "        print(\"Grupo: \", i)\n",
    "        for j in range(len(lista_aux_var_ic)):\n",
    "            G_IC= test_original.copy()\n",
    "            G_IC[\"RDT_AJUSTADO\"] = listaIntervalosConfianza[i][lista_aux_var_ic[j]]\n",
    "            lista_df_ic.append([G_IC,i])\n",
    "    return lista_df_ic\n",
    "\n",
    "\n",
    "def GruposFinales(li):\n",
    "    lista_modificada = []\n",
    "    for i in range(len(li)):\n",
    "        if li[i] == 0:\n",
    "            lista_modificada.append(0)\n",
    "        if li[i] == 1:\n",
    "            lista_modificada.append(0)\n",
    "        if li[i] == 2:\n",
    "            lista_modificada.append(1)\n",
    "        if li[i] == 3:\n",
    "            lista_modificada.append(1)\n",
    "        if li[i] == 4:\n",
    "            lista_modificada.append(2)\n",
    "        if li[i] == 5:\n",
    "            lista_modificada.append(2)\n",
    "    return lista_modificada\n",
    "\n",
    "\n",
    "\n",
    "def LinearRegessionOLMS(df_entrenamiento):\n",
    "    Y = df_entrenamiento.RDT_AJUSTADO.values\n",
    "    X = df_entrenamiento.drop([\"RDT_AJUSTADO\",\"ID_LOTE\"], axis=1).values     \n",
    "    # Agreago Constantes al modelo\n",
    "    X_train = sm.add_constant(X, prepend=True)\n",
    "    model = sm.OLS(Y, X_train)\n",
    "    res= model.fit_regularized(method='elastic_net',alpha=0.1, L1_wt=0.97)\n",
    "    model_fit_regularized = model.fit(params=res.params)\n",
    "    r_2 = model_fit_regularized.rsquared\n",
    "    print(\"Nuevo r_2: \", r_2)\n",
    "    return r_2, model_fit_regularized\n",
    "\n",
    "\n",
    "def CalcularCorrelationInitialOLS(gruposDefinitivos):\n",
    "    correlacionesIniciales=[]\n",
    "    for i in range(len(gruposDefinitivos)):        \n",
    "        r_2, model = LinearRegessionOLMS(gruposDefinitivos[i])\n",
    "        # Guardo Correlacion \n",
    "        correlacionesIniciales.append(r_2)\n",
    "        # Gurado modelos\n",
    "        name_model = f'DataOpt/IC/modelo_ols_{i}.pkl'\n",
    "        joblib.dump(model,name_model) # Guardo el modelo.  \n",
    "    return correlacionesIniciales\n",
    "\n",
    "\n",
    "\n",
    "\n",
    "\n",
    "\n",
    "def metricasPerformanceCLR(y_true, yhat_test):\n",
    "    R2 = r2_score(y_true, yhat_test)\n",
    "    MAE =  mean_absolute_error(y_true, yhat_test)\n",
    "    ME = max_error(y_true, yhat_test)\n",
    "    MSE = mean_squared_error(y_true, yhat_test)\n",
    "    print(\"Coeficiente de determinación : \", R2)\n",
    "    print(\"Error absoluto medio: \", MAE)\n",
    "    print(\"Maximo error residual: \", ME)\n",
    "    print(\"RMSE: \", MSE)\n"
   ]
  },
  {
   "cell_type": "code",
   "execution_count": 5,
   "metadata": {},
   "outputs": [
    {
     "name": "stdout",
     "output_type": "stream",
     "text": [
      "Dimenciones conjunto de test:  (40, 174)\n"
     ]
    },
    {
     "data": {
      "text/html": [
       "<div>\n",
       "<style scoped>\n",
       "    .dataframe tbody tr th:only-of-type {\n",
       "        vertical-align: middle;\n",
       "    }\n",
       "\n",
       "    .dataframe tbody tr th {\n",
       "        vertical-align: top;\n",
       "    }\n",
       "\n",
       "    .dataframe thead th {\n",
       "        text-align: right;\n",
       "    }\n",
       "</style>\n",
       "<table border=\"1\" class=\"dataframe\">\n",
       "  <thead>\n",
       "    <tr style=\"text-align: right;\">\n",
       "      <th></th>\n",
       "      <th>DIAS_EN_EMERGER</th>\n",
       "      <th>DIAS_EN_EMERGER_A_FLORECER</th>\n",
       "      <th>DIAS_EN_FLORECER_A_COSECHAR</th>\n",
       "      <th>POBLACION_20DIAS_AJT</th>\n",
       "      <th>ALTURA_LOT</th>\n",
       "      <th>ContEnfQui_Emer_Flor</th>\n",
       "      <th>ContEnfQui_Flor_Cose</th>\n",
       "      <th>ContMalMec_Siem_Emer</th>\n",
       "      <th>ContMalMec_Emer_Flor</th>\n",
       "      <th>ContMalMec_Flor_Cose</th>\n",
       "      <th>...</th>\n",
       "      <th>CAP_ENDURE_RASTA</th>\n",
       "      <th>MOTEADOS_RASTA</th>\n",
       "      <th>MOTEADOS_MAS70cm._RASTA</th>\n",
       "      <th>OBSERVA_EROSION_RASTA</th>\n",
       "      <th>OBSERVA_MOHO_RASTA</th>\n",
       "      <th>OBSERVA_RAICES_VIVAS_RASTA</th>\n",
       "      <th>OBSERVA_HOJARASCA_MO_RASTA</th>\n",
       "      <th>SUELO_NEGRO_BLANDO_RASTA</th>\n",
       "      <th>CUCHILLO_PRIMER_HTE_RASTA</th>\n",
       "      <th>CERCA_RIOS_QUEBRADAS_RASTA</th>\n",
       "    </tr>\n",
       "  </thead>\n",
       "  <tbody>\n",
       "    <tr>\n",
       "      <th>0</th>\n",
       "      <td>4</td>\n",
       "      <td>47</td>\n",
       "      <td>94</td>\n",
       "      <td>62000</td>\n",
       "      <td>6</td>\n",
       "      <td>0</td>\n",
       "      <td>0</td>\n",
       "      <td>0</td>\n",
       "      <td>0</td>\n",
       "      <td>0</td>\n",
       "      <td>...</td>\n",
       "      <td>0</td>\n",
       "      <td>1</td>\n",
       "      <td>0</td>\n",
       "      <td>0</td>\n",
       "      <td>0</td>\n",
       "      <td>1</td>\n",
       "      <td>0</td>\n",
       "      <td>0</td>\n",
       "      <td>1</td>\n",
       "      <td>1</td>\n",
       "    </tr>\n",
       "    <tr>\n",
       "      <th>1</th>\n",
       "      <td>1</td>\n",
       "      <td>49</td>\n",
       "      <td>84</td>\n",
       "      <td>60000</td>\n",
       "      <td>17</td>\n",
       "      <td>0</td>\n",
       "      <td>0</td>\n",
       "      <td>0</td>\n",
       "      <td>0</td>\n",
       "      <td>0</td>\n",
       "      <td>...</td>\n",
       "      <td>0</td>\n",
       "      <td>0</td>\n",
       "      <td>0</td>\n",
       "      <td>0</td>\n",
       "      <td>0</td>\n",
       "      <td>1</td>\n",
       "      <td>0</td>\n",
       "      <td>0</td>\n",
       "      <td>1</td>\n",
       "      <td>0</td>\n",
       "    </tr>\n",
       "    <tr>\n",
       "      <th>2</th>\n",
       "      <td>5</td>\n",
       "      <td>46</td>\n",
       "      <td>84</td>\n",
       "      <td>73000</td>\n",
       "      <td>6</td>\n",
       "      <td>0</td>\n",
       "      <td>0</td>\n",
       "      <td>0</td>\n",
       "      <td>0</td>\n",
       "      <td>0</td>\n",
       "      <td>...</td>\n",
       "      <td>0</td>\n",
       "      <td>0</td>\n",
       "      <td>0</td>\n",
       "      <td>0</td>\n",
       "      <td>0</td>\n",
       "      <td>1</td>\n",
       "      <td>1</td>\n",
       "      <td>0</td>\n",
       "      <td>1</td>\n",
       "      <td>0</td>\n",
       "    </tr>\n",
       "    <tr>\n",
       "      <th>3</th>\n",
       "      <td>5</td>\n",
       "      <td>50</td>\n",
       "      <td>76</td>\n",
       "      <td>62000</td>\n",
       "      <td>10</td>\n",
       "      <td>0</td>\n",
       "      <td>0</td>\n",
       "      <td>0</td>\n",
       "      <td>0</td>\n",
       "      <td>0</td>\n",
       "      <td>...</td>\n",
       "      <td>0</td>\n",
       "      <td>1</td>\n",
       "      <td>0</td>\n",
       "      <td>0</td>\n",
       "      <td>0</td>\n",
       "      <td>1</td>\n",
       "      <td>0</td>\n",
       "      <td>0</td>\n",
       "      <td>1</td>\n",
       "      <td>1</td>\n",
       "    </tr>\n",
       "    <tr>\n",
       "      <th>4</th>\n",
       "      <td>4</td>\n",
       "      <td>45</td>\n",
       "      <td>86</td>\n",
       "      <td>56000</td>\n",
       "      <td>9</td>\n",
       "      <td>0</td>\n",
       "      <td>0</td>\n",
       "      <td>0</td>\n",
       "      <td>0</td>\n",
       "      <td>0</td>\n",
       "      <td>...</td>\n",
       "      <td>0</td>\n",
       "      <td>0</td>\n",
       "      <td>0</td>\n",
       "      <td>0</td>\n",
       "      <td>0</td>\n",
       "      <td>1</td>\n",
       "      <td>0</td>\n",
       "      <td>0</td>\n",
       "      <td>1</td>\n",
       "      <td>0</td>\n",
       "    </tr>\n",
       "  </tbody>\n",
       "</table>\n",
       "<p>5 rows × 174 columns</p>\n",
       "</div>"
      ],
      "text/plain": [
       "   DIAS_EN_EMERGER  DIAS_EN_EMERGER_A_FLORECER  DIAS_EN_FLORECER_A_COSECHAR  \\\n",
       "0                4                          47                           94   \n",
       "1                1                          49                           84   \n",
       "2                5                          46                           84   \n",
       "3                5                          50                           76   \n",
       "4                4                          45                           86   \n",
       "\n",
       "   POBLACION_20DIAS_AJT  ALTURA_LOT  ContEnfQui_Emer_Flor  \\\n",
       "0                 62000           6                     0   \n",
       "1                 60000          17                     0   \n",
       "2                 73000           6                     0   \n",
       "3                 62000          10                     0   \n",
       "4                 56000           9                     0   \n",
       "\n",
       "   ContEnfQui_Flor_Cose  ContMalMec_Siem_Emer  ContMalMec_Emer_Flor  \\\n",
       "0                     0                     0                     0   \n",
       "1                     0                     0                     0   \n",
       "2                     0                     0                     0   \n",
       "3                     0                     0                     0   \n",
       "4                     0                     0                     0   \n",
       "\n",
       "   ContMalMec_Flor_Cose  ...  CAP_ENDURE_RASTA  MOTEADOS_RASTA  \\\n",
       "0                     0  ...                 0               1   \n",
       "1                     0  ...                 0               0   \n",
       "2                     0  ...                 0               0   \n",
       "3                     0  ...                 0               1   \n",
       "4                     0  ...                 0               0   \n",
       "\n",
       "   MOTEADOS_MAS70cm._RASTA  OBSERVA_EROSION_RASTA  OBSERVA_MOHO_RASTA  \\\n",
       "0                        0                      0                   0   \n",
       "1                        0                      0                   0   \n",
       "2                        0                      0                   0   \n",
       "3                        0                      0                   0   \n",
       "4                        0                      0                   0   \n",
       "\n",
       "   OBSERVA_RAICES_VIVAS_RASTA  OBSERVA_HOJARASCA_MO_RASTA  \\\n",
       "0                           1                           0   \n",
       "1                           1                           0   \n",
       "2                           1                           1   \n",
       "3                           1                           0   \n",
       "4                           1                           0   \n",
       "\n",
       "   SUELO_NEGRO_BLANDO_RASTA  CUCHILLO_PRIMER_HTE_RASTA  \\\n",
       "0                         0                          1   \n",
       "1                         0                          1   \n",
       "2                         0                          1   \n",
       "3                         0                          1   \n",
       "4                         0                          1   \n",
       "\n",
       "   CERCA_RIOS_QUEBRADAS_RASTA  \n",
       "0                           1  \n",
       "1                           0  \n",
       "2                           0  \n",
       "3                           1  \n",
       "4                           0  \n",
       "\n",
       "[5 rows x 174 columns]"
      ]
     },
     "execution_count": 5,
     "metadata": {},
     "output_type": "execute_result"
    }
   ],
   "source": [
    "# Lectura del conjunto de test\n",
    "test = pd.read_csv(\"DataOpt/dataset_test_Original.csv\")\n",
    "test.head(5)\n",
    "test_original = test.copy()\n",
    "test_clean = test.copy()\n",
    "test_clean = test.drop([\"ID_LOTE\",\"RDT_AJUSTADO\"], axis=1)\n",
    "print(\"Dimenciones conjunto de test: \", test_clean.shape)\n",
    "test_clean.head(5)"
   ]
  },
  {
   "cell_type": "code",
   "execution_count": 6,
   "metadata": {},
   "outputs": [
    {
     "name": "stdout",
     "output_type": "stream",
     "text": [
      "Longitud G0:  {264} longitud G1:  {260} Longitud G2:  {235}\n"
     ]
    }
   ],
   "source": [
    "# 1. Cargue Grupos Definitivos\n",
    "grupos_definitivos = cargarGrupos()\n",
    "# 2. Calculo de correlaciones\n",
    "#list_corr = CalcularCorrelationInitial(grupos_definitivos)\n",
    "#print(\"Correlaciones Iniciales: \", list_corr)\n",
    " "
   ]
  },
  {
   "cell_type": "code",
   "execution_count": 7,
   "metadata": {},
   "outputs": [
    {
     "name": "stdout",
     "output_type": "stream",
     "text": [
      "Nuevo r_2:  0.9535896398727264\n",
      "Nuevo r_2:  0.9506674486861081\n",
      "Nuevo r_2:  0.9456447959278178\n",
      "lista Correlaciones Iniciales:  [0.9535896398727264, 0.9506674486861081, 0.9456447959278178]\n"
     ]
    }
   ],
   "source": [
    "# Calculos correlaciones OLMS\n",
    "lista_corr_olsms = CalcularCorrelationInitialOLS(grupos_definitivos)\n",
    "print(\"lista Correlaciones Iniciales: \", lista_corr_olsms)"
   ]
  },
  {
   "cell_type": "code",
   "execution_count": 8,
   "metadata": {},
   "outputs": [
    {
     "name": "stdout",
     "output_type": "stream",
     "text": [
      "3\n"
     ]
    }
   ],
   "source": [
    "#3. cargamos los modelos \n",
    "list_modelos = CargueModelos()\n",
    "#4. Obtener prediciones del conjunto de test con c/d modelo\n",
    "#predictions_models = PredctionsModels(list_modelos, test_clean)\n",
    "#5. Unir prediciones DF testeo\n",
    "#dfs_predictions = agregarPredicitions(test_original,predictions_models)\n"
   ]
  },
  {
   "cell_type": "code",
   "execution_count": 135,
   "metadata": {},
   "outputs": [
    {
     "name": "stdout",
     "output_type": "stream",
     "text": [
      "(235, 176)\n"
     ]
    },
    {
     "name": "stderr",
     "output_type": "stream",
     "text": [
      "c:\\ProgramData\\Anaconda3\\lib\\site-packages\\statsmodels\\base\\elastic_net.py:337: RuntimeWarning: invalid value encountered in double_scalars\n",
      "  h = (L1_wt - b) / c\n"
     ]
    },
    {
     "name": "stdout",
     "output_type": "stream",
     "text": [
      "-1.2981427062186413e-06\n"
     ]
    },
    {
     "data": {
      "text/html": [
       "<div>\n",
       "<style scoped>\n",
       "    .dataframe tbody tr th:only-of-type {\n",
       "        vertical-align: middle;\n",
       "    }\n",
       "\n",
       "    .dataframe tbody tr th {\n",
       "        vertical-align: top;\n",
       "    }\n",
       "\n",
       "    .dataframe thead th {\n",
       "        text-align: right;\n",
       "    }\n",
       "</style>\n",
       "<table border=\"1\" class=\"dataframe\">\n",
       "  <thead>\n",
       "    <tr style=\"text-align: right;\">\n",
       "      <th></th>\n",
       "      <th>mean</th>\n",
       "      <th>mean_se</th>\n",
       "      <th>mean_ci_lower</th>\n",
       "      <th>mean_ci_upper</th>\n",
       "      <th>obs_ci_lower</th>\n",
       "      <th>obs_ci_upper</th>\n",
       "    </tr>\n",
       "  </thead>\n",
       "  <tbody>\n",
       "    <tr>\n",
       "      <th>0</th>\n",
       "      <td>8371.197827</td>\n",
       "      <td>530.791017</td>\n",
       "      <td>7490.200305</td>\n",
       "      <td>9252.195348</td>\n",
       "      <td>7143.693144</td>\n",
       "      <td>9598.702510</td>\n",
       "    </tr>\n",
       "    <tr>\n",
       "      <th>1</th>\n",
       "      <td>7499.793142</td>\n",
       "      <td>581.287281</td>\n",
       "      <td>6534.982817</td>\n",
       "      <td>8464.603467</td>\n",
       "      <td>6210.812895</td>\n",
       "      <td>8788.773389</td>\n",
       "    </tr>\n",
       "    <tr>\n",
       "      <th>2</th>\n",
       "      <td>6144.010168</td>\n",
       "      <td>387.978898</td>\n",
       "      <td>5500.049672</td>\n",
       "      <td>6787.970665</td>\n",
       "      <td>5073.825028</td>\n",
       "      <td>7214.195309</td>\n",
       "    </tr>\n",
       "    <tr>\n",
       "      <th>3</th>\n",
       "      <td>5496.254588</td>\n",
       "      <td>352.123875</td>\n",
       "      <td>4911.805622</td>\n",
       "      <td>6080.703555</td>\n",
       "      <td>4460.787685</td>\n",
       "      <td>6531.721492</td>\n",
       "    </tr>\n",
       "    <tr>\n",
       "      <th>4</th>\n",
       "      <td>3776.499912</td>\n",
       "      <td>608.607221</td>\n",
       "      <td>2766.344436</td>\n",
       "      <td>4786.655388</td>\n",
       "      <td>2453.236824</td>\n",
       "      <td>5099.763000</td>\n",
       "    </tr>\n",
       "    <tr>\n",
       "      <th>5</th>\n",
       "      <td>4990.973995</td>\n",
       "      <td>499.540402</td>\n",
       "      <td>4161.845690</td>\n",
       "      <td>5820.102300</td>\n",
       "      <td>3800.148710</td>\n",
       "      <td>6181.799280</td>\n",
       "    </tr>\n",
       "    <tr>\n",
       "      <th>6</th>\n",
       "      <td>3424.575583</td>\n",
       "      <td>532.810860</td>\n",
       "      <td>2540.225563</td>\n",
       "      <td>4308.925603</td>\n",
       "      <td>2194.662549</td>\n",
       "      <td>4654.488617</td>\n",
       "    </tr>\n",
       "    <tr>\n",
       "      <th>7</th>\n",
       "      <td>6882.473378</td>\n",
       "      <td>675.754804</td>\n",
       "      <td>5760.867533</td>\n",
       "      <td>8004.079223</td>\n",
       "      <td>5472.292260</td>\n",
       "      <td>8292.654496</td>\n",
       "    </tr>\n",
       "    <tr>\n",
       "      <th>8</th>\n",
       "      <td>6057.006628</td>\n",
       "      <td>470.260356</td>\n",
       "      <td>5276.476826</td>\n",
       "      <td>6837.536431</td>\n",
       "      <td>4899.492963</td>\n",
       "      <td>7214.520294</td>\n",
       "    </tr>\n",
       "    <tr>\n",
       "      <th>9</th>\n",
       "      <td>4698.341716</td>\n",
       "      <td>519.974420</td>\n",
       "      <td>3835.297391</td>\n",
       "      <td>5561.386041</td>\n",
       "      <td>3483.657963</td>\n",
       "      <td>5913.025469</td>\n",
       "    </tr>\n",
       "    <tr>\n",
       "      <th>10</th>\n",
       "      <td>1668.620921</td>\n",
       "      <td>888.634703</td>\n",
       "      <td>193.680793</td>\n",
       "      <td>3143.561050</td>\n",
       "      <td>-36.095916</td>\n",
       "      <td>3373.337759</td>\n",
       "    </tr>\n",
       "    <tr>\n",
       "      <th>11</th>\n",
       "      <td>3674.495132</td>\n",
       "      <td>479.780766</td>\n",
       "      <td>2878.163522</td>\n",
       "      <td>4470.826742</td>\n",
       "      <td>2506.267780</td>\n",
       "      <td>4842.722485</td>\n",
       "    </tr>\n",
       "    <tr>\n",
       "      <th>12</th>\n",
       "      <td>-24645.790708</td>\n",
       "      <td>11441.471471</td>\n",
       "      <td>-43636.142236</td>\n",
       "      <td>-5655.439180</td>\n",
       "      <td>-43655.368880</td>\n",
       "      <td>-5636.212536</td>\n",
       "    </tr>\n",
       "    <tr>\n",
       "      <th>13</th>\n",
       "      <td>4350.963818</td>\n",
       "      <td>453.561330</td>\n",
       "      <td>3598.150761</td>\n",
       "      <td>5103.776874</td>\n",
       "      <td>3211.956087</td>\n",
       "      <td>5489.971549</td>\n",
       "    </tr>\n",
       "    <tr>\n",
       "      <th>14</th>\n",
       "      <td>4491.375387</td>\n",
       "      <td>544.761807</td>\n",
       "      <td>3587.189397</td>\n",
       "      <td>5395.561378</td>\n",
       "      <td>3247.123235</td>\n",
       "      <td>5735.627540</td>\n",
       "    </tr>\n",
       "    <tr>\n",
       "      <th>15</th>\n",
       "      <td>3587.707038</td>\n",
       "      <td>531.079126</td>\n",
       "      <td>2706.231318</td>\n",
       "      <td>4469.182757</td>\n",
       "      <td>2359.859100</td>\n",
       "      <td>4815.554975</td>\n",
       "    </tr>\n",
       "    <tr>\n",
       "      <th>16</th>\n",
       "      <td>2123.820574</td>\n",
       "      <td>497.221912</td>\n",
       "      <td>1298.540458</td>\n",
       "      <td>2949.100689</td>\n",
       "      <td>935.671432</td>\n",
       "      <td>3311.969715</td>\n",
       "    </tr>\n",
       "    <tr>\n",
       "      <th>17</th>\n",
       "      <td>6423.039120</td>\n",
       "      <td>323.234741</td>\n",
       "      <td>5886.539827</td>\n",
       "      <td>6959.538413</td>\n",
       "      <td>5413.859946</td>\n",
       "      <td>7432.218294</td>\n",
       "    </tr>\n",
       "    <tr>\n",
       "      <th>18</th>\n",
       "      <td>3789.129730</td>\n",
       "      <td>581.846784</td>\n",
       "      <td>2823.390752</td>\n",
       "      <td>4754.868708</td>\n",
       "      <td>2499.454233</td>\n",
       "      <td>5078.805227</td>\n",
       "    </tr>\n",
       "    <tr>\n",
       "      <th>19</th>\n",
       "      <td>6797.433458</td>\n",
       "      <td>328.340641</td>\n",
       "      <td>6252.459483</td>\n",
       "      <td>7342.407433</td>\n",
       "      <td>5783.723565</td>\n",
       "      <td>7811.143351</td>\n",
       "    </tr>\n",
       "    <tr>\n",
       "      <th>20</th>\n",
       "      <td>4115.794773</td>\n",
       "      <td>471.441720</td>\n",
       "      <td>3333.304163</td>\n",
       "      <td>4898.285384</td>\n",
       "      <td>2956.957999</td>\n",
       "      <td>5274.631547</td>\n",
       "    </tr>\n",
       "    <tr>\n",
       "      <th>21</th>\n",
       "      <td>5311.550898</td>\n",
       "      <td>644.992056</td>\n",
       "      <td>4241.004517</td>\n",
       "      <td>6382.097279</td>\n",
       "      <td>3941.630948</td>\n",
       "      <td>6681.470848</td>\n",
       "    </tr>\n",
       "    <tr>\n",
       "      <th>22</th>\n",
       "      <td>3656.442992</td>\n",
       "      <td>573.476514</td>\n",
       "      <td>2704.596841</td>\n",
       "      <td>4608.289144</td>\n",
       "      <td>2377.137630</td>\n",
       "      <td>4935.748355</td>\n",
       "    </tr>\n",
       "    <tr>\n",
       "      <th>23</th>\n",
       "      <td>4408.766536</td>\n",
       "      <td>518.888358</td>\n",
       "      <td>3547.524838</td>\n",
       "      <td>5270.008234</td>\n",
       "      <td>3195.362903</td>\n",
       "      <td>5622.170169</td>\n",
       "    </tr>\n",
       "    <tr>\n",
       "      <th>24</th>\n",
       "      <td>6671.721562</td>\n",
       "      <td>534.998514</td>\n",
       "      <td>5783.740513</td>\n",
       "      <td>7559.702611</td>\n",
       "      <td>5439.195109</td>\n",
       "      <td>7904.248015</td>\n",
       "    </tr>\n",
       "    <tr>\n",
       "      <th>25</th>\n",
       "      <td>2965.395549</td>\n",
       "      <td>860.185882</td>\n",
       "      <td>1537.674270</td>\n",
       "      <td>4393.116828</td>\n",
       "      <td>1301.364550</td>\n",
       "      <td>4629.426548</td>\n",
       "    </tr>\n",
       "    <tr>\n",
       "      <th>26</th>\n",
       "      <td>5220.370691</td>\n",
       "      <td>912.874283</td>\n",
       "      <td>3705.198137</td>\n",
       "      <td>6735.543244</td>\n",
       "      <td>3480.727342</td>\n",
       "      <td>6960.014040</td>\n",
       "    </tr>\n",
       "    <tr>\n",
       "      <th>27</th>\n",
       "      <td>5370.277699</td>\n",
       "      <td>499.598793</td>\n",
       "      <td>4541.052478</td>\n",
       "      <td>6199.502920</td>\n",
       "      <td>4179.384932</td>\n",
       "      <td>6561.170465</td>\n",
       "    </tr>\n",
       "    <tr>\n",
       "      <th>28</th>\n",
       "      <td>6481.121615</td>\n",
       "      <td>633.579865</td>\n",
       "      <td>5429.516985</td>\n",
       "      <td>7532.726244</td>\n",
       "      <td>5125.952470</td>\n",
       "      <td>7836.290759</td>\n",
       "    </tr>\n",
       "    <tr>\n",
       "      <th>29</th>\n",
       "      <td>5858.513766</td>\n",
       "      <td>506.582824</td>\n",
       "      <td>5017.696574</td>\n",
       "      <td>6699.330957</td>\n",
       "      <td>4659.520578</td>\n",
       "      <td>7057.506953</td>\n",
       "    </tr>\n",
       "    <tr>\n",
       "      <th>30</th>\n",
       "      <td>4637.814129</td>\n",
       "      <td>399.921933</td>\n",
       "      <td>3974.030794</td>\n",
       "      <td>5301.597464</td>\n",
       "      <td>3555.585212</td>\n",
       "      <td>5720.043046</td>\n",
       "    </tr>\n",
       "    <tr>\n",
       "      <th>31</th>\n",
       "      <td>5547.655783</td>\n",
       "      <td>357.251439</td>\n",
       "      <td>4954.696177</td>\n",
       "      <td>6140.615389</td>\n",
       "      <td>4507.361493</td>\n",
       "      <td>6587.950072</td>\n",
       "    </tr>\n",
       "    <tr>\n",
       "      <th>32</th>\n",
       "      <td>3553.086046</td>\n",
       "      <td>622.659354</td>\n",
       "      <td>2519.607087</td>\n",
       "      <td>4586.565005</td>\n",
       "      <td>2211.933605</td>\n",
       "      <td>4894.238488</td>\n",
       "    </tr>\n",
       "    <tr>\n",
       "      <th>33</th>\n",
       "      <td>3905.062022</td>\n",
       "      <td>418.727568</td>\n",
       "      <td>3210.065428</td>\n",
       "      <td>4600.058616</td>\n",
       "      <td>2803.412631</td>\n",
       "      <td>5006.711412</td>\n",
       "    </tr>\n",
       "    <tr>\n",
       "      <th>34</th>\n",
       "      <td>4976.379552</td>\n",
       "      <td>372.295973</td>\n",
       "      <td>4358.449295</td>\n",
       "      <td>5594.309809</td>\n",
       "      <td>3921.652613</td>\n",
       "      <td>6031.106491</td>\n",
       "    </tr>\n",
       "    <tr>\n",
       "      <th>35</th>\n",
       "      <td>3635.213714</td>\n",
       "      <td>495.620799</td>\n",
       "      <td>2812.591097</td>\n",
       "      <td>4457.836330</td>\n",
       "      <td>2448.908912</td>\n",
       "      <td>4821.518516</td>\n",
       "    </tr>\n",
       "    <tr>\n",
       "      <th>36</th>\n",
       "      <td>3512.992225</td>\n",
       "      <td>393.085782</td>\n",
       "      <td>2860.555412</td>\n",
       "      <td>4165.429038</td>\n",
       "      <td>2437.685335</td>\n",
       "      <td>4588.299115</td>\n",
       "    </tr>\n",
       "    <tr>\n",
       "      <th>37</th>\n",
       "      <td>4148.360879</td>\n",
       "      <td>453.229885</td>\n",
       "      <td>3396.097951</td>\n",
       "      <td>4900.623807</td>\n",
       "      <td>3009.716673</td>\n",
       "      <td>5287.005084</td>\n",
       "    </tr>\n",
       "    <tr>\n",
       "      <th>38</th>\n",
       "      <td>5973.676690</td>\n",
       "      <td>500.948284</td>\n",
       "      <td>5142.211609</td>\n",
       "      <td>6805.141772</td>\n",
       "      <td>4781.223213</td>\n",
       "      <td>7166.130167</td>\n",
       "    </tr>\n",
       "    <tr>\n",
       "      <th>39</th>\n",
       "      <td>1996.581109</td>\n",
       "      <td>415.153551</td>\n",
       "      <td>1307.516604</td>\n",
       "      <td>2685.645613</td>\n",
       "      <td>898.664443</td>\n",
       "      <td>3094.497774</td>\n",
       "    </tr>\n",
       "  </tbody>\n",
       "</table>\n",
       "</div>"
      ],
      "text/plain": [
       "            mean       mean_se  mean_ci_lower  mean_ci_upper  obs_ci_lower  \\\n",
       "0    8371.197827    530.791017    7490.200305    9252.195348   7143.693144   \n",
       "1    7499.793142    581.287281    6534.982817    8464.603467   6210.812895   \n",
       "2    6144.010168    387.978898    5500.049672    6787.970665   5073.825028   \n",
       "3    5496.254588    352.123875    4911.805622    6080.703555   4460.787685   \n",
       "4    3776.499912    608.607221    2766.344436    4786.655388   2453.236824   \n",
       "5    4990.973995    499.540402    4161.845690    5820.102300   3800.148710   \n",
       "6    3424.575583    532.810860    2540.225563    4308.925603   2194.662549   \n",
       "7    6882.473378    675.754804    5760.867533    8004.079223   5472.292260   \n",
       "8    6057.006628    470.260356    5276.476826    6837.536431   4899.492963   \n",
       "9    4698.341716    519.974420    3835.297391    5561.386041   3483.657963   \n",
       "10   1668.620921    888.634703     193.680793    3143.561050    -36.095916   \n",
       "11   3674.495132    479.780766    2878.163522    4470.826742   2506.267780   \n",
       "12 -24645.790708  11441.471471  -43636.142236   -5655.439180 -43655.368880   \n",
       "13   4350.963818    453.561330    3598.150761    5103.776874   3211.956087   \n",
       "14   4491.375387    544.761807    3587.189397    5395.561378   3247.123235   \n",
       "15   3587.707038    531.079126    2706.231318    4469.182757   2359.859100   \n",
       "16   2123.820574    497.221912    1298.540458    2949.100689    935.671432   \n",
       "17   6423.039120    323.234741    5886.539827    6959.538413   5413.859946   \n",
       "18   3789.129730    581.846784    2823.390752    4754.868708   2499.454233   \n",
       "19   6797.433458    328.340641    6252.459483    7342.407433   5783.723565   \n",
       "20   4115.794773    471.441720    3333.304163    4898.285384   2956.957999   \n",
       "21   5311.550898    644.992056    4241.004517    6382.097279   3941.630948   \n",
       "22   3656.442992    573.476514    2704.596841    4608.289144   2377.137630   \n",
       "23   4408.766536    518.888358    3547.524838    5270.008234   3195.362903   \n",
       "24   6671.721562    534.998514    5783.740513    7559.702611   5439.195109   \n",
       "25   2965.395549    860.185882    1537.674270    4393.116828   1301.364550   \n",
       "26   5220.370691    912.874283    3705.198137    6735.543244   3480.727342   \n",
       "27   5370.277699    499.598793    4541.052478    6199.502920   4179.384932   \n",
       "28   6481.121615    633.579865    5429.516985    7532.726244   5125.952470   \n",
       "29   5858.513766    506.582824    5017.696574    6699.330957   4659.520578   \n",
       "30   4637.814129    399.921933    3974.030794    5301.597464   3555.585212   \n",
       "31   5547.655783    357.251439    4954.696177    6140.615389   4507.361493   \n",
       "32   3553.086046    622.659354    2519.607087    4586.565005   2211.933605   \n",
       "33   3905.062022    418.727568    3210.065428    4600.058616   2803.412631   \n",
       "34   4976.379552    372.295973    4358.449295    5594.309809   3921.652613   \n",
       "35   3635.213714    495.620799    2812.591097    4457.836330   2448.908912   \n",
       "36   3512.992225    393.085782    2860.555412    4165.429038   2437.685335   \n",
       "37   4148.360879    453.229885    3396.097951    4900.623807   3009.716673   \n",
       "38   5973.676690    500.948284    5142.211609    6805.141772   4781.223213   \n",
       "39   1996.581109    415.153551    1307.516604    2685.645613    898.664443   \n",
       "\n",
       "    obs_ci_upper  \n",
       "0    9598.702510  \n",
       "1    8788.773389  \n",
       "2    7214.195309  \n",
       "3    6531.721492  \n",
       "4    5099.763000  \n",
       "5    6181.799280  \n",
       "6    4654.488617  \n",
       "7    8292.654496  \n",
       "8    7214.520294  \n",
       "9    5913.025469  \n",
       "10   3373.337759  \n",
       "11   4842.722485  \n",
       "12  -5636.212536  \n",
       "13   5489.971549  \n",
       "14   5735.627540  \n",
       "15   4815.554975  \n",
       "16   3311.969715  \n",
       "17   7432.218294  \n",
       "18   5078.805227  \n",
       "19   7811.143351  \n",
       "20   5274.631547  \n",
       "21   6681.470848  \n",
       "22   4935.748355  \n",
       "23   5622.170169  \n",
       "24   7904.248015  \n",
       "25   4629.426548  \n",
       "26   6960.014040  \n",
       "27   6561.170465  \n",
       "28   7836.290759  \n",
       "29   7057.506953  \n",
       "30   5720.043046  \n",
       "31   6587.950072  \n",
       "32   4894.238488  \n",
       "33   5006.711412  \n",
       "34   6031.106491  \n",
       "35   4821.518516  \n",
       "36   4588.299115  \n",
       "37   5287.005084  \n",
       "38   7166.130167  \n",
       "39   3094.497774  "
      ]
     },
     "execution_count": 135,
     "metadata": {},
     "output_type": "execute_result"
    }
   ],
   "source": [
    "GD = grupos_definitivos[2]\n",
    "print(GD.shape)\n",
    "prueba_test = test_original.copy()\n",
    "\n",
    "Y_train = GD.RDT_AJUSTADO.values\n",
    "X_train= GD.drop([\"RDT_AJUSTADO\",\"ID_LOTE\"], axis=1).values\n",
    "Y_test =prueba_test.RDT_AJUSTADO.values\n",
    "X_test = prueba_test.drop([\"RDT_AJUSTADO\",\"ID_LOTE\"], axis=1).values\n",
    "\n",
    "  \n",
    "# Agreago Constantes al modelo\n",
    "#X_train = sm.add_constant(X_train)\n",
    "#X_test = sm.add_constant(X_test)\n",
    "model = sm.OLS(Y_train, X_train)\n",
    "res= model.fit_regularized(method='elastic_net')\n",
    "model_fit_regularized = model.fit(params=res.params)\n",
    "#r_2 = model_fit_regularized.rsquared\n",
    "#model_fit_regularized = model.fit()\n",
    "#print(model_fit_regularized.mse_total)\n",
    "#print(r_2)\n",
    "sum_residuals1 = sum(model_fit_regularized.resid)\n",
    "print(sum_residuals1)\n",
    "IC = model_fit_regularized.get_prediction(X_test)\n",
    "Sumary_IC = IC.summary_frame(alpha=0.1)\n",
    "Sumary_IC"
   ]
  },
  {
   "cell_type": "code",
   "execution_count": 42,
   "metadata": {},
   "outputs": [
    {
     "name": "stdout",
     "output_type": "stream",
     "text": [
      "Dimenciones Grupos (264, 176)\n",
      "Dimenciones Grupos de Testeo:  (40, 176)\n"
     ]
    },
    {
     "data": {
      "text/html": [
       "<div>\n",
       "<style scoped>\n",
       "    .dataframe tbody tr th:only-of-type {\n",
       "        vertical-align: middle;\n",
       "    }\n",
       "\n",
       "    .dataframe tbody tr th {\n",
       "        vertical-align: top;\n",
       "    }\n",
       "\n",
       "    .dataframe thead th {\n",
       "        text-align: right;\n",
       "    }\n",
       "</style>\n",
       "<table border=\"1\" class=\"dataframe\">\n",
       "  <thead>\n",
       "    <tr style=\"text-align: right;\">\n",
       "      <th></th>\n",
       "      <th>mean_ci_lower</th>\n",
       "      <th>mean_ci_upper</th>\n",
       "      <th>Predicciones</th>\n",
       "    </tr>\n",
       "  </thead>\n",
       "  <tbody>\n",
       "    <tr>\n",
       "      <th>0</th>\n",
       "      <td>5720.928258</td>\n",
       "      <td>6845.313701</td>\n",
       "      <td>6283.120980</td>\n",
       "    </tr>\n",
       "    <tr>\n",
       "      <th>1</th>\n",
       "      <td>8531.089841</td>\n",
       "      <td>10157.092257</td>\n",
       "      <td>9344.091049</td>\n",
       "    </tr>\n",
       "    <tr>\n",
       "      <th>2</th>\n",
       "      <td>4698.823150</td>\n",
       "      <td>5967.034364</td>\n",
       "      <td>5332.928757</td>\n",
       "    </tr>\n",
       "    <tr>\n",
       "      <th>3</th>\n",
       "      <td>4210.320644</td>\n",
       "      <td>5098.375178</td>\n",
       "      <td>4654.347911</td>\n",
       "    </tr>\n",
       "    <tr>\n",
       "      <th>4</th>\n",
       "      <td>2619.776237</td>\n",
       "      <td>5697.260872</td>\n",
       "      <td>4158.518555</td>\n",
       "    </tr>\n",
       "    <tr>\n",
       "      <th>5</th>\n",
       "      <td>6807.288082</td>\n",
       "      <td>8491.676005</td>\n",
       "      <td>7649.482044</td>\n",
       "    </tr>\n",
       "    <tr>\n",
       "      <th>6</th>\n",
       "      <td>1946.438912</td>\n",
       "      <td>3330.160948</td>\n",
       "      <td>2638.299930</td>\n",
       "    </tr>\n",
       "    <tr>\n",
       "      <th>7</th>\n",
       "      <td>4700.462921</td>\n",
       "      <td>7481.247403</td>\n",
       "      <td>6090.855162</td>\n",
       "    </tr>\n",
       "    <tr>\n",
       "      <th>8</th>\n",
       "      <td>2943.176556</td>\n",
       "      <td>4683.843957</td>\n",
       "      <td>3813.510257</td>\n",
       "    </tr>\n",
       "    <tr>\n",
       "      <th>9</th>\n",
       "      <td>3975.298662</td>\n",
       "      <td>5698.128948</td>\n",
       "      <td>4836.713805</td>\n",
       "    </tr>\n",
       "    <tr>\n",
       "      <th>10</th>\n",
       "      <td>1824.535852</td>\n",
       "      <td>4270.247879</td>\n",
       "      <td>3047.391866</td>\n",
       "    </tr>\n",
       "    <tr>\n",
       "      <th>11</th>\n",
       "      <td>4299.182960</td>\n",
       "      <td>5699.761457</td>\n",
       "      <td>4999.472208</td>\n",
       "    </tr>\n",
       "    <tr>\n",
       "      <th>12</th>\n",
       "      <td>200.692596</td>\n",
       "      <td>3207.572575</td>\n",
       "      <td>1704.132585</td>\n",
       "    </tr>\n",
       "    <tr>\n",
       "      <th>13</th>\n",
       "      <td>3455.074689</td>\n",
       "      <td>4733.523301</td>\n",
       "      <td>4094.298995</td>\n",
       "    </tr>\n",
       "    <tr>\n",
       "      <th>14</th>\n",
       "      <td>6259.996988</td>\n",
       "      <td>11428.837824</td>\n",
       "      <td>8844.417406</td>\n",
       "    </tr>\n",
       "    <tr>\n",
       "      <th>15</th>\n",
       "      <td>1295.957692</td>\n",
       "      <td>3514.465849</td>\n",
       "      <td>2405.211771</td>\n",
       "    </tr>\n",
       "    <tr>\n",
       "      <th>16</th>\n",
       "      <td>4661.300692</td>\n",
       "      <td>6585.003175</td>\n",
       "      <td>5623.151934</td>\n",
       "    </tr>\n",
       "    <tr>\n",
       "      <th>17</th>\n",
       "      <td>6172.030913</td>\n",
       "      <td>7100.615144</td>\n",
       "      <td>6636.323029</td>\n",
       "    </tr>\n",
       "    <tr>\n",
       "      <th>18</th>\n",
       "      <td>4793.251528</td>\n",
       "      <td>7099.575442</td>\n",
       "      <td>5946.413485</td>\n",
       "    </tr>\n",
       "    <tr>\n",
       "      <th>19</th>\n",
       "      <td>5253.657384</td>\n",
       "      <td>6172.245922</td>\n",
       "      <td>5712.951653</td>\n",
       "    </tr>\n",
       "    <tr>\n",
       "      <th>20</th>\n",
       "      <td>2455.522653</td>\n",
       "      <td>3707.315811</td>\n",
       "      <td>3081.419232</td>\n",
       "    </tr>\n",
       "    <tr>\n",
       "      <th>21</th>\n",
       "      <td>2947.544116</td>\n",
       "      <td>4730.276042</td>\n",
       "      <td>3838.910079</td>\n",
       "    </tr>\n",
       "    <tr>\n",
       "      <th>22</th>\n",
       "      <td>1117.056612</td>\n",
       "      <td>3154.059204</td>\n",
       "      <td>2135.557908</td>\n",
       "    </tr>\n",
       "    <tr>\n",
       "      <th>23</th>\n",
       "      <td>4223.405036</td>\n",
       "      <td>6268.713939</td>\n",
       "      <td>5246.059487</td>\n",
       "    </tr>\n",
       "    <tr>\n",
       "      <th>24</th>\n",
       "      <td>7836.068267</td>\n",
       "      <td>10365.201377</td>\n",
       "      <td>9100.634822</td>\n",
       "    </tr>\n",
       "    <tr>\n",
       "      <th>25</th>\n",
       "      <td>3328.808490</td>\n",
       "      <td>5206.998817</td>\n",
       "      <td>4267.903654</td>\n",
       "    </tr>\n",
       "    <tr>\n",
       "      <th>26</th>\n",
       "      <td>3285.592102</td>\n",
       "      <td>6290.182786</td>\n",
       "      <td>4787.887444</td>\n",
       "    </tr>\n",
       "    <tr>\n",
       "      <th>27</th>\n",
       "      <td>4058.453340</td>\n",
       "      <td>5574.654442</td>\n",
       "      <td>4816.553891</td>\n",
       "    </tr>\n",
       "    <tr>\n",
       "      <th>28</th>\n",
       "      <td>5105.552300</td>\n",
       "      <td>6791.149215</td>\n",
       "      <td>5948.350757</td>\n",
       "    </tr>\n",
       "    <tr>\n",
       "      <th>29</th>\n",
       "      <td>4632.022809</td>\n",
       "      <td>5782.583855</td>\n",
       "      <td>5207.303332</td>\n",
       "    </tr>\n",
       "    <tr>\n",
       "      <th>30</th>\n",
       "      <td>2799.001392</td>\n",
       "      <td>3993.432460</td>\n",
       "      <td>3396.216926</td>\n",
       "    </tr>\n",
       "    <tr>\n",
       "      <th>31</th>\n",
       "      <td>4493.962827</td>\n",
       "      <td>5582.130579</td>\n",
       "      <td>5038.046703</td>\n",
       "    </tr>\n",
       "    <tr>\n",
       "      <th>32</th>\n",
       "      <td>5247.285889</td>\n",
       "      <td>8104.900604</td>\n",
       "      <td>6676.093247</td>\n",
       "    </tr>\n",
       "    <tr>\n",
       "      <th>33</th>\n",
       "      <td>4386.058679</td>\n",
       "      <td>5454.716663</td>\n",
       "      <td>4920.387671</td>\n",
       "    </tr>\n",
       "    <tr>\n",
       "      <th>34</th>\n",
       "      <td>4300.992465</td>\n",
       "      <td>5541.742630</td>\n",
       "      <td>4921.367548</td>\n",
       "    </tr>\n",
       "    <tr>\n",
       "      <th>35</th>\n",
       "      <td>3040.430193</td>\n",
       "      <td>4737.334744</td>\n",
       "      <td>3888.882468</td>\n",
       "    </tr>\n",
       "    <tr>\n",
       "      <th>36</th>\n",
       "      <td>3923.198044</td>\n",
       "      <td>5268.105955</td>\n",
       "      <td>4595.652000</td>\n",
       "    </tr>\n",
       "    <tr>\n",
       "      <th>37</th>\n",
       "      <td>3163.331607</td>\n",
       "      <td>4464.693291</td>\n",
       "      <td>3814.012449</td>\n",
       "    </tr>\n",
       "    <tr>\n",
       "      <th>38</th>\n",
       "      <td>4100.799309</td>\n",
       "      <td>5592.631399</td>\n",
       "      <td>4846.715354</td>\n",
       "    </tr>\n",
       "    <tr>\n",
       "      <th>39</th>\n",
       "      <td>4892.533759</td>\n",
       "      <td>6009.662054</td>\n",
       "      <td>5451.097906</td>\n",
       "    </tr>\n",
       "  </tbody>\n",
       "</table>\n",
       "</div>"
      ],
      "text/plain": [
       "    mean_ci_lower  mean_ci_upper  Predicciones\n",
       "0     5720.928258    6845.313701   6283.120980\n",
       "1     8531.089841   10157.092257   9344.091049\n",
       "2     4698.823150    5967.034364   5332.928757\n",
       "3     4210.320644    5098.375178   4654.347911\n",
       "4     2619.776237    5697.260872   4158.518555\n",
       "5     6807.288082    8491.676005   7649.482044\n",
       "6     1946.438912    3330.160948   2638.299930\n",
       "7     4700.462921    7481.247403   6090.855162\n",
       "8     2943.176556    4683.843957   3813.510257\n",
       "9     3975.298662    5698.128948   4836.713805\n",
       "10    1824.535852    4270.247879   3047.391866\n",
       "11    4299.182960    5699.761457   4999.472208\n",
       "12     200.692596    3207.572575   1704.132585\n",
       "13    3455.074689    4733.523301   4094.298995\n",
       "14    6259.996988   11428.837824   8844.417406\n",
       "15    1295.957692    3514.465849   2405.211771\n",
       "16    4661.300692    6585.003175   5623.151934\n",
       "17    6172.030913    7100.615144   6636.323029\n",
       "18    4793.251528    7099.575442   5946.413485\n",
       "19    5253.657384    6172.245922   5712.951653\n",
       "20    2455.522653    3707.315811   3081.419232\n",
       "21    2947.544116    4730.276042   3838.910079\n",
       "22    1117.056612    3154.059204   2135.557908\n",
       "23    4223.405036    6268.713939   5246.059487\n",
       "24    7836.068267   10365.201377   9100.634822\n",
       "25    3328.808490    5206.998817   4267.903654\n",
       "26    3285.592102    6290.182786   4787.887444\n",
       "27    4058.453340    5574.654442   4816.553891\n",
       "28    5105.552300    6791.149215   5948.350757\n",
       "29    4632.022809    5782.583855   5207.303332\n",
       "30    2799.001392    3993.432460   3396.216926\n",
       "31    4493.962827    5582.130579   5038.046703\n",
       "32    5247.285889    8104.900604   6676.093247\n",
       "33    4386.058679    5454.716663   4920.387671\n",
       "34    4300.992465    5541.742630   4921.367548\n",
       "35    3040.430193    4737.334744   3888.882468\n",
       "36    3923.198044    5268.105955   4595.652000\n",
       "37    3163.331607    4464.693291   3814.012449\n",
       "38    4100.799309    5592.631399   4846.715354\n",
       "39    4892.533759    6009.662054   5451.097906"
      ]
     },
     "execution_count": 42,
     "metadata": {},
     "output_type": "execute_result"
    }
   ],
   "source": [
    "print(\"Dimenciones Grupos\", grupos_definitivos[0].shape)\n",
    "print(\"Dimenciones Grupos de Testeo: \", test_original.shape)\n",
    "ICG0= IntervalosConfianza(grupos_definitivos[0],test_original)\n",
    "ICG0"
   ]
  },
  {
   "cell_type": "code",
   "execution_count": 39,
   "metadata": {},
   "outputs": [],
   "source": [
    "\n",
    "list_real = list([6330.91,6318.44,5441.12,5404.93,6569.22,6765.71,2321.79,6271.74,5838.04,4580.99,1907.24,3781.39,1525.00,4204.77,4731.51,6951.84,2380.29,6323.07,5172.98,6742.71,4344.03,4208.74,3393.87,5217.38,6352.43,4190.15,2072.75,3325.55,2780.98,5659.52,3705.00,5787.61,5204.61,4909.51,5159.60,3809.46,3395.59,4227.35,5068.28,5296.48])\n",
    "\n",
    "\n",
    "def prubasPromediotest(predictions_models, test_original,list_real):\n",
    "    test_original_pred = test_original.copy()\n",
    "    d = {'Pred_M0': predictions_models[0], 'Pred_M1': predictions_models[1],'Pred_M2': predictions_models[2]}\n",
    "    DataFramePredictions = pd.DataFrame(data=d)\n",
    "    DataFramePredictions[\"Average\"] = (DataFramePredictions['Pred_M0'] + DataFramePredictions['Pred_M1'] +DataFramePredictions['Pred_M2'])/3\n",
    "    test_original_pred.RDT_AJUSTADO = DataFramePredictions[\"Average\"] \n",
    "    return test_original_pred ,DataFramePredictions\n",
    "\n",
    "\n",
    "# Retorna el grupo a modificar\n",
    "def compareCorrelation(CorelacionGruposCalidad, nuevaCorrelation):\n",
    "    #print(\"lista grupos: \",lista_grupos)\n",
    "    arr =  np.array(CorelacionGruposCalidad) - np.array(nuevaCorrelation)\n",
    "    print(\"Diferencia: \", arr)\n",
    "    position = np.where(arr == np.amin(arr))\n",
    "    #print(\"Posision grupo: \",position)\n",
    "\n",
    "    return position\n",
    "\n",
    "\n",
    "'''\n",
    "test_original_pred: test original añadido al columna RDT_AJUSTADO promedio de los 3 grupos\n",
    "list_corr: Lista de las correlaciones iniciales asociadas a c/d grupo\n",
    "\n",
    "Salida: Retorna las posiciones del cluster donde hay menso impacto\n",
    "'''\n",
    "def prubasumPromPredict(test_original_pred,list_corr):\n",
    "    asig_group = []\n",
    "    for register in range(len(test_original_pred)):\n",
    "        new_correlation = []\n",
    "        for group in range(len(grupos_definitivos)):\n",
    "            grupos_definitivos[group] = grupos_definitivos[group].append(test_original_pred.loc[register], ignore_index = True)        \n",
    "            new_r2= LinearRegessionv2(grupos_definitivos[group],0.1, 0.97).CalcularModeloLR()\n",
    "            new_correlation.append(new_r2)\n",
    "        \n",
    "        # Verificar donde se da el memor cambio \n",
    "        pos = compareCorrelation(list_corr, new_correlation)\n",
    "        print(\"Posición: \", pos[0])\n",
    "        asig_group.append(pos[0][0])\n",
    "\n",
    "        # Eliminamos los registros del grupo\n",
    "\n",
    "        for i in range(len(grupos_definitivos)):\n",
    "            grupos_definitivos[i].drop([len(grupos_definitivos[i]) -1 ],axis=0, inplace=True)\n",
    "    \n",
    "    return asig_group\n",
    "    "
   ]
  },
  {
   "cell_type": "code",
   "execution_count": 120,
   "metadata": {},
   "outputs": [],
   "source": [
    "listaIntervalosConfianza = calculoIntervalosConfianza(grupos_definitivos, test_original)"
   ]
  },
  {
   "cell_type": "code",
   "execution_count": 121,
   "metadata": {},
   "outputs": [
    {
     "name": "stdout",
     "output_type": "stream",
     "text": [
      "Grupo:  0\n",
      "Grupo:  1\n",
      "Grupo:  2\n"
     ]
    }
   ],
   "source": [
    "# Calculo de los grupos definitivos en los intervalos de confianza\n",
    "lista_df_ic = DfWithConfidenceIntervals(listaIntervalosConfianza, test_original,lista_aux_var_ic)"
   ]
  },
  {
   "cell_type": "code",
   "execution_count": 123,
   "metadata": {},
   "outputs": [
    {
     "data": {
      "text/plain": [
       "[0.9535896398727264, 0.9506674486861081, 0.9456447959278178]"
      ]
     },
     "execution_count": 123,
     "metadata": {},
     "output_type": "execute_result"
    }
   ],
   "source": [
    "lista_corr_olsms"
   ]
  },
  {
   "cell_type": "code",
   "execution_count": 33,
   "metadata": {},
   "outputs": [
    {
     "data": {
      "text/plain": [
       "5571.781947023385"
      ]
     },
     "execution_count": 33,
     "metadata": {},
     "output_type": "execute_result"
    }
   ],
   "source": [
    "lista_df_ic[5][0].iloc[14].RDT_AJUSTADO"
   ]
  },
  {
   "cell_type": "code",
   "execution_count": 39,
   "metadata": {},
   "outputs": [
    {
     "name": "stdout",
     "output_type": "stream",
     "text": [
      "L_Origonal:  (235, 176)\n"
     ]
    },
    {
     "name": "stderr",
     "output_type": "stream",
     "text": [
      "C:\\Users\\germanm\\AppData\\Local\\Temp\\ipykernel_10184\\3755426873.py:5: FutureWarning: The frame.append method is deprecated and will be removed from pandas in a future version. Use pandas.concat instead.\n",
      "  NG_LW = grupos_definitivos[grupo].append(r.iloc[17],ignore_index = True)\n"
     ]
    },
    {
     "name": "stdout",
     "output_type": "stream",
     "text": [
      "Nuevo r_2:  0.9456495739074439\n",
      "-4.777979626058304e-06\n",
      "(236, 176)\n"
     ]
    }
   ],
   "source": [
    "r = lista_df_ic[5][0]\n",
    "#r = test_original.copy()\n",
    "grupo = 2\n",
    "print(\"L_Origonal: \", grupos_definitivos[grupo].shape)\n",
    "NG_LW = grupos_definitivos[grupo].append(r.iloc[17],ignore_index = True)\n",
    "# Obtengo el R2 nuevo\n",
    "#new_r2= LinearRegessionv2(NG_LW,0.1, 0.97).CalcularModeloLR()\n",
    "new_r2, mod= LinearRegessionOLMS(NG_LW)\n",
    "# Obtengo la diferencia de variaciones\n",
    "diff_corr = lista_corr_olsms[grupo]- new_r2\n",
    "print(diff_corr)\n",
    "print(NG_LW.shape)"
   ]
  },
  {
   "cell_type": "code",
   "execution_count": 124,
   "metadata": {},
   "outputs": [],
   "source": [
    "'''\n",
    "\n",
    "G0_Lower: DF \n",
    "list_corr: Lista de las correaciones originales para c/grupos\n",
    "'''\n",
    "\n",
    "def calculosTotalCorelaciones(G0_lower, lista_corr_olsms, indice_lista_corr ,grupos_definitivos):\n",
    "    # Obtengo las correlaciones de c/d registro\n",
    "    var_corr = []\n",
    "    for i in range(len(G0_lower)):\n",
    "        NG_LW = grupos_definitivos[indice_lista_corr].append(G0_lower.iloc[i],ignore_index = True)\n",
    "        # Obtengo el R2 nuevo\n",
    "        #new_r2= LinearRegessionv2(NG_LW,0.1, 0.97).CalcularModeloLR()\n",
    "        new_r2,model= LinearRegessionOLMS(NG_LW)\n",
    "        # Obtengo la diferencia de variaciones\n",
    "        diff_corr = lista_corr_olsms[indice_lista_corr]- new_r2\n",
    "        var_corr.append(diff_corr)\n",
    "        # Eliminamos el registro del grupo (ultima posicion)\n",
    "        NG_LW.drop([len(NG_LW) -1],axis=0, inplace=True)\n",
    "        #print(\"Longitud df_final: \", NG_LW.shape)\n",
    "    \n",
    "    return var_corr\n",
    "           \n",
    "\n",
    "\n",
    "def FinalCorreationsDf(lista_df_ic, list_corr, grupos_definitivos):\n",
    "    lista_corr_grups = []\n",
    "    for i in range(len(lista_df_ic)):\n",
    "        df_lw_up = lista_df_ic[i][0]\n",
    "        indice_lista_corr = lista_df_ic[i][1]\n",
    "        print(\"Indice: \", indice_lista_corr)\n",
    "        c_df = calculosTotalCorelaciones(df_lw_up, list_corr, indice_lista_corr,grupos_definitivos)\n",
    "        lista_corr_grups.append(c_df)\n",
    "    \n",
    "    return lista_corr_grups\n"
   ]
  },
  {
   "cell_type": "code",
   "execution_count": 125,
   "metadata": {},
   "outputs": [
    {
     "name": "stdout",
     "output_type": "stream",
     "text": [
      "Indice:  0\n"
     ]
    },
    {
     "name": "stderr",
     "output_type": "stream",
     "text": [
      "C:\\Users\\germanm\\AppData\\Local\\Temp\\ipykernel_32212\\3811758465.py:11: FutureWarning: The frame.append method is deprecated and will be removed from pandas in a future version. Use pandas.concat instead.\n",
      "  NG_LW = grupos_definitivos[indice_lista_corr].append(G0_lower.iloc[i],ignore_index = True)\n"
     ]
    },
    {
     "name": "stdout",
     "output_type": "stream",
     "text": [
      "Nuevo r_2:  0.9533841335739887\n"
     ]
    },
    {
     "name": "stderr",
     "output_type": "stream",
     "text": [
      "C:\\Users\\germanm\\AppData\\Local\\Temp\\ipykernel_32212\\3811758465.py:11: FutureWarning: The frame.append method is deprecated and will be removed from pandas in a future version. Use pandas.concat instead.\n",
      "  NG_LW = grupos_definitivos[indice_lista_corr].append(G0_lower.iloc[i],ignore_index = True)\n"
     ]
    },
    {
     "name": "stdout",
     "output_type": "stream",
     "text": [
      "Nuevo r_2:  0.9544866102923869\n"
     ]
    },
    {
     "name": "stderr",
     "output_type": "stream",
     "text": [
      "C:\\Users\\germanm\\AppData\\Local\\Temp\\ipykernel_32212\\3811758465.py:11: FutureWarning: The frame.append method is deprecated and will be removed from pandas in a future version. Use pandas.concat instead.\n",
      "  NG_LW = grupos_definitivos[indice_lista_corr].append(G0_lower.iloc[i],ignore_index = True)\n"
     ]
    },
    {
     "name": "stdout",
     "output_type": "stream",
     "text": [
      "Nuevo r_2:  0.95322870504479\n"
     ]
    },
    {
     "name": "stderr",
     "output_type": "stream",
     "text": [
      "C:\\Users\\germanm\\AppData\\Local\\Temp\\ipykernel_32212\\3811758465.py:11: FutureWarning: The frame.append method is deprecated and will be removed from pandas in a future version. Use pandas.concat instead.\n",
      "  NG_LW = grupos_definitivos[indice_lista_corr].append(G0_lower.iloc[i],ignore_index = True)\n"
     ]
    },
    {
     "name": "stdout",
     "output_type": "stream",
     "text": [
      "Nuevo r_2:  0.9533944269833221\n"
     ]
    },
    {
     "name": "stderr",
     "output_type": "stream",
     "text": [
      "C:\\Users\\germanm\\AppData\\Local\\Temp\\ipykernel_32212\\3811758465.py:11: FutureWarning: The frame.append method is deprecated and will be removed from pandas in a future version. Use pandas.concat instead.\n",
      "  NG_LW = grupos_definitivos[indice_lista_corr].append(G0_lower.iloc[i],ignore_index = True)\n"
     ]
    },
    {
     "name": "stdout",
     "output_type": "stream",
     "text": [
      "Nuevo r_2:  0.9531542879903266\n"
     ]
    },
    {
     "name": "stderr",
     "output_type": "stream",
     "text": [
      "C:\\Users\\germanm\\AppData\\Local\\Temp\\ipykernel_32212\\3811758465.py:11: FutureWarning: The frame.append method is deprecated and will be removed from pandas in a future version. Use pandas.concat instead.\n",
      "  NG_LW = grupos_definitivos[indice_lista_corr].append(G0_lower.iloc[i],ignore_index = True)\n"
     ]
    },
    {
     "name": "stdout",
     "output_type": "stream",
     "text": [
      "Nuevo r_2:  0.9535300892150574\n"
     ]
    },
    {
     "name": "stderr",
     "output_type": "stream",
     "text": [
      "C:\\Users\\germanm\\AppData\\Local\\Temp\\ipykernel_32212\\3811758465.py:11: FutureWarning: The frame.append method is deprecated and will be removed from pandas in a future version. Use pandas.concat instead.\n",
      "  NG_LW = grupos_definitivos[indice_lista_corr].append(G0_lower.iloc[i],ignore_index = True)\n"
     ]
    },
    {
     "name": "stdout",
     "output_type": "stream",
     "text": [
      "Nuevo r_2:  0.9538606701612593\n"
     ]
    },
    {
     "name": "stderr",
     "output_type": "stream",
     "text": [
      "C:\\Users\\germanm\\AppData\\Local\\Temp\\ipykernel_32212\\3811758465.py:11: FutureWarning: The frame.append method is deprecated and will be removed from pandas in a future version. Use pandas.concat instead.\n",
      "  NG_LW = grupos_definitivos[indice_lista_corr].append(G0_lower.iloc[i],ignore_index = True)\n"
     ]
    },
    {
     "name": "stdout",
     "output_type": "stream",
     "text": [
      "Nuevo r_2:  0.9528597532029979\n"
     ]
    },
    {
     "name": "stderr",
     "output_type": "stream",
     "text": [
      "C:\\Users\\germanm\\AppData\\Local\\Temp\\ipykernel_32212\\3811758465.py:11: FutureWarning: The frame.append method is deprecated and will be removed from pandas in a future version. Use pandas.concat instead.\n",
      "  NG_LW = grupos_definitivos[indice_lista_corr].append(G0_lower.iloc[i],ignore_index = True)\n"
     ]
    },
    {
     "name": "stdout",
     "output_type": "stream",
     "text": [
      "Nuevo r_2:  0.9533361019641404\n"
     ]
    },
    {
     "name": "stderr",
     "output_type": "stream",
     "text": [
      "C:\\Users\\germanm\\AppData\\Local\\Temp\\ipykernel_32212\\3811758465.py:11: FutureWarning: The frame.append method is deprecated and will be removed from pandas in a future version. Use pandas.concat instead.\n",
      "  NG_LW = grupos_definitivos[indice_lista_corr].append(G0_lower.iloc[i],ignore_index = True)\n"
     ]
    },
    {
     "name": "stdout",
     "output_type": "stream",
     "text": [
      "Nuevo r_2:  0.9531181533254196\n"
     ]
    },
    {
     "name": "stderr",
     "output_type": "stream",
     "text": [
      "C:\\Users\\germanm\\AppData\\Local\\Temp\\ipykernel_32212\\3811758465.py:11: FutureWarning: The frame.append method is deprecated and will be removed from pandas in a future version. Use pandas.concat instead.\n",
      "  NG_LW = grupos_definitivos[indice_lista_corr].append(G0_lower.iloc[i],ignore_index = True)\n"
     ]
    },
    {
     "name": "stdout",
     "output_type": "stream",
     "text": [
      "Nuevo r_2:  0.9536058561964096\n"
     ]
    },
    {
     "name": "stderr",
     "output_type": "stream",
     "text": [
      "C:\\Users\\germanm\\AppData\\Local\\Temp\\ipykernel_32212\\3811758465.py:11: FutureWarning: The frame.append method is deprecated and will be removed from pandas in a future version. Use pandas.concat instead.\n",
      "  NG_LW = grupos_definitivos[indice_lista_corr].append(G0_lower.iloc[i],ignore_index = True)\n"
     ]
    },
    {
     "name": "stdout",
     "output_type": "stream",
     "text": [
      "Nuevo r_2:  0.9531930658916631\n"
     ]
    },
    {
     "name": "stderr",
     "output_type": "stream",
     "text": [
      "C:\\Users\\germanm\\AppData\\Local\\Temp\\ipykernel_32212\\3811758465.py:11: FutureWarning: The frame.append method is deprecated and will be removed from pandas in a future version. Use pandas.concat instead.\n",
      "  NG_LW = grupos_definitivos[indice_lista_corr].append(G0_lower.iloc[i],ignore_index = True)\n"
     ]
    },
    {
     "name": "stdout",
     "output_type": "stream",
     "text": [
      "Nuevo r_2:  0.954518919559343\n"
     ]
    },
    {
     "name": "stderr",
     "output_type": "stream",
     "text": [
      "C:\\Users\\germanm\\AppData\\Local\\Temp\\ipykernel_32212\\3811758465.py:11: FutureWarning: The frame.append method is deprecated and will be removed from pandas in a future version. Use pandas.concat instead.\n",
      "  NG_LW = grupos_definitivos[indice_lista_corr].append(G0_lower.iloc[i],ignore_index = True)\n"
     ]
    },
    {
     "name": "stdout",
     "output_type": "stream",
     "text": [
      "Nuevo r_2:  0.9533599878667905\n"
     ]
    },
    {
     "name": "stderr",
     "output_type": "stream",
     "text": [
      "C:\\Users\\germanm\\AppData\\Local\\Temp\\ipykernel_32212\\3811758465.py:11: FutureWarning: The frame.append method is deprecated and will be removed from pandas in a future version. Use pandas.concat instead.\n",
      "  NG_LW = grupos_definitivos[indice_lista_corr].append(G0_lower.iloc[i],ignore_index = True)\n"
     ]
    },
    {
     "name": "stdout",
     "output_type": "stream",
     "text": [
      "Nuevo r_2:  0.9530269841617256\n"
     ]
    },
    {
     "name": "stderr",
     "output_type": "stream",
     "text": [
      "C:\\Users\\germanm\\AppData\\Local\\Temp\\ipykernel_32212\\3811758465.py:11: FutureWarning: The frame.append method is deprecated and will be removed from pandas in a future version. Use pandas.concat instead.\n",
      "  NG_LW = grupos_definitivos[indice_lista_corr].append(G0_lower.iloc[i],ignore_index = True)\n"
     ]
    },
    {
     "name": "stdout",
     "output_type": "stream",
     "text": [
      "Nuevo r_2:  0.9539477172202825\n"
     ]
    },
    {
     "name": "stderr",
     "output_type": "stream",
     "text": [
      "C:\\Users\\germanm\\AppData\\Local\\Temp\\ipykernel_32212\\3811758465.py:11: FutureWarning: The frame.append method is deprecated and will be removed from pandas in a future version. Use pandas.concat instead.\n",
      "  NG_LW = grupos_definitivos[indice_lista_corr].append(G0_lower.iloc[i],ignore_index = True)\n"
     ]
    },
    {
     "name": "stdout",
     "output_type": "stream",
     "text": [
      "Nuevo r_2:  0.9530240502310464\n"
     ]
    },
    {
     "name": "stderr",
     "output_type": "stream",
     "text": [
      "C:\\Users\\germanm\\AppData\\Local\\Temp\\ipykernel_32212\\3811758465.py:11: FutureWarning: The frame.append method is deprecated and will be removed from pandas in a future version. Use pandas.concat instead.\n",
      "  NG_LW = grupos_definitivos[indice_lista_corr].append(G0_lower.iloc[i],ignore_index = True)\n"
     ]
    },
    {
     "name": "stdout",
     "output_type": "stream",
     "text": [
      "Nuevo r_2:  0.9535608041109477\n"
     ]
    },
    {
     "name": "stderr",
     "output_type": "stream",
     "text": [
      "C:\\Users\\germanm\\AppData\\Local\\Temp\\ipykernel_32212\\3811758465.py:11: FutureWarning: The frame.append method is deprecated and will be removed from pandas in a future version. Use pandas.concat instead.\n",
      "  NG_LW = grupos_definitivos[indice_lista_corr].append(G0_lower.iloc[i],ignore_index = True)\n"
     ]
    },
    {
     "name": "stdout",
     "output_type": "stream",
     "text": [
      "Nuevo r_2:  0.9529416155616831\n"
     ]
    },
    {
     "name": "stderr",
     "output_type": "stream",
     "text": [
      "C:\\Users\\germanm\\AppData\\Local\\Temp\\ipykernel_32212\\3811758465.py:11: FutureWarning: The frame.append method is deprecated and will be removed from pandas in a future version. Use pandas.concat instead.\n",
      "  NG_LW = grupos_definitivos[indice_lista_corr].append(G0_lower.iloc[i],ignore_index = True)\n"
     ]
    },
    {
     "name": "stdout",
     "output_type": "stream",
     "text": [
      "Nuevo r_2:  0.9533906328682773\n"
     ]
    },
    {
     "name": "stderr",
     "output_type": "stream",
     "text": [
      "C:\\Users\\germanm\\AppData\\Local\\Temp\\ipykernel_32212\\3811758465.py:11: FutureWarning: The frame.append method is deprecated and will be removed from pandas in a future version. Use pandas.concat instead.\n",
      "  NG_LW = grupos_definitivos[indice_lista_corr].append(G0_lower.iloc[i],ignore_index = True)\n"
     ]
    },
    {
     "name": "stdout",
     "output_type": "stream",
     "text": [
      "Nuevo r_2:  0.953684401451725\n"
     ]
    },
    {
     "name": "stderr",
     "output_type": "stream",
     "text": [
      "C:\\Users\\germanm\\AppData\\Local\\Temp\\ipykernel_32212\\3811758465.py:11: FutureWarning: The frame.append method is deprecated and will be removed from pandas in a future version. Use pandas.concat instead.\n",
      "  NG_LW = grupos_definitivos[indice_lista_corr].append(G0_lower.iloc[i],ignore_index = True)\n"
     ]
    },
    {
     "name": "stdout",
     "output_type": "stream",
     "text": [
      "Nuevo r_2:  0.9533217951734985\n"
     ]
    },
    {
     "name": "stderr",
     "output_type": "stream",
     "text": [
      "C:\\Users\\germanm\\AppData\\Local\\Temp\\ipykernel_32212\\3811758465.py:11: FutureWarning: The frame.append method is deprecated and will be removed from pandas in a future version. Use pandas.concat instead.\n",
      "  NG_LW = grupos_definitivos[indice_lista_corr].append(G0_lower.iloc[i],ignore_index = True)\n"
     ]
    },
    {
     "name": "stdout",
     "output_type": "stream",
     "text": [
      "Nuevo r_2:  0.9541049087873938\n"
     ]
    },
    {
     "name": "stderr",
     "output_type": "stream",
     "text": [
      "C:\\Users\\germanm\\AppData\\Local\\Temp\\ipykernel_32212\\3811758465.py:11: FutureWarning: The frame.append method is deprecated and will be removed from pandas in a future version. Use pandas.concat instead.\n",
      "  NG_LW = grupos_definitivos[indice_lista_corr].append(G0_lower.iloc[i],ignore_index = True)\n"
     ]
    },
    {
     "name": "stdout",
     "output_type": "stream",
     "text": [
      "Nuevo r_2:  0.9530069841021297\n"
     ]
    },
    {
     "name": "stderr",
     "output_type": "stream",
     "text": [
      "C:\\Users\\germanm\\AppData\\Local\\Temp\\ipykernel_32212\\3811758465.py:11: FutureWarning: The frame.append method is deprecated and will be removed from pandas in a future version. Use pandas.concat instead.\n",
      "  NG_LW = grupos_definitivos[indice_lista_corr].append(G0_lower.iloc[i],ignore_index = True)\n"
     ]
    },
    {
     "name": "stdout",
     "output_type": "stream",
     "text": [
      "Nuevo r_2:  0.9538835356567107\n"
     ]
    },
    {
     "name": "stderr",
     "output_type": "stream",
     "text": [
      "C:\\Users\\germanm\\AppData\\Local\\Temp\\ipykernel_32212\\3811758465.py:11: FutureWarning: The frame.append method is deprecated and will be removed from pandas in a future version. Use pandas.concat instead.\n",
      "  NG_LW = grupos_definitivos[indice_lista_corr].append(G0_lower.iloc[i],ignore_index = True)\n"
     ]
    },
    {
     "name": "stdout",
     "output_type": "stream",
     "text": [
      "Nuevo r_2:  0.9531892608658433\n"
     ]
    },
    {
     "name": "stderr",
     "output_type": "stream",
     "text": [
      "C:\\Users\\germanm\\AppData\\Local\\Temp\\ipykernel_32212\\3811758465.py:11: FutureWarning: The frame.append method is deprecated and will be removed from pandas in a future version. Use pandas.concat instead.\n",
      "  NG_LW = grupos_definitivos[indice_lista_corr].append(G0_lower.iloc[i],ignore_index = True)\n"
     ]
    },
    {
     "name": "stdout",
     "output_type": "stream",
     "text": [
      "Nuevo r_2:  0.9529707019522633\n"
     ]
    },
    {
     "name": "stderr",
     "output_type": "stream",
     "text": [
      "C:\\Users\\germanm\\AppData\\Local\\Temp\\ipykernel_32212\\3811758465.py:11: FutureWarning: The frame.append method is deprecated and will be removed from pandas in a future version. Use pandas.concat instead.\n",
      "  NG_LW = grupos_definitivos[indice_lista_corr].append(G0_lower.iloc[i],ignore_index = True)\n"
     ]
    },
    {
     "name": "stdout",
     "output_type": "stream",
     "text": [
      "Nuevo r_2:  0.9531743467467592\n"
     ]
    },
    {
     "name": "stderr",
     "output_type": "stream",
     "text": [
      "C:\\Users\\germanm\\AppData\\Local\\Temp\\ipykernel_32212\\3811758465.py:11: FutureWarning: The frame.append method is deprecated and will be removed from pandas in a future version. Use pandas.concat instead.\n",
      "  NG_LW = grupos_definitivos[indice_lista_corr].append(G0_lower.iloc[i],ignore_index = True)\n"
     ]
    },
    {
     "name": "stdout",
     "output_type": "stream",
     "text": [
      "Nuevo r_2:  0.9531110629010224\n"
     ]
    },
    {
     "name": "stderr",
     "output_type": "stream",
     "text": [
      "C:\\Users\\germanm\\AppData\\Local\\Temp\\ipykernel_32212\\3811758465.py:11: FutureWarning: The frame.append method is deprecated and will be removed from pandas in a future version. Use pandas.concat instead.\n",
      "  NG_LW = grupos_definitivos[indice_lista_corr].append(G0_lower.iloc[i],ignore_index = True)\n"
     ]
    },
    {
     "name": "stdout",
     "output_type": "stream",
     "text": [
      "Nuevo r_2:  0.9532723922169172\n"
     ]
    },
    {
     "name": "stderr",
     "output_type": "stream",
     "text": [
      "C:\\Users\\germanm\\AppData\\Local\\Temp\\ipykernel_32212\\3811758465.py:11: FutureWarning: The frame.append method is deprecated and will be removed from pandas in a future version. Use pandas.concat instead.\n",
      "  NG_LW = grupos_definitivos[indice_lista_corr].append(G0_lower.iloc[i],ignore_index = True)\n"
     ]
    },
    {
     "name": "stdout",
     "output_type": "stream",
     "text": [
      "Nuevo r_2:  0.9535788611618832\n"
     ]
    },
    {
     "name": "stderr",
     "output_type": "stream",
     "text": [
      "C:\\Users\\germanm\\AppData\\Local\\Temp\\ipykernel_32212\\3811758465.py:11: FutureWarning: The frame.append method is deprecated and will be removed from pandas in a future version. Use pandas.concat instead.\n",
      "  NG_LW = grupos_definitivos[indice_lista_corr].append(G0_lower.iloc[i],ignore_index = True)\n"
     ]
    },
    {
     "name": "stdout",
     "output_type": "stream",
     "text": [
      "Nuevo r_2:  0.9532990277802642\n"
     ]
    },
    {
     "name": "stderr",
     "output_type": "stream",
     "text": [
      "C:\\Users\\germanm\\AppData\\Local\\Temp\\ipykernel_32212\\3811758465.py:11: FutureWarning: The frame.append method is deprecated and will be removed from pandas in a future version. Use pandas.concat instead.\n",
      "  NG_LW = grupos_definitivos[indice_lista_corr].append(G0_lower.iloc[i],ignore_index = True)\n"
     ]
    },
    {
     "name": "stdout",
     "output_type": "stream",
     "text": [
      "Nuevo r_2:  0.952894642638861\n"
     ]
    },
    {
     "name": "stderr",
     "output_type": "stream",
     "text": [
      "C:\\Users\\germanm\\AppData\\Local\\Temp\\ipykernel_32212\\3811758465.py:11: FutureWarning: The frame.append method is deprecated and will be removed from pandas in a future version. Use pandas.concat instead.\n",
      "  NG_LW = grupos_definitivos[indice_lista_corr].append(G0_lower.iloc[i],ignore_index = True)\n"
     ]
    },
    {
     "name": "stdout",
     "output_type": "stream",
     "text": [
      "Nuevo r_2:  0.9533113162341497\n"
     ]
    },
    {
     "name": "stderr",
     "output_type": "stream",
     "text": [
      "C:\\Users\\germanm\\AppData\\Local\\Temp\\ipykernel_32212\\3811758465.py:11: FutureWarning: The frame.append method is deprecated and will be removed from pandas in a future version. Use pandas.concat instead.\n",
      "  NG_LW = grupos_definitivos[indice_lista_corr].append(G0_lower.iloc[i],ignore_index = True)\n"
     ]
    },
    {
     "name": "stdout",
     "output_type": "stream",
     "text": [
      "Nuevo r_2:  0.9532508978650225\n"
     ]
    },
    {
     "name": "stderr",
     "output_type": "stream",
     "text": [
      "C:\\Users\\germanm\\AppData\\Local\\Temp\\ipykernel_32212\\3811758465.py:11: FutureWarning: The frame.append method is deprecated and will be removed from pandas in a future version. Use pandas.concat instead.\n",
      "  NG_LW = grupos_definitivos[indice_lista_corr].append(G0_lower.iloc[i],ignore_index = True)\n"
     ]
    },
    {
     "name": "stdout",
     "output_type": "stream",
     "text": [
      "Nuevo r_2:  0.9533204851813816\n"
     ]
    },
    {
     "name": "stderr",
     "output_type": "stream",
     "text": [
      "C:\\Users\\germanm\\AppData\\Local\\Temp\\ipykernel_32212\\3811758465.py:11: FutureWarning: The frame.append method is deprecated and will be removed from pandas in a future version. Use pandas.concat instead.\n",
      "  NG_LW = grupos_definitivos[indice_lista_corr].append(G0_lower.iloc[i],ignore_index = True)\n"
     ]
    },
    {
     "name": "stdout",
     "output_type": "stream",
     "text": [
      "Nuevo r_2:  0.9532509599058095\n"
     ]
    },
    {
     "name": "stderr",
     "output_type": "stream",
     "text": [
      "C:\\Users\\germanm\\AppData\\Local\\Temp\\ipykernel_32212\\3811758465.py:11: FutureWarning: The frame.append method is deprecated and will be removed from pandas in a future version. Use pandas.concat instead.\n",
      "  NG_LW = grupos_definitivos[indice_lista_corr].append(G0_lower.iloc[i],ignore_index = True)\n"
     ]
    },
    {
     "name": "stdout",
     "output_type": "stream",
     "text": [
      "Nuevo r_2:  0.953424208101136\n"
     ]
    },
    {
     "name": "stderr",
     "output_type": "stream",
     "text": [
      "C:\\Users\\germanm\\AppData\\Local\\Temp\\ipykernel_32212\\3811758465.py:11: FutureWarning: The frame.append method is deprecated and will be removed from pandas in a future version. Use pandas.concat instead.\n",
      "  NG_LW = grupos_definitivos[indice_lista_corr].append(G0_lower.iloc[i],ignore_index = True)\n"
     ]
    },
    {
     "name": "stdout",
     "output_type": "stream",
     "text": [
      "Nuevo r_2:  0.9531781210661328\n"
     ]
    },
    {
     "name": "stderr",
     "output_type": "stream",
     "text": [
      "C:\\Users\\germanm\\AppData\\Local\\Temp\\ipykernel_32212\\3811758465.py:11: FutureWarning: The frame.append method is deprecated and will be removed from pandas in a future version. Use pandas.concat instead.\n",
      "  NG_LW = grupos_definitivos[indice_lista_corr].append(G0_lower.iloc[i],ignore_index = True)\n"
     ]
    },
    {
     "name": "stdout",
     "output_type": "stream",
     "text": [
      "Nuevo r_2:  0.9532893577263182\n",
      "Indice:  0\n"
     ]
    },
    {
     "name": "stderr",
     "output_type": "stream",
     "text": [
      "C:\\Users\\germanm\\AppData\\Local\\Temp\\ipykernel_32212\\3811758465.py:11: FutureWarning: The frame.append method is deprecated and will be removed from pandas in a future version. Use pandas.concat instead.\n",
      "  NG_LW = grupos_definitivos[indice_lista_corr].append(G0_lower.iloc[i],ignore_index = True)\n"
     ]
    },
    {
     "name": "stdout",
     "output_type": "stream",
     "text": [
      "Nuevo r_2:  0.9536477126024783\n"
     ]
    },
    {
     "name": "stderr",
     "output_type": "stream",
     "text": [
      "C:\\Users\\germanm\\AppData\\Local\\Temp\\ipykernel_32212\\3811758465.py:11: FutureWarning: The frame.append method is deprecated and will be removed from pandas in a future version. Use pandas.concat instead.\n",
      "  NG_LW = grupos_definitivos[indice_lista_corr].append(G0_lower.iloc[i],ignore_index = True)\n"
     ]
    },
    {
     "name": "stdout",
     "output_type": "stream",
     "text": [
      "Nuevo r_2:  0.9555587208040732\n"
     ]
    },
    {
     "name": "stderr",
     "output_type": "stream",
     "text": [
      "C:\\Users\\germanm\\AppData\\Local\\Temp\\ipykernel_32212\\3811758465.py:11: FutureWarning: The frame.append method is deprecated and will be removed from pandas in a future version. Use pandas.concat instead.\n",
      "  NG_LW = grupos_definitivos[indice_lista_corr].append(G0_lower.iloc[i],ignore_index = True)\n"
     ]
    },
    {
     "name": "stdout",
     "output_type": "stream",
     "text": [
      "Nuevo r_2:  0.9533409378104386\n"
     ]
    },
    {
     "name": "stderr",
     "output_type": "stream",
     "text": [
      "C:\\Users\\germanm\\AppData\\Local\\Temp\\ipykernel_32212\\3811758465.py:11: FutureWarning: The frame.append method is deprecated and will be removed from pandas in a future version. Use pandas.concat instead.\n",
      "  NG_LW = grupos_definitivos[indice_lista_corr].append(G0_lower.iloc[i],ignore_index = True)\n"
     ]
    },
    {
     "name": "stdout",
     "output_type": "stream",
     "text": [
      "Nuevo r_2:  0.9533791801430279\n"
     ]
    },
    {
     "name": "stderr",
     "output_type": "stream",
     "text": [
      "C:\\Users\\germanm\\AppData\\Local\\Temp\\ipykernel_32212\\3811758465.py:11: FutureWarning: The frame.append method is deprecated and will be removed from pandas in a future version. Use pandas.concat instead.\n",
      "  NG_LW = grupos_definitivos[indice_lista_corr].append(G0_lower.iloc[i],ignore_index = True)\n"
     ]
    },
    {
     "name": "stdout",
     "output_type": "stream",
     "text": [
      "Nuevo r_2:  0.9528628335683249\n"
     ]
    },
    {
     "name": "stderr",
     "output_type": "stream",
     "text": [
      "C:\\Users\\germanm\\AppData\\Local\\Temp\\ipykernel_32212\\3811758465.py:11: FutureWarning: The frame.append method is deprecated and will be removed from pandas in a future version. Use pandas.concat instead.\n",
      "  NG_LW = grupos_definitivos[indice_lista_corr].append(G0_lower.iloc[i],ignore_index = True)\n"
     ]
    },
    {
     "name": "stdout",
     "output_type": "stream",
     "text": [
      "Nuevo r_2:  0.9542649347858213\n"
     ]
    },
    {
     "name": "stderr",
     "output_type": "stream",
     "text": [
      "C:\\Users\\germanm\\AppData\\Local\\Temp\\ipykernel_32212\\3811758465.py:11: FutureWarning: The frame.append method is deprecated and will be removed from pandas in a future version. Use pandas.concat instead.\n",
      "  NG_LW = grupos_definitivos[indice_lista_corr].append(G0_lower.iloc[i],ignore_index = True)\n"
     ]
    },
    {
     "name": "stdout",
     "output_type": "stream",
     "text": [
      "Nuevo r_2:  0.9534096551362571\n"
     ]
    },
    {
     "name": "stderr",
     "output_type": "stream",
     "text": [
      "C:\\Users\\germanm\\AppData\\Local\\Temp\\ipykernel_32212\\3811758465.py:11: FutureWarning: The frame.append method is deprecated and will be removed from pandas in a future version. Use pandas.concat instead.\n",
      "  NG_LW = grupos_definitivos[indice_lista_corr].append(G0_lower.iloc[i],ignore_index = True)\n"
     ]
    },
    {
     "name": "stdout",
     "output_type": "stream",
     "text": [
      "Nuevo r_2:  0.9534329425985565\n"
     ]
    },
    {
     "name": "stderr",
     "output_type": "stream",
     "text": [
      "C:\\Users\\germanm\\AppData\\Local\\Temp\\ipykernel_32212\\3811758465.py:11: FutureWarning: The frame.append method is deprecated and will be removed from pandas in a future version. Use pandas.concat instead.\n",
      "  NG_LW = grupos_definitivos[indice_lista_corr].append(G0_lower.iloc[i],ignore_index = True)\n"
     ]
    },
    {
     "name": "stdout",
     "output_type": "stream",
     "text": [
      "Nuevo r_2:  0.9530782205702588\n"
     ]
    },
    {
     "name": "stderr",
     "output_type": "stream",
     "text": [
      "C:\\Users\\germanm\\AppData\\Local\\Temp\\ipykernel_32212\\3811758465.py:11: FutureWarning: The frame.append method is deprecated and will be removed from pandas in a future version. Use pandas.concat instead.\n",
      "  NG_LW = grupos_definitivos[indice_lista_corr].append(G0_lower.iloc[i],ignore_index = True)\n"
     ]
    },
    {
     "name": "stdout",
     "output_type": "stream",
     "text": [
      "Nuevo r_2:  0.9531375382588059\n"
     ]
    },
    {
     "name": "stderr",
     "output_type": "stream",
     "text": [
      "C:\\Users\\germanm\\AppData\\Local\\Temp\\ipykernel_32212\\3811758465.py:11: FutureWarning: The frame.append method is deprecated and will be removed from pandas in a future version. Use pandas.concat instead.\n",
      "  NG_LW = grupos_definitivos[indice_lista_corr].append(G0_lower.iloc[i],ignore_index = True)\n"
     ]
    },
    {
     "name": "stdout",
     "output_type": "stream",
     "text": [
      "Nuevo r_2:  0.9529560336380656\n"
     ]
    },
    {
     "name": "stderr",
     "output_type": "stream",
     "text": [
      "C:\\Users\\germanm\\AppData\\Local\\Temp\\ipykernel_32212\\3811758465.py:11: FutureWarning: The frame.append method is deprecated and will be removed from pandas in a future version. Use pandas.concat instead.\n",
      "  NG_LW = grupos_definitivos[indice_lista_corr].append(G0_lower.iloc[i],ignore_index = True)\n"
     ]
    },
    {
     "name": "stdout",
     "output_type": "stream",
     "text": [
      "Nuevo r_2:  0.9532443668532844\n"
     ]
    },
    {
     "name": "stderr",
     "output_type": "stream",
     "text": [
      "C:\\Users\\germanm\\AppData\\Local\\Temp\\ipykernel_32212\\3811758465.py:11: FutureWarning: The frame.append method is deprecated and will be removed from pandas in a future version. Use pandas.concat instead.\n",
      "  NG_LW = grupos_definitivos[indice_lista_corr].append(G0_lower.iloc[i],ignore_index = True)\n"
     ]
    },
    {
     "name": "stdout",
     "output_type": "stream",
     "text": [
      "Nuevo r_2:  0.9531307602773234\n"
     ]
    },
    {
     "name": "stderr",
     "output_type": "stream",
     "text": [
      "C:\\Users\\germanm\\AppData\\Local\\Temp\\ipykernel_32212\\3811758465.py:11: FutureWarning: The frame.append method is deprecated and will be removed from pandas in a future version. Use pandas.concat instead.\n",
      "  NG_LW = grupos_definitivos[indice_lista_corr].append(G0_lower.iloc[i],ignore_index = True)\n"
     ]
    },
    {
     "name": "stdout",
     "output_type": "stream",
     "text": [
      "Nuevo r_2:  0.9532265545887258\n"
     ]
    },
    {
     "name": "stderr",
     "output_type": "stream",
     "text": [
      "C:\\Users\\germanm\\AppData\\Local\\Temp\\ipykernel_32212\\3811758465.py:11: FutureWarning: The frame.append method is deprecated and will be removed from pandas in a future version. Use pandas.concat instead.\n",
      "  NG_LW = grupos_definitivos[indice_lista_corr].append(G0_lower.iloc[i],ignore_index = True)\n"
     ]
    },
    {
     "name": "stdout",
     "output_type": "stream",
     "text": [
      "Nuevo r_2:  0.9560950003483517\n"
     ]
    },
    {
     "name": "stderr",
     "output_type": "stream",
     "text": [
      "C:\\Users\\germanm\\AppData\\Local\\Temp\\ipykernel_32212\\3811758465.py:11: FutureWarning: The frame.append method is deprecated and will be removed from pandas in a future version. Use pandas.concat instead.\n",
      "  NG_LW = grupos_definitivos[indice_lista_corr].append(G0_lower.iloc[i],ignore_index = True)\n"
     ]
    },
    {
     "name": "stdout",
     "output_type": "stream",
     "text": [
      "Nuevo r_2:  0.953146308290439\n"
     ]
    },
    {
     "name": "stderr",
     "output_type": "stream",
     "text": [
      "C:\\Users\\germanm\\AppData\\Local\\Temp\\ipykernel_32212\\3811758465.py:11: FutureWarning: The frame.append method is deprecated and will be removed from pandas in a future version. Use pandas.concat instead.\n",
      "  NG_LW = grupos_definitivos[indice_lista_corr].append(G0_lower.iloc[i],ignore_index = True)\n"
     ]
    },
    {
     "name": "stdout",
     "output_type": "stream",
     "text": [
      "Nuevo r_2:  0.9532815731136002\n"
     ]
    },
    {
     "name": "stderr",
     "output_type": "stream",
     "text": [
      "C:\\Users\\germanm\\AppData\\Local\\Temp\\ipykernel_32212\\3811758465.py:11: FutureWarning: The frame.append method is deprecated and will be removed from pandas in a future version. Use pandas.concat instead.\n",
      "  NG_LW = grupos_definitivos[indice_lista_corr].append(G0_lower.iloc[i],ignore_index = True)\n"
     ]
    },
    {
     "name": "stdout",
     "output_type": "stream",
     "text": [
      "Nuevo r_2:  0.9538274939917066\n"
     ]
    },
    {
     "name": "stderr",
     "output_type": "stream",
     "text": [
      "C:\\Users\\germanm\\AppData\\Local\\Temp\\ipykernel_32212\\3811758465.py:11: FutureWarning: The frame.append method is deprecated and will be removed from pandas in a future version. Use pandas.concat instead.\n",
      "  NG_LW = grupos_definitivos[indice_lista_corr].append(G0_lower.iloc[i],ignore_index = True)\n"
     ]
    },
    {
     "name": "stdout",
     "output_type": "stream",
     "text": [
      "Nuevo r_2:  0.9533658206114514\n"
     ]
    },
    {
     "name": "stderr",
     "output_type": "stream",
     "text": [
      "C:\\Users\\germanm\\AppData\\Local\\Temp\\ipykernel_32212\\3811758465.py:11: FutureWarning: The frame.append method is deprecated and will be removed from pandas in a future version. Use pandas.concat instead.\n",
      "  NG_LW = grupos_definitivos[indice_lista_corr].append(G0_lower.iloc[i],ignore_index = True)\n"
     ]
    },
    {
     "name": "stdout",
     "output_type": "stream",
     "text": [
      "Nuevo r_2:  0.9535256721483922\n"
     ]
    },
    {
     "name": "stderr",
     "output_type": "stream",
     "text": [
      "C:\\Users\\germanm\\AppData\\Local\\Temp\\ipykernel_32212\\3811758465.py:11: FutureWarning: The frame.append method is deprecated and will be removed from pandas in a future version. Use pandas.concat instead.\n",
      "  NG_LW = grupos_definitivos[indice_lista_corr].append(G0_lower.iloc[i],ignore_index = True)\n"
     ]
    },
    {
     "name": "stdout",
     "output_type": "stream",
     "text": [
      "Nuevo r_2:  0.9533595020494229\n"
     ]
    },
    {
     "name": "stderr",
     "output_type": "stream",
     "text": [
      "C:\\Users\\germanm\\AppData\\Local\\Temp\\ipykernel_32212\\3811758465.py:11: FutureWarning: The frame.append method is deprecated and will be removed from pandas in a future version. Use pandas.concat instead.\n",
      "  NG_LW = grupos_definitivos[indice_lista_corr].append(G0_lower.iloc[i],ignore_index = True)\n"
     ]
    },
    {
     "name": "stdout",
     "output_type": "stream",
     "text": [
      "Nuevo r_2:  0.9530646467103308\n"
     ]
    },
    {
     "name": "stderr",
     "output_type": "stream",
     "text": [
      "C:\\Users\\germanm\\AppData\\Local\\Temp\\ipykernel_32212\\3811758465.py:11: FutureWarning: The frame.append method is deprecated and will be removed from pandas in a future version. Use pandas.concat instead.\n",
      "  NG_LW = grupos_definitivos[indice_lista_corr].append(G0_lower.iloc[i],ignore_index = True)\n"
     ]
    },
    {
     "name": "stdout",
     "output_type": "stream",
     "text": [
      "Nuevo r_2:  0.9532895645886773\n"
     ]
    },
    {
     "name": "stderr",
     "output_type": "stream",
     "text": [
      "C:\\Users\\germanm\\AppData\\Local\\Temp\\ipykernel_32212\\3811758465.py:11: FutureWarning: The frame.append method is deprecated and will be removed from pandas in a future version. Use pandas.concat instead.\n",
      "  NG_LW = grupos_definitivos[indice_lista_corr].append(G0_lower.iloc[i],ignore_index = True)\n"
     ]
    },
    {
     "name": "stdout",
     "output_type": "stream",
     "text": [
      "Nuevo r_2:  0.9531608641912928\n"
     ]
    },
    {
     "name": "stderr",
     "output_type": "stream",
     "text": [
      "C:\\Users\\germanm\\AppData\\Local\\Temp\\ipykernel_32212\\3811758465.py:11: FutureWarning: The frame.append method is deprecated and will be removed from pandas in a future version. Use pandas.concat instead.\n",
      "  NG_LW = grupos_definitivos[indice_lista_corr].append(G0_lower.iloc[i],ignore_index = True)\n"
     ]
    },
    {
     "name": "stdout",
     "output_type": "stream",
     "text": [
      "Nuevo r_2:  0.9554790704612689\n"
     ]
    },
    {
     "name": "stderr",
     "output_type": "stream",
     "text": [
      "C:\\Users\\germanm\\AppData\\Local\\Temp\\ipykernel_32212\\3811758465.py:11: FutureWarning: The frame.append method is deprecated and will be removed from pandas in a future version. Use pandas.concat instead.\n",
      "  NG_LW = grupos_definitivos[indice_lista_corr].append(G0_lower.iloc[i],ignore_index = True)\n"
     ]
    },
    {
     "name": "stdout",
     "output_type": "stream",
     "text": [
      "Nuevo r_2:  0.9530434802886872\n"
     ]
    },
    {
     "name": "stderr",
     "output_type": "stream",
     "text": [
      "C:\\Users\\germanm\\AppData\\Local\\Temp\\ipykernel_32212\\3811758465.py:11: FutureWarning: The frame.append method is deprecated and will be removed from pandas in a future version. Use pandas.concat instead.\n",
      "  NG_LW = grupos_definitivos[indice_lista_corr].append(G0_lower.iloc[i],ignore_index = True)\n"
     ]
    },
    {
     "name": "stdout",
     "output_type": "stream",
     "text": [
      "Nuevo r_2:  0.9529815921104572\n"
     ]
    },
    {
     "name": "stderr",
     "output_type": "stream",
     "text": [
      "C:\\Users\\germanm\\AppData\\Local\\Temp\\ipykernel_32212\\3811758465.py:11: FutureWarning: The frame.append method is deprecated and will be removed from pandas in a future version. Use pandas.concat instead.\n",
      "  NG_LW = grupos_definitivos[indice_lista_corr].append(G0_lower.iloc[i],ignore_index = True)\n"
     ]
    },
    {
     "name": "stdout",
     "output_type": "stream",
     "text": [
      "Nuevo r_2:  0.9531866184402534\n"
     ]
    },
    {
     "name": "stderr",
     "output_type": "stream",
     "text": [
      "C:\\Users\\germanm\\AppData\\Local\\Temp\\ipykernel_32212\\3811758465.py:11: FutureWarning: The frame.append method is deprecated and will be removed from pandas in a future version. Use pandas.concat instead.\n",
      "  NG_LW = grupos_definitivos[indice_lista_corr].append(G0_lower.iloc[i],ignore_index = True)\n"
     ]
    },
    {
     "name": "stdout",
     "output_type": "stream",
     "text": [
      "Nuevo r_2:  0.9534211245636984\n"
     ]
    },
    {
     "name": "stderr",
     "output_type": "stream",
     "text": [
      "C:\\Users\\germanm\\AppData\\Local\\Temp\\ipykernel_32212\\3811758465.py:11: FutureWarning: The frame.append method is deprecated and will be removed from pandas in a future version. Use pandas.concat instead.\n",
      "  NG_LW = grupos_definitivos[indice_lista_corr].append(G0_lower.iloc[i],ignore_index = True)\n"
     ]
    },
    {
     "name": "stdout",
     "output_type": "stream",
     "text": [
      "Nuevo r_2:  0.9533516832251471\n"
     ]
    },
    {
     "name": "stderr",
     "output_type": "stream",
     "text": [
      "C:\\Users\\germanm\\AppData\\Local\\Temp\\ipykernel_32212\\3811758465.py:11: FutureWarning: The frame.append method is deprecated and will be removed from pandas in a future version. Use pandas.concat instead.\n",
      "  NG_LW = grupos_definitivos[indice_lista_corr].append(G0_lower.iloc[i],ignore_index = True)\n"
     ]
    },
    {
     "name": "stdout",
     "output_type": "stream",
     "text": [
      "Nuevo r_2:  0.9533259549277324\n"
     ]
    },
    {
     "name": "stderr",
     "output_type": "stream",
     "text": [
      "C:\\Users\\germanm\\AppData\\Local\\Temp\\ipykernel_32212\\3811758465.py:11: FutureWarning: The frame.append method is deprecated and will be removed from pandas in a future version. Use pandas.concat instead.\n",
      "  NG_LW = grupos_definitivos[indice_lista_corr].append(G0_lower.iloc[i],ignore_index = True)\n"
     ]
    },
    {
     "name": "stdout",
     "output_type": "stream",
     "text": [
      "Nuevo r_2:  0.9533453432997359\n"
     ]
    },
    {
     "name": "stderr",
     "output_type": "stream",
     "text": [
      "C:\\Users\\germanm\\AppData\\Local\\Temp\\ipykernel_32212\\3811758465.py:11: FutureWarning: The frame.append method is deprecated and will be removed from pandas in a future version. Use pandas.concat instead.\n",
      "  NG_LW = grupos_definitivos[indice_lista_corr].append(G0_lower.iloc[i],ignore_index = True)\n"
     ]
    },
    {
     "name": "stdout",
     "output_type": "stream",
     "text": [
      "Nuevo r_2:  0.9537372507020907\n"
     ]
    },
    {
     "name": "stderr",
     "output_type": "stream",
     "text": [
      "C:\\Users\\germanm\\AppData\\Local\\Temp\\ipykernel_32212\\3811758465.py:11: FutureWarning: The frame.append method is deprecated and will be removed from pandas in a future version. Use pandas.concat instead.\n",
      "  NG_LW = grupos_definitivos[indice_lista_corr].append(G0_lower.iloc[i],ignore_index = True)\n"
     ]
    },
    {
     "name": "stdout",
     "output_type": "stream",
     "text": [
      "Nuevo r_2:  0.9533372229360519\n"
     ]
    },
    {
     "name": "stderr",
     "output_type": "stream",
     "text": [
      "C:\\Users\\germanm\\AppData\\Local\\Temp\\ipykernel_32212\\3811758465.py:11: FutureWarning: The frame.append method is deprecated and will be removed from pandas in a future version. Use pandas.concat instead.\n",
      "  NG_LW = grupos_definitivos[indice_lista_corr].append(G0_lower.iloc[i],ignore_index = True)\n"
     ]
    },
    {
     "name": "stdout",
     "output_type": "stream",
     "text": [
      "Nuevo r_2:  0.9532811993429987\n"
     ]
    },
    {
     "name": "stderr",
     "output_type": "stream",
     "text": [
      "C:\\Users\\germanm\\AppData\\Local\\Temp\\ipykernel_32212\\3811758465.py:11: FutureWarning: The frame.append method is deprecated and will be removed from pandas in a future version. Use pandas.concat instead.\n",
      "  NG_LW = grupos_definitivos[indice_lista_corr].append(G0_lower.iloc[i],ignore_index = True)\n"
     ]
    },
    {
     "name": "stdout",
     "output_type": "stream",
     "text": [
      "Nuevo r_2:  0.9530889198702899\n"
     ]
    },
    {
     "name": "stderr",
     "output_type": "stream",
     "text": [
      "C:\\Users\\germanm\\AppData\\Local\\Temp\\ipykernel_32212\\3811758465.py:11: FutureWarning: The frame.append method is deprecated and will be removed from pandas in a future version. Use pandas.concat instead.\n",
      "  NG_LW = grupos_definitivos[indice_lista_corr].append(G0_lower.iloc[i],ignore_index = True)\n"
     ]
    },
    {
     "name": "stdout",
     "output_type": "stream",
     "text": [
      "Nuevo r_2:  0.9532154875815677\n"
     ]
    },
    {
     "name": "stderr",
     "output_type": "stream",
     "text": [
      "C:\\Users\\germanm\\AppData\\Local\\Temp\\ipykernel_32212\\3811758465.py:11: FutureWarning: The frame.append method is deprecated and will be removed from pandas in a future version. Use pandas.concat instead.\n",
      "  NG_LW = grupos_definitivos[indice_lista_corr].append(G0_lower.iloc[i],ignore_index = True)\n"
     ]
    },
    {
     "name": "stdout",
     "output_type": "stream",
     "text": [
      "Nuevo r_2:  0.9532319200168156\n"
     ]
    },
    {
     "name": "stderr",
     "output_type": "stream",
     "text": [
      "C:\\Users\\germanm\\AppData\\Local\\Temp\\ipykernel_32212\\3811758465.py:11: FutureWarning: The frame.append method is deprecated and will be removed from pandas in a future version. Use pandas.concat instead.\n",
      "  NG_LW = grupos_definitivos[indice_lista_corr].append(G0_lower.iloc[i],ignore_index = True)\n"
     ]
    },
    {
     "name": "stdout",
     "output_type": "stream",
     "text": [
      "Nuevo r_2:  0.9531972193835307\n"
     ]
    },
    {
     "name": "stderr",
     "output_type": "stream",
     "text": [
      "C:\\Users\\germanm\\AppData\\Local\\Temp\\ipykernel_32212\\3811758465.py:11: FutureWarning: The frame.append method is deprecated and will be removed from pandas in a future version. Use pandas.concat instead.\n",
      "  NG_LW = grupos_definitivos[indice_lista_corr].append(G0_lower.iloc[i],ignore_index = True)\n"
     ]
    },
    {
     "name": "stdout",
     "output_type": "stream",
     "text": [
      "Nuevo r_2:  0.9534085962459891\n",
      "Indice:  1\n"
     ]
    },
    {
     "name": "stderr",
     "output_type": "stream",
     "text": [
      "C:\\Users\\germanm\\AppData\\Local\\Temp\\ipykernel_32212\\3811758465.py:11: FutureWarning: The frame.append method is deprecated and will be removed from pandas in a future version. Use pandas.concat instead.\n",
      "  NG_LW = grupos_definitivos[indice_lista_corr].append(G0_lower.iloc[i],ignore_index = True)\n"
     ]
    },
    {
     "name": "stdout",
     "output_type": "stream",
     "text": [
      "Nuevo r_2:  0.9503071037097592\n"
     ]
    },
    {
     "name": "stderr",
     "output_type": "stream",
     "text": [
      "C:\\Users\\germanm\\AppData\\Local\\Temp\\ipykernel_32212\\3811758465.py:11: FutureWarning: The frame.append method is deprecated and will be removed from pandas in a future version. Use pandas.concat instead.\n",
      "  NG_LW = grupos_definitivos[indice_lista_corr].append(G0_lower.iloc[i],ignore_index = True)\n"
     ]
    },
    {
     "name": "stdout",
     "output_type": "stream",
     "text": [
      "Nuevo r_2:  0.9503727603273001\n"
     ]
    },
    {
     "name": "stderr",
     "output_type": "stream",
     "text": [
      "C:\\Users\\germanm\\AppData\\Local\\Temp\\ipykernel_32212\\3811758465.py:11: FutureWarning: The frame.append method is deprecated and will be removed from pandas in a future version. Use pandas.concat instead.\n",
      "  NG_LW = grupos_definitivos[indice_lista_corr].append(G0_lower.iloc[i],ignore_index = True)\n"
     ]
    },
    {
     "name": "stdout",
     "output_type": "stream",
     "text": [
      "Nuevo r_2:  0.9503400920792348\n"
     ]
    },
    {
     "name": "stderr",
     "output_type": "stream",
     "text": [
      "C:\\Users\\germanm\\AppData\\Local\\Temp\\ipykernel_32212\\3811758465.py:11: FutureWarning: The frame.append method is deprecated and will be removed from pandas in a future version. Use pandas.concat instead.\n",
      "  NG_LW = grupos_definitivos[indice_lista_corr].append(G0_lower.iloc[i],ignore_index = True)\n"
     ]
    },
    {
     "name": "stdout",
     "output_type": "stream",
     "text": [
      "Nuevo r_2:  0.950401123638909\n"
     ]
    },
    {
     "name": "stderr",
     "output_type": "stream",
     "text": [
      "C:\\Users\\germanm\\AppData\\Local\\Temp\\ipykernel_32212\\3811758465.py:11: FutureWarning: The frame.append method is deprecated and will be removed from pandas in a future version. Use pandas.concat instead.\n",
      "  NG_LW = grupos_definitivos[indice_lista_corr].append(G0_lower.iloc[i],ignore_index = True)\n"
     ]
    },
    {
     "name": "stdout",
     "output_type": "stream",
     "text": [
      "Nuevo r_2:  0.9500815149099462\n"
     ]
    },
    {
     "name": "stderr",
     "output_type": "stream",
     "text": [
      "C:\\Users\\germanm\\AppData\\Local\\Temp\\ipykernel_32212\\3811758465.py:11: FutureWarning: The frame.append method is deprecated and will be removed from pandas in a future version. Use pandas.concat instead.\n",
      "  NG_LW = grupos_definitivos[indice_lista_corr].append(G0_lower.iloc[i],ignore_index = True)\n"
     ]
    },
    {
     "name": "stdout",
     "output_type": "stream",
     "text": [
      "Nuevo r_2:  0.9506302544032471\n"
     ]
    },
    {
     "name": "stderr",
     "output_type": "stream",
     "text": [
      "C:\\Users\\germanm\\AppData\\Local\\Temp\\ipykernel_32212\\3811758465.py:11: FutureWarning: The frame.append method is deprecated and will be removed from pandas in a future version. Use pandas.concat instead.\n",
      "  NG_LW = grupos_definitivos[indice_lista_corr].append(G0_lower.iloc[i],ignore_index = True)\n"
     ]
    },
    {
     "name": "stdout",
     "output_type": "stream",
     "text": [
      "Nuevo r_2:  0.9501232983417208\n"
     ]
    },
    {
     "name": "stderr",
     "output_type": "stream",
     "text": [
      "C:\\Users\\germanm\\AppData\\Local\\Temp\\ipykernel_32212\\3811758465.py:11: FutureWarning: The frame.append method is deprecated and will be removed from pandas in a future version. Use pandas.concat instead.\n",
      "  NG_LW = grupos_definitivos[indice_lista_corr].append(G0_lower.iloc[i],ignore_index = True)\n"
     ]
    },
    {
     "name": "stdout",
     "output_type": "stream",
     "text": [
      "Nuevo r_2:  0.9512122141313445\n"
     ]
    },
    {
     "name": "stderr",
     "output_type": "stream",
     "text": [
      "C:\\Users\\germanm\\AppData\\Local\\Temp\\ipykernel_32212\\3811758465.py:11: FutureWarning: The frame.append method is deprecated and will be removed from pandas in a future version. Use pandas.concat instead.\n",
      "  NG_LW = grupos_definitivos[indice_lista_corr].append(G0_lower.iloc[i],ignore_index = True)\n"
     ]
    },
    {
     "name": "stdout",
     "output_type": "stream",
     "text": [
      "Nuevo r_2:  0.9502830636625764\n"
     ]
    },
    {
     "name": "stderr",
     "output_type": "stream",
     "text": [
      "C:\\Users\\germanm\\AppData\\Local\\Temp\\ipykernel_32212\\3811758465.py:11: FutureWarning: The frame.append method is deprecated and will be removed from pandas in a future version. Use pandas.concat instead.\n",
      "  NG_LW = grupos_definitivos[indice_lista_corr].append(G0_lower.iloc[i],ignore_index = True)\n"
     ]
    },
    {
     "name": "stdout",
     "output_type": "stream",
     "text": [
      "Nuevo r_2:  0.9503667709476301\n"
     ]
    },
    {
     "name": "stderr",
     "output_type": "stream",
     "text": [
      "C:\\Users\\germanm\\AppData\\Local\\Temp\\ipykernel_32212\\3811758465.py:11: FutureWarning: The frame.append method is deprecated and will be removed from pandas in a future version. Use pandas.concat instead.\n",
      "  NG_LW = grupos_definitivos[indice_lista_corr].append(G0_lower.iloc[i],ignore_index = True)\n"
     ]
    },
    {
     "name": "stdout",
     "output_type": "stream",
     "text": [
      "Nuevo r_2:  0.9517450200565355\n"
     ]
    },
    {
     "name": "stderr",
     "output_type": "stream",
     "text": [
      "C:\\Users\\germanm\\AppData\\Local\\Temp\\ipykernel_32212\\3811758465.py:11: FutureWarning: The frame.append method is deprecated and will be removed from pandas in a future version. Use pandas.concat instead.\n",
      "  NG_LW = grupos_definitivos[indice_lista_corr].append(G0_lower.iloc[i],ignore_index = True)\n"
     ]
    },
    {
     "name": "stdout",
     "output_type": "stream",
     "text": [
      "Nuevo r_2:  0.950972717171005\n"
     ]
    },
    {
     "name": "stderr",
     "output_type": "stream",
     "text": [
      "C:\\Users\\germanm\\AppData\\Local\\Temp\\ipykernel_32212\\3811758465.py:11: FutureWarning: The frame.append method is deprecated and will be removed from pandas in a future version. Use pandas.concat instead.\n",
      "  NG_LW = grupos_definitivos[indice_lista_corr].append(G0_lower.iloc[i],ignore_index = True)\n"
     ]
    },
    {
     "name": "stdout",
     "output_type": "stream",
     "text": [
      "Nuevo r_2:  0.950667600621328\n"
     ]
    },
    {
     "name": "stderr",
     "output_type": "stream",
     "text": [
      "C:\\Users\\germanm\\AppData\\Local\\Temp\\ipykernel_32212\\3811758465.py:11: FutureWarning: The frame.append method is deprecated and will be removed from pandas in a future version. Use pandas.concat instead.\n",
      "  NG_LW = grupos_definitivos[indice_lista_corr].append(G0_lower.iloc[i],ignore_index = True)\n"
     ]
    },
    {
     "name": "stdout",
     "output_type": "stream",
     "text": [
      "Nuevo r_2:  0.9505209284654618\n"
     ]
    },
    {
     "name": "stderr",
     "output_type": "stream",
     "text": [
      "C:\\Users\\germanm\\AppData\\Local\\Temp\\ipykernel_32212\\3811758465.py:11: FutureWarning: The frame.append method is deprecated and will be removed from pandas in a future version. Use pandas.concat instead.\n",
      "  NG_LW = grupos_definitivos[indice_lista_corr].append(G0_lower.iloc[i],ignore_index = True)\n"
     ]
    },
    {
     "name": "stdout",
     "output_type": "stream",
     "text": [
      "Nuevo r_2:  0.9516484827566885\n"
     ]
    },
    {
     "name": "stderr",
     "output_type": "stream",
     "text": [
      "C:\\Users\\germanm\\AppData\\Local\\Temp\\ipykernel_32212\\3811758465.py:11: FutureWarning: The frame.append method is deprecated and will be removed from pandas in a future version. Use pandas.concat instead.\n",
      "  NG_LW = grupos_definitivos[indice_lista_corr].append(G0_lower.iloc[i],ignore_index = True)\n"
     ]
    },
    {
     "name": "stdout",
     "output_type": "stream",
     "text": [
      "Nuevo r_2:  0.9502148152941063\n"
     ]
    },
    {
     "name": "stderr",
     "output_type": "stream",
     "text": [
      "C:\\Users\\germanm\\AppData\\Local\\Temp\\ipykernel_32212\\3811758465.py:11: FutureWarning: The frame.append method is deprecated and will be removed from pandas in a future version. Use pandas.concat instead.\n",
      "  NG_LW = grupos_definitivos[indice_lista_corr].append(G0_lower.iloc[i],ignore_index = True)\n"
     ]
    },
    {
     "name": "stdout",
     "output_type": "stream",
     "text": [
      "Nuevo r_2:  0.9500329332366731\n"
     ]
    },
    {
     "name": "stderr",
     "output_type": "stream",
     "text": [
      "C:\\Users\\germanm\\AppData\\Local\\Temp\\ipykernel_32212\\3811758465.py:11: FutureWarning: The frame.append method is deprecated and will be removed from pandas in a future version. Use pandas.concat instead.\n",
      "  NG_LW = grupos_definitivos[indice_lista_corr].append(G0_lower.iloc[i],ignore_index = True)\n"
     ]
    },
    {
     "name": "stdout",
     "output_type": "stream",
     "text": [
      "Nuevo r_2:  0.9503281676062793\n"
     ]
    },
    {
     "name": "stderr",
     "output_type": "stream",
     "text": [
      "C:\\Users\\germanm\\AppData\\Local\\Temp\\ipykernel_32212\\3811758465.py:11: FutureWarning: The frame.append method is deprecated and will be removed from pandas in a future version. Use pandas.concat instead.\n",
      "  NG_LW = grupos_definitivos[indice_lista_corr].append(G0_lower.iloc[i],ignore_index = True)\n"
     ]
    },
    {
     "name": "stdout",
     "output_type": "stream",
     "text": [
      "Nuevo r_2:  0.9504328216399904\n"
     ]
    },
    {
     "name": "stderr",
     "output_type": "stream",
     "text": [
      "C:\\Users\\germanm\\AppData\\Local\\Temp\\ipykernel_32212\\3811758465.py:11: FutureWarning: The frame.append method is deprecated and will be removed from pandas in a future version. Use pandas.concat instead.\n",
      "  NG_LW = grupos_definitivos[indice_lista_corr].append(G0_lower.iloc[i],ignore_index = True)\n"
     ]
    },
    {
     "name": "stdout",
     "output_type": "stream",
     "text": [
      "Nuevo r_2:  0.950524332785733\n"
     ]
    },
    {
     "name": "stderr",
     "output_type": "stream",
     "text": [
      "C:\\Users\\germanm\\AppData\\Local\\Temp\\ipykernel_32212\\3811758465.py:11: FutureWarning: The frame.append method is deprecated and will be removed from pandas in a future version. Use pandas.concat instead.\n",
      "  NG_LW = grupos_definitivos[indice_lista_corr].append(G0_lower.iloc[i],ignore_index = True)\n"
     ]
    },
    {
     "name": "stdout",
     "output_type": "stream",
     "text": [
      "Nuevo r_2:  0.9504661895896864\n"
     ]
    },
    {
     "name": "stderr",
     "output_type": "stream",
     "text": [
      "C:\\Users\\germanm\\AppData\\Local\\Temp\\ipykernel_32212\\3811758465.py:11: FutureWarning: The frame.append method is deprecated and will be removed from pandas in a future version. Use pandas.concat instead.\n",
      "  NG_LW = grupos_definitivos[indice_lista_corr].append(G0_lower.iloc[i],ignore_index = True)\n"
     ]
    },
    {
     "name": "stdout",
     "output_type": "stream",
     "text": [
      "Nuevo r_2:  0.9502191776375534\n"
     ]
    },
    {
     "name": "stderr",
     "output_type": "stream",
     "text": [
      "C:\\Users\\germanm\\AppData\\Local\\Temp\\ipykernel_32212\\3811758465.py:11: FutureWarning: The frame.append method is deprecated and will be removed from pandas in a future version. Use pandas.concat instead.\n",
      "  NG_LW = grupos_definitivos[indice_lista_corr].append(G0_lower.iloc[i],ignore_index = True)\n"
     ]
    },
    {
     "name": "stdout",
     "output_type": "stream",
     "text": [
      "Nuevo r_2:  0.950575204566873\n"
     ]
    },
    {
     "name": "stderr",
     "output_type": "stream",
     "text": [
      "C:\\Users\\germanm\\AppData\\Local\\Temp\\ipykernel_32212\\3811758465.py:11: FutureWarning: The frame.append method is deprecated and will be removed from pandas in a future version. Use pandas.concat instead.\n",
      "  NG_LW = grupos_definitivos[indice_lista_corr].append(G0_lower.iloc[i],ignore_index = True)\n"
     ]
    },
    {
     "name": "stdout",
     "output_type": "stream",
     "text": [
      "Nuevo r_2:  0.9506011542148083\n"
     ]
    },
    {
     "name": "stderr",
     "output_type": "stream",
     "text": [
      "C:\\Users\\germanm\\AppData\\Local\\Temp\\ipykernel_32212\\3811758465.py:11: FutureWarning: The frame.append method is deprecated and will be removed from pandas in a future version. Use pandas.concat instead.\n",
      "  NG_LW = grupos_definitivos[indice_lista_corr].append(G0_lower.iloc[i],ignore_index = True)\n"
     ]
    },
    {
     "name": "stdout",
     "output_type": "stream",
     "text": [
      "Nuevo r_2:  0.9503834817571413\n"
     ]
    },
    {
     "name": "stderr",
     "output_type": "stream",
     "text": [
      "C:\\Users\\germanm\\AppData\\Local\\Temp\\ipykernel_32212\\3811758465.py:11: FutureWarning: The frame.append method is deprecated and will be removed from pandas in a future version. Use pandas.concat instead.\n",
      "  NG_LW = grupos_definitivos[indice_lista_corr].append(G0_lower.iloc[i],ignore_index = True)\n"
     ]
    },
    {
     "name": "stdout",
     "output_type": "stream",
     "text": [
      "Nuevo r_2:  0.952019579922209\n"
     ]
    },
    {
     "name": "stderr",
     "output_type": "stream",
     "text": [
      "C:\\Users\\germanm\\AppData\\Local\\Temp\\ipykernel_32212\\3811758465.py:11: FutureWarning: The frame.append method is deprecated and will be removed from pandas in a future version. Use pandas.concat instead.\n",
      "  NG_LW = grupos_definitivos[indice_lista_corr].append(G0_lower.iloc[i],ignore_index = True)\n"
     ]
    },
    {
     "name": "stdout",
     "output_type": "stream",
     "text": [
      "Nuevo r_2:  0.9526607200527384\n"
     ]
    },
    {
     "name": "stderr",
     "output_type": "stream",
     "text": [
      "C:\\Users\\germanm\\AppData\\Local\\Temp\\ipykernel_32212\\3811758465.py:11: FutureWarning: The frame.append method is deprecated and will be removed from pandas in a future version. Use pandas.concat instead.\n",
      "  NG_LW = grupos_definitivos[indice_lista_corr].append(G0_lower.iloc[i],ignore_index = True)\n"
     ]
    },
    {
     "name": "stdout",
     "output_type": "stream",
     "text": [
      "Nuevo r_2:  0.9506220390778173\n"
     ]
    },
    {
     "name": "stderr",
     "output_type": "stream",
     "text": [
      "C:\\Users\\germanm\\AppData\\Local\\Temp\\ipykernel_32212\\3811758465.py:11: FutureWarning: The frame.append method is deprecated and will be removed from pandas in a future version. Use pandas.concat instead.\n",
      "  NG_LW = grupos_definitivos[indice_lista_corr].append(G0_lower.iloc[i],ignore_index = True)\n"
     ]
    },
    {
     "name": "stdout",
     "output_type": "stream",
     "text": [
      "Nuevo r_2:  0.9511739100936171\n"
     ]
    },
    {
     "name": "stderr",
     "output_type": "stream",
     "text": [
      "C:\\Users\\germanm\\AppData\\Local\\Temp\\ipykernel_32212\\3811758465.py:11: FutureWarning: The frame.append method is deprecated and will be removed from pandas in a future version. Use pandas.concat instead.\n",
      "  NG_LW = grupos_definitivos[indice_lista_corr].append(G0_lower.iloc[i],ignore_index = True)\n"
     ]
    },
    {
     "name": "stdout",
     "output_type": "stream",
     "text": [
      "Nuevo r_2:  0.9503157552982897\n"
     ]
    },
    {
     "name": "stderr",
     "output_type": "stream",
     "text": [
      "C:\\Users\\germanm\\AppData\\Local\\Temp\\ipykernel_32212\\3811758465.py:11: FutureWarning: The frame.append method is deprecated and will be removed from pandas in a future version. Use pandas.concat instead.\n",
      "  NG_LW = grupos_definitivos[indice_lista_corr].append(G0_lower.iloc[i],ignore_index = True)\n"
     ]
    },
    {
     "name": "stdout",
     "output_type": "stream",
     "text": [
      "Nuevo r_2:  0.9503127072425666\n"
     ]
    },
    {
     "name": "stderr",
     "output_type": "stream",
     "text": [
      "C:\\Users\\germanm\\AppData\\Local\\Temp\\ipykernel_32212\\3811758465.py:11: FutureWarning: The frame.append method is deprecated and will be removed from pandas in a future version. Use pandas.concat instead.\n",
      "  NG_LW = grupos_definitivos[indice_lista_corr].append(G0_lower.iloc[i],ignore_index = True)\n"
     ]
    },
    {
     "name": "stdout",
     "output_type": "stream",
     "text": [
      "Nuevo r_2:  0.950539666558486\n"
     ]
    },
    {
     "name": "stderr",
     "output_type": "stream",
     "text": [
      "C:\\Users\\germanm\\AppData\\Local\\Temp\\ipykernel_32212\\3811758465.py:11: FutureWarning: The frame.append method is deprecated and will be removed from pandas in a future version. Use pandas.concat instead.\n",
      "  NG_LW = grupos_definitivos[indice_lista_corr].append(G0_lower.iloc[i],ignore_index = True)\n"
     ]
    },
    {
     "name": "stdout",
     "output_type": "stream",
     "text": [
      "Nuevo r_2:  0.9499008541005067\n"
     ]
    },
    {
     "name": "stderr",
     "output_type": "stream",
     "text": [
      "C:\\Users\\germanm\\AppData\\Local\\Temp\\ipykernel_32212\\3811758465.py:11: FutureWarning: The frame.append method is deprecated and will be removed from pandas in a future version. Use pandas.concat instead.\n",
      "  NG_LW = grupos_definitivos[indice_lista_corr].append(G0_lower.iloc[i],ignore_index = True)\n"
     ]
    },
    {
     "name": "stdout",
     "output_type": "stream",
     "text": [
      "Nuevo r_2:  0.950441866296777\n"
     ]
    },
    {
     "name": "stderr",
     "output_type": "stream",
     "text": [
      "C:\\Users\\germanm\\AppData\\Local\\Temp\\ipykernel_32212\\3811758465.py:11: FutureWarning: The frame.append method is deprecated and will be removed from pandas in a future version. Use pandas.concat instead.\n",
      "  NG_LW = grupos_definitivos[indice_lista_corr].append(G0_lower.iloc[i],ignore_index = True)\n"
     ]
    },
    {
     "name": "stdout",
     "output_type": "stream",
     "text": [
      "Nuevo r_2:  0.9503734898925557\n"
     ]
    },
    {
     "name": "stderr",
     "output_type": "stream",
     "text": [
      "C:\\Users\\germanm\\AppData\\Local\\Temp\\ipykernel_32212\\3811758465.py:11: FutureWarning: The frame.append method is deprecated and will be removed from pandas in a future version. Use pandas.concat instead.\n",
      "  NG_LW = grupos_definitivos[indice_lista_corr].append(G0_lower.iloc[i],ignore_index = True)\n"
     ]
    },
    {
     "name": "stdout",
     "output_type": "stream",
     "text": [
      "Nuevo r_2:  0.9505796179408388\n"
     ]
    },
    {
     "name": "stderr",
     "output_type": "stream",
     "text": [
      "C:\\Users\\germanm\\AppData\\Local\\Temp\\ipykernel_32212\\3811758465.py:11: FutureWarning: The frame.append method is deprecated and will be removed from pandas in a future version. Use pandas.concat instead.\n",
      "  NG_LW = grupos_definitivos[indice_lista_corr].append(G0_lower.iloc[i],ignore_index = True)\n"
     ]
    },
    {
     "name": "stdout",
     "output_type": "stream",
     "text": [
      "Nuevo r_2:  0.9506525359268555\n"
     ]
    },
    {
     "name": "stderr",
     "output_type": "stream",
     "text": [
      "C:\\Users\\germanm\\AppData\\Local\\Temp\\ipykernel_32212\\3811758465.py:11: FutureWarning: The frame.append method is deprecated and will be removed from pandas in a future version. Use pandas.concat instead.\n",
      "  NG_LW = grupos_definitivos[indice_lista_corr].append(G0_lower.iloc[i],ignore_index = True)\n"
     ]
    },
    {
     "name": "stdout",
     "output_type": "stream",
     "text": [
      "Nuevo r_2:  0.9503828068442134\n"
     ]
    },
    {
     "name": "stderr",
     "output_type": "stream",
     "text": [
      "C:\\Users\\germanm\\AppData\\Local\\Temp\\ipykernel_32212\\3811758465.py:11: FutureWarning: The frame.append method is deprecated and will be removed from pandas in a future version. Use pandas.concat instead.\n",
      "  NG_LW = grupos_definitivos[indice_lista_corr].append(G0_lower.iloc[i],ignore_index = True)\n"
     ]
    },
    {
     "name": "stdout",
     "output_type": "stream",
     "text": [
      "Nuevo r_2:  0.9502426777279958\n"
     ]
    },
    {
     "name": "stderr",
     "output_type": "stream",
     "text": [
      "C:\\Users\\germanm\\AppData\\Local\\Temp\\ipykernel_32212\\3811758465.py:11: FutureWarning: The frame.append method is deprecated and will be removed from pandas in a future version. Use pandas.concat instead.\n",
      "  NG_LW = grupos_definitivos[indice_lista_corr].append(G0_lower.iloc[i],ignore_index = True)\n"
     ]
    },
    {
     "name": "stdout",
     "output_type": "stream",
     "text": [
      "Nuevo r_2:  0.9503364009566551\n",
      "Indice:  1\n"
     ]
    },
    {
     "name": "stderr",
     "output_type": "stream",
     "text": [
      "C:\\Users\\germanm\\AppData\\Local\\Temp\\ipykernel_32212\\3811758465.py:11: FutureWarning: The frame.append method is deprecated and will be removed from pandas in a future version. Use pandas.concat instead.\n",
      "  NG_LW = grupos_definitivos[indice_lista_corr].append(G0_lower.iloc[i],ignore_index = True)\n"
     ]
    },
    {
     "name": "stdout",
     "output_type": "stream",
     "text": [
      "Nuevo r_2:  0.9503003930511007\n"
     ]
    },
    {
     "name": "stderr",
     "output_type": "stream",
     "text": [
      "C:\\Users\\germanm\\AppData\\Local\\Temp\\ipykernel_32212\\3811758465.py:11: FutureWarning: The frame.append method is deprecated and will be removed from pandas in a future version. Use pandas.concat instead.\n",
      "  NG_LW = grupos_definitivos[indice_lista_corr].append(G0_lower.iloc[i],ignore_index = True)\n"
     ]
    },
    {
     "name": "stdout",
     "output_type": "stream",
     "text": [
      "Nuevo r_2:  0.95079702618389\n"
     ]
    },
    {
     "name": "stderr",
     "output_type": "stream",
     "text": [
      "C:\\Users\\germanm\\AppData\\Local\\Temp\\ipykernel_32212\\3811758465.py:11: FutureWarning: The frame.append method is deprecated and will be removed from pandas in a future version. Use pandas.concat instead.\n",
      "  NG_LW = grupos_definitivos[indice_lista_corr].append(G0_lower.iloc[i],ignore_index = True)\n"
     ]
    },
    {
     "name": "stdout",
     "output_type": "stream",
     "text": [
      "Nuevo r_2:  0.9505982286331924\n"
     ]
    },
    {
     "name": "stderr",
     "output_type": "stream",
     "text": [
      "C:\\Users\\germanm\\AppData\\Local\\Temp\\ipykernel_32212\\3811758465.py:11: FutureWarning: The frame.append method is deprecated and will be removed from pandas in a future version. Use pandas.concat instead.\n",
      "  NG_LW = grupos_definitivos[indice_lista_corr].append(G0_lower.iloc[i],ignore_index = True)\n"
     ]
    },
    {
     "name": "stdout",
     "output_type": "stream",
     "text": [
      "Nuevo r_2:  0.9505153913261395\n"
     ]
    },
    {
     "name": "stderr",
     "output_type": "stream",
     "text": [
      "C:\\Users\\germanm\\AppData\\Local\\Temp\\ipykernel_32212\\3811758465.py:11: FutureWarning: The frame.append method is deprecated and will be removed from pandas in a future version. Use pandas.concat instead.\n",
      "  NG_LW = grupos_definitivos[indice_lista_corr].append(G0_lower.iloc[i],ignore_index = True)\n"
     ]
    },
    {
     "name": "stdout",
     "output_type": "stream",
     "text": [
      "Nuevo r_2:  0.9506482310350535\n"
     ]
    },
    {
     "name": "stderr",
     "output_type": "stream",
     "text": [
      "C:\\Users\\germanm\\AppData\\Local\\Temp\\ipykernel_32212\\3811758465.py:11: FutureWarning: The frame.append method is deprecated and will be removed from pandas in a future version. Use pandas.concat instead.\n",
      "  NG_LW = grupos_definitivos[indice_lista_corr].append(G0_lower.iloc[i],ignore_index = True)\n"
     ]
    },
    {
     "name": "stdout",
     "output_type": "stream",
     "text": [
      "Nuevo r_2:  0.9513396937089281\n"
     ]
    },
    {
     "name": "stderr",
     "output_type": "stream",
     "text": [
      "C:\\Users\\germanm\\AppData\\Local\\Temp\\ipykernel_32212\\3811758465.py:11: FutureWarning: The frame.append method is deprecated and will be removed from pandas in a future version. Use pandas.concat instead.\n",
      "  NG_LW = grupos_definitivos[indice_lista_corr].append(G0_lower.iloc[i],ignore_index = True)\n"
     ]
    },
    {
     "name": "stdout",
     "output_type": "stream",
     "text": [
      "Nuevo r_2:  0.9504168636414362\n"
     ]
    },
    {
     "name": "stderr",
     "output_type": "stream",
     "text": [
      "C:\\Users\\germanm\\AppData\\Local\\Temp\\ipykernel_32212\\3811758465.py:11: FutureWarning: The frame.append method is deprecated and will be removed from pandas in a future version. Use pandas.concat instead.\n",
      "  NG_LW = grupos_definitivos[indice_lista_corr].append(G0_lower.iloc[i],ignore_index = True)\n"
     ]
    },
    {
     "name": "stdout",
     "output_type": "stream",
     "text": [
      "Nuevo r_2:  0.9523493660581727\n"
     ]
    },
    {
     "name": "stderr",
     "output_type": "stream",
     "text": [
      "C:\\Users\\germanm\\AppData\\Local\\Temp\\ipykernel_32212\\3811758465.py:11: FutureWarning: The frame.append method is deprecated and will be removed from pandas in a future version. Use pandas.concat instead.\n",
      "  NG_LW = grupos_definitivos[indice_lista_corr].append(G0_lower.iloc[i],ignore_index = True)\n"
     ]
    },
    {
     "name": "stdout",
     "output_type": "stream",
     "text": [
      "Nuevo r_2:  0.9504641942156019\n"
     ]
    },
    {
     "name": "stderr",
     "output_type": "stream",
     "text": [
      "C:\\Users\\germanm\\AppData\\Local\\Temp\\ipykernel_32212\\3811758465.py:11: FutureWarning: The frame.append method is deprecated and will be removed from pandas in a future version. Use pandas.concat instead.\n",
      "  NG_LW = grupos_definitivos[indice_lista_corr].append(G0_lower.iloc[i],ignore_index = True)\n"
     ]
    },
    {
     "name": "stdout",
     "output_type": "stream",
     "text": [
      "Nuevo r_2:  0.9501246325794033\n"
     ]
    },
    {
     "name": "stderr",
     "output_type": "stream",
     "text": [
      "C:\\Users\\germanm\\AppData\\Local\\Temp\\ipykernel_32212\\3811758465.py:11: FutureWarning: The frame.append method is deprecated and will be removed from pandas in a future version. Use pandas.concat instead.\n",
      "  NG_LW = grupos_definitivos[indice_lista_corr].append(G0_lower.iloc[i],ignore_index = True)\n"
     ]
    },
    {
     "name": "stdout",
     "output_type": "stream",
     "text": [
      "Nuevo r_2:  0.9504630869683857\n"
     ]
    },
    {
     "name": "stderr",
     "output_type": "stream",
     "text": [
      "C:\\Users\\germanm\\AppData\\Local\\Temp\\ipykernel_32212\\3811758465.py:11: FutureWarning: The frame.append method is deprecated and will be removed from pandas in a future version. Use pandas.concat instead.\n",
      "  NG_LW = grupos_definitivos[indice_lista_corr].append(G0_lower.iloc[i],ignore_index = True)\n"
     ]
    },
    {
     "name": "stdout",
     "output_type": "stream",
     "text": [
      "Nuevo r_2:  0.9503928555854382\n"
     ]
    },
    {
     "name": "stderr",
     "output_type": "stream",
     "text": [
      "C:\\Users\\germanm\\AppData\\Local\\Temp\\ipykernel_32212\\3811758465.py:11: FutureWarning: The frame.append method is deprecated and will be removed from pandas in a future version. Use pandas.concat instead.\n",
      "  NG_LW = grupos_definitivos[indice_lista_corr].append(G0_lower.iloc[i],ignore_index = True)\n"
     ]
    },
    {
     "name": "stdout",
     "output_type": "stream",
     "text": [
      "Nuevo r_2:  0.949823401297196\n"
     ]
    },
    {
     "name": "stderr",
     "output_type": "stream",
     "text": [
      "C:\\Users\\germanm\\AppData\\Local\\Temp\\ipykernel_32212\\3811758465.py:11: FutureWarning: The frame.append method is deprecated and will be removed from pandas in a future version. Use pandas.concat instead.\n",
      "  NG_LW = grupos_definitivos[indice_lista_corr].append(G0_lower.iloc[i],ignore_index = True)\n"
     ]
    },
    {
     "name": "stdout",
     "output_type": "stream",
     "text": [
      "Nuevo r_2:  0.950227294020611\n"
     ]
    },
    {
     "name": "stderr",
     "output_type": "stream",
     "text": [
      "C:\\Users\\germanm\\AppData\\Local\\Temp\\ipykernel_32212\\3811758465.py:11: FutureWarning: The frame.append method is deprecated and will be removed from pandas in a future version. Use pandas.concat instead.\n",
      "  NG_LW = grupos_definitivos[indice_lista_corr].append(G0_lower.iloc[i],ignore_index = True)\n"
     ]
    },
    {
     "name": "stdout",
     "output_type": "stream",
     "text": [
      "Nuevo r_2:  0.950228031286973\n"
     ]
    },
    {
     "name": "stderr",
     "output_type": "stream",
     "text": [
      "C:\\Users\\germanm\\AppData\\Local\\Temp\\ipykernel_32212\\3811758465.py:11: FutureWarning: The frame.append method is deprecated and will be removed from pandas in a future version. Use pandas.concat instead.\n",
      "  NG_LW = grupos_definitivos[indice_lista_corr].append(G0_lower.iloc[i],ignore_index = True)\n"
     ]
    },
    {
     "name": "stdout",
     "output_type": "stream",
     "text": [
      "Nuevo r_2:  0.9512119780572375\n"
     ]
    },
    {
     "name": "stderr",
     "output_type": "stream",
     "text": [
      "C:\\Users\\germanm\\AppData\\Local\\Temp\\ipykernel_32212\\3811758465.py:11: FutureWarning: The frame.append method is deprecated and will be removed from pandas in a future version. Use pandas.concat instead.\n",
      "  NG_LW = grupos_definitivos[indice_lista_corr].append(G0_lower.iloc[i],ignore_index = True)\n"
     ]
    },
    {
     "name": "stdout",
     "output_type": "stream",
     "text": [
      "Nuevo r_2:  0.9501620667647996\n"
     ]
    },
    {
     "name": "stderr",
     "output_type": "stream",
     "text": [
      "C:\\Users\\germanm\\AppData\\Local\\Temp\\ipykernel_32212\\3811758465.py:11: FutureWarning: The frame.append method is deprecated and will be removed from pandas in a future version. Use pandas.concat instead.\n",
      "  NG_LW = grupos_definitivos[indice_lista_corr].append(G0_lower.iloc[i],ignore_index = True)\n"
     ]
    },
    {
     "name": "stdout",
     "output_type": "stream",
     "text": [
      "Nuevo r_2:  0.9502915077441859\n"
     ]
    },
    {
     "name": "stderr",
     "output_type": "stream",
     "text": [
      "C:\\Users\\germanm\\AppData\\Local\\Temp\\ipykernel_32212\\3811758465.py:11: FutureWarning: The frame.append method is deprecated and will be removed from pandas in a future version. Use pandas.concat instead.\n",
      "  NG_LW = grupos_definitivos[indice_lista_corr].append(G0_lower.iloc[i],ignore_index = True)\n"
     ]
    },
    {
     "name": "stdout",
     "output_type": "stream",
     "text": [
      "Nuevo r_2:  0.9501632772061863\n"
     ]
    },
    {
     "name": "stderr",
     "output_type": "stream",
     "text": [
      "C:\\Users\\germanm\\AppData\\Local\\Temp\\ipykernel_32212\\3811758465.py:11: FutureWarning: The frame.append method is deprecated and will be removed from pandas in a future version. Use pandas.concat instead.\n",
      "  NG_LW = grupos_definitivos[indice_lista_corr].append(G0_lower.iloc[i],ignore_index = True)\n"
     ]
    },
    {
     "name": "stdout",
     "output_type": "stream",
     "text": [
      "Nuevo r_2:  0.9509327669341117\n"
     ]
    },
    {
     "name": "stderr",
     "output_type": "stream",
     "text": [
      "C:\\Users\\germanm\\AppData\\Local\\Temp\\ipykernel_32212\\3811758465.py:11: FutureWarning: The frame.append method is deprecated and will be removed from pandas in a future version. Use pandas.concat instead.\n",
      "  NG_LW = grupos_definitivos[indice_lista_corr].append(G0_lower.iloc[i],ignore_index = True)\n"
     ]
    },
    {
     "name": "stdout",
     "output_type": "stream",
     "text": [
      "Nuevo r_2:  0.950305312744984\n"
     ]
    },
    {
     "name": "stderr",
     "output_type": "stream",
     "text": [
      "C:\\Users\\germanm\\AppData\\Local\\Temp\\ipykernel_32212\\3811758465.py:11: FutureWarning: The frame.append method is deprecated and will be removed from pandas in a future version. Use pandas.concat instead.\n",
      "  NG_LW = grupos_definitivos[indice_lista_corr].append(G0_lower.iloc[i],ignore_index = True)\n"
     ]
    },
    {
     "name": "stdout",
     "output_type": "stream",
     "text": [
      "Nuevo r_2:  0.9501307345721379\n"
     ]
    },
    {
     "name": "stderr",
     "output_type": "stream",
     "text": [
      "C:\\Users\\germanm\\AppData\\Local\\Temp\\ipykernel_32212\\3811758465.py:11: FutureWarning: The frame.append method is deprecated and will be removed from pandas in a future version. Use pandas.concat instead.\n",
      "  NG_LW = grupos_definitivos[indice_lista_corr].append(G0_lower.iloc[i],ignore_index = True)\n"
     ]
    },
    {
     "name": "stdout",
     "output_type": "stream",
     "text": [
      "Nuevo r_2:  0.9500985990451435\n"
     ]
    },
    {
     "name": "stderr",
     "output_type": "stream",
     "text": [
      "C:\\Users\\germanm\\AppData\\Local\\Temp\\ipykernel_32212\\3811758465.py:11: FutureWarning: The frame.append method is deprecated and will be removed from pandas in a future version. Use pandas.concat instead.\n",
      "  NG_LW = grupos_definitivos[indice_lista_corr].append(G0_lower.iloc[i],ignore_index = True)\n"
     ]
    },
    {
     "name": "stdout",
     "output_type": "stream",
     "text": [
      "Nuevo r_2:  0.9501589665036247\n"
     ]
    },
    {
     "name": "stderr",
     "output_type": "stream",
     "text": [
      "C:\\Users\\germanm\\AppData\\Local\\Temp\\ipykernel_32212\\3811758465.py:11: FutureWarning: The frame.append method is deprecated and will be removed from pandas in a future version. Use pandas.concat instead.\n",
      "  NG_LW = grupos_definitivos[indice_lista_corr].append(G0_lower.iloc[i],ignore_index = True)\n"
     ]
    },
    {
     "name": "stdout",
     "output_type": "stream",
     "text": [
      "Nuevo r_2:  0.9509582273381321\n"
     ]
    },
    {
     "name": "stderr",
     "output_type": "stream",
     "text": [
      "C:\\Users\\germanm\\AppData\\Local\\Temp\\ipykernel_32212\\3811758465.py:11: FutureWarning: The frame.append method is deprecated and will be removed from pandas in a future version. Use pandas.concat instead.\n",
      "  NG_LW = grupos_definitivos[indice_lista_corr].append(G0_lower.iloc[i],ignore_index = True)\n"
     ]
    },
    {
     "name": "stdout",
     "output_type": "stream",
     "text": [
      "Nuevo r_2:  0.950621329044065\n"
     ]
    },
    {
     "name": "stderr",
     "output_type": "stream",
     "text": [
      "C:\\Users\\germanm\\AppData\\Local\\Temp\\ipykernel_32212\\3811758465.py:11: FutureWarning: The frame.append method is deprecated and will be removed from pandas in a future version. Use pandas.concat instead.\n",
      "  NG_LW = grupos_definitivos[indice_lista_corr].append(G0_lower.iloc[i],ignore_index = True)\n"
     ]
    },
    {
     "name": "stdout",
     "output_type": "stream",
     "text": [
      "Nuevo r_2:  0.9497016486812716\n"
     ]
    },
    {
     "name": "stderr",
     "output_type": "stream",
     "text": [
      "C:\\Users\\germanm\\AppData\\Local\\Temp\\ipykernel_32212\\3811758465.py:11: FutureWarning: The frame.append method is deprecated and will be removed from pandas in a future version. Use pandas.concat instead.\n",
      "  NG_LW = grupos_definitivos[indice_lista_corr].append(G0_lower.iloc[i],ignore_index = True)\n"
     ]
    },
    {
     "name": "stdout",
     "output_type": "stream",
     "text": [
      "Nuevo r_2:  0.9501792333260548\n"
     ]
    },
    {
     "name": "stderr",
     "output_type": "stream",
     "text": [
      "C:\\Users\\germanm\\AppData\\Local\\Temp\\ipykernel_32212\\3811758465.py:11: FutureWarning: The frame.append method is deprecated and will be removed from pandas in a future version. Use pandas.concat instead.\n",
      "  NG_LW = grupos_definitivos[indice_lista_corr].append(G0_lower.iloc[i],ignore_index = True)\n"
     ]
    },
    {
     "name": "stdout",
     "output_type": "stream",
     "text": [
      "Nuevo r_2:  0.9504414991442061\n"
     ]
    },
    {
     "name": "stderr",
     "output_type": "stream",
     "text": [
      "C:\\Users\\germanm\\AppData\\Local\\Temp\\ipykernel_32212\\3811758465.py:11: FutureWarning: The frame.append method is deprecated and will be removed from pandas in a future version. Use pandas.concat instead.\n",
      "  NG_LW = grupos_definitivos[indice_lista_corr].append(G0_lower.iloc[i],ignore_index = True)\n"
     ]
    },
    {
     "name": "stdout",
     "output_type": "stream",
     "text": [
      "Nuevo r_2:  0.9506172535449954\n"
     ]
    },
    {
     "name": "stderr",
     "output_type": "stream",
     "text": [
      "C:\\Users\\germanm\\AppData\\Local\\Temp\\ipykernel_32212\\3811758465.py:11: FutureWarning: The frame.append method is deprecated and will be removed from pandas in a future version. Use pandas.concat instead.\n",
      "  NG_LW = grupos_definitivos[indice_lista_corr].append(G0_lower.iloc[i],ignore_index = True)\n"
     ]
    },
    {
     "name": "stdout",
     "output_type": "stream",
     "text": [
      "Nuevo r_2:  0.950323435665787\n"
     ]
    },
    {
     "name": "stderr",
     "output_type": "stream",
     "text": [
      "C:\\Users\\germanm\\AppData\\Local\\Temp\\ipykernel_32212\\3811758465.py:11: FutureWarning: The frame.append method is deprecated and will be removed from pandas in a future version. Use pandas.concat instead.\n",
      "  NG_LW = grupos_definitivos[indice_lista_corr].append(G0_lower.iloc[i],ignore_index = True)\n"
     ]
    },
    {
     "name": "stdout",
     "output_type": "stream",
     "text": [
      "Nuevo r_2:  0.950247992883992\n"
     ]
    },
    {
     "name": "stderr",
     "output_type": "stream",
     "text": [
      "C:\\Users\\germanm\\AppData\\Local\\Temp\\ipykernel_32212\\3811758465.py:11: FutureWarning: The frame.append method is deprecated and will be removed from pandas in a future version. Use pandas.concat instead.\n",
      "  NG_LW = grupos_definitivos[indice_lista_corr].append(G0_lower.iloc[i],ignore_index = True)\n"
     ]
    },
    {
     "name": "stdout",
     "output_type": "stream",
     "text": [
      "Nuevo r_2:  0.9505568280986287\n"
     ]
    },
    {
     "name": "stderr",
     "output_type": "stream",
     "text": [
      "C:\\Users\\germanm\\AppData\\Local\\Temp\\ipykernel_32212\\3811758465.py:11: FutureWarning: The frame.append method is deprecated and will be removed from pandas in a future version. Use pandas.concat instead.\n",
      "  NG_LW = grupos_definitivos[indice_lista_corr].append(G0_lower.iloc[i],ignore_index = True)\n"
     ]
    },
    {
     "name": "stdout",
     "output_type": "stream",
     "text": [
      "Nuevo r_2:  0.9508185843263512\n"
     ]
    },
    {
     "name": "stderr",
     "output_type": "stream",
     "text": [
      "C:\\Users\\germanm\\AppData\\Local\\Temp\\ipykernel_32212\\3811758465.py:11: FutureWarning: The frame.append method is deprecated and will be removed from pandas in a future version. Use pandas.concat instead.\n",
      "  NG_LW = grupos_definitivos[indice_lista_corr].append(G0_lower.iloc[i],ignore_index = True)\n"
     ]
    },
    {
     "name": "stdout",
     "output_type": "stream",
     "text": [
      "Nuevo r_2:  0.9503323139428153\n"
     ]
    },
    {
     "name": "stderr",
     "output_type": "stream",
     "text": [
      "C:\\Users\\germanm\\AppData\\Local\\Temp\\ipykernel_32212\\3811758465.py:11: FutureWarning: The frame.append method is deprecated and will be removed from pandas in a future version. Use pandas.concat instead.\n",
      "  NG_LW = grupos_definitivos[indice_lista_corr].append(G0_lower.iloc[i],ignore_index = True)\n"
     ]
    },
    {
     "name": "stdout",
     "output_type": "stream",
     "text": [
      "Nuevo r_2:  0.9501677984416754\n"
     ]
    },
    {
     "name": "stderr",
     "output_type": "stream",
     "text": [
      "C:\\Users\\germanm\\AppData\\Local\\Temp\\ipykernel_32212\\3811758465.py:11: FutureWarning: The frame.append method is deprecated and will be removed from pandas in a future version. Use pandas.concat instead.\n",
      "  NG_LW = grupos_definitivos[indice_lista_corr].append(G0_lower.iloc[i],ignore_index = True)\n"
     ]
    },
    {
     "name": "stdout",
     "output_type": "stream",
     "text": [
      "Nuevo r_2:  0.9503213517134139\n"
     ]
    },
    {
     "name": "stderr",
     "output_type": "stream",
     "text": [
      "C:\\Users\\germanm\\AppData\\Local\\Temp\\ipykernel_32212\\3811758465.py:11: FutureWarning: The frame.append method is deprecated and will be removed from pandas in a future version. Use pandas.concat instead.\n",
      "  NG_LW = grupos_definitivos[indice_lista_corr].append(G0_lower.iloc[i],ignore_index = True)\n"
     ]
    },
    {
     "name": "stdout",
     "output_type": "stream",
     "text": [
      "Nuevo r_2:  0.9503262807631867\n"
     ]
    },
    {
     "name": "stderr",
     "output_type": "stream",
     "text": [
      "C:\\Users\\germanm\\AppData\\Local\\Temp\\ipykernel_32212\\3811758465.py:11: FutureWarning: The frame.append method is deprecated and will be removed from pandas in a future version. Use pandas.concat instead.\n",
      "  NG_LW = grupos_definitivos[indice_lista_corr].append(G0_lower.iloc[i],ignore_index = True)\n"
     ]
    },
    {
     "name": "stdout",
     "output_type": "stream",
     "text": [
      "Nuevo r_2:  0.9506067330196057\n"
     ]
    },
    {
     "name": "stderr",
     "output_type": "stream",
     "text": [
      "C:\\Users\\germanm\\AppData\\Local\\Temp\\ipykernel_32212\\3811758465.py:11: FutureWarning: The frame.append method is deprecated and will be removed from pandas in a future version. Use pandas.concat instead.\n",
      "  NG_LW = grupos_definitivos[indice_lista_corr].append(G0_lower.iloc[i],ignore_index = True)\n"
     ]
    },
    {
     "name": "stdout",
     "output_type": "stream",
     "text": [
      "Nuevo r_2:  0.9505545106800624\n",
      "Indice:  2\n"
     ]
    },
    {
     "name": "stderr",
     "output_type": "stream",
     "text": [
      "C:\\Users\\germanm\\AppData\\Local\\Temp\\ipykernel_32212\\3811758465.py:11: FutureWarning: The frame.append method is deprecated and will be removed from pandas in a future version. Use pandas.concat instead.\n",
      "  NG_LW = grupos_definitivos[indice_lista_corr].append(G0_lower.iloc[i],ignore_index = True)\n"
     ]
    },
    {
     "name": "stdout",
     "output_type": "stream",
     "text": [
      "Nuevo r_2:  0.9457208701442714\n"
     ]
    },
    {
     "name": "stderr",
     "output_type": "stream",
     "text": [
      "C:\\Users\\germanm\\AppData\\Local\\Temp\\ipykernel_32212\\3811758465.py:11: FutureWarning: The frame.append method is deprecated and will be removed from pandas in a future version. Use pandas.concat instead.\n",
      "  NG_LW = grupos_definitivos[indice_lista_corr].append(G0_lower.iloc[i],ignore_index = True)\n"
     ]
    },
    {
     "name": "stdout",
     "output_type": "stream",
     "text": [
      "Nuevo r_2:  0.9451877928152814\n"
     ]
    },
    {
     "name": "stderr",
     "output_type": "stream",
     "text": [
      "C:\\Users\\germanm\\AppData\\Local\\Temp\\ipykernel_32212\\3811758465.py:11: FutureWarning: The frame.append method is deprecated and will be removed from pandas in a future version. Use pandas.concat instead.\n",
      "  NG_LW = grupos_definitivos[indice_lista_corr].append(G0_lower.iloc[i],ignore_index = True)\n"
     ]
    },
    {
     "name": "stdout",
     "output_type": "stream",
     "text": [
      "Nuevo r_2:  0.9451843851556523\n"
     ]
    },
    {
     "name": "stderr",
     "output_type": "stream",
     "text": [
      "C:\\Users\\germanm\\AppData\\Local\\Temp\\ipykernel_32212\\3811758465.py:11: FutureWarning: The frame.append method is deprecated and will be removed from pandas in a future version. Use pandas.concat instead.\n",
      "  NG_LW = grupos_definitivos[indice_lista_corr].append(G0_lower.iloc[i],ignore_index = True)\n"
     ]
    },
    {
     "name": "stdout",
     "output_type": "stream",
     "text": [
      "Nuevo r_2:  0.9451856090151916\n"
     ]
    },
    {
     "name": "stderr",
     "output_type": "stream",
     "text": [
      "C:\\Users\\germanm\\AppData\\Local\\Temp\\ipykernel_32212\\3811758465.py:11: FutureWarning: The frame.append method is deprecated and will be removed from pandas in a future version. Use pandas.concat instead.\n",
      "  NG_LW = grupos_definitivos[indice_lista_corr].append(G0_lower.iloc[i],ignore_index = True)\n"
     ]
    },
    {
     "name": "stdout",
     "output_type": "stream",
     "text": [
      "Nuevo r_2:  0.9452122021986307\n"
     ]
    },
    {
     "name": "stderr",
     "output_type": "stream",
     "text": [
      "C:\\Users\\germanm\\AppData\\Local\\Temp\\ipykernel_32212\\3811758465.py:11: FutureWarning: The frame.append method is deprecated and will be removed from pandas in a future version. Use pandas.concat instead.\n",
      "  NG_LW = grupos_definitivos[indice_lista_corr].append(G0_lower.iloc[i],ignore_index = True)\n"
     ]
    },
    {
     "name": "stdout",
     "output_type": "stream",
     "text": [
      "Nuevo r_2:  0.944974061725904\n"
     ]
    },
    {
     "name": "stderr",
     "output_type": "stream",
     "text": [
      "C:\\Users\\germanm\\AppData\\Local\\Temp\\ipykernel_32212\\3811758465.py:11: FutureWarning: The frame.append method is deprecated and will be removed from pandas in a future version. Use pandas.concat instead.\n",
      "  NG_LW = grupos_definitivos[indice_lista_corr].append(G0_lower.iloc[i],ignore_index = True)\n"
     ]
    },
    {
     "name": "stdout",
     "output_type": "stream",
     "text": [
      "Nuevo r_2:  0.9454074333359024\n"
     ]
    },
    {
     "name": "stderr",
     "output_type": "stream",
     "text": [
      "C:\\Users\\germanm\\AppData\\Local\\Temp\\ipykernel_32212\\3811758465.py:11: FutureWarning: The frame.append method is deprecated and will be removed from pandas in a future version. Use pandas.concat instead.\n",
      "  NG_LW = grupos_definitivos[indice_lista_corr].append(G0_lower.iloc[i],ignore_index = True)\n"
     ]
    },
    {
     "name": "stdout",
     "output_type": "stream",
     "text": [
      "Nuevo r_2:  0.9457610839555859\n"
     ]
    },
    {
     "name": "stderr",
     "output_type": "stream",
     "text": [
      "C:\\Users\\germanm\\AppData\\Local\\Temp\\ipykernel_32212\\3811758465.py:11: FutureWarning: The frame.append method is deprecated and will be removed from pandas in a future version. Use pandas.concat instead.\n",
      "  NG_LW = grupos_definitivos[indice_lista_corr].append(G0_lower.iloc[i],ignore_index = True)\n"
     ]
    },
    {
     "name": "stdout",
     "output_type": "stream",
     "text": [
      "Nuevo r_2:  0.9450174054533773\n"
     ]
    },
    {
     "name": "stderr",
     "output_type": "stream",
     "text": [
      "C:\\Users\\germanm\\AppData\\Local\\Temp\\ipykernel_32212\\3811758465.py:11: FutureWarning: The frame.append method is deprecated and will be removed from pandas in a future version. Use pandas.concat instead.\n",
      "  NG_LW = grupos_definitivos[indice_lista_corr].append(G0_lower.iloc[i],ignore_index = True)\n"
     ]
    },
    {
     "name": "stdout",
     "output_type": "stream",
     "text": [
      "Nuevo r_2:  0.9449963086786409\n"
     ]
    },
    {
     "name": "stderr",
     "output_type": "stream",
     "text": [
      "C:\\Users\\germanm\\AppData\\Local\\Temp\\ipykernel_32212\\3811758465.py:11: FutureWarning: The frame.append method is deprecated and will be removed from pandas in a future version. Use pandas.concat instead.\n",
      "  NG_LW = grupos_definitivos[indice_lista_corr].append(G0_lower.iloc[i],ignore_index = True)\n"
     ]
    },
    {
     "name": "stdout",
     "output_type": "stream",
     "text": [
      "Nuevo r_2:  0.9467199828835243\n"
     ]
    },
    {
     "name": "stderr",
     "output_type": "stream",
     "text": [
      "C:\\Users\\germanm\\AppData\\Local\\Temp\\ipykernel_32212\\3811758465.py:11: FutureWarning: The frame.append method is deprecated and will be removed from pandas in a future version. Use pandas.concat instead.\n",
      "  NG_LW = grupos_definitivos[indice_lista_corr].append(G0_lower.iloc[i],ignore_index = True)\n"
     ]
    },
    {
     "name": "stdout",
     "output_type": "stream",
     "text": [
      "Nuevo r_2:  0.945336961111567\n"
     ]
    },
    {
     "name": "stderr",
     "output_type": "stream",
     "text": [
      "C:\\Users\\germanm\\AppData\\Local\\Temp\\ipykernel_32212\\3811758465.py:11: FutureWarning: The frame.append method is deprecated and will be removed from pandas in a future version. Use pandas.concat instead.\n",
      "  NG_LW = grupos_definitivos[indice_lista_corr].append(G0_lower.iloc[i],ignore_index = True)\n"
     ]
    },
    {
     "name": "stdout",
     "output_type": "stream",
     "text": [
      "Nuevo r_2:  0.9903510952928526\n"
     ]
    },
    {
     "name": "stderr",
     "output_type": "stream",
     "text": [
      "C:\\Users\\germanm\\AppData\\Local\\Temp\\ipykernel_32212\\3811758465.py:11: FutureWarning: The frame.append method is deprecated and will be removed from pandas in a future version. Use pandas.concat instead.\n",
      "  NG_LW = grupos_definitivos[indice_lista_corr].append(G0_lower.iloc[i],ignore_index = True)\n"
     ]
    },
    {
     "name": "stdout",
     "output_type": "stream",
     "text": [
      "Nuevo r_2:  0.9451466643993536\n"
     ]
    },
    {
     "name": "stderr",
     "output_type": "stream",
     "text": [
      "C:\\Users\\germanm\\AppData\\Local\\Temp\\ipykernel_32212\\3811758465.py:11: FutureWarning: The frame.append method is deprecated and will be removed from pandas in a future version. Use pandas.concat instead.\n",
      "  NG_LW = grupos_definitivos[indice_lista_corr].append(G0_lower.iloc[i],ignore_index = True)\n"
     ]
    },
    {
     "name": "stdout",
     "output_type": "stream",
     "text": [
      "Nuevo r_2:  0.9450170364666541\n"
     ]
    },
    {
     "name": "stderr",
     "output_type": "stream",
     "text": [
      "C:\\Users\\germanm\\AppData\\Local\\Temp\\ipykernel_32212\\3811758465.py:11: FutureWarning: The frame.append method is deprecated and will be removed from pandas in a future version. Use pandas.concat instead.\n",
      "  NG_LW = grupos_definitivos[indice_lista_corr].append(G0_lower.iloc[i],ignore_index = True)\n"
     ]
    },
    {
     "name": "stdout",
     "output_type": "stream",
     "text": [
      "Nuevo r_2:  0.9453350526714861\n"
     ]
    },
    {
     "name": "stderr",
     "output_type": "stream",
     "text": [
      "C:\\Users\\germanm\\AppData\\Local\\Temp\\ipykernel_32212\\3811758465.py:11: FutureWarning: The frame.append method is deprecated and will be removed from pandas in a future version. Use pandas.concat instead.\n",
      "  NG_LW = grupos_definitivos[indice_lista_corr].append(G0_lower.iloc[i],ignore_index = True)\n"
     ]
    },
    {
     "name": "stdout",
     "output_type": "stream",
     "text": [
      "Nuevo r_2:  0.9461919578000144\n"
     ]
    },
    {
     "name": "stderr",
     "output_type": "stream",
     "text": [
      "C:\\Users\\germanm\\AppData\\Local\\Temp\\ipykernel_32212\\3811758465.py:11: FutureWarning: The frame.append method is deprecated and will be removed from pandas in a future version. Use pandas.concat instead.\n",
      "  NG_LW = grupos_definitivos[indice_lista_corr].append(G0_lower.iloc[i],ignore_index = True)\n"
     ]
    },
    {
     "name": "stdout",
     "output_type": "stream",
     "text": [
      "Nuevo r_2:  0.9453810299408353\n"
     ]
    },
    {
     "name": "stderr",
     "output_type": "stream",
     "text": [
      "C:\\Users\\germanm\\AppData\\Local\\Temp\\ipykernel_32212\\3811758465.py:11: FutureWarning: The frame.append method is deprecated and will be removed from pandas in a future version. Use pandas.concat instead.\n",
      "  NG_LW = grupos_definitivos[indice_lista_corr].append(G0_lower.iloc[i],ignore_index = True)\n"
     ]
    },
    {
     "name": "stdout",
     "output_type": "stream",
     "text": [
      "Nuevo r_2:  0.9452202996301243\n"
     ]
    },
    {
     "name": "stderr",
     "output_type": "stream",
     "text": [
      "C:\\Users\\germanm\\AppData\\Local\\Temp\\ipykernel_32212\\3811758465.py:11: FutureWarning: The frame.append method is deprecated and will be removed from pandas in a future version. Use pandas.concat instead.\n",
      "  NG_LW = grupos_definitivos[indice_lista_corr].append(G0_lower.iloc[i],ignore_index = True)\n"
     ]
    },
    {
     "name": "stdout",
     "output_type": "stream",
     "text": [
      "Nuevo r_2:  0.9454781080784419\n"
     ]
    },
    {
     "name": "stderr",
     "output_type": "stream",
     "text": [
      "C:\\Users\\germanm\\AppData\\Local\\Temp\\ipykernel_32212\\3811758465.py:11: FutureWarning: The frame.append method is deprecated and will be removed from pandas in a future version. Use pandas.concat instead.\n",
      "  NG_LW = grupos_definitivos[indice_lista_corr].append(G0_lower.iloc[i],ignore_index = True)\n"
     ]
    },
    {
     "name": "stdout",
     "output_type": "stream",
     "text": [
      "Nuevo r_2:  0.9451909634857113\n"
     ]
    },
    {
     "name": "stderr",
     "output_type": "stream",
     "text": [
      "C:\\Users\\germanm\\AppData\\Local\\Temp\\ipykernel_32212\\3811758465.py:11: FutureWarning: The frame.append method is deprecated and will be removed from pandas in a future version. Use pandas.concat instead.\n",
      "  NG_LW = grupos_definitivos[indice_lista_corr].append(G0_lower.iloc[i],ignore_index = True)\n"
     ]
    },
    {
     "name": "stdout",
     "output_type": "stream",
     "text": [
      "Nuevo r_2:  0.9447821429552298\n"
     ]
    },
    {
     "name": "stderr",
     "output_type": "stream",
     "text": [
      "C:\\Users\\germanm\\AppData\\Local\\Temp\\ipykernel_32212\\3811758465.py:11: FutureWarning: The frame.append method is deprecated and will be removed from pandas in a future version. Use pandas.concat instead.\n",
      "  NG_LW = grupos_definitivos[indice_lista_corr].append(G0_lower.iloc[i],ignore_index = True)\n"
     ]
    },
    {
     "name": "stdout",
     "output_type": "stream",
     "text": [
      "Nuevo r_2:  0.9452806670326068\n"
     ]
    },
    {
     "name": "stderr",
     "output_type": "stream",
     "text": [
      "C:\\Users\\germanm\\AppData\\Local\\Temp\\ipykernel_32212\\3811758465.py:11: FutureWarning: The frame.append method is deprecated and will be removed from pandas in a future version. Use pandas.concat instead.\n",
      "  NG_LW = grupos_definitivos[indice_lista_corr].append(G0_lower.iloc[i],ignore_index = True)\n"
     ]
    },
    {
     "name": "stdout",
     "output_type": "stream",
     "text": [
      "Nuevo r_2:  0.9450622086681638\n"
     ]
    },
    {
     "name": "stderr",
     "output_type": "stream",
     "text": [
      "C:\\Users\\germanm\\AppData\\Local\\Temp\\ipykernel_32212\\3811758465.py:11: FutureWarning: The frame.append method is deprecated and will be removed from pandas in a future version. Use pandas.concat instead.\n",
      "  NG_LW = grupos_definitivos[indice_lista_corr].append(G0_lower.iloc[i],ignore_index = True)\n"
     ]
    },
    {
     "name": "stdout",
     "output_type": "stream",
     "text": [
      "Nuevo r_2:  0.9450133213175624\n"
     ]
    },
    {
     "name": "stderr",
     "output_type": "stream",
     "text": [
      "C:\\Users\\germanm\\AppData\\Local\\Temp\\ipykernel_32212\\3811758465.py:11: FutureWarning: The frame.append method is deprecated and will be removed from pandas in a future version. Use pandas.concat instead.\n",
      "  NG_LW = grupos_definitivos[indice_lista_corr].append(G0_lower.iloc[i],ignore_index = True)\n"
     ]
    },
    {
     "name": "stdout",
     "output_type": "stream",
     "text": [
      "Nuevo r_2:  0.9456653187283359\n"
     ]
    },
    {
     "name": "stderr",
     "output_type": "stream",
     "text": [
      "C:\\Users\\germanm\\AppData\\Local\\Temp\\ipykernel_32212\\3811758465.py:11: FutureWarning: The frame.append method is deprecated and will be removed from pandas in a future version. Use pandas.concat instead.\n",
      "  NG_LW = grupos_definitivos[indice_lista_corr].append(G0_lower.iloc[i],ignore_index = True)\n"
     ]
    },
    {
     "name": "stdout",
     "output_type": "stream",
     "text": [
      "Nuevo r_2:  0.9457556238542566\n"
     ]
    },
    {
     "name": "stderr",
     "output_type": "stream",
     "text": [
      "C:\\Users\\germanm\\AppData\\Local\\Temp\\ipykernel_32212\\3811758465.py:11: FutureWarning: The frame.append method is deprecated and will be removed from pandas in a future version. Use pandas.concat instead.\n",
      "  NG_LW = grupos_definitivos[indice_lista_corr].append(G0_lower.iloc[i],ignore_index = True)\n"
     ]
    },
    {
     "name": "stdout",
     "output_type": "stream",
     "text": [
      "Nuevo r_2:  0.9449434498280507\n"
     ]
    },
    {
     "name": "stderr",
     "output_type": "stream",
     "text": [
      "C:\\Users\\germanm\\AppData\\Local\\Temp\\ipykernel_32212\\3811758465.py:11: FutureWarning: The frame.append method is deprecated and will be removed from pandas in a future version. Use pandas.concat instead.\n",
      "  NG_LW = grupos_definitivos[indice_lista_corr].append(G0_lower.iloc[i],ignore_index = True)\n"
     ]
    },
    {
     "name": "stdout",
     "output_type": "stream",
     "text": [
      "Nuevo r_2:  0.9448242959895087\n"
     ]
    },
    {
     "name": "stderr",
     "output_type": "stream",
     "text": [
      "C:\\Users\\germanm\\AppData\\Local\\Temp\\ipykernel_32212\\3811758465.py:11: FutureWarning: The frame.append method is deprecated and will be removed from pandas in a future version. Use pandas.concat instead.\n",
      "  NG_LW = grupos_definitivos[indice_lista_corr].append(G0_lower.iloc[i],ignore_index = True)\n"
     ]
    },
    {
     "name": "stdout",
     "output_type": "stream",
     "text": [
      "Nuevo r_2:  0.944939471998509\n"
     ]
    },
    {
     "name": "stderr",
     "output_type": "stream",
     "text": [
      "C:\\Users\\germanm\\AppData\\Local\\Temp\\ipykernel_32212\\3811758465.py:11: FutureWarning: The frame.append method is deprecated and will be removed from pandas in a future version. Use pandas.concat instead.\n",
      "  NG_LW = grupos_definitivos[indice_lista_corr].append(G0_lower.iloc[i],ignore_index = True)\n"
     ]
    },
    {
     "name": "stdout",
     "output_type": "stream",
     "text": [
      "Nuevo r_2:  0.9451584536642391\n"
     ]
    },
    {
     "name": "stderr",
     "output_type": "stream",
     "text": [
      "C:\\Users\\germanm\\AppData\\Local\\Temp\\ipykernel_32212\\3811758465.py:11: FutureWarning: The frame.append method is deprecated and will be removed from pandas in a future version. Use pandas.concat instead.\n",
      "  NG_LW = grupos_definitivos[indice_lista_corr].append(G0_lower.iloc[i],ignore_index = True)\n"
     ]
    },
    {
     "name": "stdout",
     "output_type": "stream",
     "text": [
      "Nuevo r_2:  0.9451784178383915\n"
     ]
    },
    {
     "name": "stderr",
     "output_type": "stream",
     "text": [
      "C:\\Users\\germanm\\AppData\\Local\\Temp\\ipykernel_32212\\3811758465.py:11: FutureWarning: The frame.append method is deprecated and will be removed from pandas in a future version. Use pandas.concat instead.\n",
      "  NG_LW = grupos_definitivos[indice_lista_corr].append(G0_lower.iloc[i],ignore_index = True)\n"
     ]
    },
    {
     "name": "stdout",
     "output_type": "stream",
     "text": [
      "Nuevo r_2:  0.9453065239204029\n"
     ]
    },
    {
     "name": "stderr",
     "output_type": "stream",
     "text": [
      "C:\\Users\\germanm\\AppData\\Local\\Temp\\ipykernel_32212\\3811758465.py:11: FutureWarning: The frame.append method is deprecated and will be removed from pandas in a future version. Use pandas.concat instead.\n",
      "  NG_LW = grupos_definitivos[indice_lista_corr].append(G0_lower.iloc[i],ignore_index = True)\n"
     ]
    },
    {
     "name": "stdout",
     "output_type": "stream",
     "text": [
      "Nuevo r_2:  0.9453134433460343\n"
     ]
    },
    {
     "name": "stderr",
     "output_type": "stream",
     "text": [
      "C:\\Users\\germanm\\AppData\\Local\\Temp\\ipykernel_32212\\3811758465.py:11: FutureWarning: The frame.append method is deprecated and will be removed from pandas in a future version. Use pandas.concat instead.\n",
      "  NG_LW = grupos_definitivos[indice_lista_corr].append(G0_lower.iloc[i],ignore_index = True)\n"
     ]
    },
    {
     "name": "stdout",
     "output_type": "stream",
     "text": [
      "Nuevo r_2:  0.9451600459599467\n"
     ]
    },
    {
     "name": "stderr",
     "output_type": "stream",
     "text": [
      "C:\\Users\\germanm\\AppData\\Local\\Temp\\ipykernel_32212\\3811758465.py:11: FutureWarning: The frame.append method is deprecated and will be removed from pandas in a future version. Use pandas.concat instead.\n",
      "  NG_LW = grupos_definitivos[indice_lista_corr].append(G0_lower.iloc[i],ignore_index = True)\n"
     ]
    },
    {
     "name": "stdout",
     "output_type": "stream",
     "text": [
      "Nuevo r_2:  0.9453400369768089\n"
     ]
    },
    {
     "name": "stderr",
     "output_type": "stream",
     "text": [
      "C:\\Users\\germanm\\AppData\\Local\\Temp\\ipykernel_32212\\3811758465.py:11: FutureWarning: The frame.append method is deprecated and will be removed from pandas in a future version. Use pandas.concat instead.\n",
      "  NG_LW = grupos_definitivos[indice_lista_corr].append(G0_lower.iloc[i],ignore_index = True)\n"
     ]
    },
    {
     "name": "stdout",
     "output_type": "stream",
     "text": [
      "Nuevo r_2:  0.9454833380763326\n"
     ]
    },
    {
     "name": "stderr",
     "output_type": "stream",
     "text": [
      "C:\\Users\\germanm\\AppData\\Local\\Temp\\ipykernel_32212\\3811758465.py:11: FutureWarning: The frame.append method is deprecated and will be removed from pandas in a future version. Use pandas.concat instead.\n",
      "  NG_LW = grupos_definitivos[indice_lista_corr].append(G0_lower.iloc[i],ignore_index = True)\n"
     ]
    },
    {
     "name": "stdout",
     "output_type": "stream",
     "text": [
      "Nuevo r_2:  0.945200737937626\n"
     ]
    },
    {
     "name": "stderr",
     "output_type": "stream",
     "text": [
      "C:\\Users\\germanm\\AppData\\Local\\Temp\\ipykernel_32212\\3811758465.py:11: FutureWarning: The frame.append method is deprecated and will be removed from pandas in a future version. Use pandas.concat instead.\n",
      "  NG_LW = grupos_definitivos[indice_lista_corr].append(G0_lower.iloc[i],ignore_index = True)\n"
     ]
    },
    {
     "name": "stdout",
     "output_type": "stream",
     "text": [
      "Nuevo r_2:  0.9449573538487653\n"
     ]
    },
    {
     "name": "stderr",
     "output_type": "stream",
     "text": [
      "C:\\Users\\germanm\\AppData\\Local\\Temp\\ipykernel_32212\\3811758465.py:11: FutureWarning: The frame.append method is deprecated and will be removed from pandas in a future version. Use pandas.concat instead.\n",
      "  NG_LW = grupos_definitivos[indice_lista_corr].append(G0_lower.iloc[i],ignore_index = True)\n"
     ]
    },
    {
     "name": "stdout",
     "output_type": "stream",
     "text": [
      "Nuevo r_2:  0.9463114138948792\n",
      "Indice:  2\n"
     ]
    },
    {
     "name": "stderr",
     "output_type": "stream",
     "text": [
      "C:\\Users\\germanm\\AppData\\Local\\Temp\\ipykernel_32212\\3811758465.py:11: FutureWarning: The frame.append method is deprecated and will be removed from pandas in a future version. Use pandas.concat instead.\n",
      "  NG_LW = grupos_definitivos[indice_lista_corr].append(G0_lower.iloc[i],ignore_index = True)\n"
     ]
    },
    {
     "name": "stdout",
     "output_type": "stream",
     "text": [
      "Nuevo r_2:  0.9470503467383597\n"
     ]
    },
    {
     "name": "stderr",
     "output_type": "stream",
     "text": [
      "C:\\Users\\germanm\\AppData\\Local\\Temp\\ipykernel_32212\\3811758465.py:11: FutureWarning: The frame.append method is deprecated and will be removed from pandas in a future version. Use pandas.concat instead.\n",
      "  NG_LW = grupos_definitivos[indice_lista_corr].append(G0_lower.iloc[i],ignore_index = True)\n"
     ]
    },
    {
     "name": "stdout",
     "output_type": "stream",
     "text": [
      "Nuevo r_2:  0.946321153868941\n"
     ]
    },
    {
     "name": "stderr",
     "output_type": "stream",
     "text": [
      "C:\\Users\\germanm\\AppData\\Local\\Temp\\ipykernel_32212\\3811758465.py:11: FutureWarning: The frame.append method is deprecated and will be removed from pandas in a future version. Use pandas.concat instead.\n",
      "  NG_LW = grupos_definitivos[indice_lista_corr].append(G0_lower.iloc[i],ignore_index = True)\n"
     ]
    },
    {
     "name": "stdout",
     "output_type": "stream",
     "text": [
      "Nuevo r_2:  0.9455792530414107\n"
     ]
    },
    {
     "name": "stderr",
     "output_type": "stream",
     "text": [
      "C:\\Users\\germanm\\AppData\\Local\\Temp\\ipykernel_32212\\3811758465.py:11: FutureWarning: The frame.append method is deprecated and will be removed from pandas in a future version. Use pandas.concat instead.\n",
      "  NG_LW = grupos_definitivos[indice_lista_corr].append(G0_lower.iloc[i],ignore_index = True)\n"
     ]
    },
    {
     "name": "stdout",
     "output_type": "stream",
     "text": [
      "Nuevo r_2:  0.9453818222992291\n"
     ]
    },
    {
     "name": "stderr",
     "output_type": "stream",
     "text": [
      "C:\\Users\\germanm\\AppData\\Local\\Temp\\ipykernel_32212\\3811758465.py:11: FutureWarning: The frame.append method is deprecated and will be removed from pandas in a future version. Use pandas.concat instead.\n",
      "  NG_LW = grupos_definitivos[indice_lista_corr].append(G0_lower.iloc[i],ignore_index = True)\n"
     ]
    },
    {
     "name": "stdout",
     "output_type": "stream",
     "text": [
      "Nuevo r_2:  0.9447980641612032\n"
     ]
    },
    {
     "name": "stderr",
     "output_type": "stream",
     "text": [
      "C:\\Users\\germanm\\AppData\\Local\\Temp\\ipykernel_32212\\3811758465.py:11: FutureWarning: The frame.append method is deprecated and will be removed from pandas in a future version. Use pandas.concat instead.\n",
      "  NG_LW = grupos_definitivos[indice_lista_corr].append(G0_lower.iloc[i],ignore_index = True)\n"
     ]
    },
    {
     "name": "stdout",
     "output_type": "stream",
     "text": [
      "Nuevo r_2:  0.9450715765042391\n"
     ]
    },
    {
     "name": "stderr",
     "output_type": "stream",
     "text": [
      "C:\\Users\\germanm\\AppData\\Local\\Temp\\ipykernel_32212\\3811758465.py:11: FutureWarning: The frame.append method is deprecated and will be removed from pandas in a future version. Use pandas.concat instead.\n",
      "  NG_LW = grupos_definitivos[indice_lista_corr].append(G0_lower.iloc[i],ignore_index = True)\n"
     ]
    },
    {
     "name": "stdout",
     "output_type": "stream",
     "text": [
      "Nuevo r_2:  0.9449116664124325\n"
     ]
    },
    {
     "name": "stderr",
     "output_type": "stream",
     "text": [
      "C:\\Users\\germanm\\AppData\\Local\\Temp\\ipykernel_32212\\3811758465.py:11: FutureWarning: The frame.append method is deprecated and will be removed from pandas in a future version. Use pandas.concat instead.\n",
      "  NG_LW = grupos_definitivos[indice_lista_corr].append(G0_lower.iloc[i],ignore_index = True)\n"
     ]
    },
    {
     "name": "stdout",
     "output_type": "stream",
     "text": [
      "Nuevo r_2:  0.9467816185128304\n"
     ]
    },
    {
     "name": "stderr",
     "output_type": "stream",
     "text": [
      "C:\\Users\\germanm\\AppData\\Local\\Temp\\ipykernel_32212\\3811758465.py:11: FutureWarning: The frame.append method is deprecated and will be removed from pandas in a future version. Use pandas.concat instead.\n",
      "  NG_LW = grupos_definitivos[indice_lista_corr].append(G0_lower.iloc[i],ignore_index = True)\n"
     ]
    },
    {
     "name": "stdout",
     "output_type": "stream",
     "text": [
      "Nuevo r_2:  0.9454679457585369\n"
     ]
    },
    {
     "name": "stderr",
     "output_type": "stream",
     "text": [
      "C:\\Users\\germanm\\AppData\\Local\\Temp\\ipykernel_32212\\3811758465.py:11: FutureWarning: The frame.append method is deprecated and will be removed from pandas in a future version. Use pandas.concat instead.\n",
      "  NG_LW = grupos_definitivos[indice_lista_corr].append(G0_lower.iloc[i],ignore_index = True)\n"
     ]
    },
    {
     "name": "stdout",
     "output_type": "stream",
     "text": [
      "Nuevo r_2:  0.9449879271995717\n"
     ]
    },
    {
     "name": "stderr",
     "output_type": "stream",
     "text": [
      "C:\\Users\\germanm\\AppData\\Local\\Temp\\ipykernel_32212\\3811758465.py:11: FutureWarning: The frame.append method is deprecated and will be removed from pandas in a future version. Use pandas.concat instead.\n",
      "  NG_LW = grupos_definitivos[indice_lista_corr].append(G0_lower.iloc[i],ignore_index = True)\n"
     ]
    },
    {
     "name": "stdout",
     "output_type": "stream",
     "text": [
      "Nuevo r_2:  0.9448283880461342\n"
     ]
    },
    {
     "name": "stderr",
     "output_type": "stream",
     "text": [
      "C:\\Users\\germanm\\AppData\\Local\\Temp\\ipykernel_32212\\3811758465.py:11: FutureWarning: The frame.append method is deprecated and will be removed from pandas in a future version. Use pandas.concat instead.\n",
      "  NG_LW = grupos_definitivos[indice_lista_corr].append(G0_lower.iloc[i],ignore_index = True)\n"
     ]
    },
    {
     "name": "stdout",
     "output_type": "stream",
     "text": [
      "Nuevo r_2:  0.9449760786587187\n"
     ]
    },
    {
     "name": "stderr",
     "output_type": "stream",
     "text": [
      "C:\\Users\\germanm\\AppData\\Local\\Temp\\ipykernel_32212\\3811758465.py:11: FutureWarning: The frame.append method is deprecated and will be removed from pandas in a future version. Use pandas.concat instead.\n",
      "  NG_LW = grupos_definitivos[indice_lista_corr].append(G0_lower.iloc[i],ignore_index = True)\n"
     ]
    },
    {
     "name": "stdout",
     "output_type": "stream",
     "text": [
      "Nuevo r_2:  0.9552014722173365\n"
     ]
    },
    {
     "name": "stderr",
     "output_type": "stream",
     "text": [
      "C:\\Users\\germanm\\AppData\\Local\\Temp\\ipykernel_32212\\3811758465.py:11: FutureWarning: The frame.append method is deprecated and will be removed from pandas in a future version. Use pandas.concat instead.\n",
      "  NG_LW = grupos_definitivos[indice_lista_corr].append(G0_lower.iloc[i],ignore_index = True)\n"
     ]
    },
    {
     "name": "stdout",
     "output_type": "stream",
     "text": [
      "Nuevo r_2:  0.9450257068621829\n"
     ]
    },
    {
     "name": "stderr",
     "output_type": "stream",
     "text": [
      "C:\\Users\\germanm\\AppData\\Local\\Temp\\ipykernel_32212\\3811758465.py:11: FutureWarning: The frame.append method is deprecated and will be removed from pandas in a future version. Use pandas.concat instead.\n",
      "  NG_LW = grupos_definitivos[indice_lista_corr].append(G0_lower.iloc[i],ignore_index = True)\n"
     ]
    },
    {
     "name": "stdout",
     "output_type": "stream",
     "text": [
      "Nuevo r_2:  0.9449267784096611\n"
     ]
    },
    {
     "name": "stderr",
     "output_type": "stream",
     "text": [
      "C:\\Users\\germanm\\AppData\\Local\\Temp\\ipykernel_32212\\3811758465.py:11: FutureWarning: The frame.append method is deprecated and will be removed from pandas in a future version. Use pandas.concat instead.\n",
      "  NG_LW = grupos_definitivos[indice_lista_corr].append(G0_lower.iloc[i],ignore_index = True)\n"
     ]
    },
    {
     "name": "stdout",
     "output_type": "stream",
     "text": [
      "Nuevo r_2:  0.9449024305919596\n"
     ]
    },
    {
     "name": "stderr",
     "output_type": "stream",
     "text": [
      "C:\\Users\\germanm\\AppData\\Local\\Temp\\ipykernel_32212\\3811758465.py:11: FutureWarning: The frame.append method is deprecated and will be removed from pandas in a future version. Use pandas.concat instead.\n",
      "  NG_LW = grupos_definitivos[indice_lista_corr].append(G0_lower.iloc[i],ignore_index = True)\n"
     ]
    },
    {
     "name": "stdout",
     "output_type": "stream",
     "text": [
      "Nuevo r_2:  0.945283644948496\n"
     ]
    },
    {
     "name": "stderr",
     "output_type": "stream",
     "text": [
      "C:\\Users\\germanm\\AppData\\Local\\Temp\\ipykernel_32212\\3811758465.py:11: FutureWarning: The frame.append method is deprecated and will be removed from pandas in a future version. Use pandas.concat instead.\n",
      "  NG_LW = grupos_definitivos[indice_lista_corr].append(G0_lower.iloc[i],ignore_index = True)\n"
     ]
    },
    {
     "name": "stdout",
     "output_type": "stream",
     "text": [
      "Nuevo r_2:  0.9457725148528253\n"
     ]
    },
    {
     "name": "stderr",
     "output_type": "stream",
     "text": [
      "C:\\Users\\germanm\\AppData\\Local\\Temp\\ipykernel_32212\\3811758465.py:11: FutureWarning: The frame.append method is deprecated and will be removed from pandas in a future version. Use pandas.concat instead.\n",
      "  NG_LW = grupos_definitivos[indice_lista_corr].append(G0_lower.iloc[i],ignore_index = True)\n"
     ]
    },
    {
     "name": "stdout",
     "output_type": "stream",
     "text": [
      "Nuevo r_2:  0.9448297227962241\n"
     ]
    },
    {
     "name": "stderr",
     "output_type": "stream",
     "text": [
      "C:\\Users\\germanm\\AppData\\Local\\Temp\\ipykernel_32212\\3811758465.py:11: FutureWarning: The frame.append method is deprecated and will be removed from pandas in a future version. Use pandas.concat instead.\n",
      "  NG_LW = grupos_definitivos[indice_lista_corr].append(G0_lower.iloc[i],ignore_index = True)\n"
     ]
    },
    {
     "name": "stdout",
     "output_type": "stream",
     "text": [
      "Nuevo r_2:  0.9459606095631695\n"
     ]
    },
    {
     "name": "stderr",
     "output_type": "stream",
     "text": [
      "C:\\Users\\germanm\\AppData\\Local\\Temp\\ipykernel_32212\\3811758465.py:11: FutureWarning: The frame.append method is deprecated and will be removed from pandas in a future version. Use pandas.concat instead.\n",
      "  NG_LW = grupos_definitivos[indice_lista_corr].append(G0_lower.iloc[i],ignore_index = True)\n"
     ]
    },
    {
     "name": "stdout",
     "output_type": "stream",
     "text": [
      "Nuevo r_2:  0.944985378508863\n"
     ]
    },
    {
     "name": "stderr",
     "output_type": "stream",
     "text": [
      "C:\\Users\\germanm\\AppData\\Local\\Temp\\ipykernel_32212\\3811758465.py:11: FutureWarning: The frame.append method is deprecated and will be removed from pandas in a future version. Use pandas.concat instead.\n",
      "  NG_LW = grupos_definitivos[indice_lista_corr].append(G0_lower.iloc[i],ignore_index = True)\n"
     ]
    },
    {
     "name": "stdout",
     "output_type": "stream",
     "text": [
      "Nuevo r_2:  0.9450574811380836\n"
     ]
    },
    {
     "name": "stderr",
     "output_type": "stream",
     "text": [
      "C:\\Users\\germanm\\AppData\\Local\\Temp\\ipykernel_32212\\3811758465.py:11: FutureWarning: The frame.append method is deprecated and will be removed from pandas in a future version. Use pandas.concat instead.\n",
      "  NG_LW = grupos_definitivos[indice_lista_corr].append(G0_lower.iloc[i],ignore_index = True)\n"
     ]
    },
    {
     "name": "stdout",
     "output_type": "stream",
     "text": [
      "Nuevo r_2:  0.9448413697018715\n"
     ]
    },
    {
     "name": "stderr",
     "output_type": "stream",
     "text": [
      "C:\\Users\\germanm\\AppData\\Local\\Temp\\ipykernel_32212\\3811758465.py:11: FutureWarning: The frame.append method is deprecated and will be removed from pandas in a future version. Use pandas.concat instead.\n",
      "  NG_LW = grupos_definitivos[indice_lista_corr].append(G0_lower.iloc[i],ignore_index = True)\n"
     ]
    },
    {
     "name": "stdout",
     "output_type": "stream",
     "text": [
      "Nuevo r_2:  0.9449453220438814\n"
     ]
    },
    {
     "name": "stderr",
     "output_type": "stream",
     "text": [
      "C:\\Users\\germanm\\AppData\\Local\\Temp\\ipykernel_32212\\3811758465.py:11: FutureWarning: The frame.append method is deprecated and will be removed from pandas in a future version. Use pandas.concat instead.\n",
      "  NG_LW = grupos_definitivos[indice_lista_corr].append(G0_lower.iloc[i],ignore_index = True)\n"
     ]
    },
    {
     "name": "stdout",
     "output_type": "stream",
     "text": [
      "Nuevo r_2:  0.9457564926179134\n"
     ]
    },
    {
     "name": "stderr",
     "output_type": "stream",
     "text": [
      "C:\\Users\\germanm\\AppData\\Local\\Temp\\ipykernel_32212\\3811758465.py:11: FutureWarning: The frame.append method is deprecated and will be removed from pandas in a future version. Use pandas.concat instead.\n",
      "  NG_LW = grupos_definitivos[indice_lista_corr].append(G0_lower.iloc[i],ignore_index = True)\n"
     ]
    },
    {
     "name": "stdout",
     "output_type": "stream",
     "text": [
      "Nuevo r_2:  0.9445863618655953\n"
     ]
    },
    {
     "name": "stderr",
     "output_type": "stream",
     "text": [
      "C:\\Users\\germanm\\AppData\\Local\\Temp\\ipykernel_32212\\3811758465.py:11: FutureWarning: The frame.append method is deprecated and will be removed from pandas in a future version. Use pandas.concat instead.\n",
      "  NG_LW = grupos_definitivos[indice_lista_corr].append(G0_lower.iloc[i],ignore_index = True)\n"
     ]
    },
    {
     "name": "stdout",
     "output_type": "stream",
     "text": [
      "Nuevo r_2:  0.946078547797448\n"
     ]
    },
    {
     "name": "stderr",
     "output_type": "stream",
     "text": [
      "C:\\Users\\germanm\\AppData\\Local\\Temp\\ipykernel_32212\\3811758465.py:11: FutureWarning: The frame.append method is deprecated and will be removed from pandas in a future version. Use pandas.concat instead.\n",
      "  NG_LW = grupos_definitivos[indice_lista_corr].append(G0_lower.iloc[i],ignore_index = True)\n"
     ]
    },
    {
     "name": "stdout",
     "output_type": "stream",
     "text": [
      "Nuevo r_2:  0.9451774972214844\n"
     ]
    },
    {
     "name": "stderr",
     "output_type": "stream",
     "text": [
      "C:\\Users\\germanm\\AppData\\Local\\Temp\\ipykernel_32212\\3811758465.py:11: FutureWarning: The frame.append method is deprecated and will be removed from pandas in a future version. Use pandas.concat instead.\n",
      "  NG_LW = grupos_definitivos[indice_lista_corr].append(G0_lower.iloc[i],ignore_index = True)\n"
     ]
    },
    {
     "name": "stdout",
     "output_type": "stream",
     "text": [
      "Nuevo r_2:  0.9456213964928\n"
     ]
    },
    {
     "name": "stderr",
     "output_type": "stream",
     "text": [
      "C:\\Users\\germanm\\AppData\\Local\\Temp\\ipykernel_32212\\3811758465.py:11: FutureWarning: The frame.append method is deprecated and will be removed from pandas in a future version. Use pandas.concat instead.\n",
      "  NG_LW = grupos_definitivos[indice_lista_corr].append(G0_lower.iloc[i],ignore_index = True)\n"
     ]
    },
    {
     "name": "stdout",
     "output_type": "stream",
     "text": [
      "Nuevo r_2:  0.9453537690432654\n"
     ]
    },
    {
     "name": "stderr",
     "output_type": "stream",
     "text": [
      "C:\\Users\\germanm\\AppData\\Local\\Temp\\ipykernel_32212\\3811758465.py:11: FutureWarning: The frame.append method is deprecated and will be removed from pandas in a future version. Use pandas.concat instead.\n",
      "  NG_LW = grupos_definitivos[indice_lista_corr].append(G0_lower.iloc[i],ignore_index = True)\n"
     ]
    },
    {
     "name": "stdout",
     "output_type": "stream",
     "text": [
      "Nuevo r_2:  0.9451345700348931\n"
     ]
    },
    {
     "name": "stderr",
     "output_type": "stream",
     "text": [
      "C:\\Users\\germanm\\AppData\\Local\\Temp\\ipykernel_32212\\3811758465.py:11: FutureWarning: The frame.append method is deprecated and will be removed from pandas in a future version. Use pandas.concat instead.\n",
      "  NG_LW = grupos_definitivos[indice_lista_corr].append(G0_lower.iloc[i],ignore_index = True)\n"
     ]
    },
    {
     "name": "stdout",
     "output_type": "stream",
     "text": [
      "Nuevo r_2:  0.9453906392967244\n"
     ]
    },
    {
     "name": "stderr",
     "output_type": "stream",
     "text": [
      "C:\\Users\\germanm\\AppData\\Local\\Temp\\ipykernel_32212\\3811758465.py:11: FutureWarning: The frame.append method is deprecated and will be removed from pandas in a future version. Use pandas.concat instead.\n",
      "  NG_LW = grupos_definitivos[indice_lista_corr].append(G0_lower.iloc[i],ignore_index = True)\n"
     ]
    },
    {
     "name": "stdout",
     "output_type": "stream",
     "text": [
      "Nuevo r_2:  0.9447834800333926\n"
     ]
    },
    {
     "name": "stderr",
     "output_type": "stream",
     "text": [
      "C:\\Users\\germanm\\AppData\\Local\\Temp\\ipykernel_32212\\3811758465.py:11: FutureWarning: The frame.append method is deprecated and will be removed from pandas in a future version. Use pandas.concat instead.\n",
      "  NG_LW = grupos_definitivos[indice_lista_corr].append(G0_lower.iloc[i],ignore_index = True)\n"
     ]
    },
    {
     "name": "stdout",
     "output_type": "stream",
     "text": [
      "Nuevo r_2:  0.9450677704028214\n"
     ]
    },
    {
     "name": "stderr",
     "output_type": "stream",
     "text": [
      "C:\\Users\\germanm\\AppData\\Local\\Temp\\ipykernel_32212\\3811758465.py:11: FutureWarning: The frame.append method is deprecated and will be removed from pandas in a future version. Use pandas.concat instead.\n",
      "  NG_LW = grupos_definitivos[indice_lista_corr].append(G0_lower.iloc[i],ignore_index = True)\n"
     ]
    },
    {
     "name": "stdout",
     "output_type": "stream",
     "text": [
      "Nuevo r_2:  0.9452286258399953\n"
     ]
    },
    {
     "name": "stderr",
     "output_type": "stream",
     "text": [
      "C:\\Users\\germanm\\AppData\\Local\\Temp\\ipykernel_32212\\3811758465.py:11: FutureWarning: The frame.append method is deprecated and will be removed from pandas in a future version. Use pandas.concat instead.\n",
      "  NG_LW = grupos_definitivos[indice_lista_corr].append(G0_lower.iloc[i],ignore_index = True)\n"
     ]
    },
    {
     "name": "stdout",
     "output_type": "stream",
     "text": [
      "Nuevo r_2:  0.9449532688806621\n"
     ]
    },
    {
     "name": "stderr",
     "output_type": "stream",
     "text": [
      "C:\\Users\\germanm\\AppData\\Local\\Temp\\ipykernel_32212\\3811758465.py:11: FutureWarning: The frame.append method is deprecated and will be removed from pandas in a future version. Use pandas.concat instead.\n",
      "  NG_LW = grupos_definitivos[indice_lista_corr].append(G0_lower.iloc[i],ignore_index = True)\n"
     ]
    },
    {
     "name": "stdout",
     "output_type": "stream",
     "text": [
      "Nuevo r_2:  0.9451431005904511\n"
     ]
    },
    {
     "name": "stderr",
     "output_type": "stream",
     "text": [
      "C:\\Users\\germanm\\AppData\\Local\\Temp\\ipykernel_32212\\3811758465.py:11: FutureWarning: The frame.append method is deprecated and will be removed from pandas in a future version. Use pandas.concat instead.\n",
      "  NG_LW = grupos_definitivos[indice_lista_corr].append(G0_lower.iloc[i],ignore_index = True)\n"
     ]
    },
    {
     "name": "stdout",
     "output_type": "stream",
     "text": [
      "Nuevo r_2:  0.9450137697234985\n"
     ]
    },
    {
     "name": "stderr",
     "output_type": "stream",
     "text": [
      "C:\\Users\\germanm\\AppData\\Local\\Temp\\ipykernel_32212\\3811758465.py:11: FutureWarning: The frame.append method is deprecated and will be removed from pandas in a future version. Use pandas.concat instead.\n",
      "  NG_LW = grupos_definitivos[indice_lista_corr].append(G0_lower.iloc[i],ignore_index = True)\n"
     ]
    },
    {
     "name": "stdout",
     "output_type": "stream",
     "text": [
      "Nuevo r_2:  0.94540797990441\n"
     ]
    },
    {
     "name": "stderr",
     "output_type": "stream",
     "text": [
      "C:\\Users\\germanm\\AppData\\Local\\Temp\\ipykernel_32212\\3811758465.py:11: FutureWarning: The frame.append method is deprecated and will be removed from pandas in a future version. Use pandas.concat instead.\n",
      "  NG_LW = grupos_definitivos[indice_lista_corr].append(G0_lower.iloc[i],ignore_index = True)\n"
     ]
    },
    {
     "name": "stdout",
     "output_type": "stream",
     "text": [
      "Nuevo r_2:  0.9455191924427785\n"
     ]
    }
   ],
   "source": [
    "fff = FinalCorreationsDf(lista_df_ic, lista_corr_olsms,grupos_definitivos)"
   ]
  },
  {
   "cell_type": "code",
   "execution_count": 126,
   "metadata": {},
   "outputs": [
    {
     "data": {
      "text/plain": [
       "[[0.0002055062987377232,\n",
       "  -0.0008969704196605255,\n",
       "  0.00036093482793642107,\n",
       "  0.00019521288940427262,\n",
       "  0.0004353518823997371,\n",
       "  5.9550657668938634e-05,\n",
       "  -0.0002710302885329252,\n",
       "  0.0007298866697285078,\n",
       "  0.0002535379085859546,\n",
       "  0.0004714865473067764,\n",
       "  -1.6216323683204692e-05,\n",
       "  0.00039657398106329733,\n",
       "  -0.000929279686616602,\n",
       "  0.00022965200593583202,\n",
       "  0.0005626557110007813,\n",
       "  -0.0003580773475561072,\n",
       "  0.0005655896416799644,\n",
       "  2.8835761778700508e-05,\n",
       "  0.0006480243110432715,\n",
       "  0.00019900700444908104,\n",
       "  -9.476157899857007e-05,\n",
       "  0.0002678446992279149,\n",
       "  -0.000515268914667466,\n",
       "  0.000582655770596685,\n",
       "  -0.0002938957839843104,\n",
       "  0.00040037900688305594,\n",
       "  0.0006189379204630807,\n",
       "  0.0004152931259672199,\n",
       "  0.00047857697170394786,\n",
       "  0.0003172476558092052,\n",
       "  1.0778710843206696e-05,\n",
       "  0.00029061209246217246,\n",
       "  0.0006949972338653465,\n",
       "  0.00027832363857671627,\n",
       "  0.00033874200770389606,\n",
       "  0.0002691546913448084,\n",
       "  0.0003386799669168328,\n",
       "  0.00016543177159034084,\n",
       "  0.00041151880659362483,\n",
       "  0.00030028214640820394],\n",
       " [-5.807272975189015e-05,\n",
       "  -0.001969080931346845,\n",
       "  0.0002487020622877756,\n",
       "  0.0002104597296984645,\n",
       "  0.0007268063044014728,\n",
       "  -0.000675294913094926,\n",
       "  0.00017998473646929636,\n",
       "  0.00015669727416989243,\n",
       "  0.000511419302467564,\n",
       "  0.00045210161392050807,\n",
       "  0.0006336062346607996,\n",
       "  0.00034527301944198285,\n",
       "  0.0004588795954030278,\n",
       "  0.00036308528400053053,\n",
       "  -0.002505360475625329,\n",
       "  0.00044333158228737624,\n",
       "  0.00030806675912620207,\n",
       "  -0.00023785411898025188,\n",
       "  0.0002238192612750156,\n",
       "  6.396772433414633e-05,\n",
       "  0.00023013782330350008,\n",
       "  0.0005249931623956261,\n",
       "  0.0003000752840490728,\n",
       "  0.0004287756814336241,\n",
       "  -0.0018894305885425178,\n",
       "  0.0005461595840391409,\n",
       "  0.0006080477622691927,\n",
       "  0.00040302143247294975,\n",
       "  0.0001685153090279501,\n",
       "  0.00023795664757930712,\n",
       "  0.0002636849449939582,\n",
       "  0.0002442965729905211,\n",
       "  -0.00014761082936431968,\n",
       "  0.00025241693667443776,\n",
       "  0.00030844052972767155,\n",
       "  0.0005007200024365055,\n",
       "  0.0003741522911586692,\n",
       "  0.0003577198559108208,\n",
       "  0.0003924204891956329,\n",
       "  0.00018104362673732055],\n",
       " [0.00036034497634884755,\n",
       "  0.00029468835880797073,\n",
       "  0.00032735660687333024,\n",
       "  0.00026632504719903416,\n",
       "  0.0005859337761618955,\n",
       "  3.7194282860975036e-05,\n",
       "  0.000544150344387262,\n",
       "  -0.0005447654452364059,\n",
       "  0.0003843850235316637,\n",
       "  0.0003006777384779724,\n",
       "  -0.0010775713704274104,\n",
       "  -0.0003052684848968701,\n",
       "  -1.5193521996081927e-07,\n",
       "  0.00014652022064631787,\n",
       "  -0.0009810340705803666,\n",
       "  0.00045263339200174446,\n",
       "  0.0006345154494349359,\n",
       "  0.0003392810798288348,\n",
       "  0.0002346270461176525,\n",
       "  0.00014311590037507926,\n",
       "  0.00020125909642165762,\n",
       "  0.0004482710485547159,\n",
       "  9.224411923502984e-05,\n",
       "  6.629447129979926e-05,\n",
       "  0.00028396692896681675,\n",
       "  -0.0013521312361008953,\n",
       "  -0.0019932713666303004,\n",
       "  4.540960829080287e-05,\n",
       "  -0.0005064614075089846,\n",
       "  0.0003516933878183748,\n",
       "  0.0003547414435415286,\n",
       "  0.00012778212762210028,\n",
       "  0.0007665945856013545,\n",
       "  0.00022558238933112484,\n",
       "  0.00029395879355242904,\n",
       "  8.783074526930168e-05,\n",
       "  1.4912759252583285e-05,\n",
       "  0.000284641841894695,\n",
       "  0.00042477095811233045,\n",
       "  0.00033104772945302674],\n",
       " [0.00036705563500738503,\n",
       "  -0.00012957749778186312,\n",
       "  6.922005291565281e-05,\n",
       "  0.0001520573599685937,\n",
       "  1.9217651054614926e-05,\n",
       "  -0.0006722450228200394,\n",
       "  0.0002505850446719027,\n",
       "  -0.0016819173720645786,\n",
       "  0.00020325447050617562,\n",
       "  0.0005428161067048132,\n",
       "  0.00020436171772242329,\n",
       "  0.0002745931006699065,\n",
       "  0.0008440473889120836,\n",
       "  0.00044015466549707227,\n",
       "  0.00043941739913511135,\n",
       "  -0.0005445293711293653,\n",
       "  0.0005053819213084454,\n",
       "  0.0003759409419221704,\n",
       "  0.0005041714799217667,\n",
       "  -0.0002653182480035765,\n",
       "  0.00036213594112410874,\n",
       "  0.0005367141139701603,\n",
       "  0.0005688496409645971,\n",
       "  0.0005084821824833385,\n",
       "  -0.0002907786520239819,\n",
       "  4.6119642043040976e-05,\n",
       "  0.0009658000048364812,\n",
       "  0.00048821536005327903,\n",
       "  0.00022594954190202632,\n",
       "  5.019514111270773e-05,\n",
       "  0.0003440130203210545,\n",
       "  0.0004194558021161088,\n",
       "  0.00011062058747934866,\n",
       "  -0.00015113564024316073,\n",
       "  0.0003351347432928309,\n",
       "  0.0004996502444326589,\n",
       "  0.0003460969726941654,\n",
       "  0.00034116792292138154,\n",
       "  6.071566650234228e-05,\n",
       "  0.00011293800604572635],\n",
       " [-7.607421645361434e-05,\n",
       "  0.0004570031125363805,\n",
       "  0.0004604107721655204,\n",
       "  0.00045918691262625266,\n",
       "  0.00043259372918713623,\n",
       "  0.0006707342019137696,\n",
       "  0.0002373625919154243,\n",
       "  -0.00011628802776808556,\n",
       "  0.0006273904744404923,\n",
       "  0.0006484872491768767,\n",
       "  -0.0010751869557065197,\n",
       "  0.0003078348162508515,\n",
       "  -0.044706299365034785,\n",
       "  0.0004981315284642296,\n",
       "  0.0006277594611636683,\n",
       "  0.0003097432563317071,\n",
       "  -0.0005471618721966109,\n",
       "  0.0002637659869825226,\n",
       "  0.0004244962976934774,\n",
       "  0.00016668784937590164,\n",
       "  0.0004538324421065054,\n",
       "  0.0008626529725880294,\n",
       "  0.00036412889521098,\n",
       "  0.0005825872596539883,\n",
       "  0.000631474610255367,\n",
       "  -2.0522800518119055e-05,\n",
       "  -0.00011082792643879458,\n",
       "  0.0007013460997671306,\n",
       "  0.0008204999383091272,\n",
       "  0.0007053239293087765,\n",
       "  0.00048634226357868737,\n",
       "  0.0004663780894262892,\n",
       "  0.00033827200741487484,\n",
       "  0.00033135258178351723,\n",
       "  0.0004847499678710676,\n",
       "  0.0003047589510088988,\n",
       "  0.00016145785148524716,\n",
       "  0.0004440579901917596,\n",
       "  0.0006874420790524693,\n",
       "  -0.0006666179670613559],\n",
       " [-0.0014055508105419445,\n",
       "  -0.0006763579411231957,\n",
       "  6.55428864071439e-05,\n",
       "  0.0002629736285887363,\n",
       "  0.0008467317666146501,\n",
       "  0.0005732194235786858,\n",
       "  0.000733129515385289,\n",
       "  -0.0011368225850125757,\n",
       "  0.00017685016928092878,\n",
       "  0.0006568687282461072,\n",
       "  0.0008164078816835785,\n",
       "  0.0006687172690991172,\n",
       "  -0.009556676289518728,\n",
       "  0.0006190890656349035,\n",
       "  0.0007180175181566995,\n",
       "  0.0007423653358582527,\n",
       "  0.0003611509793217671,\n",
       "  -0.00012771892500751392,\n",
       "  0.0008150731315936799,\n",
       "  -0.0003158136353517138,\n",
       "  0.0006594174189548108,\n",
       "  0.0005873147897341724,\n",
       "  0.0008034262259463132,\n",
       "  0.0006994738839364301,\n",
       "  -0.00011169669009558625,\n",
       "  0.001058434062222502,\n",
       "  -0.00043375186963023893,\n",
       "  0.00046729870633344106,\n",
       "  2.339943501783459e-05,\n",
       "  0.00029102688455240333,\n",
       "  0.0005102258929247094,\n",
       "  0.00025415663109340514,\n",
       "  0.0008613158944251742,\n",
       "  0.0005770255249963885,\n",
       "  0.000416170087822465,\n",
       "  0.0006915270471556934,\n",
       "  0.0005016953373666588,\n",
       "  0.0006310262043193182,\n",
       "  0.0002368160234078598,\n",
       "  0.00012560348503931618]]"
      ]
     },
     "execution_count": 126,
     "metadata": {},
     "output_type": "execute_result"
    }
   ],
   "source": [
    "fff"
   ]
  },
  {
   "cell_type": "code",
   "execution_count": 127,
   "metadata": {},
   "outputs": [
    {
     "data": {
      "text/html": [
       "<div>\n",
       "<style scoped>\n",
       "    .dataframe tbody tr th:only-of-type {\n",
       "        vertical-align: middle;\n",
       "    }\n",
       "\n",
       "    .dataframe tbody tr th {\n",
       "        vertical-align: top;\n",
       "    }\n",
       "\n",
       "    .dataframe thead th {\n",
       "        text-align: right;\n",
       "    }\n",
       "</style>\n",
       "<table border=\"1\" class=\"dataframe\">\n",
       "  <thead>\n",
       "    <tr style=\"text-align: right;\">\n",
       "      <th></th>\n",
       "      <th>0</th>\n",
       "      <th>1</th>\n",
       "      <th>2</th>\n",
       "      <th>3</th>\n",
       "      <th>4</th>\n",
       "      <th>5</th>\n",
       "      <th>6</th>\n",
       "      <th>7</th>\n",
       "      <th>8</th>\n",
       "      <th>9</th>\n",
       "      <th>10</th>\n",
       "      <th>11</th>\n",
       "      <th>12</th>\n",
       "      <th>13</th>\n",
       "      <th>14</th>\n",
       "      <th>15</th>\n",
       "      <th>16</th>\n",
       "      <th>17</th>\n",
       "      <th>18</th>\n",
       "      <th>19</th>\n",
       "      <th>20</th>\n",
       "      <th>21</th>\n",
       "      <th>22</th>\n",
       "      <th>23</th>\n",
       "      <th>24</th>\n",
       "      <th>25</th>\n",
       "      <th>26</th>\n",
       "      <th>27</th>\n",
       "      <th>28</th>\n",
       "      <th>29</th>\n",
       "      <th>30</th>\n",
       "      <th>31</th>\n",
       "      <th>32</th>\n",
       "      <th>33</th>\n",
       "      <th>34</th>\n",
       "      <th>35</th>\n",
       "      <th>36</th>\n",
       "      <th>37</th>\n",
       "      <th>38</th>\n",
       "      <th>39</th>\n",
       "    </tr>\n",
       "  </thead>\n",
       "  <tbody>\n",
       "    <tr>\n",
       "      <th>0</th>\n",
       "      <td>0.000206</td>\n",
       "      <td>-0.000897</td>\n",
       "      <td>0.000361</td>\n",
       "      <td>0.000195</td>\n",
       "      <td>0.000435</td>\n",
       "      <td>0.000060</td>\n",
       "      <td>-0.000271</td>\n",
       "      <td>0.000730</td>\n",
       "      <td>0.000254</td>\n",
       "      <td>0.000471</td>\n",
       "      <td>-0.000016</td>\n",
       "      <td>0.000397</td>\n",
       "      <td>-9.292797e-04</td>\n",
       "      <td>0.000230</td>\n",
       "      <td>0.000563</td>\n",
       "      <td>-0.000358</td>\n",
       "      <td>0.000566</td>\n",
       "      <td>0.000029</td>\n",
       "      <td>0.000648</td>\n",
       "      <td>0.000199</td>\n",
       "      <td>-0.000095</td>\n",
       "      <td>0.000268</td>\n",
       "      <td>-0.000515</td>\n",
       "      <td>0.000583</td>\n",
       "      <td>-0.000294</td>\n",
       "      <td>0.000400</td>\n",
       "      <td>0.000619</td>\n",
       "      <td>0.000415</td>\n",
       "      <td>0.000479</td>\n",
       "      <td>0.000317</td>\n",
       "      <td>0.000011</td>\n",
       "      <td>0.000291</td>\n",
       "      <td>0.000695</td>\n",
       "      <td>0.000278</td>\n",
       "      <td>0.000339</td>\n",
       "      <td>0.000269</td>\n",
       "      <td>0.000339</td>\n",
       "      <td>0.000165</td>\n",
       "      <td>0.000412</td>\n",
       "      <td>0.000300</td>\n",
       "    </tr>\n",
       "    <tr>\n",
       "      <th>1</th>\n",
       "      <td>-0.000058</td>\n",
       "      <td>-0.001969</td>\n",
       "      <td>0.000249</td>\n",
       "      <td>0.000210</td>\n",
       "      <td>0.000727</td>\n",
       "      <td>-0.000675</td>\n",
       "      <td>0.000180</td>\n",
       "      <td>0.000157</td>\n",
       "      <td>0.000511</td>\n",
       "      <td>0.000452</td>\n",
       "      <td>0.000634</td>\n",
       "      <td>0.000345</td>\n",
       "      <td>4.588796e-04</td>\n",
       "      <td>0.000363</td>\n",
       "      <td>-0.002505</td>\n",
       "      <td>0.000443</td>\n",
       "      <td>0.000308</td>\n",
       "      <td>-0.000238</td>\n",
       "      <td>0.000224</td>\n",
       "      <td>0.000064</td>\n",
       "      <td>0.000230</td>\n",
       "      <td>0.000525</td>\n",
       "      <td>0.000300</td>\n",
       "      <td>0.000429</td>\n",
       "      <td>-0.001889</td>\n",
       "      <td>0.000546</td>\n",
       "      <td>0.000608</td>\n",
       "      <td>0.000403</td>\n",
       "      <td>0.000169</td>\n",
       "      <td>0.000238</td>\n",
       "      <td>0.000264</td>\n",
       "      <td>0.000244</td>\n",
       "      <td>-0.000148</td>\n",
       "      <td>0.000252</td>\n",
       "      <td>0.000308</td>\n",
       "      <td>0.000501</td>\n",
       "      <td>0.000374</td>\n",
       "      <td>0.000358</td>\n",
       "      <td>0.000392</td>\n",
       "      <td>0.000181</td>\n",
       "    </tr>\n",
       "    <tr>\n",
       "      <th>2</th>\n",
       "      <td>0.000360</td>\n",
       "      <td>0.000295</td>\n",
       "      <td>0.000327</td>\n",
       "      <td>0.000266</td>\n",
       "      <td>0.000586</td>\n",
       "      <td>0.000037</td>\n",
       "      <td>0.000544</td>\n",
       "      <td>-0.000545</td>\n",
       "      <td>0.000384</td>\n",
       "      <td>0.000301</td>\n",
       "      <td>-0.001078</td>\n",
       "      <td>-0.000305</td>\n",
       "      <td>-1.519352e-07</td>\n",
       "      <td>0.000147</td>\n",
       "      <td>-0.000981</td>\n",
       "      <td>0.000453</td>\n",
       "      <td>0.000635</td>\n",
       "      <td>0.000339</td>\n",
       "      <td>0.000235</td>\n",
       "      <td>0.000143</td>\n",
       "      <td>0.000201</td>\n",
       "      <td>0.000448</td>\n",
       "      <td>0.000092</td>\n",
       "      <td>0.000066</td>\n",
       "      <td>0.000284</td>\n",
       "      <td>-0.001352</td>\n",
       "      <td>-0.001993</td>\n",
       "      <td>0.000045</td>\n",
       "      <td>-0.000506</td>\n",
       "      <td>0.000352</td>\n",
       "      <td>0.000355</td>\n",
       "      <td>0.000128</td>\n",
       "      <td>0.000767</td>\n",
       "      <td>0.000226</td>\n",
       "      <td>0.000294</td>\n",
       "      <td>0.000088</td>\n",
       "      <td>0.000015</td>\n",
       "      <td>0.000285</td>\n",
       "      <td>0.000425</td>\n",
       "      <td>0.000331</td>\n",
       "    </tr>\n",
       "    <tr>\n",
       "      <th>3</th>\n",
       "      <td>0.000367</td>\n",
       "      <td>-0.000130</td>\n",
       "      <td>0.000069</td>\n",
       "      <td>0.000152</td>\n",
       "      <td>0.000019</td>\n",
       "      <td>-0.000672</td>\n",
       "      <td>0.000251</td>\n",
       "      <td>-0.001682</td>\n",
       "      <td>0.000203</td>\n",
       "      <td>0.000543</td>\n",
       "      <td>0.000204</td>\n",
       "      <td>0.000275</td>\n",
       "      <td>8.440474e-04</td>\n",
       "      <td>0.000440</td>\n",
       "      <td>0.000439</td>\n",
       "      <td>-0.000545</td>\n",
       "      <td>0.000505</td>\n",
       "      <td>0.000376</td>\n",
       "      <td>0.000504</td>\n",
       "      <td>-0.000265</td>\n",
       "      <td>0.000362</td>\n",
       "      <td>0.000537</td>\n",
       "      <td>0.000569</td>\n",
       "      <td>0.000508</td>\n",
       "      <td>-0.000291</td>\n",
       "      <td>0.000046</td>\n",
       "      <td>0.000966</td>\n",
       "      <td>0.000488</td>\n",
       "      <td>0.000226</td>\n",
       "      <td>0.000050</td>\n",
       "      <td>0.000344</td>\n",
       "      <td>0.000419</td>\n",
       "      <td>0.000111</td>\n",
       "      <td>-0.000151</td>\n",
       "      <td>0.000335</td>\n",
       "      <td>0.000500</td>\n",
       "      <td>0.000346</td>\n",
       "      <td>0.000341</td>\n",
       "      <td>0.000061</td>\n",
       "      <td>0.000113</td>\n",
       "    </tr>\n",
       "    <tr>\n",
       "      <th>4</th>\n",
       "      <td>-0.000076</td>\n",
       "      <td>0.000457</td>\n",
       "      <td>0.000460</td>\n",
       "      <td>0.000459</td>\n",
       "      <td>0.000433</td>\n",
       "      <td>0.000671</td>\n",
       "      <td>0.000237</td>\n",
       "      <td>-0.000116</td>\n",
       "      <td>0.000627</td>\n",
       "      <td>0.000648</td>\n",
       "      <td>-0.001075</td>\n",
       "      <td>0.000308</td>\n",
       "      <td>-4.470630e-02</td>\n",
       "      <td>0.000498</td>\n",
       "      <td>0.000628</td>\n",
       "      <td>0.000310</td>\n",
       "      <td>-0.000547</td>\n",
       "      <td>0.000264</td>\n",
       "      <td>0.000424</td>\n",
       "      <td>0.000167</td>\n",
       "      <td>0.000454</td>\n",
       "      <td>0.000863</td>\n",
       "      <td>0.000364</td>\n",
       "      <td>0.000583</td>\n",
       "      <td>0.000631</td>\n",
       "      <td>-0.000021</td>\n",
       "      <td>-0.000111</td>\n",
       "      <td>0.000701</td>\n",
       "      <td>0.000820</td>\n",
       "      <td>0.000705</td>\n",
       "      <td>0.000486</td>\n",
       "      <td>0.000466</td>\n",
       "      <td>0.000338</td>\n",
       "      <td>0.000331</td>\n",
       "      <td>0.000485</td>\n",
       "      <td>0.000305</td>\n",
       "      <td>0.000161</td>\n",
       "      <td>0.000444</td>\n",
       "      <td>0.000687</td>\n",
       "      <td>-0.000667</td>\n",
       "    </tr>\n",
       "    <tr>\n",
       "      <th>5</th>\n",
       "      <td>-0.001406</td>\n",
       "      <td>-0.000676</td>\n",
       "      <td>0.000066</td>\n",
       "      <td>0.000263</td>\n",
       "      <td>0.000847</td>\n",
       "      <td>0.000573</td>\n",
       "      <td>0.000733</td>\n",
       "      <td>-0.001137</td>\n",
       "      <td>0.000177</td>\n",
       "      <td>0.000657</td>\n",
       "      <td>0.000816</td>\n",
       "      <td>0.000669</td>\n",
       "      <td>-9.556676e-03</td>\n",
       "      <td>0.000619</td>\n",
       "      <td>0.000718</td>\n",
       "      <td>0.000742</td>\n",
       "      <td>0.000361</td>\n",
       "      <td>-0.000128</td>\n",
       "      <td>0.000815</td>\n",
       "      <td>-0.000316</td>\n",
       "      <td>0.000659</td>\n",
       "      <td>0.000587</td>\n",
       "      <td>0.000803</td>\n",
       "      <td>0.000699</td>\n",
       "      <td>-0.000112</td>\n",
       "      <td>0.001058</td>\n",
       "      <td>-0.000434</td>\n",
       "      <td>0.000467</td>\n",
       "      <td>0.000023</td>\n",
       "      <td>0.000291</td>\n",
       "      <td>0.000510</td>\n",
       "      <td>0.000254</td>\n",
       "      <td>0.000861</td>\n",
       "      <td>0.000577</td>\n",
       "      <td>0.000416</td>\n",
       "      <td>0.000692</td>\n",
       "      <td>0.000502</td>\n",
       "      <td>0.000631</td>\n",
       "      <td>0.000237</td>\n",
       "      <td>0.000126</td>\n",
       "    </tr>\n",
       "  </tbody>\n",
       "</table>\n",
       "</div>"
      ],
      "text/plain": [
       "         0         1         2         3         4         5         6   \\\n",
       "0  0.000206 -0.000897  0.000361  0.000195  0.000435  0.000060 -0.000271   \n",
       "1 -0.000058 -0.001969  0.000249  0.000210  0.000727 -0.000675  0.000180   \n",
       "2  0.000360  0.000295  0.000327  0.000266  0.000586  0.000037  0.000544   \n",
       "3  0.000367 -0.000130  0.000069  0.000152  0.000019 -0.000672  0.000251   \n",
       "4 -0.000076  0.000457  0.000460  0.000459  0.000433  0.000671  0.000237   \n",
       "5 -0.001406 -0.000676  0.000066  0.000263  0.000847  0.000573  0.000733   \n",
       "\n",
       "         7         8         9         10        11            12        13  \\\n",
       "0  0.000730  0.000254  0.000471 -0.000016  0.000397 -9.292797e-04  0.000230   \n",
       "1  0.000157  0.000511  0.000452  0.000634  0.000345  4.588796e-04  0.000363   \n",
       "2 -0.000545  0.000384  0.000301 -0.001078 -0.000305 -1.519352e-07  0.000147   \n",
       "3 -0.001682  0.000203  0.000543  0.000204  0.000275  8.440474e-04  0.000440   \n",
       "4 -0.000116  0.000627  0.000648 -0.001075  0.000308 -4.470630e-02  0.000498   \n",
       "5 -0.001137  0.000177  0.000657  0.000816  0.000669 -9.556676e-03  0.000619   \n",
       "\n",
       "         14        15        16        17        18        19        20  \\\n",
       "0  0.000563 -0.000358  0.000566  0.000029  0.000648  0.000199 -0.000095   \n",
       "1 -0.002505  0.000443  0.000308 -0.000238  0.000224  0.000064  0.000230   \n",
       "2 -0.000981  0.000453  0.000635  0.000339  0.000235  0.000143  0.000201   \n",
       "3  0.000439 -0.000545  0.000505  0.000376  0.000504 -0.000265  0.000362   \n",
       "4  0.000628  0.000310 -0.000547  0.000264  0.000424  0.000167  0.000454   \n",
       "5  0.000718  0.000742  0.000361 -0.000128  0.000815 -0.000316  0.000659   \n",
       "\n",
       "         21        22        23        24        25        26        27  \\\n",
       "0  0.000268 -0.000515  0.000583 -0.000294  0.000400  0.000619  0.000415   \n",
       "1  0.000525  0.000300  0.000429 -0.001889  0.000546  0.000608  0.000403   \n",
       "2  0.000448  0.000092  0.000066  0.000284 -0.001352 -0.001993  0.000045   \n",
       "3  0.000537  0.000569  0.000508 -0.000291  0.000046  0.000966  0.000488   \n",
       "4  0.000863  0.000364  0.000583  0.000631 -0.000021 -0.000111  0.000701   \n",
       "5  0.000587  0.000803  0.000699 -0.000112  0.001058 -0.000434  0.000467   \n",
       "\n",
       "         28        29        30        31        32        33        34  \\\n",
       "0  0.000479  0.000317  0.000011  0.000291  0.000695  0.000278  0.000339   \n",
       "1  0.000169  0.000238  0.000264  0.000244 -0.000148  0.000252  0.000308   \n",
       "2 -0.000506  0.000352  0.000355  0.000128  0.000767  0.000226  0.000294   \n",
       "3  0.000226  0.000050  0.000344  0.000419  0.000111 -0.000151  0.000335   \n",
       "4  0.000820  0.000705  0.000486  0.000466  0.000338  0.000331  0.000485   \n",
       "5  0.000023  0.000291  0.000510  0.000254  0.000861  0.000577  0.000416   \n",
       "\n",
       "         35        36        37        38        39  \n",
       "0  0.000269  0.000339  0.000165  0.000412  0.000300  \n",
       "1  0.000501  0.000374  0.000358  0.000392  0.000181  \n",
       "2  0.000088  0.000015  0.000285  0.000425  0.000331  \n",
       "3  0.000500  0.000346  0.000341  0.000061  0.000113  \n",
       "4  0.000305  0.000161  0.000444  0.000687 -0.000667  \n",
       "5  0.000692  0.000502  0.000631  0.000237  0.000126  "
      ]
     },
     "execution_count": 127,
     "metadata": {},
     "output_type": "execute_result"
    }
   ],
   "source": [
    "df_final_correations = pd.DataFrame(fff)\n",
    "## O incluso eliminarlo\n",
    "pd.options.display.max_columns = None\n",
    "\n",
    "df_final_correations"
   ]
  },
  {
   "cell_type": "code",
   "execution_count": null,
   "metadata": {},
   "outputs": [],
   "source": [
    "aa = df_final_correations.min()\n",
    "aa"
   ]
  },
  {
   "cell_type": "code",
   "execution_count": 128,
   "metadata": {},
   "outputs": [],
   "source": [
    "import pandas as pd\n",
    "\n",
    "'''\n",
    "Entradas: lista de todas als correlaciones asociadas a cada df:\n",
    "salidad: Grupo final donde el resgistro causa menos impacto.\n",
    "\n",
    "'''\n",
    "def groupsAsociateCorrelation(fff):\n",
    "    df_final_correations = pd.DataFrame(fff)\n",
    "    ## O incluso eliminarlo\n",
    "    #pd.options.display.max_columns = None\n",
    "    aa = df_final_correations.min()\n",
    "    # Encuentro el indice asociado correlacion minima\n",
    "    li = list(df_final_correations.idxmin())\n",
    "    lista_modificada = GruposFinales(li)\n",
    "\n",
    "    return lista_modificada\n"
   ]
  },
  {
   "cell_type": "code",
   "execution_count": 129,
   "metadata": {},
   "outputs": [
    {
     "data": {
      "text/plain": [
       "[2,\n",
       " 0,\n",
       " 2,\n",
       " 1,\n",
       " 1,\n",
       " 0,\n",
       " 0,\n",
       " 1,\n",
       " 2,\n",
       " 1,\n",
       " 1,\n",
       " 1,\n",
       " 2,\n",
       " 1,\n",
       " 0,\n",
       " 1,\n",
       " 2,\n",
       " 0,\n",
       " 0,\n",
       " 2,\n",
       " 0,\n",
       " 0,\n",
       " 0,\n",
       " 1,\n",
       " 0,\n",
       " 1,\n",
       " 1,\n",
       " 1,\n",
       " 1,\n",
       " 1,\n",
       " 0,\n",
       " 1,\n",
       " 0,\n",
       " 1,\n",
       " 1,\n",
       " 1,\n",
       " 1,\n",
       " 0,\n",
       " 1,\n",
       " 2]"
      ]
     },
     "execution_count": 129,
     "metadata": {},
     "output_type": "execute_result"
    }
   ],
   "source": [
    "correlacionesFinales = groupsAsociateCorrelation(fff)\n",
    "correlacionesFinales"
   ]
  },
  {
   "cell_type": "code",
   "execution_count": 130,
   "metadata": {},
   "outputs": [],
   "source": [
    "def performanceModel(listAsigFinales,lista_modelos, test_clean):\n",
    "    y_pred= []\n",
    "    for j in range(len(test_clean)):\n",
    "        number_model = listAsigFinales[j]\n",
    "        pred = lista_modelos[number_model].predict(test_clean.values[j].reshape(1,-1))\n",
    "        y_pred.append(pred[0])\n",
    "    \n",
    "    return y_pred"
   ]
  },
  {
   "cell_type": "code",
   "execution_count": 131,
   "metadata": {},
   "outputs": [
    {
     "name": "stdout",
     "output_type": "stream",
     "text": [
      "Coeficiente de determinación :  -10.39144008151673\n",
      "Error absoluto medio:  1886.6301524400187\n",
      "Maximo error residual:  26717.880707782202\n",
      "RMSE:  20459047.309602432\n"
     ]
    }
   ],
   "source": [
    "y_pred = performanceModel(correlacionesFinales,list_modelos, test_clean)\n",
    "metricasPerformanceCLR(test_original.RDT_AJUSTADO, y_pred)"
   ]
  },
  {
   "cell_type": "code",
   "execution_count": 272,
   "metadata": {},
   "outputs": [
    {
     "data": {
      "text/plain": [
       "[8371.197826858493,\n",
       " 9344.09104900551,\n",
       " 5894.200786499656,\n",
       " 5368.834722488653,\n",
       " 6283.379296372528,\n",
       " 7649.48204377637,\n",
       " 2638.299929932371,\n",
       " 7867.484809061047,\n",
       " 5512.687047542306,\n",
       " 3920.394291858189,\n",
       " 1556.8757539438084,\n",
       " 2617.0156541495817,\n",
       " -24645.790707782202,\n",
       " 3601.120543162222,\n",
       " 8844.417405721848,\n",
       " 7197.584164056345,\n",
       " 2123.8205735090887,\n",
       " 6636.323028579936,\n",
       " 3776.317143802531,\n",
       " 6797.433457919164,\n",
       " 3081.4192318822606,\n",
       " 3838.9100788127107,\n",
       " 2135.557908223069,\n",
       " 3297.613857613469,\n",
       " 9100.63482202703,\n",
       " 1238.7624535178766,\n",
       " 1716.6395360421157,\n",
       " 3262.4068530625664,\n",
       " 2273.7068731326144,\n",
       " 6000.543392119114,\n",
       " 3396.216925919609,\n",
       " 3574.84425307496,\n",
       " 6676.093246698234,\n",
       " 6430.321098944056,\n",
       " 4518.292311690049,\n",
       " 3359.201877884334,\n",
       " 3333.1409687075065,\n",
       " 3814.0124492475006,\n",
       " 6069.795234159683,\n",
       " 1996.5811085099704]"
      ]
     },
     "execution_count": 272,
     "metadata": {},
     "output_type": "execute_result"
    }
   ],
   "source": [
    "y_pred"
   ]
  },
  {
   "cell_type": "code",
   "execution_count": null,
   "metadata": {},
   "outputs": [],
   "source": []
  },
  {
   "cell_type": "code",
   "execution_count": null,
   "metadata": {},
   "outputs": [],
   "source": []
  },
  {
   "cell_type": "code",
   "execution_count": null,
   "metadata": {},
   "outputs": [],
   "source": []
  },
  {
   "cell_type": "code",
   "execution_count": null,
   "metadata": {},
   "outputs": [],
   "source": []
  },
  {
   "cell_type": "code",
   "execution_count": null,
   "metadata": {},
   "outputs": [],
   "source": []
  },
  {
   "cell_type": "code",
   "execution_count": null,
   "metadata": {},
   "outputs": [],
   "source": []
  },
  {
   "cell_type": "code",
   "execution_count": null,
   "metadata": {},
   "outputs": [],
   "source": []
  },
  {
   "cell_type": "markdown",
   "metadata": {},
   "source": [
    "### PRUEBA DISTANCIA PERPENDICAULAR DE CADA PUNTO AL HIPERPLANO"
   ]
  },
  {
   "cell_type": "code",
   "execution_count": 7,
   "metadata": {},
   "outputs": [
    {
     "data": {
      "text/html": [
       "<div>\n",
       "<style scoped>\n",
       "    .dataframe tbody tr th:only-of-type {\n",
       "        vertical-align: middle;\n",
       "    }\n",
       "\n",
       "    .dataframe tbody tr th {\n",
       "        vertical-align: top;\n",
       "    }\n",
       "\n",
       "    .dataframe thead th {\n",
       "        text-align: right;\n",
       "    }\n",
       "</style>\n",
       "<table border=\"1\" class=\"dataframe\">\n",
       "  <thead>\n",
       "    <tr style=\"text-align: right;\">\n",
       "      <th></th>\n",
       "      <th>ID_LOTE</th>\n",
       "      <th>DIAS_EN_EMERGER</th>\n",
       "      <th>DIAS_EN_EMERGER_A_FLORECER</th>\n",
       "      <th>DIAS_EN_FLORECER_A_COSECHAR</th>\n",
       "      <th>POBLACION_20DIAS_AJT</th>\n",
       "      <th>ALTURA_LOT</th>\n",
       "      <th>ContEnfQui_Emer_Flor</th>\n",
       "      <th>ContEnfQui_Flor_Cose</th>\n",
       "      <th>ContMalMec_Siem_Emer</th>\n",
       "      <th>ContMalMec_Emer_Flor</th>\n",
       "      <th>...</th>\n",
       "      <th>CAP_ENDURE_RASTA</th>\n",
       "      <th>MOTEADOS_RASTA</th>\n",
       "      <th>MOTEADOS_MAS70cm._RASTA</th>\n",
       "      <th>OBSERVA_EROSION_RASTA</th>\n",
       "      <th>OBSERVA_MOHO_RASTA</th>\n",
       "      <th>OBSERVA_RAICES_VIVAS_RASTA</th>\n",
       "      <th>OBSERVA_HOJARASCA_MO_RASTA</th>\n",
       "      <th>SUELO_NEGRO_BLANDO_RASTA</th>\n",
       "      <th>CUCHILLO_PRIMER_HTE_RASTA</th>\n",
       "      <th>CERCA_RIOS_QUEBRADAS_RASTA</th>\n",
       "    </tr>\n",
       "  </thead>\n",
       "  <tbody>\n",
       "    <tr>\n",
       "      <th>0</th>\n",
       "      <td>2212</td>\n",
       "      <td>4</td>\n",
       "      <td>47</td>\n",
       "      <td>89</td>\n",
       "      <td>60000</td>\n",
       "      <td>4</td>\n",
       "      <td>0</td>\n",
       "      <td>0</td>\n",
       "      <td>0</td>\n",
       "      <td>0</td>\n",
       "      <td>...</td>\n",
       "      <td>0</td>\n",
       "      <td>1</td>\n",
       "      <td>0</td>\n",
       "      <td>0</td>\n",
       "      <td>0</td>\n",
       "      <td>1</td>\n",
       "      <td>0</td>\n",
       "      <td>0</td>\n",
       "      <td>1</td>\n",
       "      <td>0</td>\n",
       "    </tr>\n",
       "    <tr>\n",
       "      <th>1</th>\n",
       "      <td>2448</td>\n",
       "      <td>5</td>\n",
       "      <td>47</td>\n",
       "      <td>72</td>\n",
       "      <td>71000</td>\n",
       "      <td>55</td>\n",
       "      <td>0</td>\n",
       "      <td>0</td>\n",
       "      <td>0</td>\n",
       "      <td>0</td>\n",
       "      <td>...</td>\n",
       "      <td>0</td>\n",
       "      <td>0</td>\n",
       "      <td>0</td>\n",
       "      <td>0</td>\n",
       "      <td>0</td>\n",
       "      <td>1</td>\n",
       "      <td>0</td>\n",
       "      <td>0</td>\n",
       "      <td>1</td>\n",
       "      <td>0</td>\n",
       "    </tr>\n",
       "    <tr>\n",
       "      <th>2</th>\n",
       "      <td>2901</td>\n",
       "      <td>4</td>\n",
       "      <td>46</td>\n",
       "      <td>78</td>\n",
       "      <td>60000</td>\n",
       "      <td>6</td>\n",
       "      <td>0</td>\n",
       "      <td>0</td>\n",
       "      <td>0</td>\n",
       "      <td>0</td>\n",
       "      <td>...</td>\n",
       "      <td>0</td>\n",
       "      <td>1</td>\n",
       "      <td>0</td>\n",
       "      <td>0</td>\n",
       "      <td>0</td>\n",
       "      <td>1</td>\n",
       "      <td>0</td>\n",
       "      <td>0</td>\n",
       "      <td>1</td>\n",
       "      <td>0</td>\n",
       "    </tr>\n",
       "    <tr>\n",
       "      <th>3</th>\n",
       "      <td>2927</td>\n",
       "      <td>5</td>\n",
       "      <td>48</td>\n",
       "      <td>85</td>\n",
       "      <td>6000</td>\n",
       "      <td>4</td>\n",
       "      <td>0</td>\n",
       "      <td>0</td>\n",
       "      <td>0</td>\n",
       "      <td>0</td>\n",
       "      <td>...</td>\n",
       "      <td>0</td>\n",
       "      <td>1</td>\n",
       "      <td>0</td>\n",
       "      <td>0</td>\n",
       "      <td>0</td>\n",
       "      <td>1</td>\n",
       "      <td>0</td>\n",
       "      <td>0</td>\n",
       "      <td>1</td>\n",
       "      <td>0</td>\n",
       "    </tr>\n",
       "    <tr>\n",
       "      <th>4</th>\n",
       "      <td>2495</td>\n",
       "      <td>6</td>\n",
       "      <td>46</td>\n",
       "      <td>77</td>\n",
       "      <td>80000</td>\n",
       "      <td>12</td>\n",
       "      <td>0</td>\n",
       "      <td>0</td>\n",
       "      <td>0</td>\n",
       "      <td>0</td>\n",
       "      <td>...</td>\n",
       "      <td>0</td>\n",
       "      <td>0</td>\n",
       "      <td>0</td>\n",
       "      <td>0</td>\n",
       "      <td>0</td>\n",
       "      <td>1</td>\n",
       "      <td>1</td>\n",
       "      <td>0</td>\n",
       "      <td>1</td>\n",
       "      <td>0</td>\n",
       "    </tr>\n",
       "    <tr>\n",
       "      <th>...</th>\n",
       "      <td>...</td>\n",
       "      <td>...</td>\n",
       "      <td>...</td>\n",
       "      <td>...</td>\n",
       "      <td>...</td>\n",
       "      <td>...</td>\n",
       "      <td>...</td>\n",
       "      <td>...</td>\n",
       "      <td>...</td>\n",
       "      <td>...</td>\n",
       "      <td>...</td>\n",
       "      <td>...</td>\n",
       "      <td>...</td>\n",
       "      <td>...</td>\n",
       "      <td>...</td>\n",
       "      <td>...</td>\n",
       "      <td>...</td>\n",
       "      <td>...</td>\n",
       "      <td>...</td>\n",
       "      <td>...</td>\n",
       "      <td>...</td>\n",
       "    </tr>\n",
       "    <tr>\n",
       "      <th>259</th>\n",
       "      <td>4218</td>\n",
       "      <td>6</td>\n",
       "      <td>48</td>\n",
       "      <td>86</td>\n",
       "      <td>63000</td>\n",
       "      <td>15</td>\n",
       "      <td>0</td>\n",
       "      <td>0</td>\n",
       "      <td>0</td>\n",
       "      <td>0</td>\n",
       "      <td>...</td>\n",
       "      <td>0</td>\n",
       "      <td>1</td>\n",
       "      <td>0</td>\n",
       "      <td>0</td>\n",
       "      <td>0</td>\n",
       "      <td>1</td>\n",
       "      <td>0</td>\n",
       "      <td>0</td>\n",
       "      <td>1</td>\n",
       "      <td>0</td>\n",
       "    </tr>\n",
       "    <tr>\n",
       "      <th>260</th>\n",
       "      <td>2895</td>\n",
       "      <td>4</td>\n",
       "      <td>46</td>\n",
       "      <td>82</td>\n",
       "      <td>62000</td>\n",
       "      <td>8</td>\n",
       "      <td>0</td>\n",
       "      <td>0</td>\n",
       "      <td>0</td>\n",
       "      <td>0</td>\n",
       "      <td>...</td>\n",
       "      <td>0</td>\n",
       "      <td>1</td>\n",
       "      <td>0</td>\n",
       "      <td>0</td>\n",
       "      <td>0</td>\n",
       "      <td>1</td>\n",
       "      <td>0</td>\n",
       "      <td>0</td>\n",
       "      <td>1</td>\n",
       "      <td>0</td>\n",
       "    </tr>\n",
       "    <tr>\n",
       "      <th>261</th>\n",
       "      <td>4163</td>\n",
       "      <td>7</td>\n",
       "      <td>48</td>\n",
       "      <td>84</td>\n",
       "      <td>60000</td>\n",
       "      <td>16</td>\n",
       "      <td>0</td>\n",
       "      <td>0</td>\n",
       "      <td>0</td>\n",
       "      <td>0</td>\n",
       "      <td>...</td>\n",
       "      <td>0</td>\n",
       "      <td>0</td>\n",
       "      <td>0</td>\n",
       "      <td>0</td>\n",
       "      <td>0</td>\n",
       "      <td>1</td>\n",
       "      <td>1</td>\n",
       "      <td>0</td>\n",
       "      <td>1</td>\n",
       "      <td>0</td>\n",
       "    </tr>\n",
       "    <tr>\n",
       "      <th>262</th>\n",
       "      <td>278</td>\n",
       "      <td>6</td>\n",
       "      <td>65</td>\n",
       "      <td>70</td>\n",
       "      <td>60000</td>\n",
       "      <td>15</td>\n",
       "      <td>0</td>\n",
       "      <td>0</td>\n",
       "      <td>0</td>\n",
       "      <td>0</td>\n",
       "      <td>...</td>\n",
       "      <td>1</td>\n",
       "      <td>1</td>\n",
       "      <td>0</td>\n",
       "      <td>0</td>\n",
       "      <td>0</td>\n",
       "      <td>0</td>\n",
       "      <td>1</td>\n",
       "      <td>0</td>\n",
       "      <td>1</td>\n",
       "      <td>0</td>\n",
       "    </tr>\n",
       "    <tr>\n",
       "      <th>263</th>\n",
       "      <td>2328</td>\n",
       "      <td>5</td>\n",
       "      <td>85</td>\n",
       "      <td>56</td>\n",
       "      <td>42000</td>\n",
       "      <td>11</td>\n",
       "      <td>0</td>\n",
       "      <td>0</td>\n",
       "      <td>0</td>\n",
       "      <td>0</td>\n",
       "      <td>...</td>\n",
       "      <td>0</td>\n",
       "      <td>0</td>\n",
       "      <td>0</td>\n",
       "      <td>0</td>\n",
       "      <td>0</td>\n",
       "      <td>1</td>\n",
       "      <td>0</td>\n",
       "      <td>0</td>\n",
       "      <td>1</td>\n",
       "      <td>0</td>\n",
       "    </tr>\n",
       "  </tbody>\n",
       "</table>\n",
       "<p>264 rows × 176 columns</p>\n",
       "</div>"
      ],
      "text/plain": [
       "     ID_LOTE  DIAS_EN_EMERGER  DIAS_EN_EMERGER_A_FLORECER  \\\n",
       "0       2212                4                          47   \n",
       "1       2448                5                          47   \n",
       "2       2901                4                          46   \n",
       "3       2927                5                          48   \n",
       "4       2495                6                          46   \n",
       "..       ...              ...                         ...   \n",
       "259     4218                6                          48   \n",
       "260     2895                4                          46   \n",
       "261     4163                7                          48   \n",
       "262      278                6                          65   \n",
       "263     2328                5                          85   \n",
       "\n",
       "     DIAS_EN_FLORECER_A_COSECHAR  POBLACION_20DIAS_AJT  ALTURA_LOT  \\\n",
       "0                             89                 60000           4   \n",
       "1                             72                 71000          55   \n",
       "2                             78                 60000           6   \n",
       "3                             85                  6000           4   \n",
       "4                             77                 80000          12   \n",
       "..                           ...                   ...         ...   \n",
       "259                           86                 63000          15   \n",
       "260                           82                 62000           8   \n",
       "261                           84                 60000          16   \n",
       "262                           70                 60000          15   \n",
       "263                           56                 42000          11   \n",
       "\n",
       "     ContEnfQui_Emer_Flor  ContEnfQui_Flor_Cose  ContMalMec_Siem_Emer  \\\n",
       "0                       0                     0                     0   \n",
       "1                       0                     0                     0   \n",
       "2                       0                     0                     0   \n",
       "3                       0                     0                     0   \n",
       "4                       0                     0                     0   \n",
       "..                    ...                   ...                   ...   \n",
       "259                     0                     0                     0   \n",
       "260                     0                     0                     0   \n",
       "261                     0                     0                     0   \n",
       "262                     0                     0                     0   \n",
       "263                     0                     0                     0   \n",
       "\n",
       "     ContMalMec_Emer_Flor  ...  CAP_ENDURE_RASTA  MOTEADOS_RASTA  \\\n",
       "0                       0  ...                 0               1   \n",
       "1                       0  ...                 0               0   \n",
       "2                       0  ...                 0               1   \n",
       "3                       0  ...                 0               1   \n",
       "4                       0  ...                 0               0   \n",
       "..                    ...  ...               ...             ...   \n",
       "259                     0  ...                 0               1   \n",
       "260                     0  ...                 0               1   \n",
       "261                     0  ...                 0               0   \n",
       "262                     0  ...                 1               1   \n",
       "263                     0  ...                 0               0   \n",
       "\n",
       "     MOTEADOS_MAS70cm._RASTA  OBSERVA_EROSION_RASTA  OBSERVA_MOHO_RASTA  \\\n",
       "0                          0                      0                   0   \n",
       "1                          0                      0                   0   \n",
       "2                          0                      0                   0   \n",
       "3                          0                      0                   0   \n",
       "4                          0                      0                   0   \n",
       "..                       ...                    ...                 ...   \n",
       "259                        0                      0                   0   \n",
       "260                        0                      0                   0   \n",
       "261                        0                      0                   0   \n",
       "262                        0                      0                   0   \n",
       "263                        0                      0                   0   \n",
       "\n",
       "     OBSERVA_RAICES_VIVAS_RASTA  OBSERVA_HOJARASCA_MO_RASTA  \\\n",
       "0                             1                           0   \n",
       "1                             1                           0   \n",
       "2                             1                           0   \n",
       "3                             1                           0   \n",
       "4                             1                           1   \n",
       "..                          ...                         ...   \n",
       "259                           1                           0   \n",
       "260                           1                           0   \n",
       "261                           1                           1   \n",
       "262                           0                           1   \n",
       "263                           1                           0   \n",
       "\n",
       "     SUELO_NEGRO_BLANDO_RASTA  CUCHILLO_PRIMER_HTE_RASTA  \\\n",
       "0                           0                          1   \n",
       "1                           0                          1   \n",
       "2                           0                          1   \n",
       "3                           0                          1   \n",
       "4                           0                          1   \n",
       "..                        ...                        ...   \n",
       "259                         0                          1   \n",
       "260                         0                          1   \n",
       "261                         0                          1   \n",
       "262                         0                          1   \n",
       "263                         0                          1   \n",
       "\n",
       "     CERCA_RIOS_QUEBRADAS_RASTA  \n",
       "0                             0  \n",
       "1                             0  \n",
       "2                             0  \n",
       "3                             0  \n",
       "4                             0  \n",
       "..                          ...  \n",
       "259                           0  \n",
       "260                           0  \n",
       "261                           0  \n",
       "262                           0  \n",
       "263                           0  \n",
       "\n",
       "[264 rows x 176 columns]"
      ]
     },
     "execution_count": 7,
     "metadata": {},
     "output_type": "execute_result"
    }
   ],
   "source": [
    "grupos_definitivos[0]"
   ]
  },
  {
   "cell_type": "code",
   "execution_count": 11,
   "metadata": {},
   "outputs": [],
   "source": [
    "# Obtengo los vectores de pesos e , correlaciones e intecptos de cada uno de los modelos de regresion lineal\n",
    "def calculoVectoresPesosModelos(grupos_definitivos):\n",
    "    lista_correlation_skl = []\n",
    "    lsiata_interceptos = []\n",
    "    lista_coeficientes = []\n",
    "    for i in range(len(grupos_definitivos)):\n",
    "        r,c,i = LinearRegessionv2(grupos_definitivos[i], 0.1,0.97).CalcularModeloLR()\n",
    "        lista_correlation_skl.append(r)\n",
    "        lista_coeficientes.append(c)\n",
    "        lsiata_interceptos.append(i)\n",
    "    \n",
    "    return lista_correlation_skl, lista_coeficientes, lsiata_interceptos"
   ]
  },
  {
   "cell_type": "code",
   "execution_count": 41,
   "metadata": {},
   "outputs": [
    {
     "name": "stderr",
     "output_type": "stream",
     "text": [
      "c:\\ProgramData\\Anaconda3\\lib\\site-packages\\sklearn\\linear_model\\_coordinate_descent.py:647: ConvergenceWarning: Objective did not converge. You might want to increase the number of iterations, check the scale of the features or consider increasing regularisation. Duality gap: 1.073e+07, tolerance: 4.998e+04\n",
      "  model = cd_fast.enet_coordinate_descent(\n",
      "c:\\ProgramData\\Anaconda3\\lib\\site-packages\\sklearn\\linear_model\\_coordinate_descent.py:647: ConvergenceWarning: Objective did not converge. You might want to increase the number of iterations, check the scale of the features or consider increasing regularisation. Duality gap: 1.735e+07, tolerance: 4.588e+04\n",
      "  model = cd_fast.enet_coordinate_descent(\n",
      "c:\\ProgramData\\Anaconda3\\lib\\site-packages\\sklearn\\linear_model\\_coordinate_descent.py:647: ConvergenceWarning: Objective did not converge. You might want to increase the number of iterations, check the scale of the features or consider increasing regularisation. Duality gap: 1.081e+07, tolerance: 5.026e+04\n",
      "  model = cd_fast.enet_coordinate_descent(\n"
     ]
    }
   ],
   "source": [
    "r,c,intv = calculoVectoresPesosModelos(grupos_definitivos)"
   ]
  },
  {
   "cell_type": "code",
   "execution_count": 21,
   "metadata": {},
   "outputs": [
    {
     "data": {
      "text/plain": [
       "array([ 4.000000e+00,  4.700000e+01,  9.400000e+01,  6.200000e+04,\n",
       "        6.000000e+00,  0.000000e+00,  0.000000e+00,  0.000000e+00,\n",
       "        0.000000e+00,  0.000000e+00,  0.000000e+00,  0.000000e+00,\n",
       "        1.000000e+00,  0.000000e+00,  0.000000e+00,  0.000000e+00,\n",
       "        2.000000e+00,  0.000000e+00,  0.000000e+00,  0.000000e+00,\n",
       "        3.450000e+01,  0.000000e+00,  0.000000e+00,  0.000000e+00,\n",
       "        0.000000e+00,  0.000000e+00,  0.000000e+00,  0.000000e+00,\n",
       "        0.000000e+00,  0.000000e+00,  1.000000e+00,  1.000000e+00,\n",
       "        2.000000e+00,  6.000000e+00, -1.000000e+00, -1.000000e+00,\n",
       "        2.200000e+01,  1.200000e+01,  2.200000e+01,  0.000000e+00,\n",
       "        0.000000e+00,  0.000000e+00,  0.000000e+00,  0.000000e+00,\n",
       "        0.000000e+00,  3.500000e+01,  6.500000e+01,  0.000000e+00,\n",
       "        0.000000e+00,  1.000000e+02,  0.000000e+00,  0.000000e+00,\n",
       "        0.000000e+00,  0.000000e+00,  0.000000e+00,  0.000000e+00,\n",
       "        0.000000e+00,  3.285000e+01,  2.373000e+01,  2.829000e+01,\n",
       "        9.130000e+00,  1.650456e+04,  2.500000e-01,  3.299000e+02,\n",
       "        2.200000e-01,  8.406000e+01,  3.252000e+01,  2.314000e+01,\n",
       "        2.783000e+01,  9.380000e+00,  2.387369e+04,  1.600000e-01,\n",
       "        1.756000e+02,  1.200000e-01,  8.321000e+01,  3.175000e+01,\n",
       "        2.359000e+01,  2.767000e+01,  8.160000e+00,  1.876792e+04,\n",
       "        0.000000e+00,  1.700000e+02,  8.000000e-02,  8.323000e+01,\n",
       "        0.000000e+00,  1.000000e+00,  0.000000e+00,  0.000000e+00,\n",
       "        0.000000e+00,  0.000000e+00,  0.000000e+00,  0.000000e+00,\n",
       "        0.000000e+00,  0.000000e+00,  0.000000e+00,  0.000000e+00,\n",
       "        0.000000e+00,  0.000000e+00,  0.000000e+00,  0.000000e+00,\n",
       "        0.000000e+00,  0.000000e+00,  0.000000e+00,  1.000000e+00,\n",
       "        0.000000e+00,  0.000000e+00,  0.000000e+00,  0.000000e+00,\n",
       "        0.000000e+00,  0.000000e+00,  0.000000e+00,  0.000000e+00,\n",
       "        0.000000e+00,  1.000000e+00,  0.000000e+00,  0.000000e+00,\n",
       "        0.000000e+00,  0.000000e+00,  0.000000e+00,  1.000000e+00,\n",
       "        0.000000e+00,  0.000000e+00,  1.000000e+00,  0.000000e+00,\n",
       "        0.000000e+00,  0.000000e+00,  0.000000e+00,  1.000000e+00,\n",
       "        0.000000e+00,  0.000000e+00,  1.000000e+00,  0.000000e+00,\n",
       "        1.000000e+00,  0.000000e+00,  0.000000e+00,  0.000000e+00,\n",
       "        0.000000e+00,  1.000000e+00,  0.000000e+00,  1.000000e+00,\n",
       "        0.000000e+00,  1.000000e+00,  0.000000e+00,  1.000000e+00,\n",
       "        0.000000e+00,  1.000000e+00,  0.000000e+00,  0.000000e+00,\n",
       "        0.000000e+00,  1.000000e+00,  0.000000e+00,  0.000000e+00,\n",
       "        0.000000e+00,  0.000000e+00,  1.000000e+00,  0.000000e+00,\n",
       "        0.000000e+00,  0.000000e+00,  1.000000e+00,  0.000000e+00,\n",
       "        1.000000e+00,  1.000000e+00,  0.000000e+00,  0.000000e+00,\n",
       "        0.000000e+00,  1.000000e+00,  0.000000e+00,  0.000000e+00,\n",
       "        0.000000e+00,  1.000000e+00,  0.000000e+00,  0.000000e+00,\n",
       "        1.000000e+00,  1.000000e+00])"
      ]
     },
     "execution_count": 21,
     "metadata": {},
     "output_type": "execute_result"
    }
   ],
   "source": [
    "test_clean.values[0]"
   ]
  },
  {
   "cell_type": "code",
   "execution_count": 46,
   "metadata": {},
   "outputs": [
    {
     "name": "stdout",
     "output_type": "stream",
     "text": [
      "registro 0, distancias [1.812769634315681, 1.365283160903728, 2.0986926235477044]\n",
      "1\n",
      "registro 1, distancias [2.547004210650329, 1.8593223886740113, 1.957283935724006]\n",
      "1\n",
      "registro 2, distancias [1.5579905437133363, 1.8071342618043282, 1.5807219221599063]\n",
      "0\n",
      "registro 3, distancias [1.4006425980512525, 1.5905051405107673, 1.4951639226904048]\n",
      "0\n",
      "registro 4, distancias [1.3305750536615848, 1.9331204131169777, 1.0410666279471608]\n",
      "2\n",
      "registro 5, distancias [2.0939766514347347, 1.9909397886410947, 1.3939818900122616]\n",
      "2\n",
      "registro 6, distancias [0.6648137596986462, 1.5707418209404684, 0.8168646639156438]\n",
      "0\n",
      "registro 7, distancias [1.7958284857210065, 2.2556684410055428, 1.7819500416575529]\n",
      "2\n",
      "registro 8, distancias [1.2290809187531477, 1.7179550645885349, 1.6111012512393041]\n",
      "0\n",
      "registro 9, distancias [1.2414877432368663, 1.1527292862048857, 1.2121985738887304]\n",
      "1\n",
      "registro 10, distancias [0.9693512490254689, 0.6128511619775365, 0.504684096774047]\n",
      "2\n",
      "registro 11, distancias [1.4136706168598152, 0.8351330821066384, 1.000611943993509]\n",
      "1\n",
      "registro 12, distancias [0.30852988294568745, 1.1581257971767762, 0.40353862460279316]\n",
      "0\n",
      "registro 13, distancias [1.18631343669515, 1.0653401081940017, 1.1126449384340749]\n",
      "1\n",
      "registro 14, distancias [2.6077966081235093, 0.5174556997855321, 1.252030566649633]\n",
      "1\n",
      "registro 15, distancias [0.6708989901015411, 2.0457142940137913, 0.9612044201978582]\n",
      "0\n",
      "registro 16, distancias [1.5988756118243637, 1.4369664659660424, 0.6298609825880972]\n",
      "2\n",
      "registro 17, distancias [1.910067993365349, 1.3879510487056723, 1.6731790219883727]\n",
      "1\n",
      "registro 18, distancias [1.4812143680937377, 1.0241807272185475, 1.125048019504368]\n",
      "1\n",
      "registro 19, distancias [1.582101550667588, 1.9639535717915741, 1.784223851786769]\n",
      "0\n",
      "registro 20, distancias [0.9507897326440862, 1.1260938092683974, 1.1494952518363155]\n",
      "0\n",
      "registro 21, distancias [1.053657944071179, 1.2385017339799862, 1.2547001046130586]\n",
      "0\n",
      "registro 22, distancias [0.7898596375196354, 0.9987122016278075, 0.9506513853848823]\n",
      "0\n",
      "registro 23, distancias [1.4939250516290865, 0.9448644273079777, 1.1219501608198308]\n",
      "1\n",
      "registro 24, distancias [2.3840533962528823, 2.064242029440042, 1.680949914281224]\n",
      "2\n",
      "registro 25, distancias [1.1997916270717273, 0.4810495620500203, 1.013700293032514]\n",
      "1\n",
      "registro 26, distancias [1.326818497414011, 0.609947532245102, 1.5858768981807938]\n",
      "1\n",
      "registro 27, distancias [1.3467456285338202, 0.9786066810303914, 1.3557982019907153]\n",
      "1\n",
      "registro 28, distancias [1.7867468129134396, 0.8183567342713837, 1.6987163121900823]\n",
      "1\n",
      "registro 29, distancias [1.4922578467482308, 1.8352908959928396, 1.4975945884668749]\n",
      "0\n",
      "registro 30, distancias [1.0608777428033813, 1.3980805241658338, 1.2384555700802877]\n",
      "0\n",
      "registro 31, distancias [1.566884660334494, 1.175064975639721, 1.5314885068221622]\n",
      "1\n",
      "registro 32, distancias [1.8342884808026914, 1.5315569032723684, 1.047294132243879]\n",
      "2\n",
      "registro 33, distancias [1.4057719750840676, 1.8173569737537103, 1.0523322633270775]\n",
      "2\n",
      "registro 34, distancias [1.4950769615263, 1.3771189218299533, 1.365308952370023]\n",
      "2\n",
      "registro 35, distancias [1.0805113488001974, 1.015684225748842, 1.0080407446638455]\n",
      "2\n",
      "registro 36, distancias [1.228639962189902, 0.9076627056112284, 0.8985238729030885]\n",
      "2\n",
      "registro 37, distancias [1.0580207569988624, 1.2439800022605136, 1.1074551683220801]\n",
      "0\n",
      "registro 38, distancias [1.451233584537423, 1.84467033518605, 1.548545359537288]\n",
      "0\n",
      "registro 39, distancias [1.516575083342912, 1.5857921922652485, 0.6984147937570387]\n",
      "2\n"
     ]
    }
   ],
   "source": [
    "# Prueba modelo 0\n",
    "lista_grupos_min_distances = []\n",
    "for it in range(len(test_clean)):\n",
    "    lista_distances = []\n",
    "    for j in range(len(grupos_definitivos)):\n",
    "        numerator = np.abs(np.dot(c[j], test_clean.values[it]) + intv[j])\n",
    "        #print(numerator)\n",
    "        denominator = np.linalg.norm(c[j])\n",
    "        distance = numerator / denominator\n",
    "        #print(distance)\n",
    "        lista_distances.append(distance)\n",
    "    \n",
    "    # Se definen los grupos donde estan las distancias minimas\n",
    "    tmp = min(lista_distances)\n",
    "    index = lista_distances.index(tmp)\n",
    "    lista_grupos_min_distances.append(index)\n",
    "    print(f\"registro {it}, distancias {lista_distances}\")\n",
    "    print(index)"
   ]
  },
  {
   "cell_type": "code",
   "execution_count": 47,
   "metadata": {},
   "outputs": [
    {
     "data": {
      "text/plain": [
       "[1,\n",
       " 1,\n",
       " 0,\n",
       " 0,\n",
       " 2,\n",
       " 2,\n",
       " 0,\n",
       " 2,\n",
       " 0,\n",
       " 1,\n",
       " 2,\n",
       " 1,\n",
       " 0,\n",
       " 1,\n",
       " 1,\n",
       " 0,\n",
       " 2,\n",
       " 1,\n",
       " 1,\n",
       " 0,\n",
       " 0,\n",
       " 0,\n",
       " 0,\n",
       " 1,\n",
       " 2,\n",
       " 1,\n",
       " 1,\n",
       " 1,\n",
       " 1,\n",
       " 0,\n",
       " 0,\n",
       " 1,\n",
       " 2,\n",
       " 2,\n",
       " 2,\n",
       " 2,\n",
       " 2,\n",
       " 0,\n",
       " 0,\n",
       " 2]"
      ]
     },
     "execution_count": 47,
     "metadata": {},
     "output_type": "execute_result"
    }
   ],
   "source": [
    "lista_grupos_min_distances"
   ]
  },
  {
   "cell_type": "code",
   "execution_count": null,
   "metadata": {},
   "outputs": [],
   "source": []
  },
  {
   "cell_type": "code",
   "execution_count": null,
   "metadata": {},
   "outputs": [],
   "source": []
  },
  {
   "cell_type": "code",
   "execution_count": 103,
   "metadata": {},
   "outputs": [
    {
     "name": "stdout",
     "output_type": "stream",
     "text": [
      "32983274.857631013\n"
     ]
    },
    {
     "name": "stderr",
     "output_type": "stream",
     "text": [
      "c:\\ProgramData\\Anaconda3\\lib\\site-packages\\sklearn\\linear_model\\_coordinate_descent.py:647: ConvergenceWarning: Objective did not converge. You might want to increase the number of iterations, check the scale of the features or consider increasing regularisation. Duality gap: 1.081e+07, tolerance: 5.026e+04\n",
      "  model = cd_fast.enet_coordinate_descent(\n"
     ]
    }
   ],
   "source": [
    "cor,cof,intv,ssr,residuos = LinearRegessionv2(grupos_definitivos[2],0.1,0.97).CalcularModeloLR()\n",
    "print(ssr)"
   ]
  },
  {
   "cell_type": "code",
   "execution_count": 104,
   "metadata": {},
   "outputs": [
    {
     "data": {
      "image/png": "[encoded data removed]",
      "text/plain": [
       "<Figure size 1000x500 with 2 Axes>"
      ]
     },
     "metadata": {},
     "output_type": "display_data"
    }
   ],
   "source": [
    "# Graficar el histograma de los residuos\n",
    "import matplotlib.pyplot as plt\n",
    "import seaborn as sns\n",
    "\n",
    "\n",
    "plt.figure(figsize=(10, 5))\n",
    "\n",
    "plt.subplot(1, 2, 1)\n",
    "sns.histplot(residuos, kde=True, bins=10)\n",
    "plt.xlabel('Residuos')\n",
    "plt.ylabel('Frecuencia')\n",
    "plt.title('Histograma de los Residuos')\n",
    "\n",
    "# Graficar el Q-Q plot de los residuos\n",
    "plt.subplot(1, 2, 2)\n",
    "stats.probplot(residuos, dist=\"norm\", plot=plt)\n",
    "plt.title('Q-Q Plot de los Residuos')\n",
    "\n",
    "plt.tight_layout()\n",
    "plt.show()"
   ]
  },
  {
   "cell_type": "code",
   "execution_count": 92,
   "metadata": {},
   "outputs": [
    {
     "name": "stdout",
     "output_type": "stream",
     "text": [
      "319686.7004768281\n",
      "639373.4009536562\n"
     ]
    }
   ],
   "source": [
    "std_residuos = np.std(residuos)\n",
    "print(std_residuos)\n",
    "umbral = 2 * std_residuos  # Por ejemplo, dos desviaciones estándar\n",
    "print(umbral)"
   ]
  },
  {
   "cell_type": "code",
   "execution_count": 79,
   "metadata": {},
   "outputs": [
    {
     "name": "stdout",
     "output_type": "stream",
     "text": [
      "7931.112203657154\n"
     ]
    }
   ],
   "source": [
    "pred = np.abs(np.dot(cof, test_clean.values[0]) + intv)\n",
    "print(pred)"
   ]
  },
  {
   "cell_type": "code",
   "execution_count": 80,
   "metadata": {},
   "outputs": [
    {
     "name": "stdout",
     "output_type": "stream",
     "text": [
      "2924711728.5972323\n"
     ]
    }
   ],
   "source": [
    "res_prueba = sum(np.power((grupos_definitivos[2].RDT_AJUSTADO  -pred),2))\n",
    "print(res_prueba)"
   ]
  },
  {
   "cell_type": "code",
   "execution_count": 81,
   "metadata": {},
   "outputs": [
    {
     "name": "stdout",
     "output_type": "stream",
     "text": [
      "-2891728453.739601\n"
     ]
    }
   ],
   "source": [
    "resta = ssr -res_prueba\n",
    "print(resta)\n",
    "    "
   ]
  },
  {
   "cell_type": "code",
   "execution_count": 84,
   "metadata": {},
   "outputs": [
    {
     "data": {
      "text/plain": [
       "32983274.857631013"
      ]
     },
     "execution_count": 84,
     "metadata": {},
     "output_type": "execute_result"
    }
   ],
   "source": [
    "ssr"
   ]
  },
  {
   "cell_type": "code",
   "execution_count": 19,
   "metadata": {},
   "outputs": [],
   "source": [
    "import  random\n",
    "import numpy \n",
    "min_yield = 4688.310140  \n",
    "max_yield = 8371.197827\n",
    "np.random.seed(65)\n",
    "numeros_aleatorios = [random.uniform(min_yield, max_yield) for _ in range(20)]"
   ]
  },
  {
   "cell_type": "code",
   "execution_count": 20,
   "metadata": {},
   "outputs": [
    {
     "data": {
      "text/plain": [
       "[5644.559878492611,\n",
       " 6481.271714533917,\n",
       " 4976.422403640756,\n",
       " 6855.950535753059,\n",
       " 6835.799406289971,\n",
       " 5869.857607254851,\n",
       " 6786.668758331103,\n",
       " 5066.247439670711,\n",
       " 6569.598562895835,\n",
       " 5199.950913570279,\n",
       " 6478.913173613811,\n",
       " 8243.462892430185,\n",
       " 7415.295226785043,\n",
       " 5985.558691569133,\n",
       " 8116.323994531103,\n",
       " 6861.594452267898,\n",
       " 7006.726327049961,\n",
       " 6398.544314248463,\n",
       " 6398.017718146965,\n",
       " 7117.385372544923]"
      ]
     },
     "execution_count": 20,
     "metadata": {},
     "output_type": "execute_result"
    }
   ],
   "source": [
    "numeros_aleatorios"
   ]
  },
  {
   "cell_type": "code",
   "execution_count": null,
   "metadata": {},
   "outputs": [],
   "source": []
  }
 ],
 "metadata": {
  "kernelspec": {
   "display_name": "base",
   "language": "python",
   "name": "python3"
  },
  "language_info": {
   "codemirror_mode": {
    "name": "ipython",
    "version": 3
   },
   "file_extension": ".py",
   "mimetype": "text/x-python",
   "name": "python",
   "nbconvert_exporter": "python",
   "pygments_lexer": "ipython3",
   "version": "3.9.13"
  }
 },
 "nbformat": 4,
 "nbformat_minor": 2
}
